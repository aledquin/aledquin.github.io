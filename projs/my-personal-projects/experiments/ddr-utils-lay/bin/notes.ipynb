{
 "cells": [
  {
   "cell_type": "markdown",
   "metadata": {
    "pycharm": {
     "name": "#%% md\n"
    }
   },
   "source": [
    "# Notes \n"
   ]
  },
  {
   "cell_type": "code",
   "execution_count": 5,
   "metadata": {
    "pycharm": {
     "name": "#%%\n"
    }
   },
   "outputs": [
    {
     "name": "stdout",
     "output_type": "stream",
     "text": [
      "The tclmagic extension is already loaded. To reload it, use:\n",
      "  %reload_ext tclmagic\n"
     ]
    }
   ],
   "source": [
    "%load_ext tclmagic\n",
    "\n",
    "#  If the prev line doesnt work  install it using the next line in your unix terminal\n",
    "#  /depot/Python/Python-3.8.0/bin/pip install -U tcl-magic\n",
    "#  /depot/Python/Python-3.8.0/bin/pip install -U notebook\n",
    "#  You can configure it to  "
   ]
  },
  {
   "cell_type": "markdown",
   "metadata": {},
   "source": [
    "### Init our libraries and packages"
   ]
  },
  {
   "cell_type": "code",
   "execution_count": 6,
   "metadata": {
    "pycharm": {
     "name": "#%%\n"
    },
    "vscode": {
     "languageId": "bat"
    }
   },
   "outputs": [
    {
     "data": {
      "text/plain": [
       "'0.3.10'"
      ]
     },
     "execution_count": 6,
     "metadata": {},
     "output_type": "execute_result"
    }
   ],
   "source": [
    "%%tcl \n",
    "\n",
    "set SHELLTOOL_LOC \"/remote/cad-rep/msip/tools/Shelltools\"\n",
    "lappend auto_path \"$SHELLTOOL_LOC/ddr-utils-lay/dev/lib/tcl\"\n",
    "lappend auto_path \"/depot/tcl8.6.3/lib\"\n",
    "\n",
    "set RealBin [file dirname [file normalize [info script]] ]\n",
    "set RealScript [file tail [file normalize [info script]] ]\n",
    "set PROGRAM_NAME $RealScript\n",
    "set LOGFILE \"[pwd]/log-$PROGRAM_NAME.log\"\n",
    "\n",
    "package require Messaging 1.0\n",
    "namespace import ::Messaging::*\n",
    "package require Misc 1.0\n",
    "namespace import ::Misc::*\n",
    "\n",
    "package require cmdline\n",
    "package require try\n",
    "package require yaml"
   ]
  },
  {
   "cell_type": "code",
   "execution_count": 29,
   "metadata": {},
   "outputs": [],
   "source": [
    "%%tcl\n",
    "cd /u/alvaro/GitLab/my-personal-projects/experiments/ddr-utils-lay/bin/"
   ]
  },
  {
   "cell_type": "markdown",
   "metadata": {},
   "source": [
    "## creating a proc that source and join data in a variable"
   ]
  },
  {
   "cell_type": "code",
   "execution_count": 35,
   "metadata": {},
   "outputs": [
    {
     "name": "stdout",
     "output_type": "stream",
     "text": [
      "dwc_lpddr5xmphyzcal_top_ew 1 1 0 0 0 0 0 0 dwc_lpddr5xmphy_decapvsh_zcal_ew 2 1 {$x_dwc_lpddr5xmphy_decapvsh_zcal_ew} 0 {$x_dwc_lpddr5xmphyzcal_top_ew} 0 0 0 dwc_lpddr5xmphy_decapvddq_ns 5 1 {$x_dwc_lpddr5xmphy_decapvddq_ns} 0 0 {$y_dwc_lpddr5xmphyzcal_top_ew} 0 0 dwc_lpddr5xmphy_decapvddq_ns 5 1 {$x_dwc_lpddr5xmphy_decapvddq_ns} 0 0 {-$y_dwc_lpddr5xmphy_decapvddq_ns} 0 0\n"
     ]
    }
   ],
   "source": [
    "%%tcl\n",
    "variable scriptDir [file dirname [info script]]\n",
    "proc invoke_floorplan {scriptDir {floorplan_file \"crd_abutment_floorplans.tcl\"}} {\n",
    "    variable $scriptDir\n",
    "    source [file join $scriptDir $floorplan_file]\n",
    "}\n",
    "set scriptDir [invoke_floorplan $scriptDir]\n",
    "puts $scriptDir\n"
   ]
  },
  {
   "cell_type": "code",
   "execution_count": 10,
   "metadata": {},
   "outputs": [],
   "source": [
    "%%tcl\n",
    "proc add2list {list_name new_value} {\n",
    "    upvar $list_name lister\n",
    "    if {[info exists lister]} {\n",
    "        if {[lsearch -exact $lister $new_value] == -1} {\n",
    "            lappend lister $new_value\n",
    "        }\n",
    "    } else {\n",
    "        lappend lister $new_value\n",
    "    }\n",
    "}"
   ]
  },
  {
   "cell_type": "markdown",
   "metadata": {},
   "source": [
    "## Check libs for all cells\n",
    " to confirm and check that all cells have their libs, otherwise return"
   ]
  },
  {
   "cell_type": "code",
   "execution_count": 11,
   "metadata": {},
   "outputs": [],
   "source": [
    "%%tcl \n",
    "proc check_cells_libs {macros} {\n",
    "    foreach macro $macros {\n",
    "      if {[array names libraries -exact $macro] == \"\"} {\n",
    "        de::sendMessage \"No reference library found for $macro. Exiting.\" -severity error\n",
    "        return -level [info level] 1\n",
    "      }\n",
    "    }\n",
    "}"
   ]
  },
  {
   "cell_type": "markdown",
   "metadata": {},
   "source": [
    "## Get list and found libraries\n",
    "\n",
    "It should go before the previous points, but it is."
   ]
  },
  {
   "cell_type": "code",
   "execution_count": 13,
   "metadata": {},
   "outputs": [],
   "source": [
    "%%tcl\n",
    "#floorplan was gotten previosuly with the invoke_floorplan\n",
    "proc get_macros_from_testcases {testcases} {\n",
    "    foreach testcase $testcases {\n",
    "        variable floorplans($testcase)\n",
    "        foreach {macro columns rows d_x d_y x y angle mirror} $floorplans($testcase) {\n",
    "            lappend macros $macro\n",
    "        }\n",
    "    }\n",
    "    return $macros\n",
    "}"
   ]
  },
  {
   "cell_type": "code",
   "execution_count": 14,
   "metadata": {},
   "outputs": [],
   "source": [
    "%%tcl\n",
    "proc check_lib_layoutview {macros reflibs} {\n",
    "    set macros [lsort -unique $macros]\n",
    "    foreach macro $macros {\n",
    "        foreach lib $reflibs {\n",
    "            # First check that cell exists in lib, then check if layout view exists.\n",
    "            if {![db::isEmpty  [dm::getCells $macro -libName $lib]] && ![db::isEmpty [dm::getCellViews layout -cellName $macro -libName $lib]]} {\n",
    "                variable libraries($macro) $lib\n",
    "                break\n",
    "            }\n",
    "        }\n",
    "    }\n",
    "}"
   ]
  },
  {
   "cell_type": "markdown",
   "metadata": {},
   "source": [
    "## Getting macros sizes"
   ]
  },
  {
   "cell_type": "code",
   "execution_count": 20,
   "metadata": {},
   "outputs": [],
   "source": [
    "%%tcl \n",
    "\n",
    "# Get macro sizes.\n",
    "proc get_macro_sizes {macros} {\n",
    "    foreach macro $macros {\n",
    "        variable libraries($macro)\n",
    "        set context [de::open [dm::getCellViews layout -cellName $macro -libName $libraries($macro)] -readOnly true -headless true]\n",
    "        set design [db::getAttr editDesign -of $context]\n",
    "        set block [oa::getTopBlock $design]\n",
    "        set boundary [oa::PRBoundaryFind $block]\n",
    "        #set widths($macro) [lindex [db::getAttr bBox -of $boundary] 1 0]\n",
    "        variable x_$macro [lindex [db::getAttr bBox -of $boundary] 1 0]\n",
    "        #set heights($macro) [lindex [db::getAttr bBox -of $boundary] 1 1]\n",
    "        variable y_$macro [lindex [db::getAttr bBox -of $boundary] 1 1]\n",
    "        de::close $context\n",
    "    }\n",
    "}"
   ]
  },
  {
   "cell_type": "code",
   "execution_count": null,
   "metadata": {},
   "outputs": [],
   "source": [
    "%%tcl\n",
    "\n",
    "#Generate testcases\n",
    "proc generate_testcases {testcases destlib} {\n",
    "    foreach testcase $testcases {\n",
    "        variable floorplans($testcase)\n",
    "        set cell [dm::createCell $testcase -libName $destlib]\n",
    "        set cellView [dm::createCellView layout -cell $cell -viewType maskLayout]\n",
    "        set context [de::open [dm::getCellViews layout -cellName $testcase -libName $destlib] -headless true]\n",
    "        set design [db::getAttr editDesign -of $context]\n",
    "\n",
    "        foreach {macro columns rows dx dy x y angle mirror} $floorplans($testcase) {\n",
    "            switch -- \"$angle $mirror\" {\n",
    "                \"0 0\"   {set orientation R0}\n",
    "                \"0 1\"   {set orientation MX}\n",
    "                \"180 1\" {set orientation MY}\n",
    "                \"180 0\" {set orientation R180}\n",
    "            }\n",
    "            le::createInst -libName $libraries($macro) -cellName $macro -viewName layout -design $design -orient $orientation -origin \"[expr $x] [expr $y]\" -rows $rows -cols $columns -dx [expr $dx] -dy [expr $dy]\n",
    "        }\n",
    "        de::save $context\n",
    "        de::close $context    \n",
    "    }\n",
    "}"
   ]
  },
  {
   "cell_type": "code",
   "execution_count": null,
   "metadata": {},
   "outputs": [],
   "source": [
    "%%tcl\n",
    "\n",
    "proc launchCRDTestcaseCreation {} {\n",
    "    variable scriptDir\n",
    "\n",
    "    # Source floorplans array from crd_abutment_floorplans.tcl file in same directory as script.\n",
    "    set scriptDir [invoke_floorplan]\n",
    "\n",
    "    # Get list of libraries.\n",
    "    set libs [db::createList [db::getAttr name -of [dm::getLibs]]]\n",
    "\n",
    "    # Generate GUI dialog box.\n",
    "    set crdDialog       [gi::createDialog crdDialog -title \"CRD Testcase Creation\" -showHelp 0 -execProc cc_crd_abutment::CRDTestcaseCreationExecProc]\n",
    "    set destlibInput    [dm::createLibInput destlibInput -parent $crdDialog -label \"Destination Library\"]\n",
    "    set testcasesInput  [gi::createListInput testcasesInput -parent $crdDialog -label \"Testcases to Generate\" -header \"Testcases\" -items [array names floorplans] -showFilter -selectionModel multiple -viewType checkbox]\n",
    "    set reflibsInput    [gi::createListInput reflibsInput -parent $crdDialog -label \"Reference Libraries\" -header \"Available Selected\" -items $libs -selectionModel multiple -viewType dualList]\n",
    "    set haloInputs      [gi::createInlineGroup haloInputs -parent $crdDialog -label \"Boundary Upsize (Halo) (um)\"]\n",
    "    \n",
    "    foreach side {bottom left right top} {\n",
    "      set ${side}HaloInput [gi::createNumberInput ${side}HaloInput -parent $haloInputs -label [string toupper $side 0 0] -valueType float -value 5]\n",
    "    }\n",
    "    \n",
    "    set layersInput [gi::createListInput layersInput -parent $crdDialog -label \"Layers for Pin Propagation\" -header \"Layers\" -items \"M0 M1 M2 M3 M4 M5 M6 M7 M8 M9 M10 M11 M12 M13 M14 M15 M16 M17 M18 MTOP-1 MTOP RDL\" -selectionModel multiple -viewType checkbox]\n",
    "}"
   ]
  },
  {
   "cell_type": "code",
   "execution_count": null,
   "metadata": {},
   "outputs": [],
   "source": [
    "%%tcl\n",
    "\n",
    "namespace eval cc_crd_abutment {\n",
    "\n",
    "    variable scriptDir [file dirname [info script]]\n",
    "\n",
    "    proc invoke_floorplan {scriptDir {floorplan_file \"crd_abutment_floorplans.tcl\"}} {\n",
    "        variable $scriptDir\n",
    "        return [file join $scriptDir $floorplan_file]\n",
    "    }\n",
    "\n",
    "    proc check_cells_libs {macros} {\n",
    "        foreach macro $macros {\n",
    "        if {[array names libraries -exact $macro] == \"\"} {\n",
    "            de::sendMessage \"No reference library found for $macro. Exiting.\" -severity error\n",
    "            return -level [info level] 1\n",
    "        }\n",
    "        }\n",
    "    }\n",
    "\n",
    "    proc get_macros_from_testcases {testcases} {\n",
    "        foreach testcase $testcases {\n",
    "            variable floorplans($testcase)\n",
    "            foreach {macro columns rows d_x d_y x y angle mirror} $floorplans($testcase) {\n",
    "                lappend macros $macro\n",
    "            }\n",
    "        }\n",
    "        return $macros\n",
    "    }\n",
    "\n",
    "    proc check_lib_layoutview {macros reflibs} {\n",
    "        set macros [lsort -unique $macros]\n",
    "        foreach macro $macros {\n",
    "            foreach lib $reflibs {\n",
    "                # First check that cell exists in lib, then check if layout view exists.\n",
    "                if {![db::isEmpty  [dm::getCells $macro -libName $lib]] && ![db::isEmpty [dm::getCellViews layout -cellName $macro -libName $lib]]} {\n",
    "                    variable libraries($macro) $lib\n",
    "                    break\n",
    "                }\n",
    "            }\n",
    "        }\n",
    "    }\n",
    "\n",
    "    proc get_macro_sizes {macros} {\n",
    "        foreach macro $macros {\n",
    "            variable libraries($macro)\n",
    "            set context [de::open [dm::getCellViews layout -cellName $macro -libName $libraries($macro)] -readOnly true -headless true]\n",
    "            set design [db::getAttr editDesign -of $context]\n",
    "            set block [oa::getTopBlock $design]\n",
    "            set boundary [oa::PRBoundaryFind $block]\n",
    "            #set widths($macro) [lindex [db::getAttr bBox -of $boundary] 1 0]\n",
    "            variable x_$macro [lindex [db::getAttr bBox -of $boundary] 1 0]\n",
    "            #set heights($macro) [lindex [db::getAttr bBox -of $boundary] 1 1]\n",
    "            variable y_$macro [lindex [db::getAttr bBox -of $boundary] 1 1]\n",
    "            de::close $context\n",
    "        }\n",
    "    }\n",
    "\n",
    "    proc generate_testcases {testcases destlib} {\n",
    "        foreach testcase $testcases {\n",
    "            variable floorplans($testcase)\n",
    "            set cell [dm::createCell $testcase -libName $destlib]\n",
    "            set cellView [dm::createCellView layout -cell $cell -viewType maskLayout]\n",
    "            set context [de::open [dm::getCellViews layout -cellName $testcase -libName $destlib] -headless true]\n",
    "            set design [db::getAttr editDesign -of $context]\n",
    "\n",
    "            foreach {macro columns rows dx dy x y angle mirror} $floorplans($testcase) {\n",
    "                switch -- \"$angle $mirror\" {\n",
    "                    \"0 0\"   {set orientation R0}\n",
    "                    \"0 1\"   {set orientation MX}\n",
    "                    \"180 1\" {set orientation MY}\n",
    "                    \"180 0\" {set orientation R180}\n",
    "                }\n",
    "                le::createInst -libName $libraries($macro) -cellName $macro -viewName layout -design $design -orient $orientation -origin \"[expr $x] [expr $y]\" -rows $rows -cols $columns -dx [expr $dx] -dy [expr $dy]\n",
    "            }\n",
    "            de::save $context\n",
    "            de::close $context    \n",
    "        }\n",
    "    }\n",
    "\n",
    "    proc add_boundary_layer{macros halo_size} {\n",
    "        # macros is a list of macros\n",
    "        # halo_size: list of 4 numbers\n",
    "        \n",
    "\n",
    "        # le::createBoundary <points: [point]> -design <oaDesign> -type <enum> [-force <bool>] [-boundaryLPP <lpp>] [-snapPoints <bool>] [-endShapes <bool>]\n",
    "        le::createBoundary [list ]\n",
    "    }\n",
    "\n",
    "\n",
    "    proc launchCRDTestcaseCreation {} {\n",
    "        variable scriptDir\n",
    "\n",
    "        # Source floorplans array from crd_abutment_floorplans.tcl file in same directory as script.\n",
    "        source [invoke_floorplan $scriptDir]\n",
    "\n",
    "        # Get list of libraries.\n",
    "        set libs [db::createList [db::getAttr name -of [dm::getLibs]]]\n",
    "\n",
    "        # Generate GUI dialog box.\n",
    "        set crdDialog       [gi::createDialog crdDialog -title \"CRD Testcase Creation\" -showHelp 0 -execProc cc_crd_abutment::CRDTestcaseCreationExecProc]\n",
    "        set destlibInput    [dm::createLibInput destlibInput -parent $crdDialog -label \"Destination Library\"]\n",
    "        set testcasesInput  [gi::createListInput testcasesInput -parent $crdDialog -label \"Testcases to Generate\" -header \"Testcases\" -items [array names floorplans] -showFilter -selectionModel multiple -viewType checkbox]\n",
    "        set reflibsInput    [gi::createListInput reflibsInput -parent $crdDialog -label \"Reference Libraries\" -header \"Available Selected\" -items $libs -selectionModel multiple -viewType dualList]\n",
    "        set haloInputs      [gi::createInlineGroup haloInputs -parent $crdDialog -label \"Boundary Upsize (Halo) (um)\"]\n",
    "        \n",
    "        foreach side {bottom left right top} {\n",
    "        set ${side}HaloInput [gi::createNumberInput ${side}HaloInput -parent $haloInputs -label [string toupper $side 0 0] -valueType float -value 5]\n",
    "        }\n",
    "        \n",
    "        set layersInput [gi::createListInput layersInput -parent $crdDialog -label \"Layers for Pin Propagation\" -header \"Layers\" -items \"M0 M1 M2 M3 M4 M5 M6 M7 M8 M9 M10 M11 M12 M13 M14 M15 M16 M17 M18 MTOP-1 MTOP RDL\" -selectionModel multiple -viewType checkbox]\n",
    "    }\n",
    "\n",
    "\n",
    "\n",
    "    proc CRDTestcaseCreationExecProc {dialog} {\n",
    "        \n",
    "        variable scriptDir [file dirname [info script]]\n",
    "\n",
    "        # Capture inputs.\n",
    "        set destlib    [gi::findChild destlibInput.value    -in $dialog]\n",
    "        set testcases  [gi::findChild testcasesInput.value  -in $dialog]\n",
    "        set reflibs    [gi::findChild reflibsInput.value    -in $dialog]\n",
    "        set bottomHalo [gi::findChild bottomHaloInput.value -in $dialog]\n",
    "        set leftHalo   [gi::findChild leftHaloInput.value   -in $dialog]\n",
    "        set rightHalo  [gi::findChild rightHaloInput.value  -in $dialog]\n",
    "        set topHalo    [gi::findChild topHaloInput.value    -in $dialog]\n",
    "        set layers     [gi::findChild layersInput.value     -in $dialog]\n",
    "        \n",
    "        source [invoke_floorplan $scriptDir]\n",
    "\n",
    "        set macros [get_macros_from_testcases $testcases]\n",
    "        \n",
    "        check_lib_layoutview $macros $reflibs\n",
    "\n",
    "        get_macros_sizes $macros \n",
    "\n",
    "        add_boundary_layer $macros [list $bottomHalo $leftHalo $rightHalo $topHalo]\n",
    "\n",
    "        generate_testcases $testcases $destlib\n",
    "\n",
    "    }\n",
    "\n",
    "    launchCRDTestcaseCreation\n",
    "\n",
    "}"
   ]
  },
  {
   "cell_type": "markdown",
   "metadata": {},
   "source": [
    "# execute boundary layer? \n",
    "\n",
    "le::createBoundary <points: [point]> -design <oaDesign> -type <enum> [-force <bool>] [-boundaryLPP <lpp>] [-snapPoints <bool>] [-endShapes <bool>]\n",
    "\n",
    "cs::createBoundary [-context <deContext>] [-points [<point>]]\n",
    "\n",
    " le::createGuardRing <points: [point]> -design <oaDesign> -master <dmCellView | dmCellViewName | oaDesign> [-params [<map>]] [-evalCallbacks <bool>] [-net <oaNet | string>] \n",
    "\n",
    " cm::createHalo [<name: string>] (-for <{<deFigure>} | {<deSelectionSet>} | {<oaFig>} | {<oaFigGroup>} | {<oaInst>} | {<oaMarker>} | {<oaShape>} | {<oaVia>}> | -in <oaDesign>) [-insts [<string>]] [-left <float>] [-right <float>] [-top <float>] [-bottom <float>]\n",
    "\n",
    "\n",
    "\n",
    "\n",
    "# pins? \n",
    " Generating Multiple Pins Simultaneously\n",
    " \n",
    " 1. Layout Editor:\n",
    "    Create > Pin > Generate Pins\n",
    "\t\n",
    " 2. Generates pins while you are working in a design layout. See Generating Pins Within the Layout.\n",
    "    Library Manager:\n",
    "    File > Create Layout Pins\n",
    "\t\n",
    "Generates pins at the library level. See Generating Layout Pins at the Library Level."
   ]
  },
  {
   "cell_type": "code",
   "execution_count": null,
   "metadata": {},
   "outputs": [],
   "source": [
    "% % tcl\n",
    "\n",
    "proc add_boundary_layer {design halo_size} {\n",
    "    lassign $halo_size halo(x1) halo(y1) halo(x2) halo(y2)\n",
    "    puts add_boundary_layer\n",
    "\n",
    "    lassign[db::getAttr bBox -of $design] pointOne pointTwo\n",
    "    lassign $pointOne point(x1) point(y1)\n",
    "    lassign $pointOne point(x2) point(y2)\n",
    "\n",
    "    set new_points[list [list[expr {$point(x1) - $halo(x1)}]\n",
    "                             [expr {$point(y1) - $halo(y1)}]]\n",
    "                        [list[expr {$point(x2) + $halo(x2)}]\n",
    "                        [expr {$point(y2) + $halo(y2)}]]]\n",
    "    iprint $new_points\n",
    "\n",
    "    le: createBoundary $new_points - design $design - type pr\n",
    "    }\n",
    "}\n"
   ]
  },
  {
   "cell_type": "markdown",
   "metadata": {},
   "source": [
    "When to create a new library make the reference to **techlib** "
   ]
  }
 ],
 "metadata": {
  "kernelspec": {
   "display_name": "Python 3.8.0 64-bit",
   "language": "python",
   "name": "python3"
  },
  "language_info": {
   "codemirror_mode": {
    "name": "ipython",
    "version": 3
   },
   "file_extension": ".py",
   "mimetype": "text/x-python",
   "name": "python",
   "nbconvert_exporter": "python",
   "pygments_lexer": "ipython3",
   "version": "3.8.0"
  },
  "vscode": {
   "interpreter": {
    "hash": "78ee8c2931daa98418262a3099bec66c014c1eca61453cb33883e29a97d9a0d2"
   }
  }
 },
 "nbformat": 4,
 "nbformat_minor": 2
}
