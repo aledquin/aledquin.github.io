{
 "cells": [
  {
   "cell_type": "markdown",
   "metadata": {
    "pycharm": {
     "name": "#%% md\n"
    }
   },
   "source": [
    "# TCL unit tests notebook\n",
    "## Intro TCL "
   ]
  },
  {
   "cell_type": "code",
   "execution_count": 1,
   "metadata": {
    "pycharm": {
     "name": "#%%\n"
    }
   },
   "outputs": [
    {
     "data": {
      "application/javascript": "\n            requirejs.config({\n                paths: {\n                    codemirror: \"https://cdn.rawgit.com/marijnh/CodeMirror/master\"\n                }\n            });\n            requirejs([\"codemirror/mode/tcl/tcl\"], function(codemirror) {\n                IPython.CodeCell.options_default.highlight_modes['magic_text/x-tcl'] = {'reg':[/^%%tcl/]};\n                IPython.notebook.events.one('kernel_ready.Kernel', function() {\n                    IPython.notebook.get_cells().map(function(cell) {\n                        if (cell.cell_type == 'code') {\n                            cell.auto_highlight();\n                        }\n                    });\n                });\n            });\n        "
     },
     "metadata": {},
     "output_type": "display_data"
    }
   ],
   "source": [
    "%load_ext tclmagic\n",
    "\n",
    "#  If the prev line doesnt work  install it using the next line in your unix terminal\n",
    "#  /depot/Python/Python-3.8.0/bin/pip install -U tcl-magic\n",
    "#  /depot/Python/Python-3.8.0/bin/pip install -U notebook\n",
    "#  You can configure it to your ~/.local"
   ]
  },
  {
   "cell_type": "markdown",
   "metadata": {},
   "source": [
    "# Instructions\n",
    "\n",
    "1. source the file where the methods are, if it is in a script, check if you can set `DDR_DA_UNIT_TEST` to `1`, so you can source it with no execution of the main procedure.\n",
    "```sh\n",
    "set DDR_DA_UNIT_TEST 1\n",
    "source $RealBin/../../bin/alphaBuildMacroRelease.tcl\n",
    "source $RealBin/../../bin/alphaHLDepotExportRtl.tcl\n",
    "```\n",
    "2. Copy the procedure to evaluate into the next cell and check if it needs to get rebuild\n",
    "3. Write a simple explanation of what is the input and output\n",
    "4. Create a test. You can follow the examples in the directory `$GITLAB/Sharedlib/tcl/tests`\n",
    "5. When the tests are ready, share it with the conductor. \n",
    "6. When it has been validated, create a new file with all the unit test an name it as: `##_alphabuildMacroRelease_lib_<procedure>.test`\n",
    "\n",
    "Each code block you want using TCL you have you type first `%%tcl` at the beggining of the code"
   ]
  },
  {
   "cell_type": "markdown",
   "metadata": {},
   "source": [
    "## Init libraries and packages"
   ]
  },
  {
   "cell_type": "code",
   "execution_count": null,
   "metadata": {},
   "outputs": [],
   "source": []
  },
  {
   "cell_type": "code",
   "execution_count": 4,
   "metadata": {
    "pycharm": {
     "name": "#%%\n"
    },
    "vscode": {
     "languageId": "bat"
    }
   },
   "outputs": [
    {
     "data": {
      "text/plain": [
       "'0.3.10'"
      ]
     },
     "execution_count": 4,
     "metadata": {},
     "output_type": "execute_result"
    }
   ],
   "source": [
    "%%tcl \n",
    "\n",
    "set SHELLTOOL_LOC \"/remote/cad-rep/msip/tools/Shelltools\"\n",
    "lappend auto_path \"$SHELLTOOL_LOC/ddr-ckt-rel/dev/lib/tcl\"\n",
    "lappend auto_path \"/depot/tcl8.6.3/lib\"\n",
    "set RealBin [file dirname [file normalize [info script]] ]\n",
    "set RealScript [file tail [file normalize [info script]] ]\n",
    "set PROGRAM_NAME $RealScript\n",
    "set LOGFILE \"[pwd]/log-$PROGRAM_NAME.log\"\n",
    "\n",
    "package require Messaging 1.0\n",
    "namespace import ::Messaging::*\n",
    "package require Misc 1.0\n",
    "namespace import ::Misc::*\n",
    "\n",
    "package require cmdline\n",
    "package require try\n",
    "package require yaml\n"
   ]
  },
  {
   "cell_type": "code",
   "execution_count": 7,
   "metadata": {},
   "outputs": [
    {
     "data": {
      "text/plain": [
       "'body pass skip error'"
      ]
     },
     "execution_count": 7,
     "metadata": {},
     "output_type": "execute_result"
    }
   ],
   "source": [
    "%%tcl\n",
    "\n",
    "package require tcltest\n",
    "namespace import -force ::tcltest::*\n",
    "::tcltest::verbose bpse"
   ]
  },
  {
   "cell_type": "markdown",
   "metadata": {},
   "source": [
    "## 'test' format\n",
    "\n",
    "```bash\n",
    "test <name-test> {<description>} -setup {<setting everything to have this ready>} -body {<commands to run>} \\\n",
    "   ?-returnCodes error? -result (1: {matched string} | 2: [call a command]) ?-output (1: {matched string} | 2: [call a command])?\n",
    "```\n",
    "\n",
    "## Summary Results\n",
    "\n",
    "```bash\n",
    "cleanupTests\n",
    "```\n",
    "\n"
   ]
  },
  {
   "cell_type": "code",
   "execution_count": 8,
   "metadata": {},
   "outputs": [
    {
     "name": "stdout",
     "output_type": "stream",
     "text": [
      "++++ Messaging-colored_t01 PASSED\n",
      ":\tTotal\t1\tPassed\t1\tSkipped\t0\tFailed\t0\n"
     ]
    }
   ],
   "source": [
    "%%tcl\n",
    "\n",
    "test Messaging-colored_t01 { Test: Messaging package: colored + no inputs} \\\n",
    "    -body { colored } \\\n",
    "    -returnCodes error \\\n",
    "    -result {wrong # args: should be \"colored message color\"} \\\n",
    "    -output {}\n",
    "\n",
    "\n",
    "\n",
    "cleanupTests"
   ]
  },
  {
   "cell_type": "code",
   "execution_count": 2,
   "metadata": {},
   "outputs": [
    {
     "name": "stderr",
     "output_type": "stream",
     "text": [
      "TclError: couldn't read file \"internal_lib/alphabuildMacroRelease_lib.tcl_notcheckyet\": no such file or directory"
     ]
    }
   ],
   "source": [
    "%%tcl\n",
    "\n",
    "source internal_lib/alphabuildMacroRelease_lib.tcl_notcheckyet"
   ]
  },
  {
   "cell_type": "code",
   "execution_count": null,
   "metadata": {},
   "outputs": [],
   "source": []
  }
 ],
 "metadata": {
  "kernelspec": {
   "display_name": "Python 3 (ipykernel)",
   "language": "python",
   "name": "python3"
  },
  "language_info": {
   "codemirror_mode": {
    "name": "ipython",
    "version": 3
   },
   "file_extension": ".py",
   "mimetype": "text/x-python",
   "name": "python",
   "nbconvert_exporter": "python",
   "pygments_lexer": "ipython3",
   "version": "3.8.0"
  },
  "vscode": {
   "interpreter": {
    "hash": "758228ae4236649af9509c5c8859545204428c6c7a2c9288794dec8c60a3bcc3"
   }
  }
 },
 "nbformat": 4,
 "nbformat_minor": 2
}
