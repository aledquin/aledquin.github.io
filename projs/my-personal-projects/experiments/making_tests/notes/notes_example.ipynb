{
 "cells": [
  {
   "cell_type": "markdown",
   "metadata": {
    "pycharm": {
     "name": "#%% md\n"
    }
   },
   "source": [
    "# TCL unit tests notebook\n",
    "## Intro TCL "
   ]
  },
  {
   "cell_type": "code",
   "execution_count": 1,
   "metadata": {
    "pycharm": {
     "name": "#%%\n"
    }
   },
   "outputs": [
    {
     "data": {
      "application/javascript": "\n            requirejs.config({\n                paths: {\n                    codemirror: \"https://cdn.rawgit.com/marijnh/CodeMirror/master\"\n                }\n            });\n            requirejs([\"codemirror/mode/tcl/tcl\"], function(codemirror) {\n                IPython.CodeCell.options_default.highlight_modes['magic_text/x-tcl'] = {'reg':[/^%%tcl/]};\n                IPython.notebook.events.one('kernel_ready.Kernel', function() {\n                    IPython.notebook.get_cells().map(function(cell) {\n                        if (cell.cell_type == 'code') {\n                            cell.auto_highlight();\n                        }\n                    });\n                });\n            });\n        "
     },
     "metadata": {},
     "output_type": "display_data"
    }
   ],
   "source": [
    "%load_ext tclmagic\n",
    "\n",
    "#  If the prev line doesnt work  install it using the next line in your unix terminal\n",
    "#  /depot/Python/Python-3.8.0/bin/pip install -U tcl-magic\n",
    "#  You can configure it to your ~/.local"
   ]
  },
  {
   "cell_type": "markdown",
   "metadata": {},
   "source": [
    "## Init libraries and packages"
   ]
  },
  {
   "cell_type": "code",
   "execution_count": 2,
   "metadata": {
    "pycharm": {
     "name": "#%%\n"
    },
    "vscode": {
     "languageId": "bat"
    }
   },
   "outputs": [
    {
     "data": {
      "text/plain": [
       "'0.3.10'"
      ]
     },
     "execution_count": 2,
     "metadata": {},
     "output_type": "execute_result"
    }
   ],
   "source": [
    "%%tcl \n",
    "\n",
    "set SHELLTOOL_LOC \"$env(HOME)/GitLab/ddr-hbm-phy-automation-team/\"\n",
    "lappend auto_path \"$SHELLTOOL_LOC/sharedlib/tcl\"\n",
    "lappend auto_path \"/depot/tcl8.6.3/lib\"\n",
    "set RealBin [file dirname [file normalize [info script]] ]\n",
    "set RealScript [file tail [file normalize [info script]] ]\n",
    "set PROGRAM_NAME $RealScript\n",
    "set LOGFILE \"[pwd]/log-$PROGRAM_NAME.log\"\n",
    "\n",
    "package require Messaging 1.0\n",
    "namespace import ::Messaging::*\n",
    "package require Misc 1.0\n",
    "namespace import ::Misc::*\n",
    "\n",
    "package require cmdline\n",
    "package require try\n",
    "package require yaml\n"
   ]
  },
  {
   "cell_type": "code",
   "execution_count": 3,
   "metadata": {},
   "outputs": [
    {
     "data": {
      "text/plain": [
       "'body pass skip start error'"
      ]
     },
     "execution_count": 3,
     "metadata": {},
     "output_type": "execute_result"
    }
   ],
   "source": [
    "%%tcl\n",
    "\n",
    "package require tcltest\n",
    "namespace import -force ::tcltest::*\n",
    "::tcltest::verbose bpste"
   ]
  },
  {
   "cell_type": "markdown",
   "metadata": {},
   "source": [
    "## 'test' format\n",
    "\n",
    "```bash\n",
    "test <name-test> {<description>} -setup {<setting everything to have this ready>} -body {<commands to run>} \\\n",
    "   ?-returnCodes error? -result (1: {matched string} | 2: [call a command]) -output (1: {matched string} | 2: [call a command])\n",
    "```\n",
    "\n",
    "## Summary Results\n",
    "\n",
    "```bash\n",
    "cleanupTests\n",
    "```\n",
    "\n",
    "## Example"
   ]
  },
  {
   "cell_type": "code",
   "execution_count": 4,
   "metadata": {},
   "outputs": [
    {
     "name": "stdout",
     "output_type": "stream",
     "text": [
      "---- Messaging-colored_t01 start\n",
      "++++ Messaging-colored_t01 PASSED\n",
      ":\tTotal\t1\tPassed\t1\tSkipped\t0\tFailed\t0\n"
     ]
    }
   ],
   "source": [
    "%%tcl\n",
    "\n",
    "test Messaging-colored_t01 { Test: Messaging package: colored + no inputs} \\\n",
    "    -body { colored } \\\n",
    "    -returnCodes error \\\n",
    "    -result {wrong # args: should be \"colored message color\"} \\\n",
    "    -output {}\n",
    "\n",
    "\n",
    "\n",
    "cleanupTests"
   ]
  },
  {
   "cell_type": "markdown",
   "metadata": {},
   "source": [
    "# Instructions\n",
    "1. source the file where the methods are, if it is in a script, check if you can set `DDR_DA_UNIT_TEST` to `1`, so you can source it with no execution of the main procedure.\n",
    "```sh\n",
    "    set DDR_DA_UNIT_TEST 1\n",
    "    source $RealBin/../../bin/alphaBuildMacroRelease.tcl\n",
    "    source $RealBin/../../bin/alphaHLDepotExportRtl.tcl\n",
    "```\n",
    "2. Copy the procedure to evaluate into the next cell and check if it needs to get rebuild\n",
    "3. Write a simple explanation of what is the input and output\n",
    "4. Create a test. You can follow the examples in the directory `$GITLAB/Sharedlib/tcl/tests`\n",
    "5. When the tests are ready, share it with the conductor. \n",
    "6. When it has been validated, create a new file with all the unit test an name it as: `##_alphabuildMacroRelease_lib_<procedure>.test`\n",
    "\n",
    "Each code block you want using TCL you have you type first `%%tcl` at the beggining of the code"
   ]
  },
  {
   "cell_type": "code",
   "execution_count": 5,
   "metadata": {},
   "outputs": [],
   "source": [
    "%%tcl\n",
    "source $RealBin/alphabuildmacrorel_lib.tcl"
   ]
  },
  {
   "cell_type": "code",
   "execution_count": 6,
   "metadata": {},
   "outputs": [],
   "source": [
    "%%tcl \n",
    "\n",
    "proc get_max_changelist_number {p4fileslog} {\n",
    "\n",
    "    set err 0\n",
    "    foreach f [split $p4fileslog \"\\n\"] {\n",
    "        #puts \"\\\"$f\\\"\"\n",
    "        #Example: //depot/products/.../verilog/std_primitives.v#1 - add change 10257259 (text)\n",
    "        if {[regexp {^(\\S+)#(\\d+)\\D+(\\d+)\\s} $f dummy depotFile ver changelist ]} {\n",
    "            set changelists($changelist) 1\n",
    "            lappend p4fileList $depotFile\n",
    "        } else {\n",
    "            eprint \"Failed to match '$f'\"\n",
    "            set err 1\n",
    "        }\n",
    "\n",
    "        set maxCL 0\n",
    "        foreach cl [array names changelists] {\n",
    "            if {$cl > $maxCL} {set maxCL $cl}\n",
    "        }\n",
    "    }\n",
    "\n",
    "    viprint 1 \"Changelists: [array names changelists], using $maxCL\"\n",
    "    if $err { myexit { 1 } }\n",
    "\n",
    "    lappend p4fileList $maxCL\n",
    "    return $p4fileList\n",
    "}"
   ]
  },
  {
   "cell_type": "markdown",
   "metadata": {},
   "source": [
    "### TODO\n",
    "#### AI.1 Done\n",
    "Create a variable that contains more than one depot path \n",
    "#### AI.2 Done\n",
    "Create a case for one variable and two to compare. "
   ]
  },
  {
   "cell_type": "code",
   "execution_count": 7,
   "metadata": {},
   "outputs": [
    {
     "data": {
      "text/plain": [
       "'//depot/products/.../verilog/std_primitives.v#1 - add change 10257920 (text)'"
      ]
     },
     "execution_count": 7,
     "metadata": {},
     "output_type": "execute_result"
    }
   ],
   "source": [
    "%%tcl\n",
    "\n",
    "set variable_list \"//depot/products/.../verilog/std_primitives.v#1 - add change 10257920 (text)\""
   ]
  },
  {
   "cell_type": "code",
   "execution_count": 8,
   "metadata": {},
   "outputs": [
    {
     "data": {
      "text/plain": [
       "'{//depot/products/.../verilog/std_primitives.v#1 - add change 10257920 (text)}'"
      ]
     },
     "execution_count": 8,
     "metadata": {},
     "output_type": "execute_result"
    }
   ],
   "source": [
    "%%tcl\n",
    "\n",
    "split $variable_list \"\\n\""
   ]
  },
  {
   "cell_type": "markdown",
   "metadata": {},
   "source": []
  },
  {
   "cell_type": "code",
   "execution_count": 9,
   "metadata": {},
   "outputs": [
    {
     "data": {
      "text/plain": [
       "'//depot/products/.../verilog/std_primitives.v 10257920'"
      ]
     },
     "execution_count": 9,
     "metadata": {},
     "output_type": "execute_result"
    }
   ],
   "source": [
    "%%tcl\n",
    "\n",
    "get_max_changelist_number $variable_list\n"
   ]
  },
  {
   "cell_type": "code",
   "execution_count": 10,
   "metadata": {},
   "outputs": [
    {
     "data": {
      "text/plain": [
       "'//depot/products/.../verilog/std_primitives.v#1 - add change 10257920 (text)\\n//depot/products/.../verilog/std_primitives.v#2 - add change 10257921 (text)'"
      ]
     },
     "execution_count": 10,
     "metadata": {},
     "output_type": "execute_result"
    }
   ],
   "source": [
    "%%tcl\n",
    "set two_dpt \"//depot/products/.../verilog/std_primitives.v#1 - add change 10257920 (text)\\n//depot/products/.../verilog/std_primitives.v#2 - add change 10257921 (text)\""
   ]
  },
  {
   "cell_type": "code",
   "execution_count": 11,
   "metadata": {},
   "outputs": [
    {
     "data": {
      "text/plain": [
       "'//depot/products/.../verilog/std_primitives.v //depot/products/.../verilog/std_primitives.v 10257921'"
      ]
     },
     "execution_count": 11,
     "metadata": {},
     "output_type": "execute_result"
    }
   ],
   "source": [
    "%%tcl\n",
    "\n",
    "get_max_changelist_number $two_dpt"
   ]
  },
  {
   "cell_type": "markdown",
   "metadata": {},
   "source": [
    "#### AI.3 Done\n",
    "Create the testcases"
   ]
  },
  {
   "cell_type": "code",
<<<<<<< HEAD
   "execution_count": 12,
=======
   "execution_count": 40,
>>>>>>> main
   "metadata": {},
   "outputs": [
    {
     "name": "stdout",
     "output_type": "stream",
     "text": [
      "---- get_max_changelist_number_test0 start\n",
      "++++ get_max_changelist_number_test0 PASSED\n"
     ]
    }
   ],
   "source": [
    "%%tcl\n",
    "test get_max_changelist_number_test0 {The proc does not have enough args} \\\n",
    "    -setup {} \\\n",
    "    -body {get_max_changelist_number} \\\n",
    "    -returnCodes error \\\n",
    "    -result {wrong # args: should be \"get_max_changelist_number p4fileslog\"} "
   ]
  },
  {
   "cell_type": "code",
<<<<<<< HEAD
   "execution_count": 13,
=======
   "execution_count": 41,
>>>>>>> main
   "metadata": {},
   "outputs": [
    {
     "name": "stdout",
     "output_type": "stream",
     "text": [
      "---- get_max_changelist_number_test1 start\n",
      "++++ get_max_changelist_number_test1 PASSED\n"
     ]
    }
   ],
   "source": [
    "%%tcl\n",
    "test get_max_changelist_number_test1 {Check it working} \\\n",
    "    -setup {set variable_list \"//depot/products/.../verilog/std_primitives.v#1 - add change 10257920 (text)\"} \\\n",
    "    -body {get_max_changelist_number $variable_list} \\\n",
    "    -result {//depot/products/.../verilog/std_primitives.v 10257920} "
   ]
  },
  {
   "cell_type": "code",
<<<<<<< HEAD
   "execution_count": 14,
=======
   "execution_count": 42,
>>>>>>> main
   "metadata": {},
   "outputs": [
    {
     "name": "stdout",
     "output_type": "stream",
     "text": [
      "---- get_max_changelist_number_test2 start\n",
      "++++ get_max_changelist_number_test2 PASSED\n"
     ]
    }
   ],
   "source": [
    "%%tcl\n",
    "test get_max_changelist_number_test2 {Comparing} \\\n",
    "    -setup {set variable_list \"//depot/products/.../verilog/std_primitives.v#1 - add change 10257920 (text)\\n//depot/products/.../verilog/std_primitives.v#3 - add change 10257923 (text)\"} \\\n",
    "    -body {get_max_changelist_number $variable_list} \\\n",
    "    -result {//depot/products/.../verilog/std_primitives.v //depot/products/.../verilog/std_primitives.v 10257923} "
   ]
  },
  {
   "cell_type": "code",
<<<<<<< HEAD
   "execution_count": 15,
=======
   "execution_count": 43,
>>>>>>> main
   "metadata": {},
   "outputs": [
    {
     "name": "stdout",
     "output_type": "stream",
     "text": [
      ":\tTotal\t3\tPassed\t3\tSkipped\t0\tFailed\t0\n"
     ]
    }
   ],
   "source": [
    "%%tcl\n",
    "cleanupTests"
   ]
  }
 ],
 "metadata": {
  "kernelspec": {
   "display_name": "Python 3 (ipykernel)",
   "language": "python",
   "name": "python3"
  },
  "language_info": {
   "codemirror_mode": {
    "name": "ipython",
    "version": 3
   },
   "file_extension": ".py",
   "mimetype": "text/x-python",
   "name": "python",
   "nbconvert_exporter": "python",
   "pygments_lexer": "ipython3",
   "version": "3.8.0"
  },
  "vscode": {
   "interpreter": {
    "hash": "758228ae4236649af9509c5c8859545204428c6c7a2c9288794dec8c60a3bcc3"
   }
  }
 },
 "nbformat": 4,
 "nbformat_minor": 2
}
