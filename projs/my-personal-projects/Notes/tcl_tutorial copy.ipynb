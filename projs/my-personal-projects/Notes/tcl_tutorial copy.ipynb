{
 "cells": [
  {
   "cell_type": "markdown",
   "metadata": {
    "pycharm": {
     "name": "#%% md\n"
    }
   },
   "source": [
    "# TCL tutorial\n"
   ]
  },
  {
   "cell_type": "code",
   "execution_count": 1,
   "metadata": {
    "pycharm": {
     "name": "#%%\n"
    }
   },
   "outputs": [
    {
     "data": {
      "application/javascript": "\n            requirejs.config({\n                paths: {\n                    codemirror: \"https://cdn.rawgit.com/marijnh/CodeMirror/master\"\n                }\n            });\n            requirejs([\"codemirror/mode/tcl/tcl\"], function(codemirror) {\n                IPython.CodeCell.options_default.highlight_modes['magic_text/x-tcl'] = {'reg':[/^%%tcl/]};\n                IPython.notebook.events.one('kernel_ready.Kernel', function() {\n                    IPython.notebook.get_cells().map(function(cell) {\n                        if (cell.cell_type == 'code') {\n                            cell.auto_highlight();\n                        }\n                    });\n                });\n            });\n        "
     },
     "metadata": {},
     "output_type": "display_data"
    }
   ],
   "source": [
    "%load_ext tclmagic\n",
    "\n",
    "#  If the prev line doesnt work  install it using the next line in your unix terminal\n",
    "#  /depot/Python/Python-3.8.0/bin/pip install -U tcl-magic\n",
    "#  You can configure it to  "
   ]
  },
  {
   "cell_type": "code",
   "execution_count": 5,
   "metadata": {
    "pycharm": {
     "name": "#%%\n"
    },
    "vscode": {
     "languageId": "bat"
    }
   },
   "outputs": [
    {
     "name": "stdout",
     "output_type": "stream",
     "text": [
      "script name --> \n",
      "\n"
     ]
    }
   ],
   "source": [
    "%%tcl \n",
    "\n",
    "\n",
    "\n",
    "set script_name [file tail [file rootname [file normalize [info script]]]]\n",
    "puts \"script name --> $script_name\"\n",
    "puts [info script]"
   ]
  },
  {
   "cell_type": "code",
   "execution_count": 9,
   "metadata": {
    "pycharm": {
     "name": "#%%\n"
    },
    "vscode": {
     "languageId": "bat"
    }
   },
   "outputs": [
    {
     "name": "stderr",
     "output_type": "stream",
     "text": [
      "'Message'\n"
     ]
    }
   ],
   "source": [
    "%%tcl\n",
    "\n",
    "proc logMsg {fp msg} {\n",
    "    puts $fp $msg\n",
    "}\n",
    "\n",
    "logMsg stderr 'Message'\n"
   ]
  },
  {
   "cell_type": "code",
   "execution_count": 10,
   "metadata": {
    "pycharm": {
     "name": "#%%\n"
    },
    "vscode": {
     "languageId": "bat"
    }
   },
   "outputs": [
    {
     "name": "stdout",
     "output_type": "stream",
     "text": [
      "This\n",
      "is\n"
     ]
    }
   ],
   "source": [
    "%%tcl\n",
    "\n",
    "proc exam {args} {\n",
    "    set input \"This is my world\" \n",
    "    regexp {(This) (is) (my) (world)} $input all a b c d \n",
    "    return [dict create hola $a b $b c $c d $d]\n",
    "}\n",
    "\n",
    "set result [exam ...]\n",
    "dict with result {}\n",
    "puts $hola\n",
    "puts $b\n",
    "\n"
   ]
  },
  {
   "cell_type": "code",
   "execution_count": 11,
   "metadata": {
    "pycharm": {
     "name": "#%%\n"
    },
    "vscode": {
     "languageId": "bat"
    }
   },
   "outputs": [],
   "source": [
    "%%tcl\n",
    "\n",
    "proc run_system_cmd {{command \"NaN\"} {verbosity 0}} {\n",
    "    set results \"\"\n",
    "    if {$command == \"NaN\"} { \n",
    "        return [lappend results NULL_VAL NULL_VAL NONE]\n",
    "    }\n",
    "    \n",
    "    try {\n",
    "        set status [exec >@stdout 2>@stderr \"$command\"]\n",
    "        lappend results $stdout $stderr $status\n",
    "    } trap NONE errOut {\n",
    "        puts $options\n",
    "    } trap CHILDKILLED {- opts} {\n",
    "        lassign [dict get $opts -errorcode] -> pid sigName msg\n",
    "        # process $pid was killed by signal $sigName; message is $msg\n",
    "        lappend results [list $pid $sigName $msg]\n",
    "    } trap CHILDSTATUS {- opts} {\n",
    "        lassign [dict get $opts -errorcode] -> pid code\n",
    "        # process $pid exited with non-zero exit code $code\n",
    "        lappend results [list $pid $code]\n",
    "    } trap CHILDSUSP {- opts} {\n",
    "        lassign [dict get $opts -errorcode] -> pid sigName msg\n",
    "        # process $pid was suspended by signal $sigName; message is $msg\n",
    "        lappend results [list $pid $sigName $msg]\n",
    "    } trap POSIX {- opts} {\n",
    "        lassign [dict get $opts -errorcode] -> errName msg\n",
    "        # Some kind of kernel failure; details in $errName and $msg\n",
    "        lappend results [list $pid $sigName $msg]\n",
    "    }\n",
    "   \n",
    "    return $results\n",
    "}"
   ]
  },
  {
   "cell_type": "code",
   "execution_count": 12,
   "metadata": {
    "pycharm": {
     "name": "#%%\n"
    },
    "vscode": {
     "languageId": "bat"
    }
   },
   "outputs": [
    {
     "name": "stdout",
     "output_type": "stream",
     "text": [
      "{{write unset} {tellme array}}\n",
      "{{write unset} {tellme element}}\n",
      "<set a(0) zero>\n",
      "  array a=a e=0 op=write ax=1 ex=1\n",
      "<set a(1) one>\n",
      "  array a=a e=1 op=write ax=1 ex=1\n",
      "  element a=a e=1 op=write ax=1 ex=1\n",
      "<set a(2) two>\n",
      "  array a=a e=2 op=write ax=1 ex=1\n",
      "<unset a(0)>\n",
      "  array a=a e=0 op=unset ax=1 ex=0\n",
      "<unset a(2)>\n",
      "  array a=a e=2 op=unset ax=1 ex=0\n",
      "<unset a>\n",
      "  array a=a e= op=unset ax=0 ex=0\n",
      "  element a=a e=1 op=unset ax=0 ex=0\n"
     ]
    }
   ],
   "source": [
    "%%tcl\n",
    "\n",
    "proc tellme {id a e op} {\n",
    "    puts \"  $id a=$a e=$e op=$op\\\n",
    "        ax=[info exists ::$a] ex=[info exists ::${a}($e)]\"\n",
    "}\n",
    "\n",
    "proc do args {\n",
    "    puts <$args>\n",
    "    uplevel 1 $args\n",
    "}\n",
    "\n",
    "trace add variable a {write unset} {tellme array}\n",
    "trace add variable a(1) {write unset} {tellme element}\n",
    "\n",
    "puts [trace info variable a]\n",
    "puts [trace info variable a(1)]\n",
    "\n",
    "do set a(0) zero\n",
    "do set a(1) one\n",
    "do set a(2) two\n",
    "do unset a(0)\n",
    "do unset a(2)\n",
    "do unset a\n"
   ]
  },
  {
   "cell_type": "code",
   "execution_count": 8,
   "metadata": {
    "pycharm": {
     "name": "#%%\n"
    },
    "vscode": {
     "languageId": "bat"
    }
   },
   "outputs": [],
   "source": [
    "%%tcl\n",
    "\n",
    "proc who_called {} {\n",
    "    puts [list {I was called from} [\n",
    "        lindex [info level -1] 0] {but first call was to} [\n",
    "        lindex [info level 1] 0]]\n",
    "}\n",
    "\n",
    "proc a {} who_called\n",
    "proc b {} who_called\n",
    "proc c {} who_called\n",
    "proc d {} a\n",
    "proc e n {$n}"
   ]
  },
  {
   "cell_type": "code",
   "execution_count": 9,
   "metadata": {
    "pycharm": {
     "name": "#%%\n"
    },
    "vscode": {
     "languageId": "bat"
    }
   },
   "outputs": [
    {
     "name": "stdout",
     "output_type": "stream",
     "text": [
      "::Main --> ::A --> ::run_system_cmd\n"
     ]
    }
   ],
   "source": [
    "%%tcl\n",
    "\n",
    "proc callstack {} {\n",
    "\n",
    "    set line_of_procs \"\"\n",
    "    for {set i [expr [info level]-1]} {$i > 0} {incr i -1} {\n",
    "\n",
    "        set level [info level -$i]\n",
    "        set frame [info frame -$i]\n",
    "\n",
    "        if {[dict exists $frame proc]} {\n",
    "            set pname [dict get $frame proc]\n",
    "            set pargs [lrange $level 1 end]\n",
    "\n",
    "            if {$line_of_procs == \"\"} {\n",
    "                append line_of_procs \"$pname \"\n",
    "            } else {\n",
    "                append line_of_procs \" --> $pname \"\n",
    "            }\n",
    "                        \n",
    "            foreach arg $pargs {\n",
    "                append line_of_procs \"   * $arg\"\n",
    "            }\n",
    "\n",
    "\n",
    "        } else {\n",
    "            append line_of_procs \" - **unknown stack item**: $level $frame\"\n",
    "        }\n",
    "    }\n",
    "\n",
    "    return [join $line_of_procs]\n",
    "}\n",
    "\n",
    "proc Main {} {\n",
    "    A\n",
    "}\n",
    "\n",
    "proc A {} {\n",
    "    run_system_cmd\n",
    "}\n",
    "proc run_system_cmd {} {\n",
    "     puts [callstack]\n",
    "  \n",
    "}\n",
    "\n",
    "\n",
    "Main"
   ]
  },
  {
   "cell_type": "code",
   "execution_count": 10,
   "metadata": {
    "pycharm": {
     "name": "#%%\n"
    },
    "vscode": {
     "languageId": "bat"
    }
   },
   "outputs": [
    {
     "name": "stdout",
     "output_type": "stream",
     "text": [
      "::Main --> ::A --> ::run_system_cmd\n",
      "::A\n",
      "::Main\n",
      "fail-3\n",
      "key \"proc\" not known in dictionary\n"
     ]
    },
    {
     "name": "stderr",
     "output_type": "stream",
     "text": [
      "TclError: wrong # args: should be \"puts ?-nonewline? ?channelId? string\""
     ]
    }
   ],
   "source": [
    "%%tcl\n",
    "\n",
    "proc Main {} {\n",
    "    A\n",
    "}\n",
    "\n",
    "proc A {} {\n",
    "    run_system_cmd\n",
    "}\n",
    "\n",
    "proc run_system_cmd {} {\n",
    "    puts [callstack]\n",
    "    try {\n",
    "        puts [dict get [info frame -1] proc]\n",
    "    } on error {result options} {\n",
    "        puts fail-1\n",
    "    }\n",
    "    try {\n",
    "        puts [dict get [info frame -2] proc]\n",
    "    } on error {result options} {\n",
    "        puts fail-2\n",
    "    }\n",
    "    try {\n",
    "        puts [dict get [info frame -3] proc]\n",
    "    } on error {result options} {\n",
    "        puts fail-3\n",
    "        puts $result\n",
    "        puts \n",
    "    }\n",
    "}\n",
    "\n",
    "Main\n"
   ]
  },
  {
   "cell_type": "code",
   "execution_count": 11,
   "metadata": {
    "pycharm": {
     "name": "#%%\n"
    },
    "vscode": {
     "languageId": "bat"
    }
   },
   "outputs": [
    {
     "name": "stdout",
     "output_type": "stream",
     "text": [
      "something broke!\n",
      "-code 1 -level 0 -errorstack {INNER {invokeStk1 open /some/file/name}} -errorcode {POSIX ENOENT {no such file or directory}} -errorinfo {couldn't open \"/some/file/name\": no such file or directory\n",
      "    while executing\n",
      "\"open /some/file/name\"\n",
      "    (\"try\" body line 2)} -errorline 2\n"
     ]
    }
   ],
   "source": [
    "%%tcl\n",
    "\n",
    "try {\n",
    "    set f [open /some/file/name]\n",
    "} on error {result options} {\n",
    "    puts {something broke!}\n",
    "    puts $options\n",
    "}"
   ]
  },
  {
   "cell_type": "code",
   "execution_count": 12,
   "metadata": {
    "collapsed": false,
    "pycharm": {
     "name": "#%%\n"
    }
   },
   "outputs": [
    {
     "name": "stdout",
     "output_type": "stream",
     "text": [
      "-------------------- TITLE --------------------\n"
     ]
    }
   ],
   "source": [
    "%%tcl\n",
    "\n",
    "set longline [string repeat - 20]\n",
    "append title \"$longline TITLE $longline\"\n",
    "puts $title\n"
   ]
  },
  {
   "cell_type": "code",
   "execution_count": 13,
   "metadata": {
    "collapsed": false,
    "pycharm": {
     "name": "#%%\n"
    }
   },
   "outputs": [],
   "source": [
    "%%tcl\n",
    "\n",
    "proc eprint {message} {\n",
    "    set msg \"-E- $message\"\n",
    "    print_in_color $msg \"red\"\n",
    "}\n",
    "\n",
    "proc print_in_color {message color} {\n",
    "    switch $color {\n",
    "        \"red\"    {set color_code \"1;31m\"}\n",
    "        \"green\"  {set color_code \"1;32m\"}\n",
    "        \"yellow\" {set color_code \"1;33m\"}\n",
    "        \"blue\"   {set color_code \"1;34m\"}\n",
    "        \"cyan\"  {set color_code \"1;36m\"}\n",
    "        \"white_on_red\" {set color_code \"37;41m\"}\n",
    "        default  {set color_code \"1m\"}\n",
    "    }\n",
    "    puts \"\\033\\[$color_code $message \\033\\[0m\"\n",
    "}\n"
   ]
  },
  {
   "cell_type": "code",
   "execution_count": 14,
   "metadata": {
    "collapsed": false,
    "pycharm": {
     "name": "#%%\n"
    }
   },
   "outputs": [
    {
     "name": "stderr",
     "output_type": "stream",
     "text": [
      "TclError: invalid command name \"read_file\""
     ]
    }
   ],
   "source": [
    "%%tcl\n",
    "\n",
    "set START_TIME [clock seconds]\n",
    "read_file tct\n",
    "after 1000\n",
    "set END_TIME [clock seconds]\n",
    "set runtime [expr $START_TIME - $END_TIME]\n",
    "eprint $START_TIME\n",
    "eprint $END_TIME\n",
    "eprint $runtime"
   ]
  },
  {
   "cell_type": "code",
   "execution_count": 15,
   "metadata": {
    "collapsed": false,
    "pycharm": {
     "name": "#%%\n"
    }
   },
   "outputs": [
    {
     "name": "stderr",
     "output_type": "stream",
     "text": [
      "TclError: invalid command name \"read_file\""
     ]
    }
   ],
   "source": [
    "%%tcl\n",
    "\n",
    "set START_TIME [clock seconds]\n",
    "read_file tct\n",
    "after 1000\n",
    "set END_TIME [clock seconds]\n",
    "set runtime [expr $START_TIME - $END_TIME]\n",
    "eprint $START_TIME\n",
    "eprint $END_TIME\n",
    "eprint $runtime"
   ]
  },
  {
   "cell_type": "code",
   "execution_count": null,
   "metadata": {
    "collapsed": false,
    "pycharm": {
     "name": "#%%\n"
    }
   },
   "outputs": [],
   "source": []
  },
  {
   "cell_type": "code",
   "execution_count": 16,
   "metadata": {
    "collapsed": false,
    "pycharm": {
     "name": "#%%\n"
    }
   },
   "outputs": [
    {
     "ename": "SyntaxError",
     "evalue": "invalid syntax (2111261449.py, line 1)",
     "output_type": "error",
     "traceback": [
      "\u001b[1;36m  Input \u001b[1;32mIn [16]\u001b[1;36m\u001b[0m\n\u001b[1;33m    callable 'hello'\u001b[0m\n\u001b[1;37m             ^\u001b[0m\n\u001b[1;31mSyntaxError\u001b[0m\u001b[1;31m:\u001b[0m invalid syntax\n"
     ]
    }
   ],
   "source": [
    "callable 'hello'"
   ]
  },
  {
   "cell_type": "code",
   "execution_count": null,
   "metadata": {
    "collapsed": false,
    "pycharm": {
     "name": "#%%\n"
    }
   },
   "outputs": [],
   "source": [
    "callable"
   ]
  },
  {
   "cell_type": "code",
   "execution_count": null,
   "metadata": {
    "collapsed": false,
    "pycharm": {
     "name": "#%%\n"
    }
   },
   "outputs": [],
   "source": [
    "%%perl\n",
    "\n",
    "se strict;\n",
    "use warnings;\n",
    "use FindBin qw($RealBin $RealScript);"
   ]
  },
  {
   "cell_type": "code",
   "execution_count": null,
   "metadata": {
    "collapsed": false,
    "pycharm": {
     "name": "#%%\n"
    }
   },
   "outputs": [],
   "source": [
    "%lsmagic\n"
   ]
  },
  {
   "cell_type": "code",
   "execution_count": null,
   "metadata": {
    "collapsed": false,
    "pycharm": {
     "name": "#%%\n"
    }
   },
   "outputs": [],
   "source": [
    "%automagic\n"
   ]
  },
  {
   "cell_type": "code",
   "execution_count": null,
   "metadata": {
    "collapsed": false,
    "pycharm": {
     "name": "#%%\n"
    }
   },
   "outputs": [],
   "source": [
    "pwd\n"
   ]
  },
  {
   "cell_type": "code",
   "execution_count": null,
   "metadata": {
    "collapsed": false,
    "pycharm": {
     "name": "#%%\n"
    }
   },
   "outputs": [],
   "source": [
    "%automagic"
   ]
  },
  {
   "cell_type": "code",
   "execution_count": null,
   "metadata": {
    "collapsed": false,
    "pycharm": {
     "name": "#%%\n"
    }
   },
   "outputs": [],
   "source": [
    "%pwd"
   ]
  },
  {
   "cell_type": "code",
   "execution_count": null,
   "metadata": {
    "collapsed": false,
    "pycharm": {
     "name": "#%%\n"
    }
   },
   "outputs": [
    {
     "data": {
      "text/plain": [
       "<function callable(obj, /)>"
      ]
     },
     "execution_count": 50,
     "metadata": {},
     "output_type": "execute_result"
    }
   ],
   "source": [
    "callable"
   ]
  },
  {
   "cell_type": "code",
   "execution_count": null,
   "metadata": {
    "vscode": {
     "languageId": "perl"
    }
   },
   "outputs": [
    {
     "name": "stderr",
     "output_type": "stream",
     "text": [
      "Can't locate object method \"se\" via package \"strict\" at - line 2.\n"
     ]
    },
    {
     "ename": "CalledProcessError",
     "evalue": "Command 'b'\\nse strict;\\nuse warnings;\\nuse FindBin qw($RealBin $RealScript);\\n'' returned non-zero exit status 9.",
     "output_type": "error",
     "traceback": [
      "\u001b[1;31m---------------------------------------------------------------------------\u001b[0m",
      "\u001b[1;31mCalledProcessError\u001b[0m                        Traceback (most recent call last)",
      "\u001b[1;32mc:\\Users\\alvaro\\Projects\\my-personal-projects\\tcl_tutorial.ipynb Cell 19\u001b[0m in \u001b[0;36m<cell line: 1>\u001b[1;34m()\u001b[0m\n\u001b[1;32m----> <a href='vscode-notebook-cell:/c%3A/Users/alvaro/Projects/my-personal-projects/tcl_tutorial.ipynb#X24sZmlsZQ%3D%3D?line=0'>1</a>\u001b[0m get_ipython()\u001b[39m.\u001b[39;49mrun_cell_magic(\u001b[39m'\u001b[39;49m\u001b[39mperl\u001b[39;49m\u001b[39m'\u001b[39;49m, \u001b[39m'\u001b[39;49m\u001b[39m'\u001b[39;49m, \u001b[39m'\u001b[39;49m\u001b[39m\\n\u001b[39;49;00m\u001b[39mse strict;\u001b[39;49m\u001b[39m\\n\u001b[39;49;00m\u001b[39muse warnings;\u001b[39;49m\u001b[39m\\n\u001b[39;49;00m\u001b[39muse FindBin qw($RealBin $RealScript);\u001b[39;49m\u001b[39m\\n\u001b[39;49;00m\u001b[39m'\u001b[39;49m)\n",
      "File \u001b[1;32mc:\\Users\\alvaro\\AppData\\Local\\Programs\\Python\\Python310\\lib\\site-packages\\IPython\\core\\interactiveshell.py:2358\u001b[0m, in \u001b[0;36mInteractiveShell.run_cell_magic\u001b[1;34m(self, magic_name, line, cell)\u001b[0m\n\u001b[0;32m   2356\u001b[0m \u001b[39mwith\u001b[39;00m \u001b[39mself\u001b[39m\u001b[39m.\u001b[39mbuiltin_trap:\n\u001b[0;32m   2357\u001b[0m     args \u001b[39m=\u001b[39m (magic_arg_s, cell)\n\u001b[1;32m-> 2358\u001b[0m     result \u001b[39m=\u001b[39m fn(\u001b[39m*\u001b[39margs, \u001b[39m*\u001b[39m\u001b[39m*\u001b[39mkwargs)\n\u001b[0;32m   2359\u001b[0m \u001b[39mreturn\u001b[39;00m result\n",
      "File \u001b[1;32mc:\\Users\\alvaro\\AppData\\Local\\Programs\\Python\\Python310\\lib\\site-packages\\IPython\\core\\magics\\script.py:153\u001b[0m, in \u001b[0;36mScriptMagics._make_script_magic.<locals>.named_script_magic\u001b[1;34m(line, cell)\u001b[0m\n\u001b[0;32m    151\u001b[0m \u001b[39melse\u001b[39;00m:\n\u001b[0;32m    152\u001b[0m     line \u001b[39m=\u001b[39m script\n\u001b[1;32m--> 153\u001b[0m \u001b[39mreturn\u001b[39;00m \u001b[39mself\u001b[39;49m\u001b[39m.\u001b[39;49mshebang(line, cell)\n",
      "File \u001b[1;32mc:\\Users\\alvaro\\AppData\\Local\\Programs\\Python\\Python310\\lib\\site-packages\\IPython\\core\\magics\\script.py:305\u001b[0m, in \u001b[0;36mScriptMagics.shebang\u001b[1;34m(self, line, cell)\u001b[0m\n\u001b[0;32m    300\u001b[0m \u001b[39mif\u001b[39;00m args\u001b[39m.\u001b[39mraise_error \u001b[39mand\u001b[39;00m p\u001b[39m.\u001b[39mreturncode \u001b[39m!=\u001b[39m \u001b[39m0\u001b[39m:\n\u001b[0;32m    301\u001b[0m     \u001b[39m# If we get here and p.returncode is still None, we must have\u001b[39;00m\n\u001b[0;32m    302\u001b[0m     \u001b[39m# killed it but not yet seen its return code. We don't wait for it,\u001b[39;00m\n\u001b[0;32m    303\u001b[0m     \u001b[39m# in case it's stuck in uninterruptible sleep. -9 = SIGKILL\u001b[39;00m\n\u001b[0;32m    304\u001b[0m     rc \u001b[39m=\u001b[39m p\u001b[39m.\u001b[39mreturncode \u001b[39mor\u001b[39;00m \u001b[39m-\u001b[39m\u001b[39m9\u001b[39m\n\u001b[1;32m--> 305\u001b[0m     \u001b[39mraise\u001b[39;00m CalledProcessError(rc, cell)\n",
      "\u001b[1;31mCalledProcessError\u001b[0m: Command 'b'\\nse strict;\\nuse warnings;\\nuse FindBin qw($RealBin $RealScript);\\n'' returned non-zero exit status 9."
     ]
    }
   ],
   "source": [
    "%%perl\n",
    "\n",
    "se strict;\n",
    "use warnings;\n",
    "use FindBin qw($RealBin $RealScript);"
   ]
  },
  {
   "cell_type": "code",
   "execution_count": null,
   "metadata": {
    "vscode": {
     "languageId": "perl"
    }
   },
   "outputs": [
    {
     "data": {
      "application/json": {
       "cell": {
        "!": "OSMagics",
        "HTML": "Other",
        "SVG": "Other",
        "bash": "Other",
        "capture": "ExecutionMagics",
        "cmd": "Other",
        "debug": "ExecutionMagics",
        "file": "Other",
        "html": "DisplayMagics",
        "javascript": "DisplayMagics",
        "js": "DisplayMagics",
        "latex": "DisplayMagics",
        "markdown": "DisplayMagics",
        "perl": "Other",
        "prun": "ExecutionMagics",
        "pypy": "Other",
        "python": "Other",
        "python2": "Other",
        "python3": "Other",
        "ruby": "Other",
        "script": "ScriptMagics",
        "sh": "Other",
        "svg": "DisplayMagics",
        "sx": "OSMagics",
        "system": "OSMagics",
        "tcl": "TclMagics",
        "time": "ExecutionMagics",
        "timeit": "ExecutionMagics",
        "writefile": "OSMagics"
       },
       "line": {
        "alias": "OSMagics",
        "alias_magic": "BasicMagics",
        "autoawait": "AsyncMagics",
        "autocall": "AutoMagics",
        "automagic": "AutoMagics",
        "autosave": "KernelMagics",
        "bookmark": "OSMagics",
        "cd": "OSMagics",
        "clear": "KernelMagics",
        "cls": "KernelMagics",
        "colors": "BasicMagics",
        "conda": "PackagingMagics",
        "config": "ConfigMagics",
        "connect_info": "KernelMagics",
        "copy": "Other",
        "ddir": "Other",
        "debug": "ExecutionMagics",
        "dhist": "OSMagics",
        "dirs": "OSMagics",
        "doctest_mode": "BasicMagics",
        "echo": "Other",
        "ed": "Other",
        "edit": "KernelMagics",
        "env": "OSMagics",
        "gui": "BasicMagics",
        "hist": "Other",
        "history": "HistoryMagics",
        "killbgscripts": "ScriptMagics",
        "ldir": "Other",
        "less": "KernelMagics",
        "load": "CodeMagics",
        "load_ext": "ExtensionMagics",
        "loadpy": "CodeMagics",
        "logoff": "LoggingMagics",
        "logon": "LoggingMagics",
        "logstart": "LoggingMagics",
        "logstate": "LoggingMagics",
        "logstop": "LoggingMagics",
        "ls": "Other",
        "lsmagic": "BasicMagics",
        "macro": "ExecutionMagics",
        "magic": "BasicMagics",
        "matplotlib": "PylabMagics",
        "mkdir": "Other",
        "more": "KernelMagics",
        "notebook": "BasicMagics",
        "page": "BasicMagics",
        "pastebin": "CodeMagics",
        "pdb": "ExecutionMagics",
        "pdef": "NamespaceMagics",
        "pdoc": "NamespaceMagics",
        "pfile": "NamespaceMagics",
        "pinfo": "NamespaceMagics",
        "pinfo2": "NamespaceMagics",
        "pip": "PackagingMagics",
        "popd": "OSMagics",
        "pprint": "BasicMagics",
        "precision": "BasicMagics",
        "prun": "ExecutionMagics",
        "psearch": "NamespaceMagics",
        "psource": "NamespaceMagics",
        "pushd": "OSMagics",
        "pwd": "OSMagics",
        "pycat": "OSMagics",
        "pylab": "PylabMagics",
        "qtconsole": "KernelMagics",
        "quickref": "BasicMagics",
        "recall": "HistoryMagics",
        "rehashx": "OSMagics",
        "reload_ext": "ExtensionMagics",
        "ren": "Other",
        "rep": "Other",
        "rerun": "HistoryMagics",
        "reset": "NamespaceMagics",
        "reset_selective": "NamespaceMagics",
        "rmdir": "Other",
        "run": "ExecutionMagics",
        "save": "CodeMagics",
        "sc": "OSMagics",
        "set_env": "OSMagics",
        "store": "StoreMagics",
        "sx": "OSMagics",
        "system": "OSMagics",
        "tb": "ExecutionMagics",
        "tcl": "TclMagics",
        "time": "ExecutionMagics",
        "timeit": "ExecutionMagics",
        "unalias": "OSMagics",
        "unload_ext": "ExtensionMagics",
        "who": "NamespaceMagics",
        "who_ls": "NamespaceMagics",
        "whos": "NamespaceMagics",
        "xdel": "NamespaceMagics",
        "xmode": "BasicMagics"
       }
      },
      "text/plain": [
       "Available line magics:\n",
       "%alias  %alias_magic  %autoawait  %autocall  %automagic  %autosave  %bookmark  %cd  %clear  %cls  %colors  %conda  %config  %connect_info  %copy  %ddir  %debug  %dhist  %dirs  %doctest_mode  %echo  %ed  %edit  %env  %gui  %hist  %history  %killbgscripts  %ldir  %less  %load  %load_ext  %loadpy  %logoff  %logon  %logstart  %logstate  %logstop  %ls  %lsmagic  %macro  %magic  %matplotlib  %mkdir  %more  %notebook  %page  %pastebin  %pdb  %pdef  %pdoc  %pfile  %pinfo  %pinfo2  %pip  %popd  %pprint  %precision  %prun  %psearch  %psource  %pushd  %pwd  %pycat  %pylab  %qtconsole  %quickref  %recall  %rehashx  %reload_ext  %ren  %rep  %rerun  %reset  %reset_selective  %rmdir  %run  %save  %sc  %set_env  %store  %sx  %system  %tb  %tcl  %time  %timeit  %unalias  %unload_ext  %who  %who_ls  %whos  %xdel  %xmode\n",
       "\n",
       "Available cell magics:\n",
       "%%!  %%HTML  %%SVG  %%bash  %%capture  %%cmd  %%debug  %%file  %%html  %%javascript  %%js  %%latex  %%markdown  %%perl  %%prun  %%pypy  %%python  %%python2  %%python3  %%ruby  %%script  %%sh  %%svg  %%sx  %%system  %%tcl  %%time  %%timeit  %%writefile\n",
       "\n",
       "Automagic is ON, % prefix IS NOT needed for line magics."
      ]
     },
     "execution_count": 53,
     "metadata": {},
     "output_type": "execute_result"
    }
   ],
   "source": [
    "%lsmagic\n"
   ]
  },
  {
   "cell_type": "code",
   "execution_count": null,
   "metadata": {
    "vscode": {
     "languageId": "perl"
    }
   },
   "outputs": [
    {
     "name": "stdout",
     "output_type": "stream",
     "text": [
      "\n",
      "Automagic is OFF, % prefix IS needed for line magics.\n"
     ]
    }
   ],
   "source": [
    "%automagic\n"
   ]
  },
  {
   "cell_type": "code",
   "execution_count": null,
   "metadata": {
    "vscode": {
     "languageId": "perl"
    }
   },
   "outputs": [
    {
     "ename": "NameError",
     "evalue": "name 'pwd' is not defined",
     "output_type": "error",
     "traceback": [
      "\u001b[1;31m---------------------------------------------------------------------------\u001b[0m",
      "\u001b[1;31mNameError\u001b[0m                                 Traceback (most recent call last)",
      "\u001b[1;32mc:\\Users\\alvaro\\Projects\\my-personal-projects\\tcl_tutorial.ipynb Cell 22\u001b[0m in \u001b[0;36m<cell line: 1>\u001b[1;34m()\u001b[0m\n\u001b[1;32m----> <a href='vscode-notebook-cell:/c%3A/Users/alvaro/Projects/my-personal-projects/tcl_tutorial.ipynb#X30sZmlsZQ%3D%3D?line=0'>1</a>\u001b[0m pwd\n",
      "\u001b[1;31mNameError\u001b[0m: name 'pwd' is not defined"
     ]
    }
   ],
   "source": [
    "pwd\n"
   ]
  },
  {
   "cell_type": "code",
   "execution_count": null,
   "metadata": {
    "vscode": {
     "languageId": "perl"
    }
   },
   "outputs": [
    {
     "name": "stdout",
     "output_type": "stream",
     "text": [
      "\u001b[1;31m -E- verbosityaaaa \u001b[0m\n",
      "\u001b[1;31m -E- vaaaa \u001b[0m\n",
      "\u001b[1;31m -E- 1 \u001b[0m\n",
      "\u001b[1;31m -E- verbosityaaaa \u001b[0m\n"
     ]
    }
   ],
   "source": [
    "%%tcl\n",
    "\n",
    "set verbosity verbosityaaaa\n",
    "eprint $verbosity\n",
    "set v \"vaaaa\"\n",
    "eprint $v\n",
    "eprint [info exists verbosity]\n",
    "set VERBOSITY [if {[info exists verbosity]} {list $verbosity} ]\n",
    "eprint $VERBOSITY"
   ]
  },
  {
   "cell_type": "code",
   "execution_count": null,
   "metadata": {
    "vscode": {
     "languageId": "perl"
    }
   },
   "outputs": [
    {
     "name": "stdout",
     "output_type": "stream",
     "text": [
      "\u001b[1;31m -E- 1 \u001b[0m\n",
      "\u001b[1;31m -E- 1 \u001b[0m\n",
      "\u001b[1;31m -E- 1 \u001b[0m\n",
      "\u001b[1;31m -E- invalid command name \"wprint\" \u001b[0m\n"
     ]
    },
    {
     "name": "stderr",
     "output_type": "stream",
     "text": [
      "TclError: invalid command name \"1\""
     ]
    }
   ],
   "source": [
    "%%tcl\n",
    "\n",
    "\n",
    "proc get_min_val {{value_A \"\"} {value_B \"\"}} {\n",
    "    set A_is_empty [expr {$value_A==\"\"}]\n",
    "    eprint $A_is_empty\n",
    "    set B_is_empty [expr {$value_B==\"\"}]\n",
    "    eprint $B_is_empty\n",
    "    set both_are_empty [expr {$A_is_empty+$B_is_empty==2}]\n",
    "    eprint $both_are_empty \n",
    "    try {\n",
    "        if {$A_is_empty} { wprint \"The first value is not defined\"}\n",
    "        if {$B_is_empty} { \n",
    "            wprint \"The second value is not defined\"\n",
    "            if {$A_is_empty} { \n",
    "                eprint \"There are no values defined.\"\n",
    "                return \"\"\n",
    "            }\n",
    "        }\n",
    "        \n",
    "        set title [get_caller_proc]\n",
    "        set init_msg \"Ending Function: \"\n",
    "        iprint \"$longline $init_msg $title $longline\"\n",
    "    } on error {result options} {\n",
    "        eprint $result\n",
    "    }\n",
    "}\n",
    "\n",
    "get_min_val \n",
    "[string is integer -strict \"2\"]"
   ]
  },
  {
   "cell_type": "code",
   "execution_count": null,
   "metadata": {
    "vscode": {
     "languageId": "perl"
    }
   },
   "outputs": [
    {
     "name": "stdout",
     "output_type": "stream",
     "text": [
      "\u001b[1;31m -E- 0 \u001b[0m\n",
      "\u001b[1;31m -E- 0 \u001b[0m\n",
      "\u001b[1;31m -E- 0 \u001b[0m\n",
      "\u001b[1;31m -E- foo is an integer! \u001b[0m\n",
      "\u001b[1;31m -E- 1 \u001b[0m\n",
      "\u001b[1;31m -E- foo is an integer! \u001b[0m\n",
      "\u001b[1;31m -E- 1 \u001b[0m\n",
      "\u001b[1;31m -E- 1 \u001b[0m\n",
      "\u001b[1;31m -E- 12 \u001b[0m\n"
     ]
    }
   ],
   "source": [
    "%%tcl\n",
    "\n",
    "proc isa_integer {foo} {\n",
    "    if {[string is integer -strict $foo]} {\n",
    "        eprint \"foo is an integer!\"\n",
    "        return true\n",
    "    }\n",
    "    return false\n",
    "}\n",
    "\n",
    "proc get_min_val {{value_A \"\"} {value_B \"\"}} {\n",
    "    set A_is_empty [expr {$value_A==\"\"}]\n",
    "    eprint $A_is_empty\n",
    "    set B_is_empty [expr {$value_B==\"\"}]\n",
    "    eprint $B_is_empty\n",
    "    set both_are_empty [expr {$A_is_empty+$B_is_empty==2}]\n",
    "    eprint $both_are_empty\n",
    "    set A_is_integer [if {[isa_integer $value_A]} {list 1} else {list 0}]\n",
    "    eprint $A_is_integer\n",
    "    set B_is_integer [if {[isa_integer $value_B]} {list 1} else {list 0}]\n",
    "    eprint $B_is_integer\n",
    "    set both_are_int [expr {$A_is_integer+$B_is_integer==2}]\n",
    "    eprint $both_are_int\n",
    "    try {\n",
    "        if {$both_are_empty} { \n",
    "            eprint \"Both values are not defined\"\n",
    "            return \"\"\n",
    "        } elseif {$A_is_empty} { \n",
    "            eprint \"The first value is not defined\"\n",
    "            if {$B_is_integer} {\n",
    "                return $value_B\n",
    "            } else {\n",
    "                eprint \"The second value is not an integer.\"\n",
    "            }\n",
    "        } elseif {$B_is_empty} { \n",
    "            eprint \"The second value is not defined\"\n",
    "            if {$A_is_integer} {\n",
    "                return $value_A\n",
    "            } else {\n",
    "                eprint \"The first value is not an integer.\"\n",
    "            }\n",
    "        }\n",
    "        if {$both_are_int} { \n",
    "            if {$value_A > $value_B} {\n",
    "                return $value_B\n",
    "            } else {\n",
    "                return $value_A\n",
    "            }\n",
    "        } elseif {$A_is_integer} { \n",
    "            eprint \"The second value is not an integer\"\n",
    "            return $value_A\n",
    "        } elseif {$B_is_integer} { \n",
    "            eprint \"The first value is not an integer\"\n",
    "            return $value_B\n",
    "        } else {\n",
    "            eprint  \"Something is broken.\"\n",
    "        }\n",
    "\n",
    "    } on error {result options} {\n",
    "        eprint $result\n",
    "    }\n",
    "}\n",
    "\n",
    "eprint [get_min_val 110 12]\n"
   ]
  },
  {
   "cell_type": "code",
   "execution_count": null,
   "metadata": {
    "vscode": {
     "languageId": "perl"
    }
   },
   "outputs": [
    {
     "name": "stderr",
     "output_type": "stream",
     "text": [
      "TclError: invalid command name \"test\""
     ]
    }
   ],
   "source": [
    "%%tcl\n",
    "package require tcltest 2.0\n",
    "\n",
    "test intro-1 {This is as simple as it gets.} {\n",
    "        expr 3 * 5\n",
    "    } 15"
   ]
  },
  {
   "cell_type": "code",
   "execution_count": null,
   "metadata": {
    "vscode": {
     "languageId": "perl"
    }
   },
   "outputs": [
    {
     "name": "stderr",
     "output_type": "stream",
     "text": [
      "TclError: can't read \"balloon\": variable is array"
     ]
    }
   ],
   "source": [
    "%%tcl\n",
    "\n",
    "array set balloon {color red}\n",
    "\n",
    "array exists balloon1\n",
    "\n",
    "if {[array exists $balloon]} {eprint $balloon(color)}\n",
    "if {[array exists balloon1]} {eprint \"no deberiamos estar aca\"}"
   ]
  },
  {
   "cell_type": "code",
   "execution_count": null,
   "metadata": {
    "vscode": {
     "languageId": "perl"
    }
   },
   "outputs": [],
   "source": [
    "%%tcl\n",
    "proc run_system_cmd {command} {\n",
    "    \n",
    "\n",
    "    set status 0\n",
    "    set errorList {}\n",
    "\n",
    "    lassign [chan pipe] chStdout chStdin\n",
    "    lassign [chan pipe] chStderrOut chStderrIn\n",
    "\n",
    "    try {\n",
    "        exec >@$chStdin 2>@$chStderrIn {*}\"$command\"\n",
    "    } trap NONE errOut {\n",
    "        # $errOut now holds the message that was written to stderr\n",
    "        # and everything written to stdout!\n",
    "    } trap CHILDKILLED {- opts} {\n",
    "        lassign [dict get $opts -errorcode] pid sigName msg\n",
    "        # process $pid was killed by signal $sigName; message is $msg\n",
    "        set status 1\n",
    "        lappend errorList [list $pid $sigName $msg]\n",
    "    } trap CHILDSTATUS {- opts} {\n",
    "        lassign [dict get $opts -errorcode] pid code\n",
    "        # process $pid exited with non-zero exit code $code\n",
    "        set status $code\n",
    "        lappend errorList [list $pid $code]\n",
    "    } trap CHILDSUSP {- opts} {\n",
    "        lassign [dict get $opts -errorcode] pid sigName msg\n",
    "        # process $pid was suspended by signal $sigName; message is $msg\n",
    "        set status 1\n",
    "        lappend errorList [list $pid $sigName $msg]\n",
    "    } trap POSIX {- opts} {\n",
    "        lassign [dict get $opts -errorcode] errName msg\n",
    "        # Some kind of kernel failure; details in $errName and $msg\n",
    "        set status 1\n",
    "        lappend errorList [list $errName $msg]\n",
    "    }\n",
    "\n",
    "    # Get the stdout/stderr from their respective channels and close the\n",
    "    # channels.\n",
    "    close $chStdin\n",
    "    close $chStderrIn\n",
    "    set stdout [read -nonewline $chStdout]\n",
    "    set stderr [read -nonewline $chStderrOut]\n",
    "    close $chStdout\n",
    "    close $chStderrOut\n",
    "    # Return a list with the specified order to keep the output format\n",
    "    # consistant under all circumstances.\n",
    "    if {![$errorList == \"{}\"]} {\n",
    "        return [list $stdout $stderr $status]\n",
    "    } else {\n",
    "        eprint \"$errorList\"\n",
    "        return [list $stdout $stderr $status $errorList]\n",
    "    }\n",
    "}"
   ]
  },
  {
   "cell_type": "code",
   "execution_count": null,
   "metadata": {
    "vscode": {
     "languageId": "perl"
    }
   },
   "outputs": [
    {
     "name": "stderr",
     "output_type": "stream",
     "text": [
      "TclError: couldn't execute \"ls\": no such file or directory"
     ]
    }
   ],
   "source": [
    "%%tcl\n",
    "\n",
    "exec ls -l"
   ]
  },
  {
   "cell_type": "code",
   "execution_count": 19,
   "metadata": {
    "vscode": {
     "languageId": "shellscript"
    }
   },
   "outputs": [
    {
     "name": "stderr",
     "output_type": "stream",
     "text": [
      "TclError: wrong # args: should be \"what this ?that? ?args ...?\""
     ]
    }
   ],
   "source": [
    "%%tcl\n",
    "# 09/27\n",
    "\n",
    "namespace eval options {\n",
    "\n",
    "    proc options {args} {\n",
    "        while {[llength $args] > 1} {\n",
    "            if {[string match [lindex $args 0]* -arrayvariable]} {\n",
    "                set args [lassign $args _ value]\n",
    "                set name -arrayvariable\n",
    "                set options($name) $value\n",
    "            } else {\n",
    "                error \"Unknown option \\\"[lindex $args 0]\\\": must be one of -arrayvariable\"\n",
    "            }\n",
    "        }\n",
    "        if {[info exists options(-arrayvariable)]} {\n",
    "            set upset [format {apply {{name value} {\n",
    "                    uplevel 2 [list set %s(-$name) $value]\n",
    "            }}} $value]\n",
    "        } else {\n",
    "            set upset [format {apply {{name value} {\n",
    "                    uplevel 2 [list set $name $value]\n",
    "            }}}]\n",
    "        }\n",
    "        # parse optspec\n",
    "        set spec [lindex $args 0]\n",
    "        foreach optspec $spec {\n",
    "            set name [lindex $optspec 0]\n",
    "            switch [llength $optspec] {\n",
    "                1 {\n",
    "                    dict set opts $name type 0 ;# flag\n",
    "                    {*}$upset [string range $name 1 end] 0\n",
    "                    #dict set opts $name value 0\n",
    "                } \n",
    "                2 {\n",
    "                    dict set opts $name type 1 ;# arbitrary value\n",
    "                    dict set opts $name default [lindex $optspec 1]\n",
    "                    {*}$upset [string range $name 1 end] [lindex $optspec 1]\n",
    "                    #dict set opts $name value [lindex $optspec 1]\n",
    "                }\n",
    "                default {\n",
    "                    dict set opts $name type 2 ;# choice\n",
    "                    dict set opts $name default [lindex $optspec 1]\n",
    "                    dict set opts $name values [lrange $optspec 1 end]\n",
    "                    {*}$upset [string range $name 1 end] [lindex $optspec 1]\n",
    "                }\n",
    "            }\n",
    "        }\n",
    "        # get caller's args\n",
    "        upvar 1 args argv\n",
    "        for {set i 0} {$i<[llength $argv]} {} {\n",
    "            set arg [lindex $argv $i]\n",
    "            if {![string match -* $arg]} {\n",
    "                break\n",
    "            }\n",
    "            incr i\n",
    "            if {$arg eq \"--\"} {\n",
    "                break\n",
    "            }\n",
    "            set candidates [dict filter $opts key $arg*]\n",
    "            switch [dict size $candidates] {\n",
    "                0 {\n",
    "                    return -code error -level 2 \"Unknown option $arg: must be one of [dict keys $opts]\"\n",
    "                }\n",
    "                1 {\n",
    "                    dict for {name spec} $candidates {break}\n",
    "                    set name [string range $name 1 end]\n",
    "                    dict with spec {} ;# look out\n",
    "                    if {$type==0} {\n",
    "                        set value 1\n",
    "                    } else {\n",
    "                        if {[llength $argv]<($i+1)} {\n",
    "                            return -code error -level 2 \"Option $name requires a value\"\n",
    "                        }\n",
    "                        set value [lindex $argv $i]\n",
    "                        if {$type==2} {\n",
    "                            set is [lsearch -all -glob $values $value*]\n",
    "                            switch [llength $is] {\n",
    "                                1 {\n",
    "                                    set value [lindex $values $is]\n",
    "                                }\n",
    "                                0 {\n",
    "                                    return -code error -level 2 \"Bad $name \\\"$value\\\": must be one of $values\"\n",
    "                                }\n",
    "                                default {\n",
    "                                    return -code error -level 2 \"Ambiguous $name \\\"$value\\\": could be any of [lmap i $is {lindex $values $i}]\"\n",
    "                                }\n",
    "                            }\n",
    "                        }\n",
    "                        incr i\n",
    "                    }\n",
    "                    {*}$upset $name $value\n",
    "                }\n",
    "                default {\n",
    "                    return -code error -level 2 \"Ambiguous option $arg: maybe one of [dict keys $candidates]\"\n",
    "                }\n",
    "            }\n",
    "        }\n",
    "        set argv [lrange $argv $i end]\n",
    "    }\n",
    "\n",
    "    proc formatArgspec {argspec} {\n",
    "        foreach arg $argspec {\n",
    "            if {[llength $arg]>1} {\n",
    "                lappend res \"?[lindex $arg 0]?\"\n",
    "            } elseif {$arg eq \"args\"} {\n",
    "                lappend res \"?args ...?\"\n",
    "            } else {\n",
    "                lappend res $arg\n",
    "            }\n",
    "        }\n",
    "        return [join $res \" \"]\n",
    "    }\n",
    "\n",
    "    proc arguments {argspec} {\n",
    "        upvar 1 args argv\n",
    "        for {set i 0} {$i<[llength $argv]} {incr i} {\n",
    "            if {$i >= [llength $argspec]} {\n",
    "                return -code error -level 2 \"wrong # args: should be \\\"[lindex [info level -1] 0] [formatArgspec $argspec]\\\"\"\n",
    "            }\n",
    "            set name [lindex $argspec $i 0]\n",
    "            if {$name eq \"args\"} {\n",
    "                uplevel 1 [list set args [lrange $argv $i end]]\n",
    "                return\n",
    "            }\n",
    "            set value [lindex $argv $i]\n",
    "#            set test [lindex $argspec $i 2]\n",
    "#            if {$test != \"\"} {\n",
    "#                set valid [uplevel 1 $test $value]\n",
    "#                if {!$value} {\n",
    "#                    return -code error -level 2 \"Invalid $name \\\"$value\\\", must be $test\"\n",
    "#                }\n",
    "#            }\n",
    "            uplevel 1 [list set $name $value]\n",
    "        }\n",
    "        # defaults:\n",
    "        for {} {$i < [llength $argspec]} {incr i} {\n",
    "            set as [lindex $argspec $i]\n",
    "            if {[llength $as]==1} {\n",
    "                if {$as ne \"args\"} {\n",
    "                    return -code error -level 2 \"wrong # args: should be \\\"[lindex [info level -1] 0] [formatArgspec $argspec]\\\"\"\n",
    "                }\n",
    "                upvar 1 args args\n",
    "                set args [lrange $argv $i end]\n",
    "                return\n",
    "            }\n",
    "            lassign $as name value\n",
    "#            set test [lindex $argspec $i 2]\n",
    "#            if {$test != \"\"} {\n",
    "#                set valid [uplevel 1 $test $value]\n",
    "#                if {!$value} {\n",
    "#                    return -code error -level 2 \"Invalid $name \\\"$value\\\", must be $test\"\n",
    "#                }\n",
    "#            }\n",
    "            uplevel 1 [list set $name $value]\n",
    "        }\n",
    "    }\n",
    "\n",
    "    namespace export options arguments\n",
    "}\n",
    "namespace import options::*\n",
    "\n",
    "proc what {args} {\n",
    "    options {{-loud} {-colour red green blue black} {-count 5}}\n",
    "    arguments {this {that {}} args}\n",
    "    foreach name [info locals] {\n",
    "        puts \"$name = [set $name]\"\n",
    "    }\n",
    "}\n",
    "\n",
    "what\n",
    "what -co la"
   ]
  },
  {
   "cell_type": "code",
   "execution_count": 20,
   "metadata": {
    "vscode": {
     "languageId": "shellscript"
    }
   },
   "outputs": [
    {
     "name": "stderr",
     "output_type": "stream",
     "text": [
      "TclError: Ambiguous option -co: maybe one of -colour -count"
     ]
    }
   ],
   "source": [
    "%%tcl\n",
    "what -co la"
   ]
  },
  {
   "cell_type": "code",
   "execution_count": 21,
   "metadata": {
    "vscode": {
     "languageId": "shellscript"
    }
   },
   "outputs": [
    {
     "name": "stderr",
     "output_type": "stream",
     "text": [
      "TclError: wrong # args: should be \"what this ?that? ?args ...?\""
     ]
    }
   ],
   "source": [
    "%%tcl \n",
    "what -loud"
   ]
  }
 ],
 "metadata": {
  "kernelspec": {
   "display_name": "Python 3 (ipykernel)",
   "language": "python",
   "name": "python3"
  },
  "language_info": {
   "codemirror_mode": {
    "name": "ipython",
    "version": 3
   },
   "file_extension": ".py",
   "mimetype": "text/x-python",
   "name": "python",
   "nbconvert_exporter": "python",
   "pygments_lexer": "ipython3",
   "version": "3.8.0"
  },
  "vscode": {
   "interpreter": {
    "hash": "758228ae4236649af9509c5c8859545204428c6c7a2c9288794dec8c60a3bcc3"
   }
  }
 },
 "nbformat": 4,
 "nbformat_minor": 2
}
