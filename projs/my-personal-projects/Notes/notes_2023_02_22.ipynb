{
 "cells": [
  {
   "cell_type": "code",
   "execution_count": 2,
   "metadata": {
    "pycharm": {
     "name": "#%%\n"
    }
   },
   "outputs": [
    {
     "data": {
      "application/javascript": "\n            requirejs.config({\n                paths: {\n                    codemirror: \"https://cdn.rawgit.com/marijnh/CodeMirror/master\"\n                }\n            });\n            requirejs([\"codemirror/mode/tcl/tcl\"], function(codemirror) {\n                IPython.CodeCell.options_default.highlight_modes['magic_text/x-tcl'] = {'reg':[/^%%tcl/]};\n                IPython.notebook.events.one('kernel_ready.Kernel', function() {\n                    IPython.notebook.get_cells().map(function(cell) {\n                        if (cell.cell_type == 'code') {\n                            cell.auto_highlight();\n                        }\n                    });\n                });\n            });\n        "
     },
     "metadata": {},
     "output_type": "display_data"
    }
   ],
   "source": [
    "%load_ext tclmagic\n",
    "\n",
    "#  If the prev line doesnt work  install it using the next line in your unix terminal\n",
    "#  /depot/Python/Python-3.8.0/bin/pip install -U tcl-magic\n",
    "#  /depot/Python/Python-3.8.0/bin/pip install -U notebook\n",
    "#  You can configure it to ~/.local/ "
   ]
  },
  {
   "cell_type": "code",
   "execution_count": 3,
   "metadata": {
    "pycharm": {
     "name": "#%%\n"
    },
    "vscode": {
     "languageId": "shellscript"
    }
   },
   "outputs": [
    {
     "data": {
      "text/plain": [
       "'0.3.10'"
      ]
     },
     "execution_count": 3,
     "metadata": {},
     "output_type": "execute_result"
    }
   ],
   "source": [
    "%%tcl\n",
    "\n",
    "set SHELLTOOL_LOC \"/remote/cad-rep/msip/tools/Shelltools\"\n",
    "lappend auto_path \"$SHELLTOOL_LOC/ddr-utils-lay/dev/lib/tcl\"\n",
    "lappend auto_path \"/depot/tcl8.6.3/lib\"\n",
    "\n",
    "set RealBin [file dirname [file normalize [info script]] ]\n",
    "set RealScript [file tail [file normalize [info script]] ]\n",
    "set PROGRAM_NAME $RealScript\n",
    "set LOGFILE \"[pwd]/log-$PROGRAM_NAME.log\"\n",
    "\n",
    "package require Messaging 1.0\n",
    "namespace import ::Messaging::*\n",
    "package require Misc 1.0\n",
    "namespace import ::Misc::*\n",
    "\n",
    "package require cmdline\n",
    "package require try\n",
    "package require yaml"
   ]
  },
  {
   "cell_type": "markdown",
   "metadata": {},
   "source": [
    "# AI\n",
    "\n",
    "- DONE: convert releaseMacro to a dictionary\n",
    "- DONE: convert lists in lists...\n"
   ]
  },
  {
   "cell_type": "code",
   "execution_count": 4,
   "metadata": {},
   "outputs": [
    {
     "name": "stdout",
     "output_type": "stream",
     "text": [
      "\u001b[1m-I- /u/alvaro/GitLab/my-personal-projects/experiments/tclyaml_experiment/inputs/sample.tcl\u001b[0m\n"
     ]
    }
   ],
   "source": [
    "%%tcl\n",
    "set sample_path \"/u/alvaro/GitLab/my-personal-projects/experiments/tclyaml_experiment/inputs/sample.tcl\"\n",
    "iprint $sample_path"
   ]
  },
  {
   "cell_type": "code",
   "execution_count": 5,
   "metadata": {
    "vscode": {
     "languageId": "shellscript"
    }
   },
   "outputs": [],
   "source": [
    "%%tcl\n",
    "\n",
    "proc get_variables_from_file {__file} {\n",
    "    source $__file\n",
    "    unset __file\n",
    "    return [info locals]\n",
    "}"
   ]
  },
  {
   "cell_type": "code",
   "execution_count": 22,
   "metadata": {
    "vscode": {
     "languageId": "shellscript"
    }
   },
   "outputs": [],
   "source": [
    "%%tcl\n",
    "\n",
    "proc create_dict_from_file {__file} {\n",
    "\n",
    "    source $__file\n",
    "\n",
    "    set sv [get_variables_from_file $__file]\n",
    "    \n",
    "    foreach ssv $sv {\n",
    "        if [regexp {(\\S+)\\{(\\S+)\\}} $ssv full dictname keyname] {\n",
    "            puts $full\n",
    "            puts \"dictname = $dictname\"\n",
    "            puts \"keyname  = $keyname\"\n",
    "            foreach dict_values [set $full] {\n",
    "                lappend list_values \"- $dict_values\"\n",
    "            }\n",
    "            set [set dictname]($keyname) $list_values\n",
    "            unset list_values\n",
    "            if {$dictname ni $sv} {lappend new_sv $dictname}\n",
    "        } else {\n",
    "            lappend new_sv $ssv\n",
    "        }\n",
    "    }\n",
    "\n",
    "    foreach varname $new_sv {\n",
    "        iprint $varname\n",
    "        if {[array exists $varname]} {\n",
    "            foreach {ark arv} [array get $varname] {\n",
    "                iprint \"$varname $ark --> $arv\"\n",
    "                dict set legal_release $varname \"$ark: \" \"\\{$arv\\}\"\n",
    "            }\n",
    "        } else {\n",
    "            if {[llength [set $varname]]>1} {\n",
    "                if {![regexp {(date|prune|layers|utility_name|repeater_name)} $varname match]} {\n",
    "                    foreach litvalue [set $varname] {\n",
    "                        lappend varvalue \"- $litvalue\"  \n",
    "                    }\n",
    "                } else {\n",
    "                    set varvalue [set $varname]\n",
    "                }\n",
    "            } else {\n",
    "                set varvalue [set $varname]\n",
    "            }\n",
    "            \n",
    "            dict set legal_release $varname $varvalue\n",
    "            unset varname\n",
    "            unset varvalue\n",
    "        }\n",
    "        \n",
    "        \n",
    "    }\n",
    "    return $legal_release\n",
    "}\n"
   ]
  },
  {
   "cell_type": "code",
   "execution_count": 23,
   "metadata": {
    "vscode": {
     "languageId": "shellscript"
    }
   },
   "outputs": [],
   "source": [
    "%%tcl\n",
    "proc save_cleaned_yml_to_file {sample_path {file_name \"yml-cleaned.yml\"}} {\n",
    "\n",
    "    set legal_release [create_dict_from_file $sample_path]\n",
    "    set yaml_format [yaml::dict2yaml $legal_release 4 100]\n",
    "\n",
    "    set cleaned_format [regsub -all {\\: \\} \\{} $yaml_format \": \"]\n",
    "    set cleaned_format [regsub -all {\\} \\{|\\|-\\n    \\{|>\\n    } $cleaned_format \"\\n    \" ]\n",
    "    \n",
    "    set cleaned_values [regsub -all {\\: \\{} $cleaned_format \": \" ]\n",
    "    set cleaned_values [regsub -all {\\}\\n} [regsub -all {\\}\\n} $cleaned_values \"\\n\" ] \"\\n\" ]\n",
    "    eprint \"1\"\n",
    "    write_file $file_name [regsub -all {\\}} [regsub -all {: \\{-} $cleaned_values \":\\n    -\" ] \"\" ]\n",
    " \n",
    "}"
   ]
  },
  {
   "cell_type": "code",
   "execution_count": 24,
   "metadata": {
    "vscode": {
     "languageId": "shellscript"
    }
   },
   "outputs": [
    {
     "name": "stdout",
     "output_type": "stream",
     "text": [
      "releaseMacro{dwc_ddr5phy_utility_blocks}\n",
      "dictname = releaseMacro\n",
      "keyname  = dwc_ddr5phy_utility_blocks\n",
      "releaseMacro{dwc_ddr5phy_repeater_cells}\n",
      "dictname = releaseMacro\n",
      "keyname  = dwc_ddr5phy_repeater_cells\n",
      "releaseMacro{dwc_ddr5phy_utility_cells}\n",
      "dictname = releaseMacro\n",
      "keyname  = dwc_ddr5phy_utility_cells\n",
      "\u001b[1m-I- calibre_verifs\u001b[0m\n",
      "\u001b[1m-I- releaseMacro\u001b[0m\n",
      "\u001b[1m-I- releaseMacro dwc_ddr5phy_utility_blocks --> {- dwc_ddr5phy_pclk_routing_ac_ew} {- dwc_ddr5phy_pclk_routing_dx_ew} {- dwc_ddr5phy_pclk_routing_decap_ew} {- dwc_ddr5phy_decapvddq_ac_ew} {- dwc_ddr5phy_decapvddq_master_ew} {- dwc_ddr5phy_decapvddq_dx4_ew} {- dwc_ddr5phy_decapvddq_zcal_ew} {- dwc_ddr5phy_decapvddq_ld_ac_ew} {- dwc_ddr5phy_decapvddq_ld_master_ew} {- dwc_ddr5phy_decapvddq_ld_dx4_ew} {- dwc_ddr5phy_decapvddq_ld_zcal_ew} {- dwc_ddr5phy_decapvsh_ac_ew} {- dwc_ddr5phy_decapvsh_dx4_ew} {- dwc_ddr5phy_decapvsh_zcal_ew} {- dwc_ddr5phy_decapvsh_ld_ac_ew} {- dwc_ddr5phy_decapvsh_ld_dx4_ew} {- dwc_ddr5phy_decapvsh_ld_zcal_ew} {- dwc_ddr5phydx4_tcoil_ew} {- dwc_ddr5phydx4_notcoil_ew}\u001b[0m\n",
      "\u001b[1m-I- releaseMacro dwc_ddr5phy_utility_cells --> {- dwc_ddr5phy_decapvddq_ew} {- dwc_ddr5phy_decapvddq_ns} {- dwc_ddr5phy_decapvddq_ld_ew} {- dwc_ddr5phy_decapvddq_ld_ns} {- dwc_ddr5phy_vddqclamp_ew}\u001b[0m\n",
      "\u001b[1m-I- releaseMacro dwc_ddr5phy_repeater_cells --> {- dwc_ddr5phy_pclk_rptx1}\u001b[0m\n",
      "\u001b[1m-I- repeater_name\u001b[0m\n",
      "\u001b[1m-I- releaseMacro\u001b[0m\n",
      "\u001b[1m-I- releaseMacro dwc_ddr5phy_utility_blocks --> {- dwc_ddr5phy_pclk_routing_ac_ew} {- dwc_ddr5phy_pclk_routing_dx_ew} {- dwc_ddr5phy_pclk_routing_decap_ew} {- dwc_ddr5phy_decapvddq_ac_ew} {- dwc_ddr5phy_decapvddq_master_ew} {- dwc_ddr5phy_decapvddq_dx4_ew} {- dwc_ddr5phy_decapvddq_zcal_ew} {- dwc_ddr5phy_decapvddq_ld_ac_ew} {- dwc_ddr5phy_decapvddq_ld_master_ew} {- dwc_ddr5phy_decapvddq_ld_dx4_ew} {- dwc_ddr5phy_decapvddq_ld_zcal_ew} {- dwc_ddr5phy_decapvsh_ac_ew} {- dwc_ddr5phy_decapvsh_dx4_ew} {- dwc_ddr5phy_decapvsh_zcal_ew} {- dwc_ddr5phy_decapvsh_ld_ac_ew} {- dwc_ddr5phy_decapvsh_ld_dx4_ew} {- dwc_ddr5phy_decapvsh_ld_zcal_ew} {- dwc_ddr5phydx4_tcoil_ew} {- dwc_ddr5phydx4_notcoil_ew}\u001b[0m\n",
      "\u001b[1m-I- releaseMacro dwc_ddr5phy_utility_cells --> {- dwc_ddr5phy_decapvddq_ew} {- dwc_ddr5phy_decapvddq_ns} {- dwc_ddr5phy_decapvddq_ld_ew} {- dwc_ddr5phy_decapvddq_ld_ns} {- dwc_ddr5phy_vddqclamp_ew}\u001b[0m\n",
      "\u001b[1m-I- releaseMacro dwc_ddr5phy_repeater_cells --> {- dwc_ddr5phy_pclk_rptx1}\u001b[0m\n",
      "\u001b[1m-I- lef_diff_rel\u001b[0m\n",
      "\u001b[1m-I- releaseDefMacro\u001b[0m\n",
      "\u001b[1m-I- releasePhyvMacro\u001b[0m\n",
      "\u001b[1m-I- releaseShimMacro\u001b[0m\n",
      "\u001b[1m-I- releasePmMailDist\u001b[0m\n",
      "\u001b[1m-I- supply_pins_override\u001b[0m\n",
      "\u001b[1m-I- supply_pins_override dwc_ddr5phy_por_ew --> M6 M10\u001b[0m\n",
      "\u001b[1m-I- supply_pins_override dwc_ddr5phycover_dx4_top_ew --> M10 M14 M15 M16 MTOP MTOP-1\u001b[0m\n",
      "\u001b[1m-I- supply_pins_override dwc_ddr5phy_zcalio_ew --> M10 M12\u001b[0m\n",
      "\u001b[1m-I- supply_pins_override dwc_ddr5phy_txrxac_ew --> M10 M12\u001b[0m\n",
      "\u001b[1m-I- supply_pins_override dwc_ddr5phy_tcoil_ew --> M14 M15 M16 MTOP MTOP-1\u001b[0m\n",
      "\u001b[1m-I- supply_pins_override dwc_ddr5phy_txrxdq_ew --> M10 M12\u001b[0m\n",
      "\u001b[1m-I- supply_pins_override dwc_ddr5phycover_cmosx2_top_ew --> M10 M14 M15 M16 MTOP MTOP-1\u001b[0m\n",
      "\u001b[1m-I- supply_pins_override dwc_ddr5phy_txrxdqs_ew --> M10 M12\u001b[0m\n",
      "\u001b[1m-I- supply_pins_override dwc_ddr5phy_techrevision --> M5\u001b[0m\n",
      "\u001b[1m-I- supply_pins_override dwc_ddr5phycover_ckx2_top_ew --> M10 M14 M15 M16 MTOP MTOP-1\u001b[0m\n",
      "\u001b[1m-I- supply_pins_override dwc_ddr5phycover_zcal_top_ew --> M10 M14 M15 M16 MTOP MTOP-1\u001b[0m\n",
      "\u001b[1m-I- supply_pins_override dwc_ddr5phy_lcdl --> M4\u001b[0m\n",
      "\u001b[1m-I- supply_pins_override dwc_ddr5phycover_master_top_ew --> M10 M14 M15 M16 MTOP MTOP-1\u001b[0m\n",
      "\u001b[1m-I- supply_pins_override dwc_ddr5phy_utility_blocks --> M10 M14 M15 M16 MTOP MTOP-1 AP\u001b[0m\n",
      "\u001b[1m-I- supply_pins_override dwc_ddr5phycover_acx2_top_ew --> M10 M14 M15 M16 MTOP MTOP-1\u001b[0m\n",
      "\u001b[1m-I- supply_pins_override dwc_ddr5phydx4_tcoil_ap2c4d_ew --> M10 M14 M15 M16 MTOP MTOP-1 AP\u001b[0m\n",
      "\u001b[1m-I- cdl_prune_cells\u001b[0m\n",
      "\u001b[1m-I- supply_pins\u001b[0m\n",
      "\u001b[1m-I- layers_override\u001b[0m\n",
      "\u001b[1m-I- layers_override dwc_ddr5phycover_dx4_top_ew --> M10 M11 M12 M13 M14 M15 M16 MTOP MTOP-1\u001b[0m\n",
      "\u001b[1m-I- layers_override dwc_ddr5phycover_cmosx2_top_ew --> M10 M11 M12 M13 M14 M15 M16 MTOP MTOP-1\u001b[0m\n",
      "\u001b[1m-I- layers_override dwc_ddr5phycover_ckx2_top_ew --> M10 M11 M12 M13 M14 M15 M16 MTOP MTOP-1\u001b[0m\n",
      "\u001b[1m-I- layers_override dwc_ddr5phycover_master_top --> M10 M11 M12 M13 M14 M15 M16 MTOP MTOP-1\u001b[0m\n",
      "\u001b[1m-I- layers_override dwc_ddr5phy_utility_blocks --> M0 M1 M2 M3 M4 M5 M6 M7 M8 M9 M10 M11 M12 M13 M14 M15 M16 MTOP MTOP-1 AP\u001b[0m\n",
      "\u001b[1m-I- layers_override dwc_ddr5phy_tcoil_ew --> M14 M15 M16 MTOP MTOP-1\u001b[0m\n",
      "\u001b[1m-I- layers_override dwc_ddr5phycover_zcal_top_ew --> M10 M11 M12 M13 M14 M15 M16 MTOP MTOP-1\u001b[0m\n",
      "\u001b[1m-I- layers_override dwc_ddr5phycover_acx2_top_ew --> M10 M11 M12 M13 M14 M15 M16 MTOP MTOP-1\u001b[0m\n",
      "\u001b[1m-I- layers_override dwc_ddr5phydx4_tcoil_ap2c4d_ew --> M0 M1 M2 M3 M4 M5 M6 M7 M8 M9 M10 M11 M12 M13 M14 M15 M16 MTOP MTOP-1 AP\u001b[0m\n",
      "\u001b[1m-I- releaseBranch\u001b[0m\n",
      "\u001b[1m-I- releaseMailDist\u001b[0m\n",
      "\u001b[1m-I- release_gds_cdl\u001b[0m\n",
      "\u001b[1m-I- metal_stack\u001b[0m\n",
      "\u001b[1m-I- metal_stack_ip\u001b[0m\n",
      "\u001b[1m-I- layers\u001b[0m\n",
      "\u001b[1m-I- timing_libs\u001b[0m\n",
      "\u001b[1m-I- layout_tag\u001b[0m\n",
      "\u001b[1m-I- releaseTCMacro\u001b[0m\n",
      "\u001b[1m-I- reference_date_time\u001b[0m\n",
      "\u001b[1m-I- rel\u001b[0m\n",
      "\u001b[1m-I- utility_name\u001b[0m\n",
      "\u001b[1m-I- vcrel\u001b[0m\n",
      "\u001b[1m-I- releaseMacro\u001b[0m\n",
      "\u001b[1m-I- releaseMacro dwc_ddr5phy_utility_blocks --> {- dwc_ddr5phy_pclk_routing_ac_ew} {- dwc_ddr5phy_pclk_routing_dx_ew} {- dwc_ddr5phy_pclk_routing_decap_ew} {- dwc_ddr5phy_decapvddq_ac_ew} {- dwc_ddr5phy_decapvddq_master_ew} {- dwc_ddr5phy_decapvddq_dx4_ew} {- dwc_ddr5phy_decapvddq_zcal_ew} {- dwc_ddr5phy_decapvddq_ld_ac_ew} {- dwc_ddr5phy_decapvddq_ld_master_ew} {- dwc_ddr5phy_decapvddq_ld_dx4_ew} {- dwc_ddr5phy_decapvddq_ld_zcal_ew} {- dwc_ddr5phy_decapvsh_ac_ew} {- dwc_ddr5phy_decapvsh_dx4_ew} {- dwc_ddr5phy_decapvsh_zcal_ew} {- dwc_ddr5phy_decapvsh_ld_ac_ew} {- dwc_ddr5phy_decapvsh_ld_dx4_ew} {- dwc_ddr5phy_decapvsh_ld_zcal_ew} {- dwc_ddr5phydx4_tcoil_ew} {- dwc_ddr5phydx4_notcoil_ew}\u001b[0m\n",
      "\u001b[1m-I- releaseMacro dwc_ddr5phy_utility_cells --> {- dwc_ddr5phy_decapvddq_ew} {- dwc_ddr5phy_decapvddq_ns} {- dwc_ddr5phy_decapvddq_ld_ew} {- dwc_ddr5phy_decapvddq_ld_ns} {- dwc_ddr5phy_vddqclamp_ew}\u001b[0m\n",
      "\u001b[1m-I- releaseMacro dwc_ddr5phy_repeater_cells --> {- dwc_ddr5phy_pclk_rptx1}\u001b[0m\n",
      "\u001b[1m-I- releaseCtlMacro\u001b[0m\n",
      "\u001b[1m-I- ferel\u001b[0m\n",
      "\u001b[1m-I- metal_stack_cover\u001b[0m\n",
      "\u001b[1m-I- releaseTCMailDist\u001b[0m\n",
      "\u001b[1m-I- p4_release_root\u001b[0m\n",
      "\u001b[1m-I- process\u001b[0m\n",
      "\u001b[1;31m-E- 1\u001b[0m\n"
     ]
    }
   ],
   "source": [
    "%%tcl\n",
    "save_cleaned_yml_to_file $sample_path"
   ]
  },
  {
   "cell_type": "code",
   "execution_count": 10,
   "metadata": {
    "vscode": {
     "languageId": "shellscript"
    }
   },
   "outputs": [
    {
     "data": {
      "text/plain": [
       "'calibre_verifs releaseMacro{dwc_ddr5phy_utility_blocks} repeater_name releaseMacro{dwc_ddr5phy_repeater_cells} lef_diff_rel releaseDefMacro releasePhyvMacro releaseShimMacro releasePmMailDist supply_pins_override cdl_prune_cells supply_pins layers_override releaseBranch releaseMailDist release_gds_cdl metal_stack metal_stack_ip layers timing_libs layout_tag releaseTCMacro reference_date_time rel utility_name vcrel releaseMacro{dwc_ddr5phy_utility_cells} releaseCtlMacro ferel metal_stack_cover releaseTCMailDist p4_release_root process'"
      ]
     },
     "execution_count": 10,
     "metadata": {},
     "output_type": "execute_result"
    }
   ],
   "source": [
    "%%tcl\n",
    "set sv [get_variables_from_file $sample_path]"
   ]
  },
  {
   "cell_type": "code",
   "execution_count": 11,
   "metadata": {
    "vscode": {
     "languageId": "shellscript"
    }
   },
   "outputs": [
    {
     "name": "stderr",
     "output_type": "stream",
     "text": [
      "TclError: can't read \"__file\": no such variable"
     ]
    }
   ],
   "source": [
    "%%tcl\n",
    "source $__file\n",
    "set sv [get_variables_from_file $__file]\n",
    "foreach ssv $sv {\n",
    "    if [regexp {(\\S+)\\{(\\S+)\\}} $ssv full dictname keyname] {\n",
    "        puts $full\n",
    "        puts \"dictname = $dictname\"\n",
    "        puts \"keyname  = $keyname\"\n",
    "        array set $dictname $keyname [set $full]\n",
    "    }\n",
    "\n",
    "}\n",
    "\n",
    "\n",
    "\n"
   ]
  },
  {
   "cell_type": "markdown",
   "metadata": {},
   "source": []
  },
  {
   "cell_type": "code",
   "execution_count": 12,
   "metadata": {
    "vscode": {
     "languageId": "shellscript"
    }
   },
   "outputs": [],
   "source": [
    "%%tcl\n",
    "set SHELLTOOL_LOC \"$env(HOME)/GitLab/ddr-hbm-phy-automation-team\"\n",
    "set tcl2yml \"$SHELLTOOL_LOC/ddr-ckt-rel/dev/main/bin/ddr-da-tcl2yml.tcl\"\n",
    "set key_word \"legalRelease\"\n",
    "set suffix_format {.txt}\n",
    "set DIR_LOC \"$SHELLTOOL_LOC/ddr-ckt-rel/dev/main/tdata\"\n",
    "\n",
    "# %%\n",
    "# %%tcl\n",
    "proc get_legal_release_list {key_word suffix_format} {\n",
    "    return [exec find . -type f | grep $key_word | grep $suffix_format ]\n",
    "}\n",
    "\n",
    "# %% [markdown]\n",
    "# checking it worked\n",
    "\n",
    "\n",
    "# %%\n",
    "# %%tcl\n",
    "proc remove_suffix {path_list suffix} {\n",
    "    foreach path $path_list {\n",
    "        lappend output_list [string trimright $path $suffix]\n",
    "    }\n",
    "    return $output_list\n",
    "}\n",
    "\n",
    "# %%\n",
    "# %%tcl\n",
    "cd $DIR_LOC\n",
    "set clean_list [remove_suffix [get_legal_release_list $key_word $suffix_format] $suffix_format]\n",
    "\n",
    "# %% [markdown]\n",
    "# getting the path without suffix as it is needed,\n",
    "\n",
    "# %%\n",
    "# %%tcl\n",
    "\n",
    "proc Main {key_word suffix_format} {\n",
    "    global DIR_LOC\n",
    "    global tcl2yml\n",
    "    cd $DIR_LOC\n",
    "    set legalReleaseList [get_legal_release_list $key_word $suffix_format]\n",
    "    set count 0\n",
    "    set list_size [llength [split $legalReleaseList \"\\n\"]]\n",
    "    foreach legalReleaseFile $legalReleaseList {\n",
    "        set count [expr $count + 1]\n",
    "        iprint \"\\[$count\\/$list_size\\] Result--> $DIR_LOC/[remove_suffix $legalReleaseFile $suffix_format].yml\"\n",
    "        try {\n",
    "            save_cleaned_yml_to_file \"$DIR_LOC/$legalReleaseFile\" \"$DIR_LOC/[remove_suffix $legalReleaseFile $suffix_format].yml\"\n",
    "        } on error {results options} {\n",
    "             set exitval 2\n",
    "        }\n",
    "        \n",
    "    } \n",
    "}\n",
    "\n",
    "Main $key_word $suffix_format"
   ]
  },
  {
   "cell_type": "code",
   "execution_count": null,
   "metadata": {
    "vscode": {
     "languageId": "shellscript"
    }
   },
   "outputs": [],
   "source": []
  }
 ],
 "metadata": {
  "kernelspec": {
   "display_name": "Python 3.8.0 64-bit",
   "language": "python",
   "name": "python3"
  },
  "language_info": {
   "codemirror_mode": {
    "name": "ipython",
    "version": 3
   },
   "file_extension": ".py",
   "mimetype": "text/x-python",
   "name": "python",
   "nbconvert_exporter": "python",
   "pygments_lexer": "ipython3",
   "version": "3.8.0"
  },
  "vscode": {
   "interpreter": {
    "hash": "78ee8c2931daa98418262a3099bec66c014c1eca61453cb33883e29a97d9a0d2"
   }
  }
 },
 "nbformat": 4,
 "nbformat_minor": 2
}
