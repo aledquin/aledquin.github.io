{
 "cells": [
  {
   "cell_type": "markdown",
   "metadata": {
    "pycharm": {
     "name": "#%% md\n"
    }
   },
   "source": [
    "# Notes\n",
    "\n",
    "### Init tcl\n"
   ]
  },
  {
   "cell_type": "code",
   "execution_count": 5,
   "metadata": {
    "pycharm": {
     "name": "#%%\n"
    }
   },
   "outputs": [
    {
     "name": "stdout",
     "output_type": "stream",
     "text": [
      "The tclmagic extension is already loaded. To reload it, use:\n",
      "  %reload_ext tclmagic\n"
     ]
    }
   ],
   "source": [
    "%load_ext tclmagic\n",
    "\n",
    "#  If the prev line doesnt work  install it using the next line in your unix terminal\n",
    "#  /depot/Python/Python-3.8.0/bin/pip install -U tcl-magic\n",
    "#  You can configure it to  "
   ]
  },
  {
   "cell_type": "markdown",
   "metadata": {},
   "source": [
    "### Init our libraries and packages"
   ]
  },
  {
   "cell_type": "code",
   "execution_count": 6,
   "metadata": {
    "pycharm": {
     "name": "#%%\n"
    },
    "vscode": {
     "languageId": "bat"
    }
   },
   "outputs": [
    {
     "data": {
      "text/plain": [
       "'0.3.10'"
      ]
     },
     "execution_count": 6,
     "metadata": {},
     "output_type": "execute_result"
    }
   ],
   "source": [
    "%%tcl \n",
    "\n",
    "set SHELLTOOL_LOC \"/remote/cad-rep/msip/tools/Shelltools\"\n",
    "lappend auto_path \"$SHELLTOOL_LOC/ddr-utils-lay/dev/lib/tcl\"\n",
    "lappend auto_path \"/depot/tcl8.6.3/lib\"\n",
    "\n",
    "set RealBin [file dirname [file normalize [info script]] ]\n",
    "set RealScript [file tail [file normalize [info script]] ]\n",
    "set PROGRAM_NAME $RealScript\n",
    "set LOGFILE \"[pwd]/log-$PROGRAM_NAME.log\"\n",
    "\n",
    "package require Messaging 1.0\n",
    "namespace import ::Messaging::*\n",
    "package require Misc 1.0\n",
    "namespace import ::Misc::*\n",
    "\n",
    "package require cmdline\n",
    "package require try\n",
    "package require yaml"
   ]
  },
  {
   "cell_type": "markdown",
   "metadata": {},
   "source": [
    "## yaml"
   ]
  },
  {
   "cell_type": "code",
   "execution_count": null,
   "metadata": {},
   "outputs": [],
   "source": [
    "%%tcl\n",
    "\n",
    "yaml::setOptions -file\n",
    "set data [yaml::yaml2dict [file join .gitlab-ci.yml]]\n",
    "yaml::setOptions -stream\n",
    "dict get $data\n",
    "\n"
   ]
  },
  {
   "cell_type": "markdown",
   "metadata": {},
   "source": [
    "1353 --> "
   ]
  },
  {
   "cell_type": "code",
   "execution_count": 83,
   "metadata": {},
   "outputs": [
    {
     "data": {
      "text/plain": [
       "'/slowfs/dcopt103/alvaro/GitLab/my-personal-projects/Notes/../experiments/ddr-ckt-rel/inputs/sample.tcl'"
      ]
     },
     "execution_count": 83,
     "metadata": {},
     "output_type": "execute_result"
    }
   ],
   "source": [
    "%%tcl\n",
    "\n",
    "set sample_path \"[pwd]/../experiments/ddr-ckt-rel/inputs/sample.tcl\""
   ]
  },
  {
   "cell_type": "code",
   "execution_count": 84,
   "metadata": {},
   "outputs": [
    {
     "name": "stdout",
     "output_type": "stream",
     "text": [
      "\u001b[1m-I- calibre_verifs releaseMacro{dwc_ddr5phy_utility_blocks} repeater_name releaseMacro{dwc_ddr5phy_repeater_cells} lef_diff_rel releaseDefMacro releasePhyvMacro releaseShimMacro releasePmMailDist supply_pins_override cdl_prune_cells supply_pins layers_override releaseBranch releaseMailDist release_gds_cdl metal_stack metal_stack_ip layers timing_libs layout_tag releaseTCMacro reference_date_time rel utility_name vcrel releaseMacro{dwc_ddr5phy_utility_cells} releaseCtlMacro ferel metal_stack_cover releaseTCMailDist p4_release_root process\u001b[0m\n",
      "calibre_verifs\n",
      "releaseMacro{dwc_ddr5phy_utility_blocks}\n",
      "repeater_name\n",
      "releaseMacro{dwc_ddr5phy_repeater_cells}\n",
      "lef_diff_rel\n",
      "releaseDefMacro\n",
      "releasePhyvMacro\n",
      "releaseShimMacro\n",
      "releasePmMailDist\n",
      "supply_pins_override\n",
      "supply_pins_override(dwc_ddr5phy_lcdl)               = M4\n",
      "supply_pins_override(dwc_ddr5phy_por_ew)             = M6 M10\n",
      "supply_pins_override(dwc_ddr5phy_tcoil_ew)           = M14 M15 M16 MTOP MTOP-1\n",
      "supply_pins_override(dwc_ddr5phy_techrevision)       = M5\n",
      "supply_pins_override(dwc_ddr5phy_txrxac_ew)          = M10 M12\n",
      "supply_pins_override(dwc_ddr5phy_txrxdq_ew)          = M10 M12\n",
      "supply_pins_override(dwc_ddr5phy_txrxdqs_ew)         = M10 M12\n",
      "supply_pins_override(dwc_ddr5phy_utility_blocks)     = M10 M14 M15 M16 MTOP MTOP-1 AP\n",
      "supply_pins_override(dwc_ddr5phy_zcalio_ew)          = M10 M12\n",
      "supply_pins_override(dwc_ddr5phycover_acx2_top_ew)   = M10 M14 M15 M16 MTOP MTOP-1\n",
      "supply_pins_override(dwc_ddr5phycover_ckx2_top_ew)   = M10 M14 M15 M16 MTOP MTOP-1\n",
      "supply_pins_override(dwc_ddr5phycover_cmosx2_top_ew) = M10 M14 M15 M16 MTOP MTOP-1\n",
      "supply_pins_override(dwc_ddr5phycover_dx4_top_ew)    = M10 M14 M15 M16 MTOP MTOP-1\n",
      "supply_pins_override(dwc_ddr5phycover_master_top_ew) = M10 M14 M15 M16 MTOP MTOP-1\n",
      "supply_pins_override(dwc_ddr5phycover_zcal_top_ew)   = M10 M14 M15 M16 MTOP MTOP-1\n",
      "supply_pins_override(dwc_ddr5phydx4_tcoil_ap2c4d_ew) = M10 M14 M15 M16 MTOP MTOP-1 AP\n"
     ]
    },
    {
     "name": "stderr",
     "output_type": "stream",
     "text": [
      "TclError: can't array set \"varvalue\": variable isn't array"
     ]
    }
   ],
   "source": [
    "%%tcl\n",
    "\n",
    "set legal_release [read_variables_from_file $sample_path]\n"
   ]
  },
  {
   "cell_type": "markdown",
   "metadata": {},
   "source": [
    "We just check and we got that the variables value as recognized as arrays."
   ]
  },
  {
   "cell_type": "code",
   "execution_count": 124,
   "metadata": {},
   "outputs": [],
   "source": [
    "%%tcl\n",
    "\n",
    "proc create_dict_from_file {__file} {\n",
    "\n",
    "    source $__file\n",
    "    unset __file\n",
    "\n",
    "    set varlist [lsort [info vars]]\n",
    "\n",
    "    foreach varname $varlist {\n",
    "        iprint $varname\n",
    "        if {[array exists $varname]} {\n",
    "            array set varvalue [array get $varname]\n",
    "            [array get $varname]\n",
    "        } else {\n",
    "            set varvalue [set $varname]\n",
    "            dict set legal_release $varname $varvalue\n",
    "        }\n",
    "        unset varvalue\n",
    "    }\n",
    "    return $legal_release\n",
    "}\n"
   ]
  },
  {
   "cell_type": "code",
   "execution_count": 125,
   "metadata": {},
   "outputs": [
    {
     "name": "stdout",
     "output_type": "stream",
     "text": [
      "\u001b[1m-I- calibre_verifs\u001b[0m\n",
      "\u001b[1m-I- cdl_prune_cells\u001b[0m\n",
      "\u001b[1m-I- ferel\u001b[0m\n",
      "\u001b[1m-I- layers\u001b[0m\n",
      "\u001b[1m-I- layers_override\u001b[0m\n"
     ]
    },
    {
     "name": "stderr",
     "output_type": "stream",
     "text": [
      "TclError: invalid command name \"dwc_ddr5phycover_dx4_top_ew {M10 M11 M12 M13 M14 M15 M16 MTOP MTOP-1} dwc_ddr5phycover_cmosx2_top_ew {M10 M11 M12 M13 M14 M15 M16 MTOP MTOP-1} dwc_ddr5phycover_ckx2_top_ew {M10 M11 M12 M13 M14 M15 M16 MTOP MTOP-1} dwc_ddr5phycover_master_top {M10 M11 M12 M13 M14 M15 M16 MTOP MTOP-1} dwc_ddr5phy_utility_blocks {M0 M1 M2 M3 M4 M5 M6 M7 M8 M9 M10 M11 M12 M13 M14 M15 M16 MTOP MTOP-1 AP} dwc_ddr5phy_tcoil_ew {M14 M15 M16 MTOP MTOP-1} dwc_ddr5phycover_zcal_top_ew {M10 M11 M12 M13 M14 M15 M16 MTOP MTOP-1} dwc_ddr5phycover_acx2_top_ew {M10 M11 M12 M13 M14 M15 M16 MTOP MTOP-1} dwc_ddr5phydx4_tcoil_ap2c4d_ew {M0 M1 M2 M3 M4 M5 M6 M7 M8 M9 M10 M11 M12 M13 M14 M15 M16 MTOP MTOP-1 AP}\""
     ]
    }
   ],
   "source": [
    "%%tcl\n",
    "proc Main {sample_path} {\n",
    "    set legal_release [create_dict_from_file $sample_path]\n",
    "    write_file yaml_test.yaml [yaml::dict2yaml $legal_release 4]\n",
    "}\n",
    "Main $sample_path"
   ]
  },
  {
   "cell_type": "code",
   "execution_count": 104,
   "metadata": {},
   "outputs": [
    {
     "name": "stderr",
     "output_type": "stream",
     "text": [
      "TclError: can't find package tclyaml 0.5"
     ]
    }
   ],
   "source": [
    "%%tcl\n",
    "\n",
    "\n"
   ]
  },
  {
   "cell_type": "markdown",
   "metadata": {},
   "source": []
  },
  {
   "cell_type": "code",
   "execution_count": null,
   "metadata": {},
   "outputs": [],
   "source": []
  }
 ],
 "metadata": {
  "kernelspec": {
   "display_name": "Python 3 (ipykernel)",
   "language": "python",
   "name": "python3"
  },
  "language_info": {
   "codemirror_mode": {
    "name": "ipython",
    "version": 3
   },
   "file_extension": ".py",
   "mimetype": "text/x-python",
   "name": "python",
   "nbconvert_exporter": "python",
   "pygments_lexer": "ipython3",
   "version": "3.8.0"
  },
  "vscode": {
   "interpreter": {
    "hash": "758228ae4236649af9509c5c8859545204428c6c7a2c9288794dec8c60a3bcc3"
   }
  }
 },
 "nbformat": 4,
 "nbformat_minor": 2
}
