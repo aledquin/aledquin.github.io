{
 "cells": [
  {
   "cell_type": "code",
   "execution_count": 1,
   "metadata": {
    "pycharm": {
     "name": "#%%\n"
    }
   },
   "outputs": [
    {
     "data": {
      "application/javascript": "\n            requirejs.config({\n                paths: {\n                    codemirror: \"https://cdn.rawgit.com/marijnh/CodeMirror/master\"\n                }\n            });\n            requirejs([\"codemirror/mode/tcl/tcl\"], function(codemirror) {\n                IPython.CodeCell.options_default.highlight_modes['magic_text/x-tcl'] = {'reg':[/^%%tcl/]};\n                IPython.notebook.events.one('kernel_ready.Kernel', function() {\n                    IPython.notebook.get_cells().map(function(cell) {\n                        if (cell.cell_type == 'code') {\n                            cell.auto_highlight();\n                        }\n                    });\n                });\n            });\n        "
     },
     "metadata": {},
     "output_type": "display_data"
    }
   ],
   "source": [
    "%load_ext tclmagic\n",
    "\n",
    "#  If the prev line doesnt work  install it using the next line in your unix terminal\n",
    "#  /depot/Python/Python-3.8.0/bin/pip install -U tcl-magic\n",
    "#  /depot/Python/Python-3.8.0/bin/pip install -U notebook\n",
    "#  You can configure it to ~/.local/ "
   ]
  },
  {
   "cell_type": "code",
   "execution_count": 2,
   "metadata": {
    "pycharm": {
     "name": "#%%\n"
    },
    "vscode": {
     "languageId": "bat"
    }
   },
   "outputs": [
    {
     "data": {
      "text/plain": [
       "'0.3.10'"
      ]
     },
     "execution_count": 2,
     "metadata": {},
     "output_type": "execute_result"
    }
   ],
   "source": [
    "%%tcl \n",
    "\n",
    "set SHELLTOOL_LOC \"/remote/cad-rep/msip/tools/Shelltools\"\n",
    "lappend auto_path \"$SHELLTOOL_LOC/ddr-utils-lay/dev/lib/tcl\"\n",
    "lappend auto_path \"/depot/tcl8.6.3/lib\"\n",
    "\n",
    "set RealBin [file dirname [file normalize [info script]] ]\n",
    "set RealScript [file tail [file normalize [info script]] ]\n",
    "set PROGRAM_NAME $RealScript\n",
    "set LOGFILE \"[pwd]/log-$PROGRAM_NAME.log\"\n",
    "\n",
    "package require Messaging 1.0\n",
    "namespace import ::Messaging::*\n",
    "package require Misc 1.0\n",
    "namespace import ::Misc::*\n",
    "\n",
    "package require cmdline\n",
    "package require try\n",
    "package require yaml"
   ]
  },
  {
   "cell_type": "markdown",
   "metadata": {},
   "source": [
    "# 1338 --> yml2tcl\n",
    "\n",
    "The next experiments are related to make a reader of yml for TCL"
   ]
  },
  {
   "cell_type": "code",
   "execution_count": 3,
   "metadata": {},
   "outputs": [
    {
     "data": {
      "text/plain": [
       "1"
      ]
     },
     "execution_count": 3,
     "metadata": {},
     "output_type": "execute_result"
    }
   ],
   "source": [
    "%%tcl\n",
    "file exists sample.yml"
   ]
  },
  {
   "cell_type": "code",
   "execution_count": 4,
   "metadata": {},
   "outputs": [
    {
     "data": {
      "text/plain": [
       "'calibre_verifs 1 cdl_prune_cells {cvcp* cvpp* vflag* vsync} ferel fe_weekly layers {M0 M1 M2 M3 M4 M5 M6 M7 M8 M9 M10 OVERLAP} layers_override {dwc_ddr5phycover_dx4_top_ew {M10 M11 M12 M13 M14 M15 M16 MTOP MTOP-1} dwc_ddr5phycover_cmosx2_top_ew {M10 M11 M12 M13 M14 M15 M16 MTOP MTOP-1} dwc_ddr5phycover_ckx2_top_ew {M10 M11 M12 M13 M14 M15 M16 MTOP MTOP-1} dwc_ddr5phycover_master_top {M10 M11 M12 M13 M14 M15 M16 MTOP MTOP-1} dwc_ddr5phy_utility_blocks {M0 M1 M2 M3 M4 M5 M6 M7 M8 M9 M10 M11 M12 M13 M14 M15 M16 MTOP MTOP-1 AP} dwc_ddr5phy_tcoil_ew {M14 M15 M16 MTOP MTOP-1} dwc_ddr5phycover_zcal_top_ew {M10 M11 M12 M13 M14 M15 M16 MTOP MTOP-1} dwc_ddr5phycover_acx2_top_ew {M10 M11 M12 M13 M14 M15 M16 MTOP MTOP-1} dwc_ddr5phydx4_tcoil_ap2c4d_ew {M0 M1 M2 M3 M4 M5 M6 M7 M8 M9 M10 M11 M12 M13 M14 M15 M16 MTOP MTOP-1 AP}} layout_tag {D910 Final Release} lef_diff_rel 1.00a_pre3 metal_stack 15M_1X_h_1Xb_v_1Xe_h_1Ya_v_1Yb_h_5Y_vhvhv_2Yy2Z metal_stack_cover 15M_1X_h_1Xb_v_1Xe_h_1Ya_v_1Yb_h_5Y_vhvhv_2Yy2Z metal_stack_ip 10M_1X_h_1Xb_v_1Xe_h_1Ya_v_1Yb_h_4Y_vhvh p4_release_root {products/lpddr5x_ddr5_phy/ddr5/project/d910-ddr5-tsmc5ff-12 products/lpddr5x_ddr5_phy/lp5x/project/d930-lpddr5x-tsmc5ff12} process tsmc5ff-12 reference_date_time {21 days ago} rel 1.00a releaseBranch rel1.00_cktpcs_1.00a_rel_ releaseCtlMacro {dwc_ddr5phy_lcdl dwc_ddr5phy_lstx_acx2_ew dwc_ddr5phy_lstx_dx4_ew dwc_ddr5phy_lstx_zcal_ew dwc_ddr5phy_pclk_master} releaseDefMacro {pro_hard_macro/dwc_ddr5phymaster_ew_inst pro_hard_macro/dwc_ddr5phyzcal_ew_inst pro_hard_macro/dwc_ddr5phydx4_ew_inst pro_hard_macro/dwc_ddr5phyacx2_ew_inst pro_hard_macro/dwc_ddr5phyckx2_ew_inst} releaseMacrodwc_ddr5phy_repeater_cells dwc_ddr5phy_pclk_rptx1 releaseMacrodwc_ddr5phy_utility_blocks {dwc_ddr5phy_pclk_routing_ac_ew dwc_ddr5phy_pclk_routing_dx_ew dwc_ddr5phy_pclk_routing_decap_ew dwc_ddr5phy_decapvddq_ac_ew dwc_ddr5phy_decapvddq_master_ew} releaseMacrodwc_ddr5phy_utility_cells {dwc_ddr5phy_decapvddq_ew dwc_ddr5phy_decapvddq_ns dwc_ddr5phy_decapvddq_ld_ew dwc_ddr5phy_decapvddq_ld_ns dwc_ddr5phy_vddqclamp_ew} releaseMailDist ddr_di@synopsys.com,sg-ddr-ckt-release@synopsys.com,vthareja,hdavid,aparik,elgaid,mennatul,eltokhi,guttman,jfisher,vilas,baanu,rinshar,annmary,rarunac,dpatil,deepakgs,chetana,pmorris releasePhyvMacro {dwc_ddr5phy_vaaclamp_ew dwc_ddr5phy_vddqclamp_ew dwc_ddr5phy_decapvaa_tile dwc_ddr5phy_decapvddhd_ew dwc_ddr5phy_decapvddhd_3p5x_ew} releasePmMailDist vthareja,hdavid,guttman,jfisher,vilas,sheraida,plagiann,davies,baanu,rarunac,dpatil releaseShimMacro dwc_ddr5phycmosx2_top_ew_shim releaseTCMacro {dwc_lpddr5xphy_hbm_ew dwc_ddr5phy_decapvddhd_3p5x_ew dwc_ddr5phydx4_tcoil_ap2c4d_ew dwc_ddr5phy_decapvddq_mon_ew dwc_ddr5phy_decapvddhd_mon_ew} releaseTCMailDist vthareja,hdavid,guttman,jfisher,vilas,sheraida,plagiann,davies,finn release_gds_cdl HIPRE repeater_name dwc_ddr5phy_repeater_cells supply_pins M10 supply_pins_override {dwc_ddr5phy_por_ew {M6 M10} dwc_ddr5phycover_dx4_top_ew {M10 M14 M15 M16 MTOP MTOP-1} dwc_ddr5phy_zcalio_ew {M10 M12} dwc_ddr5phy_txrxac_ew {M10 M12} dwc_ddr5phy_tcoil_ew {M14 M15 M16 MTOP MTOP-1} dwc_ddr5phy_txrxdq_ew {M10 M12} dwc_ddr5phycover_cmosx2_top_ew {M10 M14 M15 M16 MTOP MTOP-1} dwc_ddr5phy_txrxdqs_ew {M10 M12} dwc_ddr5phy_techrevision {{M5 dwc_ddr5phycover_ckx2_top_ew} {M10 M14 M15 M16 MTOP MTOP-1}} dwc_ddr5phycover_zcal_top_ew {M10 M14 M15 M16 MTOP MTOP-1} dwc_ddr5phy_lcdl {{M4 dwc_ddr5phycover_master_top_ew} {M10 M14 M15 M16 MTOP MTOP-1}} dwc_ddr5phy_utility_blocks {M10 M14 M15 M16 MTOP MTOP-1 AP} dwc_ddr5phycover_acx2_top_ew {M10 M14 M15 M16 MTOP MTOP-1} dwc_ddr5phydx4_tcoil_ap2c4d_ew {M10 M14 M15 M16 MTOP MTOP-1 AP}} timing_libs lvf utility_name {dwc_ddr5phy_utility_cells dwc_ddr5phy_utility_blocks} varlist {calibre_verifs cdl_prune_cells ferel layers layers_override layout_tag lef_diff_rel metal_stack metal_stack_cover metal_stack_ip p4_release_root process} vcrel 1.00a'"
      ]
     },
     "execution_count": 4,
     "metadata": {},
     "output_type": "execute_result"
    }
   ],
   "source": [
    "%%tcl\n",
    "\n",
    "yaml::yaml2dict -file sample.yml"
   ]
  },
  {
   "cell_type": "code",
   "execution_count": 5,
   "metadata": {},
   "outputs": [
    {
     "data": {
      "text/plain": [
       "'/u/alvaro/GitLab/my-personal-projects/experiments/tclyaml_experiment/inputs/sample.tcl'"
      ]
     },
     "execution_count": 5,
     "metadata": {},
     "output_type": "execute_result"
    }
   ],
   "source": [
    "%%tcl\n",
    "\n",
    "set sample_path \"/u/alvaro/GitLab/my-personal-projects/experiments/tclyaml_experiment/inputs/sample.tcl\""
   ]
  },
  {
   "cell_type": "code",
   "execution_count": 10,
   "metadata": {},
   "outputs": [],
   "source": [
    "%%tcl\n",
    "proc create_dict_from_file {__file} {\n",
    "\n",
    "    source $__file\n",
    "    unset __file\n",
    "\n",
    "    set varlist [lsort [info vars]]\n",
    "\n",
    "    foreach varname $varlist {\n",
    "        if {[array exists $varname]} {\n",
    "            foreach {ark arv} [array get $varname] {\n",
    "                # iprint \"$varname $ark --> $arv\"\n",
    "                dict set legal_release $varname \"$ark: \" \"\\{$arv\\}\"\n",
    "            }\n",
    "        } else {\n",
    "            set varvalue [set $varname]\n",
    "            dict set legal_release $varname $varvalue\n",
    "            unset varvalue\n",
    "        }\n",
    "        \n",
    "        \n",
    "    }\n",
    "    return $legal_release\n",
    "}"
   ]
  },
  {
   "cell_type": "code",
   "execution_count": 17,
   "metadata": {},
   "outputs": [],
   "source": [
    "%%tcl\n",
    "proc Main {sample_path {file_name \"yaml-log.yml\"}} {\n",
    "    set legal_release [create_dict_from_file $sample_path]\n",
    "    set yaml_format [yaml::dict2yaml $legal_release 4 40]\n",
    "    nprint [regsub -all {\\: \\} \\{} $yaml_format \": \"]\n",
    "    write_file $file_name [regsub -all {\\|-|>| \\{|\\} } [regsub -all {\\} | \\{} $yaml_format \"\\}\\n    \"] \"\"] \n",
    "}\n",
    "\n",
    "proc dict2yml {legalRelease_file} {\n",
    "    return  [yaml::dict2yaml $legal_release 4 80]\n",
    "}\n",
    "\n",
    "proc ymlfile2dict {ymlFile} {\n",
    "    return [yaml::yaml2dict -file $ymlFile]\n",
    "}\n",
    "\n",
    "proc clean_yml {ymlResult} {\n",
    "\n",
    "}"
   ]
  },
  {
   "cell_type": "code",
   "execution_count": 68,
   "metadata": {},
   "outputs": [],
   "source": [
    "%%tcl\n",
    "proc Main {sample_path {file_name \"yaml-log.yml\"}} {\n",
    "    set legal_release [create_dict_from_file $sample_path]\n",
    "    set yaml_format [yaml::dict2yaml $legal_release 4 100]\n",
    "\n",
    "    set joining_values [regsub -all {\\: \\} \\{} $yaml_format \": \"]\n",
    "    set cleaning_values [regsub -all {\\} \\{|\\|-\\n    \\{|>\\n    } $joining_values \"\\n    \" ]\n",
    "    \n",
    "    set cleaned_values [regsub -all {\\: \\{} $cleaning_values \": \" ]\n",
    "    write_file $file_name [regsub -all {\\}\\n} [regsub -all {\\}\\n} $cleaned_values \"\\n\" ] \"\\n\" ]\n",
    "}\n",
    "\n",
    "proc dict2yml {legalRelease_file} {\n",
    "    return  [yaml::dict2yaml $legal_release 4 40]\n",
    "}\n",
    "\n",
    "proc ymlfile2dict {ymlFile} {\n",
    "    return [yaml::yaml2dict -file $ymlFile]\n",
    "}\n",
    "\n",
    "proc clean_yml {ymlResult} {\n",
    "\n",
    "}"
   ]
  },
  {
   "cell_type": "code",
   "execution_count": 58,
   "metadata": {},
   "outputs": [],
   "source": [
    "%%tcl\n",
    "proc Main {sample_path {file_name \"yaml-raw.yml\"}} {\n",
    "    set legal_release [create_dict_from_file $sample_path]\n",
    "    set yaml_format [yaml::dict2yaml $legal_release 4 80]\n",
    "    write_file $file_name [$yaml_format]\n",
    "}\n",
    "\n",
    "proc dict2yml {legalRelease_file} {\n",
    "    return  [yaml::dict2yaml $legal_release 4 40]\n",
    "}\n",
    "\n",
    "proc ymlfile2dict {ymlFile} {\n",
    "    return [yaml::yaml2dict -file $ymlFile]\n",
    "}\n",
    "\n",
    "proc clean_yml {ymlResult} {\n",
    "\n",
    "}"
   ]
  },
  {
   "cell_type": "code",
   "execution_count": 65,
   "metadata": {},
   "outputs": [],
   "source": [
    "%%tcl\n",
    "Main $sample_path"
   ]
  },
  {
   "cell_type": "code",
   "execution_count": 57,
   "metadata": {},
   "outputs": [
    {
     "name": "stdout",
     "output_type": "stream",
     "text": [
      "\u001b[1mcalibre_verifs --> 1\u001b[0m\n",
      "\u001b[1mcdl_prune_cells --> cvcp* cvpp* vflag* vsync\u001b[0m\n",
      "\u001b[1mferel --> fe_weekly\u001b[0m\n",
      "\u001b[1mlayers --> M0 M1 M2 M3 M4 M5 M6 M7 M8 M9 M10 OVERLAP\u001b[0m\n",
      "\u001b[1mlayers_override --> dwc_ddr5phycover_dx4_top_ew {M10 M11 M12 M13 M14 M15 M16 MTOP MTOP-1} dwc_ddr5phycover_cmosx2_top_ew {M10 M11 M12 M13 M14 M15 M16 MTOP MTOP-1} dwc_ddr5phycover_ckx2_top_ew {M10 M11 M12 M13 M14 M15 M16 MTOP MTOP-1} dwc_ddr5phycover_master_top {M10 M11 M12 M13 M14 M15 M16 MTOP MTOP-1} dwc_ddr5phy_utility_blocks {M0 M1 M2 M3 M4 M5 M6 M7 M8 M9 M10 M11 M12 M13 M14 M15 M16 MTOP MTOP-1 AP} dwc_ddr5phy_tcoil_ew {M14 M15 M16 MTOP MTOP-1} dwc_ddr5phycover_zcal_top_ew {M10 M11 M12 M13 M14 M15 M16 MTOP MTOP-1} dwc_ddr5phycover_acx2_top_ew {M10 M11 M12 M13 M14 M15 M16 MTOP MTOP-1} dwc_ddr5phydx4_tcoil_ap2c4d_ew {M0 M1 M2 M3 M4 M5 M6 M7 M8 M9 M10 M11 M12 M13 M14 M15 M16 MTOP MTOP-1 AP}\u001b[0m\n",
      "layers_override(dwc_ddr5phy_tcoil_ew)           = M14 M15 M16 MTOP MTOP-1\n",
      "layers_override(dwc_ddr5phy_utility_blocks)     = M0 M1 M2 M3 M4 M5 M6 M7 M8 M9 M10 M11 M12 M13 M14 M15 M16 MTOP MTOP-1 AP\n",
      "layers_override(dwc_ddr5phycover_acx2_top_ew)   = M10 M11 M12 M13 M14 M15 M16 MTOP MTOP-1\n",
      "layers_override(dwc_ddr5phycover_ckx2_top_ew)   = M10 M11 M12 M13 M14 M15 M16 MTOP MTOP-1\n",
      "layers_override(dwc_ddr5phycover_cmosx2_top_ew) = M10 M11 M12 M13 M14 M15 M16 MTOP MTOP-1\n",
      "layers_override(dwc_ddr5phycover_dx4_top_ew)    = M10 M11 M12 M13 M14 M15 M16 MTOP MTOP-1\n",
      "layers_override(dwc_ddr5phycover_master_top)    = M10 M11 M12 M13 M14 M15 M16 MTOP MTOP-1\n",
      "layers_override(dwc_ddr5phycover_zcal_top_ew)   = M10 M11 M12 M13 M14 M15 M16 MTOP MTOP-1\n",
      "layers_override(dwc_ddr5phydx4_tcoil_ap2c4d_ew) = M0 M1 M2 M3 M4 M5 M6 M7 M8 M9 M10 M11 M12 M13 M14 M15 M16 MTOP MTOP-1 AP\n",
      "\u001b[1mlayout_tag --> D910 Final Release\u001b[0m\n",
      "\u001b[1mlef_diff_rel --> 1.00a_pre3\u001b[0m\n",
      "\u001b[1mmetal_stack --> 15M_1X_h_1Xb_v_1Xe_h_1Ya_v_1Yb_h_5Y_vhvhv_2Yy2Z\u001b[0m\n",
      "\u001b[1mmetal_stack_cover --> 15M_1X_h_1Xb_v_1Xe_h_1Ya_v_1Yb_h_5Y_vhvhv_2Yy2Z\u001b[0m\n",
      "\u001b[1mmetal_stack_ip --> 10M_1X_h_1Xb_v_1Xe_h_1Ya_v_1Yb_h_4Y_vhvh\u001b[0m\n",
      "\u001b[1mp4_release_root --> products/lpddr5x_ddr5_phy/ddr5/project/d910-ddr5-tsmc5ff-12 products/lpddr5x_ddr5_phy/lp5x/project/d930-lpddr5x-tsmc5ff12\u001b[0m\n",
      "\u001b[1mprocess --> tsmc5ff-12\u001b[0m\n",
      "\u001b[1mreference_date_time --> 21 days ago\u001b[0m\n",
      "\u001b[1mrel --> 1.00a\u001b[0m\n",
      "\u001b[1mreleaseBranch --> rel1.00_cktpcs_1.00a_rel_\u001b[0m\n",
      "\u001b[1mreleaseCtlMacro --> dwc_ddr5phy_lcdl dwc_ddr5phy_lstx_acx2_ew dwc_ddr5phy_lstx_dx4_ew dwc_ddr5phy_lstx_zcal_ew dwc_ddr5phy_pclk_master dwc_ddr5phy_pclk_rxdca dwc_ddr5phy_rxreplica_ew dwc_ddr5phy_txrxac_ew dwc_ddr5phy_txrxdq_ew dwc_ddr5phy_txrxdqs_ew dwc_ddr5phy_vregdac_ew\u001b[0m\n",
      "\u001b[1mreleaseDefMacro --> pro_hard_macro/dwc_ddr5phymaster_ew_inst pro_hard_macro/dwc_ddr5phyzcal_ew_inst pro_hard_macro/dwc_ddr5phydx4_ew_inst pro_hard_macro/dwc_ddr5phyacx2_ew_inst pro_hard_macro/dwc_ddr5phyckx2_ew_inst pro_hard_macro/dwc_ddr5phycmosx2_ew_inst pro_hard_macro/dwc_ddr5phydqx1_ew_inst pro_hard_macro/dwc_ddr5phydqsx1_ew_inst\u001b[0m\n",
      "\u001b[1mreleaseMacro{dwc_ddr5phy_repeater_cells} --> dwc_ddr5phy_pclk_rptx1\u001b[0m\n",
      "\u001b[1mreleaseMacro{dwc_ddr5phy_utility_blocks} --> dwc_ddr5phy_pclk_routing_ac_ew dwc_ddr5phy_pclk_routing_dx_ew dwc_ddr5phy_pclk_routing_decap_ew dwc_ddr5phy_decapvddq_ac_ew dwc_ddr5phy_decapvddq_master_ew dwc_ddr5phy_decapvddq_dx4_ew dwc_ddr5phy_decapvddq_zcal_ew dwc_ddr5phy_decapvddq_ld_ac_ew dwc_ddr5phy_decapvddq_ld_master_ew dwc_ddr5phy_decapvddq_ld_dx4_ew\u001b[0m\n",
      "\u001b[1mreleaseMacro{dwc_ddr5phy_utility_cells} --> dwc_ddr5phy_decapvddq_ew dwc_ddr5phy_decapvddq_ns dwc_ddr5phy_decapvddq_ld_ew dwc_ddr5phy_decapvddq_ld_ns dwc_ddr5phy_vddqclamp_ew\u001b[0m\n",
      "\u001b[1mreleaseMailDist --> ddr_di@synopsys.com,sg-ddr-ckt-release@synopsys.com,vthareja,hdavid,aparik,elgaid,mennatul,eltokhi,guttman,jfisher,vilas,baanu,rinshar,annmary,rarunac,dpatil,deepakgs,chetana,pmorris\u001b[0m\n",
      "\u001b[1mreleasePhyvMacro --> dwc_ddr5phy_vaaclamp_ew dwc_ddr5phy_vddqclamp_ew dwc_ddr5phy_decapvaa_tile dwc_ddr5phy_decapvddhd_ew dwc_ddr5phy_decapvddhd_3p5x_ew dwc_ddr5phy_decapvddhd_mon_ew dwc_ddr5phy_decapvddq_mon_ew\u001b[0m\n",
      "\u001b[1mreleasePmMailDist --> vthareja,hdavid,guttman,jfisher,vilas,sheraida,plagiann,davies,baanu,rarunac,dpatil\u001b[0m\n",
      "\u001b[1mreleaseShimMacro --> dwc_ddr5phycmosx2_top_ew_shim\u001b[0m\n",
      "\u001b[1mreleaseTCMacro --> dwc_lpddr5xphy_hbm_ew dwc_ddr5phy_decapvddhd_3p5x_ew dwc_ddr5phydx4_tcoil_ap2c4d_ew dwc_ddr5phy_decapvddq_mon_ew dwc_ddr5phy_decapvddhd_mon_ew dwc_ddr5phy_decapvddhd_ew dwc_lpddr5xphy_rxdqs_tc_ew dwc_lpddr5xphy_txrxcs_tc_ew dwc_lpddr5xphy_hbm_ew dwc_lpddr5xphy_vddqclamp_x2_ew\u001b[0m\n",
      "\u001b[1mreleaseTCMailDist --> vthareja,hdavid,guttman,jfisher,vilas,sheraida,plagiann,davies,finn\u001b[0m\n",
      "\u001b[1mrelease_gds_cdl --> HIPRE\u001b[0m\n",
      "\u001b[1mrepeater_name --> dwc_ddr5phy_repeater_cells\u001b[0m\n",
      "\u001b[1msupply_pins --> M10\u001b[0m\n",
      "\u001b[1msupply_pins_override --> dwc_ddr5phy_por_ew {M6 M10} dwc_ddr5phycover_dx4_top_ew {M10 M14 M15 M16 MTOP MTOP-1} dwc_ddr5phy_zcalio_ew {M10 M12} dwc_ddr5phy_txrxac_ew {M10 M12} dwc_ddr5phy_tcoil_ew {M14 M15 M16 MTOP MTOP-1} dwc_ddr5phy_txrxdq_ew {M10 M12} dwc_ddr5phycover_cmosx2_top_ew {M10 M14 M15 M16 MTOP MTOP-1} dwc_ddr5phy_txrxdqs_ew {M10 M12} dwc_ddr5phy_techrevision M5 dwc_ddr5phycover_ckx2_top_ew {M10 M14 M15 M16 MTOP MTOP-1} dwc_ddr5phycover_zcal_top_ew {M10 M14 M15 M16 MTOP MTOP-1} dwc_ddr5phy_lcdl M4 dwc_ddr5phycover_master_top_ew {M10 M14 M15 M16 MTOP MTOP-1} dwc_ddr5phy_utility_blocks {M10 M14 M15 M16 MTOP MTOP-1 AP} dwc_ddr5phycover_acx2_top_ew {M10 M14 M15 M16 MTOP MTOP-1} dwc_ddr5phydx4_tcoil_ap2c4d_ew {M10 M14 M15 M16 MTOP MTOP-1 AP}\u001b[0m\n",
      "supply_pins_override(dwc_ddr5phy_lcdl)               = M4\n",
      "supply_pins_override(dwc_ddr5phy_por_ew)             = M6 M10\n",
      "supply_pins_override(dwc_ddr5phy_tcoil_ew)           = M14 M15 M16 MTOP MTOP-1\n",
      "supply_pins_override(dwc_ddr5phy_techrevision)       = M5\n",
      "supply_pins_override(dwc_ddr5phy_txrxac_ew)          = M10 M12\n",
      "supply_pins_override(dwc_ddr5phy_txrxdq_ew)          = M10 M12\n",
      "supply_pins_override(dwc_ddr5phy_txrxdqs_ew)         = M10 M12\n",
      "supply_pins_override(dwc_ddr5phy_utility_blocks)     = M10 M14 M15 M16 MTOP MTOP-1 AP\n",
      "supply_pins_override(dwc_ddr5phy_zcalio_ew)          = M10 M12\n",
      "supply_pins_override(dwc_ddr5phycover_acx2_top_ew)   = M10 M14 M15 M16 MTOP MTOP-1\n",
      "supply_pins_override(dwc_ddr5phycover_ckx2_top_ew)   = M10 M14 M15 M16 MTOP MTOP-1\n",
      "supply_pins_override(dwc_ddr5phycover_cmosx2_top_ew) = M10 M14 M15 M16 MTOP MTOP-1\n",
      "supply_pins_override(dwc_ddr5phycover_dx4_top_ew)    = M10 M14 M15 M16 MTOP MTOP-1\n",
      "supply_pins_override(dwc_ddr5phycover_master_top_ew) = M10 M14 M15 M16 MTOP MTOP-1\n",
      "supply_pins_override(dwc_ddr5phycover_zcal_top_ew)   = M10 M14 M15 M16 MTOP MTOP-1\n",
      "supply_pins_override(dwc_ddr5phydx4_tcoil_ap2c4d_ew) = M10 M14 M15 M16 MTOP MTOP-1 AP\n",
      "\u001b[1mtiming_libs --> lvf\u001b[0m\n",
      "\u001b[1mutility_name --> dwc_ddr5phy_utility_cells dwc_ddr5phy_utility_blocks\u001b[0m\n",
      "\u001b[1mvcrel --> 1.00a\u001b[0m\n"
     ]
    }
   ],
   "source": [
    "%%tcl\n",
    "set array_words \"\\(layers_override\\|supply_pins_override\\)\"\n",
    "dict for {key value} [ymlfile2dict \"yaml-log.yml\" ] {\n",
    "    nprint \"$key --> $value\"\n",
    "    global $key\n",
    "    if [info exists $key] {\n",
    "        unset $key\n",
    "    }\n",
    "    global $key\n",
    "\n",
    "    try {\n",
    "        if {[regexp $array_words $key match]} {\n",
    "            array set $key $value\n",
    "            parray $key  \n",
    "        } else {\n",
    "            set $key $value\n",
    "        }\n",
    "        \n",
    "    } on error {res opts} {\n",
    "        \n",
    "    }\n",
    "\n",
    "}\n",
    "\n"
   ]
  },
  {
   "cell_type": "markdown",
   "metadata": {},
   "source": [
    "# Make request to Haashim\n",
    "\n",
    "Ask him to rewrite and create a new method for this: (including unit test)\n",
    "```tcl\n",
    "# Project topcells report\n",
    "set currDate [clock scan [clock format [clock seconds] -format {%m/%d/%Y}] -format {%m/%d/%Y}]\n",
    "set tcEDMsgs \"\"\n",
    "catch {set tcrDate [exec grep \"Execution Date:\" $topCellsReport 2> /dev/null]}\n",
    "if {[info exists tcrDate]} {\n",
    "    regexp {Execution Date:([\\d\\/]+)} $tcrDate -> tcrDate\n",
    "    set tcrDate [clock scan $tcrDate -format {%m/%d/%Y}]\n",
    "    set diffd [expr {$currDate-$tcrDate}]\n",
    "    if {[expr {$currDate-$tcrDate}] > 86400} {\n",
    "        puts \"WARNING: PCS Release Topcells report was not created within last 24 hours\"\n",
    "        lappend tcEDMsgs \"PCS Release Topcells report was not created within last 24 hours\\n\"\n",
    "    }\n",
    "} else {\n",
    "    puts \"ERROR: Cannot find topcells Execution Date\"\n",
    "    puts \"INFO:  Please check topcells report and re-run\\r\"\n",
    "    exit\n",
    "}\n",
    "catch {set tcrDateRB [exec grep \"Execution Date:\" $topCellsRB 2> /dev/null]}\n",
    "if {[info exists tcrDateRB]} {\n",
    "    regexp {Execution Date:([\\d\\/]+)} $tcrDateRB -> tcrDateRB\n",
    "    set tcrDateRB [clock scan $tcrDateRB -format {%m/%d/%Y}]\n",
    "    set diffd [expr {$currDate-$tcrDateRB}]\n",
    "    if {[expr {$currDate-$tcrDateRB}] > 86400} {\n",
    "        puts \"WARNING: Release branch Topcells report was not created within last 24 hours\"\n",
    "        lappend tcEDMsgs \"Release branch Topcells report was not created within last 24 hours\\n\"\n",
    "    }\n",
    "} else {\n",
    "    puts \"ERROR: Cannot find topcells Execution Date\"\n",
    "    puts \"INFO:  Please check topcells report and re-run\\r\"\n",
    "    exit\n",
    "}\n",
    "```"
   ]
  },
  {
   "cell_type": "code",
   "execution_count": 52,
   "metadata": {},
   "outputs": [
    {
     "name": "stderr",
     "output_type": "stream",
     "text": [
      "TclError: bad class \"entier\": must be alnum, alpha, ascii, control, boolean, digit, double, false, graph, integer, list, lower, print, punct, space, true, upper, wideinteger, wordchar, or xdigit"
     ]
    }
   ],
   "source": [
    "%%tcl\n",
    "\n",
    "proc lmap {_var list body} {\n",
    "    upvar 1 $_var var\n",
    "    set res {}\n",
    "    foreach var $list {lappend res [uplevel 1 $body]}\n",
    "    set res\n",
    "}\n",
    "\n",
    "lmap v {1 2 3 a b c} {\n",
    "    if {![string is entier $v]} continue\n",
    "    set v\n",
    "    }"
   ]
  },
  {
   "cell_type": "code",
   "execution_count": 67,
   "metadata": {},
   "outputs": [
    {
     "name": "stderr",
     "output_type": "stream",
     "text": [
      "TclError: \"update\" isn't a procedure"
     ]
    }
   ],
   "source": [
    "%%tcl\n",
    "update"
   ]
  }
 ],
 "metadata": {
  "kernelspec": {
   "display_name": "Python 3.8.0 64-bit",
   "language": "python",
   "name": "python3"
  },
  "language_info": {
   "codemirror_mode": {
    "name": "ipython",
    "version": 3
   },
   "file_extension": ".py",
   "mimetype": "text/x-python",
   "name": "python",
   "nbconvert_exporter": "python",
   "pygments_lexer": "ipython3",
   "version": "3.8.0"
  },
  "vscode": {
   "interpreter": {
    "hash": "78ee8c2931daa98418262a3099bec66c014c1eca61453cb33883e29a97d9a0d2"
   }
  }
 },
 "nbformat": 4,
 "nbformat_minor": 2
}
