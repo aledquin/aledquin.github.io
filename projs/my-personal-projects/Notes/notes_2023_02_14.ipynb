{
 "cells": [
  {
   "cell_type": "markdown",
   "metadata": {
    "pycharm": {
     "name": "#%% md\n"
    }
   },
   "source": [
    "# Notes\n",
    "\n",
    "### Init tcl\n"
   ]
  },
  {
   "cell_type": "code",
   "execution_count": 3,
   "metadata": {
    "pycharm": {
     "name": "#%%\n"
    }
   },
   "outputs": [
    {
     "name": "stdout",
     "output_type": "stream",
     "text": [
      "The tclmagic extension is already loaded. To reload it, use:\n",
      "  %reload_ext tclmagic\n"
     ]
    }
   ],
   "source": [
    "%load_ext tclmagic\n",
    "\n",
    "#  If the prev line doesnt work  install it using the next line in your unix terminal\n",
    "#  /depot/Python/Python-3.8.0/bin/pip install -U tcl-magic\n",
    "#  You can configure it to  "
   ]
  },
  {
   "cell_type": "markdown",
   "metadata": {},
   "source": [
    "### Init our libraries and packages"
   ]
  },
  {
   "cell_type": "code",
   "execution_count": 4,
   "metadata": {
    "pycharm": {
     "name": "#%%\n"
    },
    "vscode": {
     "languageId": "bat"
    }
   },
   "outputs": [
    {
     "data": {
      "text/plain": [
       "'0.3.10'"
      ]
     },
     "execution_count": 4,
     "metadata": {},
     "output_type": "execute_result"
    }
   ],
   "source": [
    "%%tcl \n",
    "\n",
    "set SHELLTOOL_LOC \"/remote/cad-rep/msip/tools/Shelltools\"\n",
    "lappend auto_path \"$SHELLTOOL_LOC/ddr-utils-lay/dev/lib/tcl\"\n",
    "lappend auto_path \"/depot/tcl8.6.3/lib\"\n",
    "\n",
    "set RealBin [file dirname [file normalize [info script]] ]\n",
    "set RealScript [file tail [file normalize [info script]] ]\n",
    "set PROGRAM_NAME $RealScript\n",
    "set LOGFILE \"[pwd]/log-$PROGRAM_NAME.log\"\n",
    "\n",
    "package require Messaging 1.0\n",
    "namespace import ::Messaging::*\n",
    "package require Misc 1.0\n",
    "namespace import ::Misc::*\n",
    "\n",
    "package require cmdline\n",
    "package require try\n",
    "package require yaml"
   ]
  },
  {
   "cell_type": "markdown",
   "metadata": {},
   "source": [
    "## yaml"
   ]
  },
  {
   "cell_type": "markdown",
   "metadata": {},
   "source": [
    "## 0550 -->\n",
    "We have consolidated our progress on the next three code blocks below.\n",
    "\n",
    "\n",
    "## Action Items\n",
    "[ ] make the case for array into an dictionary as value"
   ]
  },
  {
   "cell_type": "code",
   "execution_count": 5,
   "metadata": {},
   "outputs": [
    {
     "data": {
      "text/plain": [
       "'/slowfs/dcopt103/alvaro/GitLab/my-personal-projects/Notes/../experiments/ddr-ckt-rel/inputs/sample.tcl'"
      ]
     },
     "execution_count": 5,
     "metadata": {},
     "output_type": "execute_result"
    }
   ],
   "source": [
    "%%tcl\n",
    "\n",
    "set sample_path \"[pwd]/../experiments/ddr-ckt-rel/inputs/sample.tcl\""
   ]
  },
  {
   "cell_type": "code",
   "execution_count": 76,
   "metadata": {},
   "outputs": [],
   "source": [
    "%%tcl\n",
    "\n",
    "proc create_dict_from_file {__file} {\n",
    "\n",
    "    source $__file\n",
    "    unset __file\n",
    "\n",
    "    global varlist\n",
    "\n",
    "    set varlist [lsort [info vars]]\n",
    "\n",
    "    foreach varname $varlist {\n",
    "        if {[array exists $varname]} {\n",
    "            foreach {ark arv} [array get $varname] {\n",
    "                iprint \"$varname $ark --> $arv\"\n",
    "                dict set legal_release $varname \"$ark:\" \"\\{$arv\\}\"\n",
    "            }\n",
    "        } else {\n",
    "            set varvalue [set $varname]\n",
    "            dict set legal_release $varname $varvalue\n",
    "            unset varvalue\n",
    "        }\n",
    "        \n",
    "        \n",
    "    }\n",
    "    return $legal_release\n",
    "}\n"
   ]
  },
  {
   "cell_type": "code",
   "execution_count": 81,
   "metadata": {},
   "outputs": [],
   "source": [
    "%%tcl\n",
    "proc Main {sample_path {file_name \"yaml-log.yml\"}} {\n",
    "    set legal_release [create_dict_from_file $sample_path]\n",
    "    set yaml_format [yaml::dict2yaml $legal_release 4 80]\n",
    "    write_file $file_name [regsub -all {\\|-|>|\\{|\\}} [regsub -all \"\\} \" $yaml_format \"\\}\\n    \"] \"\"] \n",
    "}\n"
   ]
  },
  {
   "cell_type": "markdown",
   "metadata": {},
   "source": [
    "0944 --> I am going to source here so I can work directly with the arrays\n",
    "\n",
    "This is working!"
   ]
  },
  {
   "cell_type": "code",
   "execution_count": 63,
   "metadata": {},
   "outputs": [
    {
     "data": {
      "text/plain": [
       "'---\\ncalibre_verifs: true\\ncdl_prune_cells: cvcp* cvpp* vflag* vsync\\nferel: fe_weekly\\nlayers: >\\n    M0 M1 M2 M3 M4 M5 M6 M7 M8 M9 M10 \\n    OVERLAP\\nlayers_override: |-\\n    dwc_ddr5phycover_dx4_top_ew: {M10 M11 M12 M13 M14 M15 M16 MTOP MTOP-1} dwc_ddr5phycover_cmosx2_top_ew: {M10 M11 M12 M13 M14 M15 M16 MTOP MTOP-1} dwc_ddr5phycover_ckx2_top_ew: {M10 M11 M12 M13 M14 M15 M16 MTOP MTOP-1} dwc_ddr5phycover_master_top: {M10 M11 M12 M13 M14 M15 M16 MTOP MTOP-1} dwc_ddr5phy_utility_blocks: {M0 M1 M2 M3 M4 M5 M6 M7 M8 M9 M10 M11 M12 M13 M14 M15 M16 MTOP MTOP-1 AP} dwc_ddr5phy_tcoil_ew: {M14 M15 M16 MTOP MTOP-1} dwc_ddr5phycover_zcal_top_ew: {M10 M11 M12 M13 M14 M15 M16 MTOP MTOP-1} dwc_ddr5phycover_acx2_top_ew: {M10 M11 M12 M13 M14 M15 M16 MTOP MTOP-1} dwc_ddr5phydx4_tcoil_ap2c4d_ew: {M0 M1 M2 M3 M4 M5 M6 M7 M8 M9 M10 M11 M12 M13 M14 M15 M16 MTOP MTOP-1 AP}\\nlayout_tag: D910 Final Release\\nlef_diff_rel: 1.00a_pre3\\nmetal_stack: >\\n    15M_1X_h_1Xb_v_1Xe_h_1Ya_v_1Yb_h_5Y_vhvhv_2Yy2Z\\nmetal_stack_cover: >\\n    15M_1X_h_1Xb_v_1Xe_h_1Ya_v_1Yb_h_5Y_vhvhv_2Yy2Z\\nmetal_stack_ip: 10M_1X_h_1Xb_v_1Xe_h_1Ya_v_1Yb_h_4Y_vhvh\\np4_release_root: >\\n    products/lpddr5x_ddr5_phy/ddr5/project/d910-ddr5-tsmc5ff-12 products/lpddr5x_ddr5_phy/lp5x/project/d930-lpddr5x-tsmc5ff12\\nprocess: tsmc5ff-12\\nreference_date_time: 21 days ago\\nrel: 1.00a\\nreleaseBranch: rel1.00_cktpcs_1.00a_rel_\\nreleaseCtlMacro: >\\n    dwc_ddr5phy_lcdl \\n    dwc_ddr5phy_lstx_acx2_ew \\n    dwc_ddr5phy_lstx_dx4_ew \\n    dwc_ddr5phy_lstx_zcal_ew \\n    dwc_ddr5phy_pclk_master \\n    dwc_ddr5phy_pclk_rxdca \\n    dwc_ddr5phy_rxreplica_ew \\n    dwc_ddr5phy_txrxac_ew \\n    dwc_ddr5phy_txrxdq_ew \\n    dwc_ddr5phy_txrxdqs_ew \\n    dwc_ddr5phy_vregdac_ew\\nreleaseDefMacro: >\\n    pro_hard_macro/dwc_ddr5phymaster_ew_inst \\n    pro_hard_macro/dwc_ddr5phyzcal_ew_inst \\n    pro_hard_macro/dwc_ddr5phydx4_ew_inst \\n    pro_hard_macro/dwc_ddr5phyacx2_ew_inst \\n    pro_hard_macro/dwc_ddr5phyckx2_ew_inst \\n    pro_hard_macro/dwc_ddr5phycmosx2_ew_inst \\n    pro_hard_macro/dwc_ddr5phydqx1_ew_inst \\n    pro_hard_macro/dwc_ddr5phydqsx1_ew_inst\\nreleaseMacro{dwc_ddr5phy_repeater_cells}: dwc_ddr5phy_pclk_rptx1\\nreleaseMacro{dwc_ddr5phy_utility_blocks}: >\\n    dwc_ddr5phy_pclk_routing_ac_ew \\n    dwc_ddr5phy_pclk_routing_dx_ew \\n    dwc_ddr5phy_pclk_routing_decap_ew \\n    dwc_ddr5phy_decapvddq_ac_ew \\n    dwc_ddr5phy_decapvddq_master_ew \\n    dwc_ddr5phy_decapvddq_dx4_ew \\n    dwc_ddr5phy_decapvddq_zcal_ew \\n    dwc_ddr5phy_decapvddq_ld_ac_ew \\n    dwc_ddr5phy_decapvddq_ld_master_ew \\n    dwc_ddr5phy_decapvddq_ld_dx4_ew \\n    dwc_ddr5phy_decapvddq_ld_zcal_ew \\n    dwc_ddr5phy_decapvsh_ac_ew \\n    dwc_ddr5phy_decapvsh_dx4_ew \\n    dwc_ddr5phy_decapvsh_zcal_ew \\n    dwc_ddr5phy_decapvsh_ld_ac_ew \\n    dwc_ddr5phy_decapvsh_ld_dx4_ew \\n    dwc_ddr5phy_decapvsh_ld_zcal_ew \\n    dwc_ddr5phydx4_tcoil_ew \\n    dwc_ddr5phydx4_notcoil_ew\\nreleaseMacro{dwc_ddr5phy_utility_cells}: >\\n    dwc_ddr5phy_decapvddq_ew \\n    dwc_ddr5phy_decapvddq_ns \\n    dwc_ddr5phy_decapvddq_ld_ew \\n    dwc_ddr5phy_decapvddq_ld_ns \\n    dwc_ddr5phy_vddqclamp_ew\\nreleaseMailDist: >\\n    ddr_di@synopsys.com,sg-ddr-ckt-release@synopsys.com,vthareja,hdavid,aparik,elgaid,mennatul,eltokhi,guttman,jfisher,vilas,baanu,rinshar,annmary,rarunac,dpatil,deepakgs,chetana,pmorris\\nreleasePhyvMacro: >\\n    dwc_ddr5phy_vaaclamp_ew \\n    dwc_ddr5phy_vddqclamp_ew \\n    dwc_ddr5phy_decapvaa_tile \\n    dwc_ddr5phy_decapvddhd_ew \\n    dwc_ddr5phy_decapvddhd_3p5x_ew \\n    dwc_ddr5phy_decapvddhd_mon_ew \\n    dwc_ddr5phy_decapvddq_mon_ew\\nreleasePmMailDist: >\\n    vthareja,hdavid,guttman,jfisher,vilas,sheraida,plagiann,davies,baanu,rarunac,dpatil\\nreleaseShimMacro: dwc_ddr5phycmosx2_top_ew_shim\\nreleaseTCMacro: >\\n    dwc_lpddr5xphy_hbm_ew \\n    dwc_ddr5phy_decapvddhd_3p5x_ew \\n    dwc_ddr5phydx4_tcoil_ap2c4d_ew \\n    dwc_ddr5phy_decapvddq_mon_ew \\n    dwc_ddr5phy_decapvddhd_mon_ew \\n    dwc_ddr5phy_decapvddhd_ew \\n    dwc_lpddr5xphy_rxdqs_tc_ew \\n    dwc_lpddr5xphy_txrxcs_tc_ew \\n    dwc_lpddr5xphy_hbm_ew \\n    dwc_lpddr5xphy_vddqclamp_x2_ew\\nreleaseTCMailDist: >\\n    vthareja,hdavid,guttman,jfisher,vilas,sheraida,plagiann,davies,finn\\nrelease_gds_cdl: HIPRE\\nrepeater_name: dwc_ddr5phy_repeater_cells\\nsupply_pins: M10\\nsupply_pins_override: |-\\n    dwc_ddr5phy_por_ew: {M6 M10} dwc_ddr5phycover_dx4_top_ew: {M10 M14 M15 M16 MTOP MTOP-1} dwc_ddr5phy_zcalio_ew: {M10 M12} dwc_ddr5phy_txrxac_ew: {M10 M12} dwc_ddr5phy_tcoil_ew: {M14 M15 M16 MTOP MTOP-1} dwc_ddr5phy_txrxdq_ew: {M10 M12} dwc_ddr5phycover_cmosx2_top_ew: {M10 M14 M15 M16 MTOP MTOP-1} dwc_ddr5phy_txrxdqs_ew: {M10 M12} dwc_ddr5phy_techrevision: M5 dwc_ddr5phycover_ckx2_top_ew: {M10 M14 M15 M16 MTOP MTOP-1} dwc_ddr5phycover_zcal_top_ew: {M10 M14 M15 M16 MTOP MTOP-1} dwc_ddr5phy_lcdl: M4 dwc_ddr5phycover_master_top_ew: {M10 M14 M15 M16 MTOP MTOP-1} dwc_ddr5phy_utility_blocks: {M10 M14 M15 M16 MTOP MTOP-1 AP} dwc_ddr5phycover_acx2_top_ew: {M10 M14 M15 M16 MTOP MTOP-1} dwc_ddr5phydx4_tcoil_ap2c4d_ew: {M10 M14 M15 M16 MTOP MTOP-1 AP}\\ntiming_libs: lvf\\nutility_name: >\\n    dwc_ddr5phy_utility_cells \\n    dwc_ddr5phy_utility_blocks\\nvarlist: >\\n    calibre_verifs cdl_prune_cells ferel \\n    layers layers_override layout_tag \\n    lef_diff_rel metal_stack \\n    metal_stack_cover metal_stack_ip \\n    p4_release_root process \\n    reference_date_time rel releaseBranch \\n    releaseCtlMacro releaseDefMacro \\n    releaseMacro{dwc_ddr5phy_repeater_cells} \\n    releaseMacro{dwc_ddr5phy_utility_blocks} \\n    releaseMacro{dwc_ddr5phy_utility_cells} \\n    releaseMailDist releasePhyvMacro \\n    releasePmMailDist releaseShimMacro \\n    releaseTCMacro releaseTCMailDist \\n    release_gds_cdl repeater_name \\n    supply_pins supply_pins_override \\n    timing_libs utility_name varlist vcrel\\nvcrel: 1.00a\\n'"
      ]
     },
     "execution_count": 63,
     "metadata": {},
     "output_type": "execute_result"
    }
   ],
   "source": [
    "%%tcl\n",
    "    set legal_release [create_dict_from_file $sample_path]\n",
    "    set yaml_format [yaml::dict2yaml $legal_release 4]\n",
    "\n"
   ]
  },
  {
   "cell_type": "markdown",
   "metadata": {},
   "source": [
    "     have to replace, probably using regex"
   ]
  },
  {
   "cell_type": "code",
   "execution_count": 75,
   "metadata": {},
   "outputs": [],
   "source": [
    "%%tcl \n",
    "set replaced [regsub -all {\\|-|>|\\{|\\}} [regsub -all \"\\} \" $yaml_format \"\\}\\n    \"] \"\"]\n",
    "write_file test_2.yml $replaced"
   ]
  },
  {
   "cell_type": "code",
   "execution_count": 53,
   "metadata": {},
   "outputs": [
    {
     "name": "stdout",
     "output_type": "stream",
     "text": [
      "\u001b[1m-I- $-\u001b[0m\n"
     ]
    }
   ],
   "source": [
    "%%tcl\n",
    "iprint $-"
   ]
  },
  {
   "cell_type": "code",
   "execution_count": 82,
   "metadata": {},
   "outputs": [
    {
     "name": "stdout",
     "output_type": "stream",
     "text": [
      "\u001b[1m-I- layers_override dwc_ddr5phycover_dx4_top_ew --> M10 M11 M12 M13 M14 M15 M16 MTOP MTOP-1\u001b[0m\n",
      "\u001b[1m-I- layers_override dwc_ddr5phycover_cmosx2_top_ew --> M10 M11 M12 M13 M14 M15 M16 MTOP MTOP-1\u001b[0m\n",
      "\u001b[1m-I- layers_override dwc_ddr5phycover_ckx2_top_ew --> M10 M11 M12 M13 M14 M15 M16 MTOP MTOP-1\u001b[0m\n",
      "\u001b[1m-I- layers_override dwc_ddr5phycover_master_top --> M10 M11 M12 M13 M14 M15 M16 MTOP MTOP-1\u001b[0m\n",
      "\u001b[1m-I- layers_override dwc_ddr5phy_utility_blocks --> M0 M1 M2 M3 M4 M5 M6 M7 M8 M9 M10 M11 M12 M13 M14 M15 M16 MTOP MTOP-1 AP\u001b[0m\n",
      "\u001b[1m-I- layers_override dwc_ddr5phy_tcoil_ew --> M14 M15 M16 MTOP MTOP-1\u001b[0m\n",
      "\u001b[1m-I- layers_override dwc_ddr5phycover_zcal_top_ew --> M10 M11 M12 M13 M14 M15 M16 MTOP MTOP-1\u001b[0m\n",
      "\u001b[1m-I- layers_override dwc_ddr5phycover_acx2_top_ew --> M10 M11 M12 M13 M14 M15 M16 MTOP MTOP-1\u001b[0m\n",
      "\u001b[1m-I- layers_override dwc_ddr5phydx4_tcoil_ap2c4d_ew --> M0 M1 M2 M3 M4 M5 M6 M7 M8 M9 M10 M11 M12 M13 M14 M15 M16 MTOP MTOP-1 AP\u001b[0m\n",
      "\u001b[1m-I- supply_pins_override dwc_ddr5phy_por_ew --> M6 M10\u001b[0m\n",
      "\u001b[1m-I- supply_pins_override dwc_ddr5phycover_dx4_top_ew --> M10 M14 M15 M16 MTOP MTOP-1\u001b[0m\n",
      "\u001b[1m-I- supply_pins_override dwc_ddr5phy_zcalio_ew --> M10 M12\u001b[0m\n",
      "\u001b[1m-I- supply_pins_override dwc_ddr5phy_txrxac_ew --> M10 M12\u001b[0m\n",
      "\u001b[1m-I- supply_pins_override dwc_ddr5phy_tcoil_ew --> M14 M15 M16 MTOP MTOP-1\u001b[0m\n",
      "\u001b[1m-I- supply_pins_override dwc_ddr5phy_txrxdq_ew --> M10 M12\u001b[0m\n",
      "\u001b[1m-I- supply_pins_override dwc_ddr5phycover_cmosx2_top_ew --> M10 M14 M15 M16 MTOP MTOP-1\u001b[0m\n",
      "\u001b[1m-I- supply_pins_override dwc_ddr5phy_txrxdqs_ew --> M10 M12\u001b[0m\n",
      "\u001b[1m-I- supply_pins_override dwc_ddr5phy_techrevision --> M5\u001b[0m\n",
      "\u001b[1m-I- supply_pins_override dwc_ddr5phycover_ckx2_top_ew --> M10 M14 M15 M16 MTOP MTOP-1\u001b[0m\n",
      "\u001b[1m-I- supply_pins_override dwc_ddr5phycover_zcal_top_ew --> M10 M14 M15 M16 MTOP MTOP-1\u001b[0m\n",
      "\u001b[1m-I- supply_pins_override dwc_ddr5phy_lcdl --> M4\u001b[0m\n",
      "\u001b[1m-I- supply_pins_override dwc_ddr5phycover_master_top_ew --> M10 M14 M15 M16 MTOP MTOP-1\u001b[0m\n",
      "\u001b[1m-I- supply_pins_override dwc_ddr5phy_utility_blocks --> M10 M14 M15 M16 MTOP MTOP-1 AP\u001b[0m\n",
      "\u001b[1m-I- supply_pins_override dwc_ddr5phycover_acx2_top_ew --> M10 M14 M15 M16 MTOP MTOP-1\u001b[0m\n",
      "\u001b[1m-I- supply_pins_override dwc_ddr5phydx4_tcoil_ap2c4d_ew --> M10 M14 M15 M16 MTOP MTOP-1 AP\u001b[0m\n"
     ]
    }
   ],
   "source": [
    "%%tcl\n",
    "Main $sample_path \n"
   ]
  },
  {
   "cell_type": "code",
   "execution_count": 83,
   "metadata": {},
   "outputs": [
    {
     "name": "stdout",
     "output_type": "stream",
     "text": [
      "Unmatched '.\n",
      "Unmatched '.\n"
     ]
    }
   ],
   "source": [
    "!source ~/.cshrc\n"
   ]
  },
  {
   "cell_type": "code",
   "execution_count": 84,
   "metadata": {},
   "outputs": [
    {
     "name": "stdout",
     "output_type": "stream",
     "text": [
      "Unmatched '.\n",
      "\u001b[?1000h\u001b7\u001b[?47h\u001b[?1h\u001b=\u001b[2;1H▽\u001b[6n\u001b[2;1H  \u001b[1;1H\u001b]11;?\u0007\u001b[1;24r\u001b[m\u001b[H\u001b[2J\u001b[24;1H\"~/env/.alias\" 186L, 6609C\u001b[>c\u001b[1;1H\u001b[34m###################################################################\n",
      "#echo \"alias --> Terminal customs\"\n",
      "###################################################################\u001b[m\n",
      "\n",
      "\u001b[33malias\u001b[m \u001b[36mrefresh\u001b[m \u001b[31m\"tcsh;exit\"\u001b[m\n",
      "\n",
      "\u001b[33malias\u001b[m \u001b[36mmystatus\u001b[m \u001b[31m'setenv show_status 2'\u001b[m\n",
      "\u001b[33malias\u001b[m \"\u001b[36m.\u001b[m\" \u001b[31m\"setenv show_status 1\"\u001b[m\n",
      "\n",
      "\u001b[33malias\u001b[m \u001b[36mmyalias\u001b[m\u001b[11C\u001b[31m'vim $HOME/env/.alias'\u001b[m\n",
      "\u001b[33malias\u001b[m \u001b[36msmyalias\u001b[m\u001b[10C\u001b[31m'source $HOME/env/.alias'\u001b[m\n",
      "\u001b[33malias\u001b[m \u001b[36msmycsh\u001b[m\u001b[12C\u001b[31m'source $HOME/.cshrc'\u001b[m\n",
      "\n",
      "\u001b[33malias\u001b[m \u001b[36mgonotes\u001b[m \u001b[31m'cd  $HOME/mydisk/Notes\"\n",
      "\n",
      "####################################################################\n",
      "#echo \"alias --> Module\"\n",
      "####################################################################\n",
      "\n",
      "alias ml    \"module unload $1 ; module load $1\"\n",
      "alias mldev \"module unload $1 ; module load $1/dev\"\n",
      "alias mlist \"module list\"\u001b[m\u001b[24;63H14,38\u001b[9CTop\u001b]2;.alias (~/env) - VIM\u0007\u001b]1;.alias\u0007\u001b[14;38H\u001b[24;1HType  :quit<Enter>  to exit Vim\u001b[24;63H\u001b[K\u0007\u001b[24;63H14,38\u001b[9CTop\u001b[14;38H"
     ]
    }
   ],
   "source": [
    "!myalias"
   ]
  },
  {
   "cell_type": "code",
   "execution_count": 85,
   "metadata": {},
   "outputs": [
    {
     "name": "stdout",
     "output_type": "stream",
     "text": [
      "Unmatched '.\n",
      "Unmatched '.\n"
     ]
    }
   ],
   "source": [
    "!smyalias"
   ]
  },
  {
   "cell_type": "code",
   "execution_count": 88,
   "metadata": {},
   "outputs": [
    {
     "name": "stdout",
     "output_type": "stream",
     "text": [
      "^C\n",
      "\n",
      "\n",
      "/slowfs/dcopt103/alvaro/GitLab/my-personal-projects/Notes\n"
     ]
    }
   ],
   "source": [
    "!pwd\n"
   ]
  },
  {
   "cell_type": "code",
   "execution_count": null,
   "metadata": {},
   "outputs": [],
   "source": []
  }
 ],
 "metadata": {
  "kernelspec": {
   "display_name": "Python 3 (ipykernel)",
   "language": "python",
   "name": "python3"
  },
  "language_info": {
   "codemirror_mode": {
    "name": "ipython",
    "version": 3
   },
   "file_extension": ".py",
   "mimetype": "text/x-python",
   "name": "python",
   "nbconvert_exporter": "python",
   "pygments_lexer": "ipython3",
   "version": "3.8.0"
  },
  "vscode": {
   "interpreter": {
    "hash": "758228ae4236649af9509c5c8859545204428c6c7a2c9288794dec8c60a3bcc3"
   }
  }
 },
 "nbformat": 4,
 "nbformat_minor": 2
}
