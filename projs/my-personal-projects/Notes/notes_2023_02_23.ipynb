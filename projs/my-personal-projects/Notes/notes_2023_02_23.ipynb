{
 "cells": [
  {
   "cell_type": "code",
   "execution_count": 1,
   "metadata": {
    "pycharm": {
     "name": "#%%\n"
    }
   },
   "outputs": [
    {
     "data": {
      "application/javascript": "\n            requirejs.config({\n                paths: {\n                    codemirror: \"https://cdn.rawgit.com/marijnh/CodeMirror/master\"\n                }\n            });\n            requirejs([\"codemirror/mode/tcl/tcl\"], function(codemirror) {\n                IPython.CodeCell.options_default.highlight_modes['magic_text/x-tcl'] = {'reg':[/^%%tcl/]};\n                IPython.notebook.events.one('kernel_ready.Kernel', function() {\n                    IPython.notebook.get_cells().map(function(cell) {\n                        if (cell.cell_type == 'code') {\n                            cell.auto_highlight();\n                        }\n                    });\n                });\n            });\n        "
     },
     "metadata": {},
     "output_type": "display_data"
    }
   ],
   "source": [
    "%load_ext tclmagic\n",
    "\n",
    "#  If the prev line doesnt work  install it using the next line in your unix terminal\n",
    "#  /depot/Python/Python-3.8.0/bin/pip install -U tcl-magic\n",
    "#  /depot/Python/Python-3.8.0/bin/pip install -U notebook\n",
    "#  You can configure it to ~/.local/ "
   ]
  },
  {
   "cell_type": "code",
   "execution_count": 2,
   "metadata": {
    "pycharm": {
     "name": "#%%\n"
    },
    "vscode": {
     "languageId": "shellscript"
    }
   },
   "outputs": [
    {
     "data": {
      "text/plain": [
       "'0.3.10'"
      ]
     },
     "execution_count": 2,
     "metadata": {},
     "output_type": "execute_result"
    }
   ],
   "source": [
    "%%tcl\n",
    "\n",
    "set SHELLTOOL_LOC \"/remote/cad-rep/msip/tools/Shelltools\"\n",
    "lappend auto_path \"$SHELLTOOL_LOC/ddr-utils-lay/dev/lib/tcl\"\n",
    "lappend auto_path \"/depot/tcl8.6.3/lib\"\n",
    "\n",
    "set RealBin [file dirname [file normalize [info script]] ]\n",
    "set RealScript [file tail [file normalize [info script]] ]\n",
    "set PROGRAM_NAME $RealScript\n",
    "set LOGFILE \"[pwd]/log-$PROGRAM_NAME.log\"\n",
    "\n",
    "package require Messaging 1.0\n",
    "namespace import ::Messaging::*\n",
    "package require Misc 1.0\n",
    "namespace import ::Misc::*\n",
    "\n",
    "package require cmdline\n",
    "package require try\n",
    "package require yaml"
   ]
  },
  {
   "cell_type": "markdown",
   "metadata": {},
   "source": [
    "# Current AI\n",
    "\n",
    "We are keeping everything since we are creating the opposite in base to the previous tests as in [notes_2023_02_17.ipynb](./notes_2023_02_17.ipynb)"
   ]
  },
  {
   "cell_type": "code",
   "execution_count": 3,
   "metadata": {
    "vscode": {
     "languageId": "shellscript"
    }
   },
   "outputs": [],
   "source": [
    "\n",
    "# !cd /u/alvaro/mydisk/GitLab/my-personal-projects/Notes\n",
    "# not so much from prev days...\n",
    "# !cp -f ../experiments/tclyaml_experiment/inputs/sample.tcl sample.tcl"
   ]
  },
  {
   "cell_type": "markdown",
   "metadata": {},
   "source": [
    "## tcl2yml"
   ]
  },
  {
   "cell_type": "code",
   "execution_count": 9,
   "metadata": {
    "vscode": {
     "languageId": "shellscript"
    }
   },
   "outputs": [],
   "source": [
    "%%tcl\n",
    "\n",
    "\n",
    "proc get_variables_from_file {__file} {\n",
    "    source $__file\n",
    "    unset __file\n",
    "    return [info locals]\n",
    "}\n",
    "\n",
    "proc create_dict_from_file {__file} {\n",
    "\n",
    "    source $__file\n",
    "\n",
    "    set sv [get_variables_from_file $__file]\n",
    "    \n",
    "    foreach ssv $sv {\n",
    "        if [regexp {(\\S+)\\{(\\S+)\\}} $ssv full dictname keyname] {\n",
    "            viprint MEDIUM $full\n",
    "            viprint MEDIUM \"dictname = $dictname\"\n",
    "            viprint MEDIUM \"keyname  = $keyname\"\n",
    "            foreach dict_values [set $full] {\n",
    "                lappend list_values \"- $dict_values\"\n",
    "            }\n",
    "            set [set dictname]($keyname) $list_values\n",
    "            unset list_values\n",
    "            if {$dictname ni $sv} {lappend new_sv $dictname}\n",
    "        } else {\n",
    "            lappend new_sv $ssv\n",
    "        }\n",
    "    }\n",
    "\n",
    "    foreach varname $new_sv {\n",
    "        viprint LOW $varname\n",
    "        if {[array exists $varname]} {\n",
    "            foreach {ark arv} [array get $varname] {\n",
    "                viprint LOW \"$varname $ark --> $arv\"\n",
    "                dict set legal_release $varname \"$ark: \" \"\\{$arv\\}\"\n",
    "            }\n",
    "        } else {\n",
    "            if {[llength [set $varname]]>1} {\n",
    "                if {![regexp {(date|prune|layers|utility_name|repeater_name|tag|supply_pins)} $varname match]} {\n",
    "                    foreach litvalue [set $varname] {\n",
    "                        lappend varvalue \"- $litvalue\"  \n",
    "                    }\n",
    "                } else {\n",
    "                    set varvalue [set $varname]\n",
    "                }\n",
    "            } else {\n",
    "                set varvalue [set $varname]\n",
    "            }\n",
    "            \n",
    "            dict set legal_release $varname $varvalue\n",
    "            unset varname\n",
    "            unset varvalue\n",
    "        }\n",
    "        \n",
    "        \n",
    "    }\n",
    "    return $legal_release\n",
    "}\n",
    "\n",
    "proc save_cleaned_yml_to_file {sample_path {file_name \"yml-cleaned.yml\"}} {\n",
    "\n",
    "    set legal_release [create_dict_from_file $sample_path]\n",
    "    set yaml_format [yaml::dict2yaml $legal_release 4 100]\n",
    "\n",
    "    set cleaned_format [regsub -all {\\: \\} \\{} $yaml_format \": \"]\n",
    "    set cleaned_format [regsub -all {\\} \\{|\\|-\\n    \\{|>\\n    } $cleaned_format \"\\n    \" ]\n",
    "    \n",
    "    set cleaned_values [regsub -all {\\: \\{} $cleaned_format \": \" ]\n",
    "    set cleaned_values [regsub -all {\\}\\n} [regsub -all {\\}\\n} $cleaned_values \"\\n\" ] \"\\n\" ]\n",
    "    write_file $file_name [regsub -all {\\}} [regsub -all {: \\{-} $cleaned_values \":\\n    -\" ] \"\" ]\n",
    " \n",
    "}\n",
    "set sample \"/slowfs/dcopt103/alvaro/GitLab/ddr-hbm-phy-automation-team/ddr-ckt-rel/dev/main/tests/data/test_legal_release\"\n",
    "\n",
    "save_cleaned_yml_to_file  $sample.txt $sample.yml"
   ]
  },
  {
   "cell_type": "markdown",
   "metadata": {},
   "source": [
    "### creating sample.yml"
   ]
  },
  {
   "cell_type": "code",
   "execution_count": 5,
   "metadata": {
    "vscode": {
     "languageId": "shellscript"
    }
   },
   "outputs": [
    {
     "data": {
      "text/plain": [
       "'PROGRAM_NAME argv tcl_version tcl_interactive argv0 sample auto_path errorCode errorInfo auto_index RealScript env tcl_pkgPath LOGFILE tcl_patchLevel SHELLTOOL_LOC RealBin argc tcl_library tcl_platform _tkinter_skip_tk_init'"
      ]
     },
     "execution_count": 5,
     "metadata": {},
     "output_type": "execute_result"
    }
   ],
   "source": [
    "%%tcl\n",
    "info vars"
   ]
  },
  {
   "cell_type": "markdown",
   "metadata": {},
   "source": [
    "## yml2tcl"
   ]
  },
  {
   "cell_type": "code",
   "execution_count": 6,
   "metadata": {
    "vscode": {
     "languageId": "shellscript"
    }
   },
   "outputs": [
    {
     "name": "stderr",
     "output_type": "stream",
     "text": [
      "TclError: can't create procedure \"yml2tcl::import\": unknown namespace"
     ]
    }
   ],
   "source": [
    "%%tcl\n",
    "proc yml2tcl::import {sample {level 1}} {\n",
    "    dict for {key value} [yaml::yaml2dict -file $sample] {\n",
    "        upvar $level $key $key\n",
    "        if {[array exists value]} {\n",
    "            array set $name_array $value\n",
    "        } else {\n",
    "            set $key $value\n",
    "        }\n",
    "    }\n",
    "    foreach {key value} $releaseMacro {\n",
    "        set var_name \"releaseMacro\\{$key\\}\"\n",
    "        upvar $level $var_name $var_name  \n",
    "        set $var_name $value\n",
    "    }\n",
    "}"
   ]
  },
  {
   "cell_type": "code",
   "execution_count": 7,
   "metadata": {
    "vscode": {
     "languageId": "shellscript"
    }
   },
   "outputs": [
    {
     "name": "stderr",
     "output_type": "stream",
     "text": [
      "TclError: invalid command name \"yml2tcl\""
     ]
    }
   ],
   "source": [
    "%%tcl\n",
    "yml2tcl sample.yml"
   ]
  },
  {
   "cell_type": "markdown",
   "metadata": {},
   "source": [
    "### get list of variables from yml\n"
   ]
  },
  {
   "cell_type": "code",
   "execution_count": 8,
   "metadata": {
    "vscode": {
     "languageId": "shellscript"
    }
   },
   "outputs": [
    {
     "name": "stderr",
     "output_type": "stream",
     "text": [
      "TclError: can't create procedure \"yml2tcl::getvalue\": unknown namespace"
     ]
    }
   ],
   "source": [
    "%%tcl\n",
    "proc yml2tcl::getvalue {sample var_name} {\n",
    "    dict for {key value} [yaml::yaml2dict -file $sample] {\n",
    "        if {$key == $var_name} {return $value}\n",
    "    }\n",
    "    eprint \"The variable $var_name was not found\"\n",
    "    return error\n",
    "}"
   ]
  },
  {
   "cell_type": "code",
   "execution_count": null,
   "metadata": {
    "vscode": {
     "languageId": "shellscript"
    }
   },
   "outputs": [],
   "source": []
  }
 ],
 "metadata": {
  "kernelspec": {
   "display_name": "Python 3.8.0 64-bit",
   "language": "python",
   "name": "python3"
  },
  "language_info": {
   "codemirror_mode": {
    "name": "ipython",
    "version": 3
   },
   "file_extension": ".py",
   "mimetype": "text/x-python",
   "name": "python",
   "nbconvert_exporter": "python",
   "pygments_lexer": "ipython3",
   "version": "3.8.0"
  },
  "vscode": {
   "interpreter": {
    "hash": "78ee8c2931daa98418262a3099bec66c014c1eca61453cb33883e29a97d9a0d2"
   }
  }
 },
 "nbformat": 4,
 "nbformat_minor": 2
}
