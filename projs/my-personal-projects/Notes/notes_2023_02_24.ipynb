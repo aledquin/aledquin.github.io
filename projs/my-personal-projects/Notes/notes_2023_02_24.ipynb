{
 "cells": [
  {
   "cell_type": "code",
   "execution_count": 1,
   "metadata": {
    "pycharm": {
     "name": "#%%\n"
    }
   },
   "outputs": [
    {
     "data": {
      "application/javascript": "\n            requirejs.config({\n                paths: {\n                    codemirror: \"https://cdn.rawgit.com/marijnh/CodeMirror/master\"\n                }\n            });\n            requirejs([\"codemirror/mode/tcl/tcl\"], function(codemirror) {\n                IPython.CodeCell.options_default.highlight_modes['magic_text/x-tcl'] = {'reg':[/^%%tcl/]};\n                IPython.notebook.events.one('kernel_ready.Kernel', function() {\n                    IPython.notebook.get_cells().map(function(cell) {\n                        if (cell.cell_type == 'code') {\n                            cell.auto_highlight();\n                        }\n                    });\n                });\n            });\n        "
     },
     "metadata": {},
     "output_type": "display_data"
    }
   ],
   "source": [
    "%load_ext tclmagic\n",
    "\n",
    "#  If the prev line doesnt work  install it using the next line in your unix terminal\n",
    "#  /depot/Python/Python-3.8.0/bin/pip install -U tcl-magic\n",
    "#  /depot/Python/Python-3.8.0/bin/pip install -U notebook\n",
    "#  You can configure it to ~/.local/ "
   ]
  },
  {
   "cell_type": "code",
   "execution_count": 2,
   "metadata": {
    "pycharm": {
     "name": "#%%\n"
    },
    "vscode": {
     "languageId": "bat"
    }
   },
   "outputs": [
    {
     "data": {
      "text/plain": [
       "'0.3.10'"
      ]
     },
     "execution_count": 2,
     "metadata": {},
     "output_type": "execute_result"
    }
   ],
   "source": [
    "%%tcl \n",
    "\n",
    "set SHELLTOOL_LOC \"/remote/cad-rep/msip/tools/Shelltools\"\n",
    "lappend auto_path \"$SHELLTOOL_LOC/ddr-utils-lay/dev/lib/tcl\"\n",
    "lappend auto_path \"/depot/tcl8.6.3/lib\"\n",
    "\n",
    "set RealBin [file dirname [file normalize [info script]] ]\n",
    "set RealScript [file tail [file normalize [info script]] ]\n",
    "set PROGRAM_NAME $RealScript\n",
    "set LOGFILE \"[pwd]/log-$PROGRAM_NAME.log\"\n",
    "\n",
    "package require Messaging 1.0\n",
    "namespace import ::Messaging::*\n",
    "package require Misc 1.0\n",
    "namespace import ::Misc::*\n",
    "\n",
    "package require cmdline\n",
    "package require try\n",
    "package require yaml"
   ]
  },
  {
   "cell_type": "markdown",
   "metadata": {},
   "source": [
    "\n",
    "# Last Updates 02/24\n",
    "- The YML files has been updated to the last version format. \n",
    "```yaml\n",
    "calibre_verifs: true\n",
    "releaseMacro: \n",
    "    dwc_ddr5phy_utility_blocks:\n",
    "    - dwc_ddr5phy_pclk_routing_ac_ew\n",
    "    - dwc_ddr5phy_pclk_routing_dx_ew\n",
    "    dwc_ddr5phy_utility_cells:\n",
    "    - dwc_ddr5phy_decapvddq_ew\n",
    "    - dwc_ddr5phy_vddqclamp_ew\n",
    "    dwc_ddr5phy_repeater_cells:\n",
    "    - dwc_ddr5phy_pclk_rptx1\n",
    "repeater_name: dwc_ddr5phy_repeater_cells\n",
    "lef_diff_rel: 1.00a_pre3\n",
    "releaseDefMacro: \n",
    "    - pro_hard_macro/dwc_ddr5phymaster_ew_inst\n",
    "releasePhyvMacro: \n",
    "    - dwc_ddr5phy_vaaclamp_ew\n",
    "    - dwc_ddr5phy_vddqclamp_ew\n",
    "    - dwc_ddr5phy_decapvaa_tile\n",
    "releaseShimMacro: dwc_ddr5phycmosx2_top_ew_shim\n",
    "releasePmMailDist: vthareja,hdavid,guttman,jfisher\n",
    "supply_pins_override: \n",
    "    dwc_ddr5phy_por_ew: M6 M10\n",
    "    dwc_ddr5phycover_dx4_top_ew: M10 M14 M15 M16 MTOP MTOP-1\n",
    "    dwc_ddr5phy_zcalio_ew: M10 M12\n",
    "```\n",
    "\n",
    "- It considers all the files that use the keywords and suffixes: `legal_release` `legalRelease` `.txt` `.t`\n",
    "- `macroRelease` is converted from an array, with curve braces in the name, into a dictionary or Associated array\n",
    "- List of keywords for vriables that have to keep their values as strings: `date|prune|layers|utility_name|repeater_name|tag|supply_pins`\n"
   ]
  },
  {
   "cell_type": "code",
   "execution_count": 18,
   "metadata": {},
   "outputs": [
    {
     "data": {
      "text/plain": [
       "'1.4.20'"
      ]
     },
     "execution_count": 18,
     "metadata": {},
     "output_type": "execute_result"
    }
   ],
   "source": [
    "%%tcl\n",
    "\n"
   ]
  },
  {
   "cell_type": "markdown",
   "metadata": {},
   "source": [
    "# 2pm \n",
    "The tcl2yml validation was sucessfully passed\n",
    "```perl\n",
    "perl 23_alphaHLDepotRelease_compare_yaml_vs_tcl_legalRelease.t \n",
    "1..3\n",
    "File: /slowfs/dcopt103/alvaro/GitLab/ddr-hbm-phy-automation-team/ddr-ckt-rel/dev/main/tests/unit_tests/../data/test_legal_release.yml\n",
    "ymlcount: 38\n",
    "ok 1 - compare tcl vs yml\n",
    "ok 2 - processLegalReleaseFile tcl test\n",
    "ok 3 - processLegalReleaseFile yml test\n",
    "tclcount: 38  ymlcount: 38\n",
    "```"
   ]
  },
  {
   "cell_type": "markdown",
   "metadata": {},
   "source": [
    "# 220pm\n",
    "I've modified my PATH to use first the script versions in \n",
    "```bash \n",
    "$HOME/bin/\n",
    "```\n"
   ]
  },
  {
   "cell_type": "markdown",
   "metadata": {},
   "source": [
    "## collect the methods for p4\n",
    "\n",
    "We will need the variable  `global client`"
   ]
  },
  {
   "cell_type": "markdown",
   "metadata": {},
   "source": [
    "::P4::print"
   ]
  },
  {
   "cell_type": "code",
   "execution_count": null,
   "metadata": {
    "vscode": {
     "languageId": "shellscript"
    }
   },
   "outputs": [],
   "source": [
    "%%tcl\n",
    "# pe print has many options and it's better to keep it as it is\n",
    "proc ::P4::print {args} {\n",
    "    try {    \n",
    "        lassign [run_system_cmd \"p4 print $args\"] rsc_out rsc_err status\n",
    "    } on error {result options} {\n",
    "        get_call_stack\n",
    "        eprint $result\n",
    "        eprint [dict get $options -errorstack]\n",
    "    }\n",
    "}\n",
    "\n",
    "#-----------------------------------------------------------------\n"
   ]
  },
  {
   "cell_type": "markdown",
   "metadata": {},
   "source": [
    "::P4::da_isa_p4_file"
   ]
  },
  {
   "cell_type": "code",
   "execution_count": null,
   "metadata": {
    "vscode": {
     "languageId": "shellscript"
    }
   },
   "outputs": [],
   "source": [
    "%%tcl\n",
    "\n",
    "proc ::P4::da_isa_p4_file {P4file} {\n",
    "    try {\n",
    "        lassign [run_system_cmd \"p4 files -e $P4file\"] ifexist ifnotexist status\n",
    "        if {$ifexist == \"\"} {\n",
    "            dprint LOW $ifnotexist\n",
    "            return 0\n",
    "        } elseif {$ifnotexist == \"\"} {\n",
    "            dprint LOW $ifexist\n",
    "            return 1\n",
    "        } else {\n",
    "            return 2\n",
    "        }\n",
    "    } on error {result options} {\n",
    "        get_call_stack\n",
    "        eprint $result\n",
    "        eprint [dict get $options -errorstack]\n",
    "    }\n",
    "}\n"
   ]
  },
  {
   "cell_type": "markdown",
   "metadata": {},
   "source": [
    "::P4::da_is_checked_out"
   ]
  },
  {
   "cell_type": "code",
   "execution_count": null,
   "metadata": {
    "vscode": {
     "languageId": "shellscript"
    }
   },
   "outputs": [],
   "source": [
    "%%tcl\n",
    "# P4 opened\n",
    "proc ::P4::da_is_checked_out {P4file {$client \"\"}} {\n",
    "    if {$client==\"\"} {global client}\n",
    "    if {[info exists client(NAME)]} {\n",
    "        set opt(client) \"-c $client(NAME)\"\n",
    "    } else {\n",
    "        set opt(client) \"\"\n",
    "    }\n",
    "    try {\n",
    "        lassign [run_system_cmd \"p4 files $opt(client) opened $P4file\"] ifexist ifnotexist status\n",
    "        if {$ifexist == \"\"} {\n",
    "            dprint LOW $ifnotexist\n",
    "            return $ifnotexist\n",
    "        } elseif {$ifnotexist == \"\"} {\n",
    "            dprint LOW $ifexist\n",
    "            return $ifexist\n",
    "        } else {\n",
    "            return 2\n",
    "        }\n",
    "    } on error {result options} {\n",
    "        get_call_stack\n",
    "        eprint $result\n",
    "        eprint [dict get $options -errorstack]\n",
    "    }\n",
    "}"
   ]
  },
  {
   "cell_type": "markdown",
   "metadata": {},
   "source": [
    "::P4::da_p4_add_edit"
   ]
  },
  {
   "cell_type": "code",
   "execution_count": null,
   "metadata": {
    "vscode": {
     "languageId": "shellscript"
    }
   },
   "outputs": [],
   "source": [
    "%%tcl\n",
    "\n",
    "proc ::P4::da_p4_add_edit {clientFile {client \"\"}} {\n",
    "    if {$client==\"\"} {global client}\n",
    "    if {[info exists client]} {\n",
    "        set opt(client) \"-c $client(NAME)\"\n",
    "    } else {\n",
    "        set opt(client) \"\"\n",
    "    }\n",
    "    try {\n",
    "        if {[file exists $clientFile]} {\n",
    "            lassign [run_system_cmd \"p4 $opt(client) edit $clientFile\"] rsc_out rsc_err status\n",
    "            dprint HIGH $rsc_out\n",
    "            dprint HIGH $rsc_err\n",
    "            return $rsc_out\n",
    "        } else {\n",
    "            lassign [run_system_cmd \"p4 $opt(client) add -t text $clientFile\"] rsc_out rsc_err status\n",
    "            dprint HIGH $rsc_out\n",
    "            dprint HIGH $rsc_err\n",
    "            return $rsc_out\n",
    "        }\n",
    "    } on error {result options} {\n",
    "        get_call_stack\n",
    "        eprint $result\n",
    "        eprint [dict get $options -errorstack]\n",
    "    }\n",
    "    return 0\n",
    "}"
   ]
  },
  {
   "cell_type": "markdown",
   "metadata": {},
   "source": [
    "::P4::da_p4_list"
   ]
  },
  {
   "cell_type": "code",
   "execution_count": null,
   "metadata": {
    "vscode": {
     "languageId": "shellscript"
    }
   },
   "outputs": [],
   "source": [
    "%%tcl\n",
    "proc ::P4::da_p4_list {P4path} {\n",
    "    try {\n",
    "        lassign [run_system_cmd \"p4 files -e $P4path\"] ifexist ifnotexist status\n",
    "        if {$ifexist == \"\"} {\n",
    "            dprint LOW $ifnotexist\n",
    "            return $ifnotexist\n",
    "        } elseif {$ifnotexist == \"\"} {\n",
    "            dprint LOW $ifexist\n",
    "            return [split $ifexist \"\\n\" ]\n",
    "        } else {\n",
    "            return 2\n",
    "        }\n",
    "    } on error {result options} {\n",
    "        get_call_stack\n",
    "        eprint $result\n",
    "        eprint [dict get $options -errorstack]\n",
    "    }\n",
    "}"
   ]
  },
  {
   "cell_type": "markdown",
   "metadata": {},
   "source": [
    "::P4::da_p4_dirs"
   ]
  },
  {
   "cell_type": "code",
   "execution_count": null,
   "metadata": {
    "vscode": {
     "languageId": "shellscript"
    }
   },
   "outputs": [],
   "source": [
    "%%tcl\n",
    "proc ::P4::da_p4_dirs {P4path} {\n",
    "    try {\n",
    "        lassign [run_system_cmd \"p4 dirs $P4path\"] ifexist ifnotexist status\n",
    "        if {$ifexist == \"\"} {\n",
    "            dprint LOW $ifnotexist\n",
    "            return $ifnotexist\n",
    "        } elseif {$ifnotexist == \"\"} {\n",
    "            dprint LOW $ifexist\n",
    "            return [split $ifexist \"\\n\" ]\n",
    "        } else {\n",
    "            return 2\n",
    "        }\n",
    "    } on error {result options} {\n",
    "        get_call_stack\n",
    "        eprint $result\n",
    "        eprint [dict get $options -errorstack]\n",
    "    }\n",
    "}"
   ]
  },
  {
   "cell_type": "markdown",
   "metadata": {},
   "source": [
    " \n",
    " # TODO\n",
    "\n",
    " - create_p4_client\n",
    " - delete_p4_client\n",
    " - ~~p4 sync /root~~\n",
    " - ~~submit~~\n",
    " - ~~fstat~~\n",
    " - annotate\n",
    " - revert\n",
    " - where\n",
    " - have\n",
    " - filelog\n",
    " "
   ]
  },
  {
   "cell_type": "markdown",
   "metadata": {},
   "source": [
    "::P4::da_create_p4_client"
   ]
  },
  {
   "cell_type": "code",
   "execution_count": null,
   "metadata": {
    "vscode": {
     "languageId": "shellscript"
    }
   },
   "outputs": [],
   "source": [
    "%%tcl\n",
    "return PENDING\n",
    "proc ::P4::da_create_p4_client {} {\n",
    "    try {\n",
    "        lassign [run_system_cmd \"p4 dirs $P4path\"] ifexist ifnotexist status\n",
    "        if {$ifexist == \"\"} {\n",
    "            dprint LOW $ifnotexist\n",
    "            return $ifnotexist\n",
    "        } elseif {$ifnotexist == \"\"} {\n",
    "            dprint LOW $ifexist\n",
    "            return [split $ifexist \"\\n\" ]\n",
    "        } else {\n",
    "            return 2\n",
    "        }\n",
    "    } on error {result options} {\n",
    "        get_call_stack\n",
    "        eprint $result\n",
    "        eprint [dict get $options -errorstack]\n",
    "    }\n",
    "}\n"
   ]
  },
  {
   "cell_type": "markdown",
   "metadata": {},
   "source": [
    "::P4::da_delete_p4_client"
   ]
  },
  {
   "cell_type": "code",
   "execution_count": null,
   "metadata": {
    "vscode": {
     "languageId": "shellscript"
    }
   },
   "outputs": [],
   "source": [
    "\n",
    "%%tcl\n",
    "return PENDING\n",
    "proc ::P4::da_delete_p4_client {} {\n",
    "    try {\n",
    "        lassign [run_system_cmd \"p4 dirs $P4path\"] ifexist ifnotexist status\n",
    "        if {$ifexist == \"\"} {\n",
    "            dprint LOW $ifnotexist\n",
    "            return $ifnotexist\n",
    "        } elseif {$ifnotexist == \"\"} {\n",
    "            dprint LOW $ifexist\n",
    "            return [split $ifexist \"\\n\" ]\n",
    "        } else {\n",
    "            return 2\n",
    "        }\n",
    "    } on error {result options} {\n",
    "        get_call_stack\n",
    "        eprint $result\n",
    "        eprint [dict get $options -errorstack]\n",
    "    }\n",
    "}"
   ]
  },
  {
   "cell_type": "markdown",
   "metadata": {},
   "source": [
    "::P4::da_p4_sync_root"
   ]
  },
  {
   "cell_type": "code",
   "execution_count": null,
   "metadata": {
    "vscode": {
     "languageId": "shellscript"
    }
   },
   "outputs": [],
   "source": [
    "%%tcl\n",
    "\n",
    "proc ::P4::da_p4_sync_root {{client \"\"}} {\n",
    "    if {$client==\"\"} {global client}\n",
    "    if {[info exists client]} {\n",
    "        set opt(client) \"-c $client(NAME)\"\n",
    "        set opt(root)   \"-f $client(ROOT)\"\n",
    "    } else {\n",
    "        set opt(client) \"\"\n",
    "        set opt(root)   \"\"\n",
    "    }\n",
    "    try {\n",
    "            lassign [run_system_cmd \"p4 $opt(client) sync $opt(root) \"] rsc_out rsc_err status\n",
    "            dprint HIGH $rsc_out\n",
    "            dprint HIGH $rsc_err\n",
    "            return $rsc_out\n",
    "    } on error {result options} {\n",
    "        get_call_stack\n",
    "        eprint $result\n",
    "        eprint [dict get $options -errorstack]\n",
    "    }\n",
    "    return 0\n",
    "}\n"
   ]
  },
  {
   "cell_type": "code",
   "execution_count": null,
   "metadata": {
    "vscode": {
     "languageId": "shellscript"
    }
   },
   "outputs": [],
   "source": [
    "%%tcl\n",
    "\n",
    "proc ::P4::da_p4_submit {description P4file {client \"\"}} {\n",
    "    if {$client==\"\"} {global client}\n",
    "    if {[info exists client]} {\n",
    "        set opt(client) \"-c $client(NAME)\"\n",
    "    } else {\n",
    "        set opt(client) \"\"\n",
    "    }\n",
    "    try {\n",
    "            lassign [run_system_cmd \"p4 $opt(client) submit -d \\\"$description\\\" $P4file \"] rsc_out rsc_err status\n",
    "            dprint HIGH $rsc_out\n",
    "            dprint HIGH $rsc_err\n",
    "            return $rsc_out\n",
    "    } on error {result options} {\n",
    "        get_call_stack\n",
    "        eprint $result\n",
    "        eprint [dict get $options -errorstack]\n",
    "    }\n",
    "    return 0    \n",
    "}\n",
    "\n",
    "\n"
   ]
  },
  {
   "cell_type": "code",
   "execution_count": null,
   "metadata": {
    "vscode": {
     "languageId": "shellscript"
    }
   },
   "outputs": [],
   "source": [
    "%%tcl\n",
    "\n",
    "proc ::P4::da_fstat {P4file tags {spec_tag \"\"}} {\n",
    "\t# creating variations of tags\n",
    "\tset tags_by_comma [regsub -all {\\,  |\\, |   |  | } $tags \", \" ]\n",
    "\tset tags_list [split $tags_by_comma \",\"]\n",
    "\n",
    "    try {\n",
    "\t\t# check file exists\n",
    "        lassign [run_system_cmd \"p4 fstat $P4file\"] noTag ifnotexist status\n",
    "\t\tif {$noTag} {\n",
    "\t\t\treturn [eprint \"Tag not found: $P4file. Abort.\"]\n",
    "\t\t}\n",
    "\t\t# look for those tags\n",
    "        lassign [run_system_cmd \"p4 fstat -T $tags_by_comma $P4file\"] ifexist ifnotexist status\n",
    "\t\t#check if this work and return if not\n",
    "\t\tif {$ifexist == \"\"} {\n",
    "            dprint LOW $ifnotexist\n",
    "            return $ifnotexist\n",
    "        } elseif {$ifnotexist == \"\"} {\n",
    "            dprint LOW $ifexist\n",
    "\t\t\tset P4filelog $ifexist\n",
    "        } else {\n",
    "            return 2\n",
    "        }\n",
    "\t\tif {$spec_tag != \"\"} {\n",
    "\t\t\tif {[regexp -nocase {$spec_tag (\\S+)} $P4filelog -> tagvalue]} {\n",
    "\t\t\t\treturn $tagvalue\n",
    "\t\t\t}\n",
    "\t\t}\n",
    "\t\treturn [veprint LOW \"No value of $spec_tag in $P4filelog\"]\n",
    "\n",
    "    } on error {result options} {\n",
    "        get_call_stack\n",
    "        eprint $result\n",
    "        eprint [dict get $options -errorstack]\n",
    "    }\n",
    "}"
   ]
  }
 ],
 "metadata": {
  "kernelspec": {
   "display_name": "Python 3.8.0 64-bit",
   "language": "python",
   "name": "python3"
  },
  "language_info": {
   "codemirror_mode": {
    "name": "ipython",
    "version": 3
   },
   "file_extension": ".py",
   "mimetype": "text/x-python",
   "name": "python",
   "nbconvert_exporter": "python",
   "pygments_lexer": "ipython3",
   "version": "3.8.0"
  },
  "vscode": {
   "interpreter": {
    "hash": "78ee8c2931daa98418262a3099bec66c014c1eca61453cb33883e29a97d9a0d2"
   }
  }
 },
 "nbformat": 4,
 "nbformat_minor": 2
}
