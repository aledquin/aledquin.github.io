{
 "cells": [
  {
   "cell_type": "code",
   "execution_count": 4,
   "metadata": {
    "pycharm": {
     "name": "#%%\n"
    }
   },
   "outputs": [
    {
     "name": "stdout",
     "output_type": "stream",
     "text": [
      "The tclmagic extension is already loaded. To reload it, use:\n",
      "  %reload_ext tclmagic\n"
     ]
    }
   ],
   "source": [
    "%load_ext tclmagic\n",
    "\n",
    "#  If the prev line doesnt work  install it using the next line in your unix terminal\n",
    "#  /depot/Python/Python-3.8.0/bin/pip install -U tcl-magic\n",
    "#  /depot/Python/Python-3.8.0/bin/pip install -U notebook\n",
    "#  You can configure it to ~/.local/ "
   ]
  },
  {
   "cell_type": "code",
   "execution_count": 5,
   "metadata": {
    "pycharm": {
     "name": "#%%\n"
    }
   },
   "outputs": [
    {
     "data": {
      "text/plain": [
       "'0.3.10'"
      ]
     },
     "execution_count": 5,
     "metadata": {},
     "output_type": "execute_result"
    }
   ],
   "source": [
    "%%tcl \n",
    "\n",
    "set SHELLTOOL_LOC \"/remote/cad-rep/msip/tools/Shelltools\"\n",
    "lappend auto_path \"$SHELLTOOL_LOC/ddr-utils-lay/dev/lib/tcl\"\n",
    "lappend auto_path \"/depot/tcl8.6.3/lib\"\n",
    "\n",
    "set RealBin [file dirname [file normalize [info script]] ]\n",
    "set RealScript [file tail [file normalize [info script]] ]\n",
    "set PROGRAM_NAME $RealScript\n",
    "set LOGFILE \"[pwd]/log-$PROGRAM_NAME.log\"\n",
    "\n",
    "package require Messaging 1.0\n",
    "namespace import ::Messaging::*\n",
    "package require Misc 1.0\n",
    "namespace import ::Misc::*\n",
    "\n",
    "package require cmdline\n",
    "package require try\n",
    "package require yaml"
   ]
  },
  {
   "cell_type": "code",
   "execution_count": 6,
   "metadata": {},
   "outputs": [
    {
     "data": {
      "text/plain": [
       "'PENDING'"
      ]
     },
     "execution_count": 6,
     "metadata": {},
     "output_type": "execute_result"
    }
   ],
   "source": [
    "%%tcl\n",
    "return PENDING\n",
    "proc save_procs { {n} } {\n",
    "   global nnn\n",
    "   set nnn $n\n",
    "   uplevel #0 {\n",
    "      set ooo {}\n",
    "      foreach i [lsort -dict [info procs]] {\n",
    "         if {[lsearch $defaultprocs $i] == -1 &&\n",
    "                 [string index $i 0] != \"\\$\"  &&\n",
    "                 ![string match tcl* $i] &&\n",
    "                 ![string match tk* $i] } {\n",
    "              append ooo \"proc $i { \"\n",
    "              foreach a [info args $i] {\n",
    "                  set d \"\"\n",
    "                  if {[info default $i $a d]} {set d \" {$d}\"}\n",
    "                  append ooo \"{$a $d} \"\n",
    "              }\n",
    "              append ooo \" } {\" [info body $i] \"}\\n\\n\"\n",
    "          }\n",
    "      }\n",
    "      set f [open $nnn w];\n",
    "      puts $f $ooo;\n",
    "      close $f\n",
    "   }\n",
    " } "
   ]
  },
  {
   "cell_type": "code",
   "execution_count": null,
   "metadata": {},
   "outputs": [],
   "source": []
  },
  {
   "cell_type": "code",
   "execution_count": 7,
   "metadata": {},
   "outputs": [
    {
     "data": {
      "text/plain": [
       "'PENDING'"
      ]
     },
     "execution_count": 7,
     "metadata": {},
     "output_type": "execute_result"
    }
   ],
   "source": [
    "%%tcl\n",
    "return PENDING\n",
    "rename proc _proc\n",
    "_proc proc {name arglist body {level \"1\"}} {\n",
    "    \n",
    "\n",
    "}\n"
   ]
  },
  {
   "cell_type": "code",
   "execution_count": 8,
   "metadata": {},
   "outputs": [
    {
     "data": {
      "text/plain": [
       "'PENDING'"
      ]
     },
     "execution_count": 8,
     "metadata": {},
     "output_type": "execute_result"
    }
   ],
   "source": [
    "%%tcl\n",
    "return PENDING\n",
    "#=================================================================\n",
    "# TIME PROFILER\n",
    "# by [Barney Blankenship] (based on work by [George Peter Staplin])\n",
    "# \n",
    "# Insert this snippet above the function definitions you want\n",
    "# to have profiled.\n",
    "#\n",
    "# TO INITIALIZE OR CLEAR/RESET THE PROFILER...\n",
    "# global TimeProfilerMode\n",
    "# if { [info exists TimeProfilerMode] } {\n",
    "#      global ProfilerArray\n",
    "#      array unset ProfilerArray\n",
    "# }\n",
    "#\n",
    "# TO PRODUCE THE OUTPUT (currently hard-coded to \"TimingDump.txt\"\n",
    "# file output \"append\" in the current working directory)...\n",
    "# global TimeProfilerMode\n",
    "# if { [info exists TimeProfilerMode] } {\n",
    "#      TimeProfilerDump description\n",
    "# }\n",
    "# (description: text string shown at the top of the output)\n",
    "#\n",
    "# PROFILING DATA COLLECTION\n",
    "# (This describes what is included in the output)\n",
    "# Provides total elapsed time in milliseconds between reset and dump.\n",
    "# Provides function call statistics...\n",
    "# for each function defined after this snippet, provide...\n",
    "#   Number of times called\n",
    "#   Average milliseconds per call\n",
    "#   Maximum milliseconds call time\n",
    "#   Minimum milliseconds call time\n",
    "#   Total milliseconds used\n",
    "#   Ratio of above to total elapsed time (XX.XXX percent)\n",
    "# In addition, the function call statistics are sorted\n",
    "# in descending values of Ratio (above).\n",
    "#\n",
    "# Note that nested functions and functions that use\n",
    "# recursion are provided for and timed properly.\n",
    "#\n",
    "# TO DISABLE PROFILING WITHOUT REMOVING THE PROFILER\n",
    "# Comment out the \"set TimeProfilerMode 0\" below...\n",
    "#=================================================================\n",
    "\n",
    "global TimeProfilerMode\n",
    "set TimeProfilerMode 0\n",
    "\n",
    "if { [info exists TimeProfilerMode] } {\n",
    "    proc TimeProfiler {args} {\n",
    "        global ProfilerArray\n",
    "        \n",
    "        # Intialize the elapsed time counters if needed...\n",
    "        if { ![info exists ProfilerArray(ElapsedClicks)] } {\n",
    "            set ProfilerArray(ElapsedClicks) [expr double([clock clicks])]\n",
    "            set ProfilerArray(Elapsedms) [expr double([clock clicks -milliseconds])]\n",
    "        }\n",
    "        \n",
    "        set fun [lindex [lindex $args 0] 0]\n",
    "        \n",
    "        if { [lindex $args end] == \"enter\" } {\n",
    "            # Initalize the count of functions if needed...\n",
    "            if { ![info exists ProfilerArray(funcount)] } {\n",
    "                set ProfilerArray(funcount) 0\n",
    "            }\n",
    "            \n",
    "            # See if this function is here for the first time...\n",
    "            for { set fi 0 } { $fi < $ProfilerArray(funcount) } { incr fi } {\n",
    "                if { [string equal $ProfilerArray($fi) $fun] } {\n",
    "                    break\n",
    "                }\n",
    "            }\n",
    "            if { $fi == $ProfilerArray(funcount) } {\n",
    "                # Yes, function first time visit, add...\n",
    "                set ProfilerArray($fi) $fun\n",
    "                set ProfilerArray(funcount) [expr $fi + 1]\n",
    "            }\n",
    "            \n",
    "            # Intialize the \"EnterStack\" if needed...\n",
    "            if { ![info exists ProfilerArray(ES0)] } {\n",
    "                set esi 1\n",
    "            } else {\n",
    "                set esi [expr $ProfilerArray(ES0) + 1]\n",
    "            }\n",
    "            # Append a \"enter clicks\" and \"enter function name index\" to the EnterStack...\n",
    "            set ProfilerArray(ES0) $esi\n",
    "            set ProfilerArray(ES$esi) [clock clicks]\n",
    "            # Note: the above is last thing done so timing start is closest to\n",
    "            # function operation start as possible.\n",
    "        } else {\n",
    "            # Right away stop timing...\n",
    "            set deltaclicks [clock clicks]\n",
    "            \n",
    "            # Do not bother if TimeProfilerDump wiped the ProfilerArray\n",
    "            # just prior to this \"leave\"...\n",
    "            if { [info exists ProfilerArray(ES0)] } {\n",
    "                # Pull an \"enter clicks\" off the EnterStack...\n",
    "                set esi $ProfilerArray(ES0)\n",
    "                set deltaclicks [expr $deltaclicks - $ProfilerArray(ES$esi)]\n",
    "                incr esi -1\n",
    "                set ProfilerArray(ES0) $esi\n",
    "                \n",
    "                # Correct for recursion and nesting...\n",
    "                if { $esi } {\n",
    "                    # Add our elapsed clicks to the previous stacked values to compensate...\n",
    "                    for { set fix $esi } { $fix > 0 } { incr fix -1 } {\n",
    "                        set ProfilerArray(ES$fix) [expr $ProfilerArray(ES$fix) + $deltaclicks]\n",
    "                    }\n",
    "                }\n",
    "                \n",
    "                # Intialize the delta clicks array if needed...\n",
    "                if { ![info exists ProfilerArray($fun,0)] } {\n",
    "                    set cai 1\n",
    "                } else {\n",
    "                    set cai [expr $ProfilerArray($fun,0) + 1]\n",
    "                }\n",
    "                \n",
    "                # Add another \"delta clicks\" reading...\n",
    "                set ProfilerArray($fun,0) $cai\n",
    "                set ProfilerArray($fun,$cai) $deltaclicks\n",
    "            }\n",
    "        }\n",
    "    }\n",
    "    \n",
    "    proc TimeProfilerDump {description} {\n",
    "        global ProfilerArray\n",
    "        \n",
    "        # Stop timing elapsed time and calculate conversion factor for clicks to ms...\n",
    "        set EndClicks [expr {double([clock clicks]) - $ProfilerArray(ElapsedClicks)}]\n",
    "        set Endms [expr {double([clock clicks -milliseconds]) - $ProfilerArray(Elapsedms)}]\n",
    "        set msPerClick [expr $Endms / $EndClicks]\n",
    "        \n",
    "        # Visit each function and generate the statistics for it...\n",
    "        for { set fi 0 ; set PerfList \"\" } { $fi < $ProfilerArray(funcount) } { incr fi } {\n",
    "            set fun $ProfilerArray($fi)\n",
    "            if { ![info exists ProfilerArray($fun,0)] } {\n",
    "                continue\n",
    "            }\n",
    "            for { set max -1.0 ; set min -1.0 ; set ctotal 0.0 ; set cai 1 } { $cai <= $ProfilerArray($fun,0) } { incr cai } {\n",
    "                set clicks $ProfilerArray($fun,$cai)\n",
    "                set ctotal [expr {$ctotal + double($clicks)}]\n",
    "                if { $max < 0 || $max < $clicks } {\n",
    "                    set max $clicks\n",
    "                }\n",
    "                if { $min < 0 || $clicks < $min } {\n",
    "                    set min $clicks\n",
    "                }\n",
    "            }\n",
    "            set cavg [expr {$ctotal / double($ProfilerArray($fun,0))}]\n",
    "            set ProfilerArray($fun,avgms) [expr $cavg * $msPerClick]\n",
    "            set ProfilerArray($fun,totalms) [expr $ctotal * $msPerClick]\n",
    "            set ProfilerArray($fun,ratio) [expr {double($ctotal / $EndClicks) * 100.0}]\n",
    "            set ProfilerArray($fun,max) [expr $max * $msPerClick]\n",
    "            set ProfilerArray($fun,min) [expr $min * $msPerClick]\n",
    "\n",
    "            # Append to the sorting list the pairs of ratio values and function indexes...\n",
    "            lappend PerfList [list $ProfilerArray($fun,ratio) $fi]\n",
    "        }\n",
    "        # Sort the profile data by Ratio...\n",
    "        set PerfList [lsort -real -decreasing -index 0 $PerfList]\n",
    "        \n",
    "        # Finally, generate the results...\n",
    "        set fd [open \"TimingDump.txt\" a]\n",
    "        puts $fd \"\\n====================================================================\"\n",
    "        puts $fd [format \"     T I M I N G  D U M P  <%s>\" $description]\n",
    "        puts $fd [format \"\\n      Elapsed time: %.0f ms\" $Endms]\n",
    "        puts $fd [format \"\\n      %s\" [clock format [clock seconds]]]\n",
    "        puts $fd \"====================================================================\"\n",
    "        for { set li 0 } { $li < [llength $PerfList] } { incr li } {\n",
    "            set fun $ProfilerArray([lindex [lindex $PerfList $li] 1])\n",
    "            puts $fd [format \">>>>> FUNCTION: %s\" $fun]\n",
    "            puts $fd [format \"       CALLS: %d\" $ProfilerArray($fun,0)]\n",
    "            puts $fd [format \"    AVG TIME: %.3f ms\" $ProfilerArray($fun,avgms)]\n",
    "            puts $fd [format \"    MAX TIME: %.3f ms\" $ProfilerArray($fun,max)]\n",
    "            puts $fd [format \"    MIN TIME: %.3f ms\" $ProfilerArray($fun,min)]\n",
    "            puts $fd [format \"  TOTAL TIME: %.3f ms\" $ProfilerArray($fun,totalms)]\n",
    "            puts $fd [format \"       RATIO: %.3f%c\\n\" $ProfilerArray($fun,ratio) 37]\n",
    "        }\n",
    "        close $fd\n",
    "        \n",
    "        # Reset the world...\n",
    "        array unset ProfilerArray\n",
    "    }\n",
    "    \n",
    "    #=================================================================\n",
    "    # Overload \"proc\" so that functions defined after\n",
    "    # this point have added trace handlers for entry and exit.\n",
    "    # [George Peter Staplin]\n",
    "    #=================================================================\n",
    "    rename proc _proc\n",
    "    \n",
    "    _proc proc {name arglist body {level \"1\"}} {\n",
    "                                    #===================================        \n",
    "                                    # Allow multiple namespace use [JMN]\n",
    "                                    if { ![string match ::* $name] } {\n",
    "                                        # Not already an 'absolute' namespace path,\n",
    "                                        # qualify it so that traces can find it...\n",
    "                                        set name [uplevel $level namespace current]::[set name]\n",
    "                                    }\n",
    "                                    #===================================\n",
    "                                    \n",
    "                                    _proc $name $arglist $body\n",
    "                                    trace add execution $name enter TimeProfiler\n",
    "                                    trace add execution $name leave TimeProfiler\n",
    "                                }\n",
    "}"
   ]
  },
  {
   "cell_type": "code",
   "execution_count": 14,
   "metadata": {},
   "outputs": [
    {
     "name": "stdout",
     "output_type": "stream",
     "text": [
      "\n",
      "        set msg \"DEBUG: calling test_debug \"\n",
      "        foreach arg {a b c} {\n",
      "            append msg \"$arg=[set $arg] \"\n",
      "        }\n",
      "        puts $msg\n",
      "        try {\n",
      "            set start [clock microseconds]\n",
      "            set argVals [lmap var {a b c} {set $var}]\n",
      "            set rval [apply {{a b c} {\n",
      "    puts \"a: $a b: $b c: $c\"\n",
      "    return [string length $a]\n",
      "}} {*}$argVals]\n",
      "        } finally {\n",
      "            puts \"DEBUG: test_debug returned $rval\"\n",
      "        }\n",
      "     \n",
      "DEBUG: calling test_debug a=1 b=2 c=3 \n"
     ]
    },
    {
     "name": "stderr",
     "output_type": "stream",
     "text": [
      "TclError: can't read \"rval\": no such variable"
     ]
    }
   ],
   "source": [
    "%%tcl\n",
    "\n",
    "proc debug {p pname pargs lambda} {\n",
    "    if {$p ne \"proc\"} { error \"bad syntax: $p != 'proc'\" }\n",
    "    proc $pname $pargs \"\n",
    "        set msg \\\"DEBUG: calling $pname \\\"\n",
    "        foreach arg {$pargs} {\n",
    "            append msg \\\"\\$arg=\\[set \\$arg\\] \\\"\n",
    "        }\n",
    "        puts \\$msg\n",
    "        try {\n",
    "            set start \\[clock microseconds\\]\n",
    "            set argVals \\[lmap var {$pargs} {set \\$var}]\n",
    "            set rval \\[apply {{$pargs} {$lambda}} {*}\\$argVals\\]\n",
    "        } finally {\n",
    "            puts \\\"DEBUG: $pname returned \\$rval\\\"\n",
    "        }\n",
    "     \"\n",
    "}\n",
    "\n",
    "\n",
    "\n",
    "debug proc test_debug {a b c} {\n",
    "    puts \"a: $a b: $b c: $c\"\n",
    "    return [string length $a]\n",
    "}\n",
    "\n",
    "puts [info body test_debug]\n",
    "\n",
    "test_debug 1 2 3\n"
   ]
  },
  {
   "cell_type": "code",
   "execution_count": 15,
   "metadata": {},
   "outputs": [
    {
     "data": {
      "text/plain": [
       "'\\n    set len [llength $fun]\\n    if {($len < 2) || ($len > 3)} {\\n         error \"can\\'t interpret \\\\\"$fun\\\\\" as anonymous function\"\\n    }\\n    lassign $fun argList body ns\\n    set name ::$ns::[getGloballyUniqueName]\\n    set body0 {\\n         rename [lindex [info level 0] 0] {}\\n    }\\n    proc $name $argList ${body0}$body\\n    set code [catch {uplevel 1 $name $args} res opt]\\n    return -options $opt $res\\n'"
      ]
     },
     "execution_count": 15,
     "metadata": {},
     "output_type": "execute_result"
    }
   ],
   "source": [
    "%%tcl\n",
    "\n",
    "proc apply {fun args} {\n",
    "    set len [llength $fun]\n",
    "    if {($len < 2) || ($len > 3)} {\n",
    "         error \"can't interpret \\\"$fun\\\" as anonymous function\"\n",
    "    }\n",
    "    lassign $fun argList body ns\n",
    "    set name ::$ns::[getGloballyUniqueName]\n",
    "    set body0 {\n",
    "         rename [lindex [info level 0] 0] {}\n",
    "    }\n",
    "    proc $name $argList ${body0}$body\n",
    "    set code [catch {uplevel 1 $name $args} res opt]\n",
    "    return -options $opt $res\n",
    "}\n",
    "info body apply"
   ]
  },
  {
   "cell_type": "code",
   "execution_count": null,
   "metadata": {},
   "outputs": [],
   "source": []
  }
 ],
 "metadata": {
  "kernelspec": {
   "display_name": "Python 3.8.0 64-bit",
   "language": "python",
   "name": "python3"
  },
  "language_info": {
   "codemirror_mode": {
    "name": "ipython",
    "version": 3
   },
   "file_extension": ".py",
   "mimetype": "text/x-python",
   "name": "python",
   "nbconvert_exporter": "python",
   "pygments_lexer": "ipython3",
   "version": "3.8.0"
  },
  "vscode": {
   "interpreter": {
    "hash": "c3d345ea7dd8dec32b61550779874757ed867b46e7998fc31be5770c5f4a6bbb"
   }
  }
 },
 "nbformat": 4,
 "nbformat_minor": 2
}
