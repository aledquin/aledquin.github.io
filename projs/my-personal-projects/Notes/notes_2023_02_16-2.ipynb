{
 "cells": [
  {
   "cell_type": "code",
   "execution_count": 1,
   "metadata": {
    "pycharm": {
     "name": "#%%\n"
    }
   },
   "outputs": [
    {
     "data": {
      "application/javascript": "\n            requirejs.config({\n                paths: {\n                    codemirror: \"https://cdn.rawgit.com/marijnh/CodeMirror/master\"\n                }\n            });\n            requirejs([\"codemirror/mode/tcl/tcl\"], function(codemirror) {\n                IPython.CodeCell.options_default.highlight_modes['magic_text/x-tcl'] = {'reg':[/^%%tcl/]};\n                IPython.notebook.events.one('kernel_ready.Kernel', function() {\n                    IPython.notebook.get_cells().map(function(cell) {\n                        if (cell.cell_type == 'code') {\n                            cell.auto_highlight();\n                        }\n                    });\n                });\n            });\n        "
     },
     "metadata": {},
     "output_type": "display_data"
    }
   ],
   "source": [
    "%load_ext tclmagic\n",
    "\n",
    "#  If the prev line doesnt work  install it using the next line in your unix terminal\n",
    "#  /depot/Python/Python-3.8.0/bin/pip install -U tcl-magic\n",
    "#  You can configure it to ~/.local/ "
   ]
  },
  {
   "cell_type": "code",
   "execution_count": 2,
   "metadata": {
    "pycharm": {
     "name": "#%%\n"
    },
    "vscode": {
     "languageId": "bat"
    }
   },
   "outputs": [
    {
     "data": {
      "text/plain": [
       "'0.3.10'"
      ]
     },
     "execution_count": 2,
     "metadata": {},
     "output_type": "execute_result"
    }
   ],
   "source": [
    "%%tcl \n",
    "\n",
    "set SHELLTOOL_LOC \"$env(HOME)/GitLab/ddr-hbm-phy-automation-team\"\n",
    "lappend auto_path \"$SHELLTOOL_LOC/sharedlib/tcl/lib\"\n",
    "lappend auto_path \"/depot/tcl8.6.3/lib\"\n",
    "\n",
    "set RealBin [file dirname [file normalize [info script]] ]\n",
    "set RealScript [file tail [file normalize [info script]] ]\n",
    "set PROGRAM_NAME $RealScript\n",
    "set LOGFILE \"[pwd]/log-$PROGRAM_NAME.log\"\n",
    "\n",
    "package require Messaging 1.0\n",
    "namespace import ::Messaging::*\n",
    "package require Misc 1.0\n",
    "namespace import ::Misc::*\n",
    "\n",
    "package require cmdline\n",
    "package require try\n",
    "package require yaml"
   ]
  },
  {
   "cell_type": "code",
   "execution_count": 3,
   "metadata": {},
   "outputs": [
    {
     "data": {
      "text/plain": [
       "'/u/alvaro/GitLab/ddr-hbm-phy-automation-team/ddr-ckt-rel/dev/main/tdata'"
      ]
     },
     "execution_count": 3,
     "metadata": {},
     "output_type": "execute_result"
    }
   ],
   "source": [
    "%%tcl\n",
    "set tcl2yml \"$SHELLTOOL_LOC/ddr-ckt-rel/dev/main/bin/ddr-da-tcl2yml.tcl\"\n",
    "set key_word \"legalRelease\"\n",
    "set suffix_format \".txt\"\n",
    "set DIR_LOC \"$SHELLTOOL_LOC/ddr-ckt-rel/dev/main/tdata\""
   ]
  },
  {
   "cell_type": "code",
   "execution_count": 4,
   "metadata": {},
   "outputs": [],
   "source": [
    "%%tcl\n",
    "proc get_legal_release_list {key_word suffix_format} {\n",
    "    return [exec find . -type f | grep $key_word | grep $suffix_format ]\n",
    "}"
   ]
  },
  {
   "cell_type": "markdown",
   "metadata": {},
   "source": [
    "checking it worked"
   ]
  },
  {
   "cell_type": "code",
   "execution_count": 5,
   "metadata": {},
   "outputs": [
    {
     "name": "stderr",
     "output_type": "stream",
     "text": [
      "TclError: can't read \"legalrelease_list\": no such variable"
     ]
    }
   ],
   "source": [
    "%%tcl\n",
    "string trimright [lindex $legalrelease_list 0] $type_file"
   ]
  },
  {
   "cell_type": "code",
   "execution_count": 6,
   "metadata": {},
   "outputs": [],
   "source": [
    "%%tcl\n",
    "proc remove_suffix {path_list suffix} {\n",
    "    foreach path $path_list {\n",
    "        lappend output_list [string trimright $path $suffix]\n",
    "    }\n",
    "    return $output_list\n",
    "}"
   ]
  },
  {
   "cell_type": "code",
   "execution_count": 7,
   "metadata": {},
   "outputs": [
    {
     "data": {
      "text/plain": [
       "'./alphaDepotRelChecker/legalRelease ./alphaHLDepotLibRelease/lpddr54.d850-lpddr54-tsmc5ffp12.rel2.00_cktpcs.legalRelease ./alphaHLDepotLibRelease/lpddr54.d890-lpddr54-tsmc5ff-12.rel1.00_cktpcs.legalRelease ./alphaHLDepotRelPinCheck/ddr5.d910-ddr5-tsmc5ff-12.rel1.00_cktpcs.legalRelease ./alphaHLDepotRelease/legalRelease/ddr5.d910-ddr5-tsmc5ff-12.rel1.00_cktpcs_1.00a_rel_.design.legalRelease ./alphaHLDepotRelease/legalRelease/ddr5.d910-ddr5-tsmc5ff-12.rel1.00_cktpcs_prerel_1.00a_final.design.legalRelease ./alphaHLDepotRelease/legalRelease/ddr5.d910-ddr5-tsmc5ff-12.rel1.00_cktpcs_prerel_final.design.legalRelease ./alphaHLDepotRelease/legalRelease/ddr5.d910-ddr5-tsmc5ff-12.rel1.00_cktpcs_prerel_prefinal.design.legalRelease ./alphaHLDepotRelease/legalRelease/ddr5.d910-ddr5-tsmc5ff-12.rel1.00_cktpcs_prerel_prelim.design.legalRelease ./alphaHLDepotRelease/legalRelease/ddr5.d910-ddr5-tsmc5ff-12.rel1.00_cktpcstc.design.legalRelease ./alphaHLDepotRelease/legalRelease/ddr5.d912-ddr5-tsmc3eff-12.rel1.00_cktpcs.pcs.design.legalRelease ./alphaHLDepotRelease/legalRelease/ddr5.d912-ddr5-tsmc3eff-12.rel1.00_cktpcs_prerel_prefinal.design.legalRelease ./alphaHLDepotRelease/legalRelease/ddr5.d912-ddr5-tsmc3eff-12.rel1.00_cktpcs_prerel_prelim.design.legalRelease ./alphaHLDepotRelease/legalRelease/ddr5.d912-ddr5-tsmc3eff-12.rel1.00_cktpcstc.design.legalRelease ./alphaHLDepotRelease/legalRelease/ddr5.d912-ddr5-tsmc3eff-12.rel1.00_cktpcstc_1.00a_tc_rel_.design.legalRelease ./alphaHLDepotRelease/legalRelease/ddr54.d589-ddr45-lite-tsmc7ff18.rel0.60_qcom.design.legalRelease ./alphaHLDepotRelease/legalRelease/ddr54.d589-ddr45-lite-tsmc7ff18.rel0.61_qcom.design.legalRelease ./alphaHLDepotRelease/legalRelease/ddr54.d589-ddr45-lite-tsmc7ff18.rel0.62_qcom.design.legalRelease ./alphaHLDepotRelease/legalRelease/ddr54.d589-ddr45-lite-tsmc7ff18.rel0.70_qcom.design.legalRelease ./alphaHLDepotRelease/legalRelease/ddr54.d589-ddr45-lite-tsmc7ff18.rel1.00_nramalho_eval.design.legalRelease ./alphaHLDepotRelease/legalRelease/ddr54.d589-ddr45-lite-tsmc7ff18.rel1.00_prerel_.design.legalRelease ./alphaHLDepotRelease/legalRelease/ddr54.d589-ddr45-lite-tsmc7ff18.rel1.00_prerel_nramalho.design.legalRelease ./alphaHLDepotRelease/legalRelease/ddr54.d589-ddr45-lite-tsmc7ff18.rel1.00_rel_.design.legalRelease ./alphaHLDepotRelease/legalRelease/ddr54.d589-ddr45-lite-tsmc7ff18.rel1.00_rel_nramalho.design.legalRelease ./alphaHLDepotRelease/legalRelease/ddr54.d589-ddr45-lite-tsmc7ff18.rel1.00tc_eval.design.legalRelease ./alphaHLDepotRelease/legalRelease/ddr54.d801-ddr54-tsmc16ffc18.rel1.00_1.00a_rel_.design.legalRelease ./alphaHLDepotRelease/legalRelease/ddr54.d801-ddr54-tsmc16ffc18.rel1.00_cktpcs_1.10a_rel_.design.legalRelease ./alphaHLDepotRelease/legalRelease/ddr54.d801-ddr54-tsmc16ffc18.rel1.00_cktpcs_1.11a_rel_.design.legalRelease ./alphaHLDepotRelease/legalRelease/ddr54.d801-ddr54-tsmc16ffc18.rel1.00_cktpcs_1.12a_rel_.design.legalRelease ./alphaHLDepotRelease/legalRelease/ddr54.d802-ddr54-ss7lpp18.rel0.90.design.legalRelease ./alphaHLDepotRelease/legalRelease/ddr54.d801-ddr54-tsmc16ffc18.rel1.00_cktpcs_eval.design.legalRelease ./alphaHLDepotRelease/legalRelease/ddr54.d801-ddr54-tsmc16ffc18.rel1.00_prerel_1.00a_pre3.design.legalRelease ./alphaHLDepotRelease/legalRelease/ddr54.d802-ddr54-ss7lpp18.rel1.00_0.90a_rel_.design.legalRelease ./alphaHLDepotRelease/legalRelease/ddr54.d802-ddr54-ss7lpp18.rel1.00_cktpcs.design.legalRelease ./alphaHLDepotRelease/legalRelease/ddr54.d802-ddr54-ss7lpp18.rel1.00_cktpcs_0.90a_rel_.design.legalRelease ./alphaHLDepotRelease/legalRelease/ddr54.d803-ddr54-ss10lpp18.rel0.90.design.legalRelease ./alphaHLDepotRelease/legalRelease/ddr54.d803-ddr54-ss10lpp18.rel0.90_tc_1.00a_v1.2.3dk_rel_.design.legalRelease ./alphaHLDepotRelease/legalRelease/ddr54.d803-ddr54-ss10lpp18.rel1.00.design.legalRelease ./alphaHLDepotRelease/legalRelease/ddr54.d803-ddr54-ss10lpp18.rel1.00_cktpcs_1.00a_v1.2.3dk_rel_.design.legalRelease ./alphaHLDepotRelease/legalRelease/ddr54.d803-ddr54-ss10lpp18.rel1.00_cktpcs_1.01a_v1.2.3dk_rel_.design.legalRelease ./alphaHLDepotRelease/legalRelease/ddr54.d803-ddr54-ss10lpp18.rel1.10.design.legalRelease ./alphaHLDepotRelease/legalRelease/ddr54.d803-ddr54-ss10lpp18.rel1.10_cover.design.legalRelease ./alphaHLDepotRelease/legalRelease/ddr54.d805-ddr54-tsmc7ff_plus18.rel0.95_tc_prerel_.design.legalRelease ./alphaHLDepotRelease/legalRelease/ddr54.d805-ddr54-tsmc7ff_plus18.rel0.95_tc_prerel_1.00a_v1.0.2dk.design.legalRelease ./alphaHLDepotRelease/legalRelease/ddr54.d805-ddr54-tsmc7ff_plus18.rel1.00_cktpcs_1.00a_v1.0.2dk_rel_.design.legalRelease ./alphaHLDepotRelease/legalRelease/ddr54.d806-ddr54-tsmc12ffc18.rel0.90_tc_1.00a_rel_.design.legalRelease ./alphaHLDepotRelease/legalRelease/ddr54.d806-ddr54-tsmc12ffc18.rel1.00_1.00a_rel_.design.legalRelease ./alphaHLDepotRelease/legalRelease/ddr54.d806-ddr54-tsmc12ffc18.rel1.00_cktpcs_1.10a_rel_.design.legalRelease ./alphaHLDepotRelease/legalRelease/ddr54.d806-ddr54-tsmc12ffc18.rel1.00_cktpcs_eval.design.legalRelease ./alphaHLDepotRelease/legalRelease/ddr54.d806-ddr54-tsmc12ffc18.rel1.00_prerel_1.00a_pre3.design.legalRelease ./alphaHLDepotRelease/legalRelease/ddr54.d808-ddr54-gf14lpp18.rel1.00.design.legalRelease ./alphaHLDepotRelease/legalRelease/ddr54.d809-ddr54-tsmc7ff18.rel0.95_tc.design.legalRelease ./alphaHLDepotRelease/legalRelease/ddr54.d809-ddr54-tsmc7ff18.rel1.00_cktpcs_1.00a_v1.2dk_rel_.design.legalRelease ./alphaHLDepotRelease/legalRelease/ddr54.d809-ddr54-tsmc7ff18.rel1.00_cktpcs_1.01a_v1.2dk_rel_.design.legalRelease ./alphaHLDepotRelease/legalRelease/ddr54.d809-ddr54-tsmc7ff18.rel1.00_cktpcs_1.10a_rel_.design.legalRelease ./alphaHLDepotRelease/legalRelease/ddr54.d809-ddr54-tsmc7ff18.rel1.00_cktpcs_1.20a_amzn_rel_.design.legalRelease ./alphaHLDepotRelease/legalRelease/ ./alphaHLDepotRelease/legalRelease/ddr54.d809-ddr54-tsmc7ff18.rel1.00_cktpcs_1.20a_rel_.design.legalRelease ./alphaHLDepotRelease/legalRelease/ddr54.d809-ddr54-tsmc7ff18.rel1.00_cktpcs_1.30a_amzn_rel_.design.legalRelease ./alphaHLDepotRelease/legalRelease/ddr54.d809-ddr54-tsmc7ff18.rel1.00_cktpcs_1.40a_amzn_rel_.design.legalRelease ./alphaHLDepotRelease/legalRelease/ddr54.d809-ddr54-tsmc7ff18.rel1.00_cktpcs_rel_.design.legalRelease ./alphaHLDepotRelease/legalRelease/ddr54.d809-ddr54-tsmc7ff18.rel1.10_1.10a_repeater_rel_.design.legalRelease ./alphaHLDepotRelease/legalRelease/ddr54.d809-ddr54-tsmc7ff18.rel1.10_amzn_sup1.design.legalRelease ./alphaHLDepotRelease/legalRelease/ddr54.d809-ddr54-tsmc7ff18.rel1.10_amzn_sup2.design.legalRelease ./alphaHLDepotRelease/legalRelease/ddr54.d809-ddr54-tsmc7ff18.rel1.10_cover_sup1.design.legalRelease ./alphaHLDepotRelease/legalRelease/ddr54.d809-ddr54-tsmc7ff18.rel1.20.design.legalRelease ./alphaHLDepotRelease/legalRelease/ddr54.d810-ddr54-tsmc5ff12.rel1.00_cktpcs.design_unrestricted.legalRelease ./alphaHLDepotRelease/legalRelease/ddr54.d810-ddr54-tsmc5ff12.rel1.00_cktpcs_2.40a_rel_.design.legalRelease ./alphaHLDepotRelease/legalRelease/ddr54.d810-ddr54-tsmc5ff12.rel1.00_cktpcs_2.40a_rel_.design_unrestricted.legalRelease ./alphaHLDepotRelease/legalRelease/ddr54.d810-ddr54-tsmc5ff12.rel1.00_cktpcs_2.60a_rel_.design.legalRelease ./alphaHLDepotRelease/legalRelease/ddr54.d810-ddr54-tsmc5ff12.rel1.00_cktpcs_2.60a_rel_.design_unrestricted.legalRelease ./alphaHLDepotRelease/legalRelease/ddr54.d810-ddr54-tsmc5ff12.rel1.00_cktpcs_3.00a_rel_.design.legalRelease ./alphaHLDepotRelease/legalRelease/ddr54.d810-ddr54-tsmc5ff12.rel1.00_cktpcs_3.00a_rel_.design_unrestricted.legalRelease ./alphaHLDepotRelease/legalRelease/ddr54.d810-ddr54-tsmc5ff12.rel1.00_cktpcs_eval.design_unrestricted.legalRelease ./alphaHLDepotRelease/legalRelease/ddr54.d810-ddr54-tsmc5ff12.rel1.00_cktpcs_prerel_1.00a_pre2_v1.0dk.design.legalRelease ./alphaHLDepotRelease/legalRelease/ddr54.d810-ddr54-tsmc5ff12.rel1.00_cktpcs_prerel_1.00a_pre2_v1.0dk.design_unrestricted.legalRelease ./alphaHLDepotRelease/legalRelease/ddr54.d810-ddr54-tsmc5ff12.rel1.00_cktpcs_prerel_final.design.legalRelease ./alphaHLDepotRelease/legalRelease/ddr54.d810-ddr54-tsmc5ff12.rel1.00_cktpcs_prerel_final.design_unrestricted.legalRelease ./alphaHLDepotRelease/legalRelease/ddr54.d810-ddr54-tsmc5ff12.rel2.10_mrvl.design.legalRelease ./alphaHLDepotRelease/legalRelease/ddr54.d810-ddr54-tsmc5ff12.rel2.10_mrvl.design_unrestricted.legalRelease ./alphaHLDepotRelease/legalRelease/ddr54.d819-ddr54-cuamd-tsmc7ff18.rel0.90.design.legalRelease ./alphaHLDepotRelease/legalRelease/ddr54.d819-ddr54-cuamd-tsmc7ff18.rel1.00_cktpcs_1.00a_rel_.design.legalRelease ./alphaHLDepotRelease/legalRelease/ddr54.d819-ddr54-cuamd-tsmc7ff18.rel1.00_cktpcs_prerel_1.00a_pre3.design.legalRelease ./alphaHLDepotRelease/legalRelease/ddr54.d823-ddr54v2-cuamd-tsmc5ff-12.rel1.00_cktpcs_1.00a_rel_.design.legalRelease ./alphaHLDepotRelease/legalRelease/ddr54.d823-ddr54v2-cuamd-tsmc5ff-12.rel1.00_cktpcs_1.10a_rel_.design.legalRelease ./alphaHLDepotRelease/legalRelease/ddr54.d823-ddr54v2-cuamd-tsmc5ff-12.rel1.00_cktpcs_prerel_prefinal.design.legalRelease ./alphaHLDepotRelease/legalRelease/lpddr54.d000-lpddr54-tsmc7ff18.rel1.00_eval.design_unrestricted.legalRelease ./alphaHLDepotRelease/legalRelease/lpddr54.d850-lpddr54-tsmc5ffp12.rel0.50_ew.design_unrestricted.legalRelease ./alphaHLDepotRelease/legalRelease/lpddr54.d850-lpddr54-tsmc5ffp12.rel0.50_ew_0.50a_ew_rel_.design_unrestricted.legalRelease ./alphaHLDepotRelease/legalRelease/lpddr54.d850-lpddr54-tsmc5ffp12.rel0.50_ew_prerel_.design_unrestricted.legalRelease ./alphaHLDepotRelease/legalRelease/lpddr54.d850-lpddr54-tsmc5ffp12.rel0.50_ew_prerel_re.design_unrestricted.legalRelease ./alphaHLDepotRelease/legalRelease/lpddr54.d850-lpddr54-tsmc5ffp12.rel1.00_eval.design_unrestricted.legalRelease ./alphaHLDepotRelease/legalRelease/lpddr54.d850-lpddr54-tsmc5ffp12.rel1.00_ew.design_unrestricted.legalRelease ./alphaHLDepotRelease/legalRelease/lpddr54.d850-lpddr54-tsmc5ffp12.rel1.00_ew_1.00a_ew_rel_.design_unrestricted.legalRelease ./alphaHLDepotRelease/legalRelease/lpddr54.d850-lpddr54-tsmc5ffp12.rel1.00_ew_1.10a_ew_rel_.design.legalRelease ./alphaHLDepotRelease/legalRelease/lpddr54.d850-lpddr54-tsmc5ffp12.rel1.00_ew_1.10a_ew_rel_.design_unrestricted.legalRelease ./alphaHLDepotRelease/legalRelease/lpddr54.d850-lpddr54-tsmc5ffp12.rel1.00_ew_1.20a_ew_rel_.design.legalRelease ./alphaHLDepotRelease/legalRelease/lpddr54.d850-lpddr54-tsmc5ffp12.rel1.00_ew_1.20a_ew_rel_.design_unrestricted.legalRelease ./alphaHLDepotRelease/legalRelease/lpddr54.d850-lpddr54-tsmc5ffp12.rel1.00_ew_prerel_1.10a.design_unrestricted.legalRelease ./alphaHLDepotRelease/legalRelease/lpddr54.d850-lpddr54-tsmc5ffp12.rel1.30_ew.design.legalRelease ./alphaHLDepotRelease/legalRelease/lpddr54.d850-lpddr54-tsmc5ffp12.rel1.30_ew_1.30a_ew_rel_.design.legalRelease ./alphaHLDepotRelease/legalRelease/lpddr54.d850-lpddr54-tsmc5ffp12.rel2.00_cktpcs_2.00a_rel_.design.legalRelease ./alphaHLDepotRelease/legalRelease/lpddr54.d850-lpddr54-tsmc5ffp12.rel2.00_cktpcs_2.10a_cusni_sup1_rel_.design.legalRelease ./alphaHLDepotRelease/legalRelease/lpddr54.d850-lpddr54-tsmc5ffp12.rel2.00_cktpcs_2.10a_rel_.design.legalRelease ./alphaHLDepotRelease/legalRelease/lpddr54.d850-lpddr54-tsmc5ffp12.rel2.00_cktpcs_2.20a_rel_.design.legalRelease ./alphaHLDepotRelease/legalRelease/lpddr54.d850-lpddr54-tsmc5ffp12.rel2.20_cusni_sup2_rel_.design.legalRelease ./alphaHLDepotRelease/legalRelease/lpddr54.d850-lpddr54-tsmc5ffp12.rel2.00_cktpcs_2.30a_rel_.design.legalRelease ./alphaHLDepotRelease/legalRelease/lpddr54.d850-lpddr54-tsmc5ffp12.rel2.00_cktpcs_3.00a_rel_.design.legalRelease ./alphaHLDepotRelease/legalRelease/lpddr54.d850-lpddr54-tsmc5ffp12.rel2.00_cktpcs_prerel_pre3_ns.design.legalRelease ./alphaHLDepotRelease/legalRelease/lpddr54.d851-lpddr54-tsmc16ffc18.rel0.60.design.legalRelease ./alphaHLDepotRelease/legalRelease/lpddr54.d851-lpddr54-tsmc16ffc18.rel1.00_1.00a_rel_.design.legalRelease ./alphaHLDepotRelease/legalRelease/lpddr54.d851-lpddr54-tsmc16ffc18.rel1.00_ns_1.00a_ns_rel_.design.legalRelease ./alphaHLDepotRelease/legalRelease/lpddr54.d851-lpddr54-tsmc16ffc18.rel1.00_prerel_1.00a_pre3.design.legalRelease ./alphaHLDepotRelease/legalRelease/lpddr54.d851-lpddr54-tsmc16ffc18.rel1.20_1.20a_rel_.design.legalRelease ./alphaHLDepotRelease/legalRelease/lpddr54.d851-lpddr54-tsmc16ffc18.rel1.20_ew.design.legalRelease ./alphaHLDepotRelease/legalRelease/lpddr54.d851-lpddr54-tsmc16ffc18.rel1.20_ew_rel_.design.legalRelease ./alphaHLDepotRelease/legalRelease/lpddr54.d851-lpddr54-tsmc16ffc18.rel2.00_cktpcs_2.20a_rel_.design.legalRelease ./alphaHLDepotRelease/legalRelease/lpddr54.d851-lpddr54-tsmc16ffc18.rel2.00_cktpcs_2.30a_rel_.design.legalRelease ./alphaHLDepotRelease/legalRelease/lpddr54.d851-lpddr54-tsmc16ffc18.rel2.00_cktpcs_3.00a_rel_.design.legalRelease ./alphaHLDepotRelease/legalRelease/lpddr54.d851-lpddr54-tsmc16ffc18.rel2.00_cktpcs_eval.design.legalRelease ./alphaHLDepotRelease/legalRelease/lpddr54.d851-lpddr54-tsmc16ffc18.rel2.00_ew.design.legalRelease ./alphaHLDepotRelease/legalRelease/lpddr54.d851-lpddr54-tsmc16ffc18.rel2.10_ew.design.legalRelease ./alphaHLDepotRelease/legalRelease/lpddr54.d851-lpddr54-tsmc16ffc18.rel2.10_ew_2.10a_ew_rel_.design.legalRelease ./alphaHLDepotRelease/legalRelease/lpddr54.d852-lpddr54-tsmc6ff18.rel1.00.design.legalRelease ./alphaHLDepotRelease/legalRelease/lpddr54.d852-lpddr54-tsmc6ff18.rel1.00_1.00a_rel_.design.legalRelease ./alphaHLDepotRelease/legalRelease/lpddr54.d852-lpddr54-tsmc6ff18.rel1.20_1.20a_rel_.design.legalRelease ./alphaHLDepotRelease/legalRelease/lpddr54.d856-lpddr54-tsmc12ffc18.rel1.00_1.00a_rel_.design.legalRelease ./alphaHLDepotRelease/legalRelease/lpddr54.d856-lpddr54-tsmc12ffc18.rel1.00_ns_1.00a_ns_rel_.design.legalRelease ./alphaHLDepotRelease/legalRelease/lpddr54.d856-lpddr54-tsmc12ffc18.rel1.20_1.20a_rel_.design.legalRelease ./alphaHLDepotRelease/legalRelease/lpddr54.d856-lpddr54-tsmc12ffc18.rel1.20_ew_1.20a_ew_rel_.design.legalRelease ./alphaHLDepotRelease/legalRelease/lpddr54.d856-lpddr54-tsmc12ffc18.rel2.00_cktpcs_2.30a_rel_.design.legalRelease ./alphaHLDepotRelease/legalRelease/lpddr54.d856-lpddr54-tsmc12ffc18.rel2.00_cktpcs_2.50a_rel_.design.legalRelease ./alphaHLDepotRelease/legalRelease/lpddr54.d856-lpddr54-tsmc12ffc18.rel2.00_cktpcs_3.00a_rel_.design.legalRelease ./alphaHLDepotRelease/legalRelease/lpddr54.d856-lpddr54-tsmc12ffc18.rel2.00_cktpcs_eval.design.legalRelease ./alphaHLDepotRelease/legalRelease/lpddr54.d859-lpddr54-tsmc7ff18.rel0.95_tc.design.legalRelease ./alphaHLDepotRelease/legalRelease/lpddr54.d859-lpddr54-tsmc7ff18.rel1.00_1.00a_rel_.design.legalRelease ./alphaHLDepotRelease/legalRelease/lpddr54.d859-lpddr54-tsmc7ff18.rel1.00_rel_.design.legalRelease ./alphaHLDepotRelease/legalRelease/lpddr54.d859-lpddr54-tsmc7ff18.rel1.00_snap_2017_12_26.design.legalRelease ./alphaHLDepotRelease/legalRelease/lpddr54.d859-lpddr54-tsmc7ff18.rel1.00_snap_2018_04_02.design.legalRelease ./alphaHLDepotRelease/legalRelease/lpddr54.d859-lpddr54-tsmc7ff18.rel1.10_prerel_.design.legalRelease ./alphaHLDepotRelease/legalRelease/lpddr54.d859-lpddr54-tsmc7ff18.rel1.10_prerel_pre3.design.legalRelease ./alphaHLDepotRelease/legalRelease/lpddr54.d859-lpddr54-tsmc7ff18.rel1.20_patch1.design_unrestricted.legalRelease ./alphaHLDepotRelease/legalRelease/lpddr54.d859-lpddr54-tsmc7ff18.rel1.20_patch1_1.20a_patch1_rel_.design_unrestricted.legalRelease ./alphaHLDepotRelease/legalRelease/lpddr54.d859-lpddr54-tsmc7ff18.rel1.20_patch3.design.legalRelease ./alphaHLDepotRelease/legalRelease/lpddr54.d859-lpddr54-tsmc7ff18.rel2.00.design_unrestricted.legalRelease ./alphaHLDepotRelease/legalRelease/lpddr54.d859-lpddr54-tsmc7ff18.rel2.00_2.00a_rel_.design_unrestricted.legalRelease ./alphaHLDepotRelease/legalRelease/lpddr54.d859-lpddr54-tsmc7ff18.rel2.00_c239r930eval.design_unrestricted.legalRelease ./alphaHLDepotRelease/legalRelease/lpddr54.d859-lpddr54-tsmc7ff18.rel2.00_prerel_pre2.design_unrestricted.legalRelease ./alphaHLDepotRelease/legalRelease/lpddr54.d859-lpddr54-tsmc7ff18.rel2.00_prerel_pre3.design_unrestricted.legalRelease ./alphaHLDepotRelease/legalRelease/lpddr54.d859-lpddr54-tsmc7ff18.rel2.10.design_unrestricted.legalRelease ./alphaHLDepotRelease/legalRelease/lpddr54.d859-lpddr54-tsmc7ff18.rel2.10_2.10a_rel_.design_unrestricted.legalRelease ./alphaHLDepotRelease/legalRelease/lpddr54.d859-lpddr54-tsmc7ff18.rel3.00_n6_amd_eval.design_unrestricted.legalRelease ./alphaHLDepotRelease/legalRelease/lpddr54.d859-lpddr54-tsmc7ff18_ST.rel1.00.design_unrestricted.legalRelease ./alphaHLDepotRelease/legalRelease/lpddr54.d859-lpddr54-tsmc7ff18_ST.rel1.00_1.00a_rel_.design_unrestricted.legalRelease ./alphaHLDepotRelease/legalRelease/lpddr54.d859-lpddr54-tsmc7ff18_ST.rel1.00_eval.design_unrestricted.legalRelease ./alphaHLDepotRelease/legalRelease/lpddr54.d859-lpddr54-tsmc7ff18_ST.rel1.00_t6_eval.design_unrestricted.legalRelease ./alphaHLDepotRelease/legalRelease/lpddr54.d859-lpddr54-tsmc7ff18_ST.rel2.00.design_unrestricted.legalRelease ./alphaHLDepotRelease/legalRelease/lpddr54.d859-lpddr54-tsmc7ff18_ST.rel2.00_2.00a_rel_.design_unrestricted.legalRelease ./alphaHLDepotRelease/legalRelease/lpddr54.d859-lpddr54-tsmc7ff18_ST.rel2.00_cktpcs_2.30a_rel_.design.legalRelease ./alphaHLDepotRelease/legalRelease/lpddr54.d859-lpddr54-tsmc7ff18_ST.rel2.00_cktpcs_2.40a_rel_.design.legalRelease ./alphaHLDepotRelease/legalRelease/lpddr54.d859-lpddr54-tsmc7ff18_ST.rel2.00_cktpcs_2.50a_rel_.design.legalRelease ./alphaHLDepotRelease/legalRelease/lpddr54.d859-lpddr54-tsmc7ff18_ST.rel2.00_n6cktpcs.design_unrestricted.legalRelease ./alphaHLDepotRelease/legalRelease/lpddr54.d862-lpddr54-cuamd-tsmc6ff18.rel2.00.design_unrestricted.legalRelease ./alphaHLDepotRelease/legalRelease/lpddr54.d862-lpddr54-cuamd-tsmc6ff18.rel2.00_pre4.design_unrestricted.legalRelease ./alphaHLDepotRelease/legalRelease/lpddr54.d862-lpddr54-cuamd-tsmc6ff18.rel2.00_pre4_rel_.design_unrestricted.legalRelease ./alphaHLDepotRelease/legalRelease/lpddr54.d862-lpddr54-cuamd-tsmc6ff18.rel2.00_rel_.design_unrestricted.legalRelease ./alphaHLDepotRelease/legalRelease/lpddr54.d879-ap2-lpddr54-tsmc7ff18.rel1.00.design_unrestricted.legalRelease ./alphaHLDepotRelease/legalRelease/lpddr54.d879-ap2-lpddr54-tsmc7ff18.rel1.00_1.00a_rel_.design_unrestricted.legalRelease ./alphaHLDepotRelease/legalRelease/lpddr54.d887-lpddr54-gf12lpp18.rel1.00_cktpcs_1.00a_rel_.design.legalRelease ./alphaHLDepotRelease/legalRelease/lpddr54.d887-lpddr54-gf12lpp18.rel1.00_cktpcs_eval.design.legalRelease ./alphaHLDepotRelease/legalRelease/lpddr54.d887-lpddr54-gf12lpp18.rel1.00_cktpcs_prerel_.design.legalRelease ./alphaHLDepotRelease/legalRelease/lpddr54.d887-lpddr54-gf12lpp18.rel1.00_cktpcs_prerel_pre2.design.legalRelease ./alphaHLDepotRelease/legalRelease/lpddr54.d889-lpddr54-tsmc7ff_plus18.rel0.70.design_unrestricted.legalRelease ./alphaHLDepotRelease/legalRelease/lpddr54.d889-lpddr54-tsmc7ff_plus18.rel0.95_tc.design_unrestricted.legalRelease ./alphaHLDepotRelease/legalRelease/lpddr54.d889-lpddr54-tsmc7ff_plus18.rel0.95_tc_0.95a_tc_rel_.design_unrestricted.legalRelease ./alphaHLDepotRelease/legalRelease/lpddr54.d889-lpddr54-tsmc7ff_plus18.rel0.96_tc.design_unrestricted.legalRelease ./alphaHLDepotRelease/legalRelease/lpddr54.d889-lpddr54-tsmc7ff_plus18.rel1.00.design_unrestricted.legalRelease ./alphaHLDepotRelease/legalRelease/lpddr54.d889-lpddr54-tsmc7ff_plus18.rel1.00_1.00a_rel_.design.legalRelease ./alphaHLDepotRelease/legalRelease/lpddr54.d889-lpddr54-tsmc7ff_plus18.rel2.00.design_unrestricted.legalRelease ./alphaHLDepotRelease/legalRelease/lpddr54.d889-lpddr54-tsmc7ff_plus18.rel1.00_1.00a_rel_.design_unrestricted.legalRelease ./alphaHLDepotRelease/legalRelease/lpddr54.d890-lpddr54-tsmc5ff-12.rel1.00_cktpcs_1.00a_rel_.design.legalRelease ./alphaHLDepotRelease/legalRelease/lpddr54.d890-lpddr54-tsmc5ffp12.rel1.00.design_unrestricted.legalRelease ./alphaHLDepotRelease/legalRelease/lpddr5x.d930-lpddr5x-tsmc5ff12.rel1.00_cktpcs_1.00a_rel_.design.legalRelease ./alphaHLDepotRelease/legalRelease/lpddr5x.d930-lpddr5x-tsmc5ff12.rel1.00_cktpcs_2.00a_rel_.design.legalRelease ./alphaHLDepotRelease/legalRelease/lpddr5x.d930-lpddr5x-tsmc5ff12.rel1.00_cktpcs_3.00a_rel_.design.legalRelease ./alphaHLDepotRelease/legalRelease/lpddr5x.d930-lpddr5x-tsmc5ff12.rel1.00_cktpcs_3.10a_rel_.design.legalRelease ./alphaHLDepotRelease/legalRelease/lpddr5x.d930-lpddr5x-tsmc5ff12.rel1.00_cktpcs_prerel_prefinal.design.legalRelease ./alphaHLDepotRelease/legalRelease/lpddr5x.d930-lpddr5x-tsmc5ff12.rel1.00_cktpcs_prerel_prelim.design.legalRelease ./alphaHLDepotRelease/legalRelease/lpddr5x.d930-lpddr5x-tsmc5ff12.rel1.00_cktpcs_prerel_prelim_refresh.design.legalRelease ./alphaHLDepotRelease/legalRelease/lpddr5x.d930-lpddr5x-tsmc5ff12.rel1.00_r900_eval.design.legalRelease ./alphaHLDepotRelease/legalRelease/lpddr5x.d931-lpddr5x-tsmc3eff-12.rel1.00_cktpcs_0.80a_tc_rel_.design.legalRelease ./alphaHLDepotRelease/legalRelease/lpddr5x.d931-lpddr5x-tsmc3eff-12.rel1.00_cktpcs_prerel_.design.legalRelease ./alphaHLDepotRelease/legalRelease/lpddr5x.d931-lpddr5x-tsmc3ff-12.rel1.00_cktpcs_prerel_prelim.design.legalRelease ./alphaHLDepotRelease/legalRelease/lpddr5x.d932-lpddr5x-tsmc4ffp-12.rel1.00_cktpcs_1.00a_rel_.design.legalRelease ./alphaHLDepotRelease/legalRelease/lpddr5x.d933-lpddr5x-tsmc5ff-12.rel1.00_cktpcs_1.00a_rel_.design.legalRelease ./alphaHLDepotRelease/legalRelease/lpddr5x.d933-lpddr5x-tsmc5ff-12.rel1.00_cktpcs_prerel_prefinal.design.legalRelease ./alphaHLDepotRelease/legalRelease/lpddr5x_ddr5_phy.ddr5.project.d912-ddr5-tsmc3eff.legalRelease ./alphaHLDepotRelease/legalRelease/lpddr5xm.d900-lpddr5xm-tsmc5ff12.rel0.80.design.legalRelease ./alphaHLDepotRelease/legalRelease/lpddr5xm.d900-lpddr5xm-tsmc5ff12.rel0.80.design_unrestricted.legalRelease ./alphaHLDepotRelease/legalRelease/lpddr5xm.d900-lpddr5xm-tsmc5ff12.rel0.80_sup1.design_unrestricted.legalRelease ./alphaHLDepotRelease/legalRelease/lpddr5xm.d900-lpddr5xm-tsmc5ff12.rel0.80_sup1_prerel_.design.legalRelease ./alphaHLDepotRelease/legalRelease/lpddr5xm.d900-lpddr5xm-tsmc5ff12.rel0.80_sup1_prerel_.design_unrestricted.legalRelease ./alphaHLDepotRelease/legalRelease/lpddr5xm.d900-lpddr5xm-tsmc5ff12.rel0.95.design.legalRelease ./alphaHLDepotRelease/legalRelease/lpddr5xm.d900-lpddr5xm-tsmc5ff12.rel0.95.design_unrestricted.legalRelease ./alphaHLDepotRelease/legalRelease/lpddr5xm.d900-lpddr5xm-tsmc5ff12.rel1.00_cktpcs.design_unrestricted.legalRelease ./alphaHLDepotRelease/legalRelease/lpddr5xm.d900-lpddr5xm-tsmc5ff12.rel1.00_cktpcs_0.95a_rel_.design.legalRelease ./alphaHLDepotRelease/legalRelease/lpddr5xm.d900-lpddr5xm-tsmc5ff12.rel1.00_cktpcs_0.95a_rel_.design_unrestricted.legalRelease ./alphaHLDepotRelease/legalRelease/lpddr5xm.d900-lpddr5xm-tsmc5ff12.rel1.00_cktpcs_1.00a_rel_.design.legalRelease ./alphaHLDepotRelease/legalRelease/lpddr5xm.d900-lpddr5xm-tsmc5ff12.rel1.00_cktpcs_1.00a_rel_.design_unrestricted.legalRelease ./alphaHLDepotRelease/legalRelease/lpddr5xm.d900-lpddr5xm-tsmc5ff12.rel1.00_cktpcs_1.10a_rel_.design.legalRelease ./alphaHLDepotRelease/legalRelease/lpddr5xm.d900-lpddr5xm-tsmc5ff12.rel1.00_cktpcs_1.10a_rel_.design_unrestricted.legalRelease ./alphaHLDepotRelease/legalRelease/lpddr5xm.d900-lpddr5xm-tsmc5ff12.rel1.00_cktpcs_1.20a_rel_.design.legalRelease ./alphaHLDepotRelease/legalRelease/lpddr5xm.d900-lpddr5xm-tsmc5ff12.rel1.00_cktpcs_1.20a_rel_.design_unrestricted.legalRelease ./alphaHLDepotRelease/legalRelease/lpddr5xm.d900-lpddr5xm-tsmc5ff12.rel1.00_cktpcs_1.30a_rel_.design.legalRelease ./alphaHLDepotRelease/legalRelease/lpddr5xm.d900-lpddr5xm-tsmc5ff12.rel1.00_cktpcs_1.30a_rel_.design_unrestricted.legalRelease ./alphaHLDepotRelease/legalRelease/lpddr5xm.d900-lpddr5xm-tsmc5ff12.rel1.00_cktpcs_1.50a_rel_.design_unrestricted.legalRelease ./alphaHLDepotRelease/legalRelease/lpddr5xm.d900-lpddr5xm-tsmc5ff12.rel1.00_cktpcs_2.00a_rel_.design.legalRelease ./alphaHLDepotRelease/legalRelease/lpddr5xm.d900-lpddr5xm-tsmc5ff12.rel1.00_cktpcs_2.00a_rel_.design_unrestricted.legalRelease ./alphaHLDepotRelease/legalRelease/lpddr5xm.d900-lpddr5xm-tsmc5ff12.rel1.00_cktpcs_eval.design_unrestricted.legalRelease ./alphaHLDepotRelease/legalRelease/lpddr5xm.d900-lpddr5xm-tsmc5ff12.rel1.00_cktpcs_n4_eval.design_unrestricted.legalRelease ./alphaHLDepotRelease/legalRelease/lpddr5xm.d900-lpddr5xm-tsmc5ff12.rel1.00_cktpcs_prerel_0.95a.design.legalRelease ./alphaHLDepotRelease/legalRelease/lpddr5xm.d900-lpddr5xm-tsmc5ff12.rel1.00_cktpcs_prerel_0.95a.design_unrestricted.legalRelease ./alphaHLDepotRelease/legalRelease/lpddr5xm.d900-lpddr5xm-tsmc5ffp12.rel1.00_cktpcs.design_unrestricted.legalRelease ./alphaHLDepotRelease/legalRelease/lpddr5xm.d901-lpddr5xm-tsmc5ff-12.rel1.00_cktpcs_2.00a_rel_.design.legalRelease ./alphaHLDepotRelease/legalRelease/lpddr5xm.d901-lpddr5xm-tsmc5ff-12.rel1.00_cktpcs_prerel_2.00a.design.legalRelease ./alphaHLDepotRelease/legalRelease/lpddr5xm.d901-lpddr5xm-tsmc5ff-12.rel1.00_cktpcs_prerel_final.design.legalRelease ./alphaHLDepotRelease/legalReleaseTest3 ./alphaHLDepotSeed/lpddr5x.d930-lpddr5x-tsmc5ff12.rel1.00_cktpcs.legalRelease ./alphaHLDepotSeed/lpddr5x.d931-lpddr5x-tsmc3eff-12.rel1.00_cktpcs.legalRelease ./alphaVerifyTimingCollateral.pl/ddr54.d822-ddr54-ss7hpp-18.rel1.00_cktpcs.legalRelease'"
      ]
     },
     "execution_count": 7,
     "metadata": {},
     "output_type": "execute_result"
    }
   ],
   "source": [
    "%%tcl\n",
    "cd $DIR_LOC\n",
    "set clean_list [remove_suffix [get_legal_release_list $key_word $suffix_format] $suffix_format]"
   ]
  },
  {
   "cell_type": "code",
   "execution_count": 9,
   "metadata": {},
   "outputs": [
    {
     "data": {
      "text/plain": [
       "1"
      ]
     },
     "execution_count": 9,
     "metadata": {},
     "output_type": "execute_result"
    }
   ],
   "source": [
    "%%tcl\n",
    "\n",
    "llength [split clean_list \"\\n\"]\n"
   ]
  },
  {
   "cell_type": "markdown",
   "metadata": {},
   "source": [
    "getting the path without suffix as it is needed,"
   ]
  },
  {
   "cell_type": "code",
   "execution_count": 43,
   "metadata": {},
   "outputs": [
    {
     "name": "stderr",
     "output_type": "stream",
     "text": [
      "TclError: wrong # args: should be \"viprint threshold message\""
     ]
    }
   ],
   "source": [
    "%%tcl\n",
    "\n",
    "proc Main {key_word suffix_format} {\n",
    "    global DIR_LOC\n",
    "    global tcl2yml\n",
    "    cd $DIR_LOC\n",
    "    set legalReleaseList [get_legal_release_list $key_word $suffix_format]\n",
    "    set count 0\n",
    "    set list_size [llength legalReleaseList]\n",
    "    foreach legalReleaseFile $legalReleaseList {\n",
    "        set count [expr $count + 1]\n",
    "        viprint LOW \"\\[$count\\/$list_size\\]\"\n",
    "        try {\n",
    "            exec $tcl2yml -i \"$DIR_LOC/$legalReleaseFile\" -o \"$DIR_LOC/[remove_suffix $legalReleaseFile $suffix_format].yml\"\n",
    "        }\n",
    "    }\n",
    "\n",
    "\n",
    "}\n",
    "set VERBOSITY 5\n",
    "Main $key_word $suffix_format"
   ]
  },
  {
   "cell_type": "code",
   "execution_count": 40,
   "metadata": {},
   "outputs": [
    {
     "name": "stderr",
     "output_type": "stream",
     "text": [
      "TclError: \u001b[1m\n",
      "\n",
      "#######################################################\u001b[0m\n",
      "\u001b[1m###  Date , Time     : Thu Feb 16 18:08:43 EST 2023\u001b[0m\n",
      "\u001b[1m###  Script Name     : ddr-da-tcl2yml.tcl\u001b[0m\n",
      "\u001b[1m###  Command         : /slowfs/dcopt103/alvaro/GitLab/ddr-hbm-phy-automation-team/ddr-ckt-rel/dev/main/bin/ddr-da-tcl2yml.tcl -i /u/alvaro/GitLab/ddr-hbm-phy-automation-team/ddr-ckt-rel/dev/main/tdata/./alphaHLDepotRelease/legalRelease/txt -o /u/alvaro/GitLab/ddr-hbm-phy-automation-team/ddr-ckt-rel/dev/main/tdata/./alphaHLDepotRelease/legalRelease/.yml\u001b[0m\n",
      "\u001b[1m###  Author          : Alvaro Quintana Carvacho\u001b[0m\n",
      "\u001b[1m###  Release Version : 2023.02\u001b[0m\n",
      "\u001b[1m###  User            : alvaro\u001b[0m\n",
      "\u001b[1m#######################################################\n",
      "\u001b[0m\n",
      "\u001b[37;41m-F- invalid command name \"/remote/cad-rep/projects/lpddr54/d859-lpddr54-tsmc7ff18/rel0.95_tc/design/legalRelease.txt\"\n",
      "    while executing\n",
      "\"/remote/cad-rep/projects/lpddr54/d859-lpddr54-tsmc7ff18/rel0.95_tc/design/legalRelease.txt\"\n",
      "    (file \"/u/alvaro/GitLab/ddr-hbm-phy-automation-team/ddr-ckt-rel/dev/main/tdata/./alphaHLDepotRelease/legalRelease/txt\" line 1)\n",
      "    invoked from within\n",
      "\"source $__file\"\n",
      "    (procedure \"create_dict_from_file\" line 3)\n",
      "    invoked from within\n",
      "\"create_dict_from_file $legalrelease_input\"\n",
      "    (procedure \"Main\" line 9)\n",
      "    invoked from within\n",
      "\"Main\"\n",
      "    (\"try\" body line 3)\u001b[0m\n",
      "\u001b[1m\n",
      "\n",
      "#######################################################\u001b[0m\n",
      "\u001b[1m###  Goodbye World\u001b[0m\n",
      "\u001b[1m###  Date, Time (START): Thu Feb 16 18:08:43 EST 2023\u001b[0m\n",
      "\u001b[1m###  Date, Time (END)  : Thu Feb 16 18:08:44 EST 2023\u001b[0m\n",
      "\u001b[1m###  Runtime           : 00:00:01\u001b[0m\n",
      "\u001b[1m###  Script Name       : ddr-da-tcl2yml.tcl\u001b[0m\n",
      "\u001b[1m###  Script Path       : /slowfs/dcopt103/alvaro/GitLab/ddr-hbm-phy-automation-team/ddr-ckt-rel/dev/main/bin\u001b[0m\n",
      "\u001b[1m###  Author            : Alvaro Quintana Carvacho\u001b[0m\n",
      "\u001b[1m###  Release Version   : 2023.02\u001b[0m\n",
      "\u001b[1m#######################################################\n",
      "\u001b[0m\n",
      "\u001b[1m-I- Writing log file: '/slowfs/dcopt103/alvaro/GitLab/ddr-hbm-phy-automation-team/ddr-ckt-rel/dev/main/tests/data/ddr-da-tcl2yml.tcl.log'\u001b[0m\n",
      "child process exited abnormally"
     ]
    }
   ],
   "source": [
    "%%tcl\n",
    "set legalReleaseList [get_legal_release_list $key_word $suffix_format]\n",
    "foreach legalReleaseFile $legalReleaseList {\n",
    "    \n",
    "    exec $tcl2yml -i \"$DIR_LOC/$legalReleaseFile\" -o \"$DIR_LOC/[remove_suffix $legalReleaseFile $suffix_format].yml\"\n",
    "}\n",
    "\n",
    "\n"
   ]
  },
  {
   "cell_type": "code",
   "execution_count": null,
   "metadata": {},
   "outputs": [],
   "source": [
    "%%tcl\n",
    "exec $tcl2yml "
   ]
  }
 ],
 "metadata": {
  "kernelspec": {
   "display_name": "Python 3 (ipykernel)",
   "language": "python",
   "name": "python3"
  },
  "language_info": {
   "codemirror_mode": {
    "name": "ipython",
    "version": 3
   },
   "file_extension": ".py",
   "mimetype": "text/x-python",
   "name": "python",
   "nbconvert_exporter": "python",
   "pygments_lexer": "ipython3",
   "version": "3.8.0"
  },
  "vscode": {
   "interpreter": {
    "hash": "758228ae4236649af9509c5c8859545204428c6c7a2c9288794dec8c60a3bcc3"
   }
  }
 },
 "nbformat": 4,
 "nbformat_minor": 2
}
