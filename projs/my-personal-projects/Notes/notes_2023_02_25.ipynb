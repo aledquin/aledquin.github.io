{
 "cells": [
  {
   "cell_type": "code",
   "execution_count": 18,
   "metadata": {
    "pycharm": {
     "name": "#%%\n"
    }
   },
   "outputs": [
    {
     "name": "stdout",
     "output_type": "stream",
     "text": [
      "The tclmagic extension is already loaded. To reload it, use:\n",
      "  %reload_ext tclmagic\n"
     ]
    }
   ],
   "source": [
    "%load_ext tclmagic\n",
    "\n",
    "#  If the prev line doesnt work  install it using the next line in your unix terminal\n",
    "#  /depot/Python/Python-3.8.0/bin/pip install -U tcl-magic\n",
    "#  /depot/Python/Python-3.8.0/bin/pip install -U notebook\n",
    "#  You can configure it to ~/.local/ "
   ]
  },
  {
   "cell_type": "code",
   "execution_count": 19,
   "metadata": {
    "pycharm": {
     "name": "#%%\n"
    },
    "vscode": {
     "languageId": "bat"
    }
   },
   "outputs": [
    {
     "data": {
      "text/plain": [
       "'0.3.10'"
      ]
     },
     "execution_count": 19,
     "metadata": {},
     "output_type": "execute_result"
    }
   ],
   "source": [
    "%%tcl \n",
    "\n",
    "set SHELLTOOL_LOC \"/remote/cad-rep/msip/tools/Shelltools\"\n",
    "lappend auto_path \"$SHELLTOOL_LOC/ddr-utils-lay/dev/lib/tcl\"\n",
    "lappend auto_path \"/depot/tcl8.6.3/lib\"\n",
    "\n",
    "set RealBin [file dirname [file normalize [info script]] ]\n",
    "set RealScript [file tail [file normalize [info script]] ]\n",
    "set PROGRAM_NAME $RealScript\n",
    "set LOGFILE \"[pwd]/log-$PROGRAM_NAME.log\"\n",
    "\n",
    "package require Messaging 1.0\n",
    "namespace import ::Messaging::*\n",
    "package require Misc 1.0\n",
    "namespace import ::Misc::*\n",
    "\n",
    "package require cmdline\n",
    "package require try\n",
    "package require yaml"
   ]
  },
  {
   "cell_type": "code",
   "execution_count": 20,
   "metadata": {
    "vscode": {
     "languageId": "shellscript"
    }
   },
   "outputs": [],
   "source": [
    "%%tcl \n",
    "\n",
    "namespace eval ::P4 {\n",
    "    # Export commands\n",
    "    namespace export    da_isa_p4_file \\\n",
    "                        da_p4_add_edit \\\n",
    "                        da_p4_is_checked_out \\\n",
    "                        da_p4_add_edit \\\n",
    "                        da_p4_list \\\n",
    "                        da_p4_dirs \\\n",
    "                        da_create_p4_client \\\n",
    "                        da_delete_p4_client \\\n",
    "                        da_p4_sync_root \\\n",
    "                        da_p4_submit \\\n",
    "                        da_p4_fstat \\\n",
    "                        da_p4_cmd\n",
    "\n",
    "    namespace ensemble create -map {\n",
    "        exists        ::P4::da_isa_p4_file \n",
    "        print         ::P4::print\n",
    "        opened        ::P4::da_p4_is_checked_out\n",
    "        edit          ::P4::da_p4_add_edit\n",
    "        add           ::P4::da_p4_add_edit\n",
    "        list          ::P4::da_p4_list\n",
    "        dirs          ::P4::da_p4_dirs\n",
    "        create_client ::P4::da_create_p4_client\n",
    "        delete_client ::P4::da_delete_p4_client\n",
    "        sync          ::P4::da_p4_sync_root\n",
    "        sync_root     ::P4::da_p4_sync_root\n",
    "        submit        ::P4::da_p4_submit\n",
    "        fstat         ::P4::da_p4_fstat\n",
    "        cmd           ::P4::da_p4_cmd\n",
    "\n",
    "    }\n",
    "\n",
    "    # Set up state\n",
    "    variable exit_status\n",
    "\n",
    "}"
   ]
  },
  {
   "cell_type": "markdown",
   "metadata": {},
   "source": [
    "## collect the methods for p4\n",
    "\n",
    "We will need the variable  `global client`"
   ]
  },
  {
   "cell_type": "markdown",
   "metadata": {},
   "source": [
    "::P4::print"
   ]
  },
  {
   "cell_type": "code",
   "execution_count": 21,
   "metadata": {
    "vscode": {
     "languageId": "shellscript"
    }
   },
   "outputs": [],
   "source": [
    "%%tcl\n",
    "# pe print has many options and it's better to keep it as it is\n",
    "proc ::P4::print {args} {\n",
    "    try {    \n",
    "        lassign [run_system_cmd \"p4 print $args\"] rsc_out rsc_err status\n",
    "    } on error {result options} {\n",
    "        get_call_stack\n",
    "        eprint $result\n",
    "        eprint [dict get $options -errorstack]\n",
    "    }\n",
    "}\n",
    "\n",
    "#-----------------------------------------------------------------\n"
   ]
  },
  {
   "cell_type": "markdown",
   "metadata": {},
   "source": [
    "::P4::da_isa_p4_file"
   ]
  },
  {
   "cell_type": "code",
   "execution_count": 22,
   "metadata": {
    "vscode": {
     "languageId": "shellscript"
    }
   },
   "outputs": [],
   "source": [
    "%%tcl\n",
    "\n",
    "proc ::P4::da_isa_p4_file {P4file} {\n",
    "    try {\n",
    "        lassign [run_system_cmd \"p4 files -e $P4file\"] ifexist ifnotexist status\n",
    "        if {$ifexist == \"\"} {\n",
    "            dprint LOW $ifnotexist\n",
    "            return 0\n",
    "        } elseif {$ifnotexist == \"\"} {\n",
    "            dprint LOW $ifexist\n",
    "            return 1\n",
    "        } else {\n",
    "            return 2\n",
    "        }\n",
    "    } on error {result options} {\n",
    "        get_call_stack\n",
    "        eprint $result\n",
    "        eprint [dict get $options -errorstack]\n",
    "    }\n",
    "}\n"
   ]
  },
  {
   "cell_type": "markdown",
   "metadata": {},
   "source": [
    "::P4::da_p4_is_checked_out"
   ]
  },
  {
   "cell_type": "code",
   "execution_count": 23,
   "metadata": {
    "vscode": {
     "languageId": "shellscript"
    }
   },
   "outputs": [],
   "source": [
    "%%tcl\n",
    "# P4 opened\n",
    "proc ::P4::da_p4_is_checked_out {P4file {$client \"\"}} {\n",
    "    if {$client==\"\"} {global client}\n",
    "    if {[info exists client(NAME)]} {\n",
    "        set opt(client) \"-c $client(NAME)\"\n",
    "    } else {\n",
    "        set opt(client) \"\"\n",
    "    }\n",
    "    try {\n",
    "        lassign [run_system_cmd \"p4 files $opt(client) opened $P4file\"] ifexist ifnotexist status\n",
    "        if {$ifexist == \"\"} {\n",
    "            dprint LOW $ifnotexist\n",
    "            return $ifnotexist\n",
    "        } elseif {$ifnotexist == \"\"} {\n",
    "            dprint LOW $ifexist\n",
    "            return $ifexist\n",
    "        } else {\n",
    "            return 2\n",
    "        }\n",
    "    } on error {result options} {\n",
    "        get_call_stack\n",
    "        eprint $result\n",
    "        eprint [dict get $options -errorstack]\n",
    "    }\n",
    "}"
   ]
  },
  {
   "cell_type": "markdown",
   "metadata": {},
   "source": [
    "::P4::da_p4_add_edit"
   ]
  },
  {
   "cell_type": "code",
   "execution_count": 24,
   "metadata": {
    "vscode": {
     "languageId": "shellscript"
    }
   },
   "outputs": [],
   "source": [
    "%%tcl\n",
    "\n",
    "proc ::P4::da_p4_add_edit {clientFile {client \"\"}} {\n",
    "    if {$client==\"\"} {global client}\n",
    "    if {[info exists client]} {\n",
    "        set opt(client) \"-c $client(NAME)\"\n",
    "    } else {\n",
    "        set opt(client) \"\"\n",
    "    }\n",
    "    try {\n",
    "        if {[file exists $clientFile]} {\n",
    "            lassign [run_system_cmd \"p4 $opt(client) edit $clientFile\"] rsc_out rsc_err status\n",
    "            dprint HIGH $rsc_out\n",
    "            dprint HIGH $rsc_err\n",
    "            return $rsc_out\n",
    "        } else {\n",
    "            lassign [run_system_cmd \"p4 $opt(client) add -t text $clientFile\"] rsc_out rsc_err status\n",
    "            dprint HIGH $rsc_out\n",
    "            dprint HIGH $rsc_err\n",
    "            return $rsc_out\n",
    "        }\n",
    "    } on error {result options} {\n",
    "        get_call_stack\n",
    "        eprint $result\n",
    "        eprint [dict get $options -errorstack]\n",
    "    }\n",
    "    return 0\n",
    "}"
   ]
  },
  {
   "cell_type": "markdown",
   "metadata": {},
   "source": [
    "::P4::da_p4_list"
   ]
  },
  {
   "cell_type": "code",
   "execution_count": 25,
   "metadata": {
    "vscode": {
     "languageId": "shellscript"
    }
   },
   "outputs": [],
   "source": [
    "%%tcl\n",
    "proc ::P4::da_p4_list {P4path} {\n",
    "    try {\n",
    "        lassign [run_system_cmd \"p4 files -e $P4path\"] ifexist ifnotexist status\n",
    "        if {$ifexist == \"\"} {\n",
    "            dprint LOW $ifnotexist\n",
    "            return $ifnotexist\n",
    "        } elseif {$ifnotexist == \"\"} {\n",
    "            dprint LOW $ifexist\n",
    "            return [split $ifexist \"\\n\" ]\n",
    "        } else {\n",
    "            return 2\n",
    "        }\n",
    "    } on error {result options} {\n",
    "        get_call_stack\n",
    "        eprint $result\n",
    "        eprint [dict get $options -errorstack]\n",
    "    }\n",
    "}"
   ]
  },
  {
   "cell_type": "markdown",
   "metadata": {},
   "source": [
    "::P4::da_p4_dirs"
   ]
  },
  {
   "cell_type": "code",
   "execution_count": 26,
   "metadata": {
    "vscode": {
     "languageId": "shellscript"
    }
   },
   "outputs": [],
   "source": [
    "%%tcl\n",
    "proc ::P4::da_p4_dirs {P4path} {\n",
    "    try {\n",
    "        lassign [run_system_cmd \"p4 dirs $P4path\"] ifexist ifnotexist status\n",
    "        if {$ifexist == \"\"} {\n",
    "            dprint LOW $ifnotexist\n",
    "            return $ifnotexist\n",
    "        } elseif {$ifnotexist == \"\"} {\n",
    "            dprint LOW $ifexist\n",
    "            return [split $ifexist \"\\n\" ]\n",
    "        } else {\n",
    "            return 2\n",
    "        }\n",
    "    } on error {result options} {\n",
    "        get_call_stack\n",
    "        eprint $result\n",
    "        eprint [dict get $options -errorstack]\n",
    "    }\n",
    "}"
   ]
  },
  {
   "cell_type": "markdown",
   "metadata": {},
   "source": [
    "::P4::da_create_p4_client"
   ]
  },
  {
   "cell_type": "code",
   "execution_count": 27,
   "metadata": {
    "vscode": {
     "languageId": "shellscript"
    }
   },
   "outputs": [
    {
     "data": {
      "text/plain": [
       "'PENDING'"
      ]
     },
     "execution_count": 27,
     "metadata": {},
     "output_type": "execute_result"
    }
   ],
   "source": [
    "%%tcl\n",
    "\n",
    "\n",
    "proc defined {name} {\n",
    "    return [info exists $name]   \n",
    "}\n",
    "\n",
    "proc rmtree {pathname} {\n",
    "    if {[file isdirectory $pathname]} {\n",
    "        file delete -force -- $pathname\n",
    "    }\n",
    "    if {[file exists $pathname]} {\n",
    "        return 0\n",
    "    }\n",
    "    return 1\n",
    "}\n",
    "\n",
    "proc mkdir {pathname} {\n",
    "    return [file mkdir $pathname]\n",
    "}\n",
    "\n",
    "proc ::P4::da_create_p4_client {client(NAME) client(ROOT) aref_viewList} {\n",
    "\n",
    "    if { ![defined $client(NAME)] || $client(NAME) eq \"\"} {\n",
    "        dprint HIGH \"p4_create_client: invalid $client(NAME)\"\n",
    "        return NULL_VAL;\n",
    "    }\n",
    "    if { ![defined $client(ROOT)] || $client(ROOT) eq \"\"} {\n",
    "        dprint HIGH \"p4_create_client: invalid $client(ROOT)\"\n",
    "        return NULL_VAL;\n",
    "    }\n",
    "    if { ![defined $aref_viewList] || $aref_viewList eq \"\"} {\n",
    "        dprint HIGH \"p4_create_client: invalid $aref_viewList\"\n",
    "        return NULL_VAL;\n",
    "    }\n",
    "\n",
    "    set get_call_stack [get_call_stack]\n",
    "    if { $verbosity >= [[namespace qualifiers [namespace current]]::Messaging::const_to_int FUNCTIONS] } then { [namespace qualifiers [namespace current]]::Messaging::iprint \"Subroutine Call Stack: $get_call_stack\" }\n",
    "\n",
    "    set fail   [rmtree $client(ROOT)]\n",
    "    set passed [mdkir  $client(ROOT)]\n",
    "\n",
    "    if {$passed} {\n",
    "        dprint HIGH \"Created p4 Root directory: $client(ROOT)\"\n",
    "    } else {\n",
    "        return [eprint \"$get_call_stack -> could not make directory: $client(ROOT)\"]\n",
    "    }\n",
    "\n",
    "    set username [get_username]\n",
    "    lassign [run_system_cmd \"p4 clients -u $username\"] rscp rscerror status\n",
    "\n",
    "    if {[string match $client(NAME) $rscp]} {\n",
    "        run_system_cmd \"p4 client -d $client(NAME)\"\n",
    "    }\n",
    "\n",
    "    lassign [run_system_cmd \"p4 -c $client(NAME) client -o\"] clientSpec rsc_err status\n",
    "    \n",
    "    set client(DEPOT2CLIENT) {}\n",
    "    set client(CLIENT2DEPOT) {}\n",
    "\n",
    "    set ::client $client\n",
    "\n",
    "    return $client\n",
    "\n",
    "}\n",
    "\n"
   ]
  },
  {
   "cell_type": "markdown",
   "metadata": {},
   "source": [
    "::P4::da_delete_p4_client"
   ]
  },
  {
   "cell_type": "code",
   "execution_count": 28,
   "metadata": {
    "vscode": {
     "languageId": "shellscript"
    }
   },
   "outputs": [
    {
     "data": {
      "text/plain": [
       "'PENDING'"
      ]
     },
     "execution_count": 28,
     "metadata": {},
     "output_type": "execute_result"
    }
   ],
   "source": [
    "\n",
    "%%tcl \n",
    "proc ::P4::da_delete_p4_client {{client \"\"}} {\n",
    "    if {$client==\"\"} {global client}\n",
    "    if {![defined $client]} return error\n",
    "\n",
    "    try {\n",
    "        lassign [run_system_cmd \"p4 client -d $client(NAME)\"] rsc_out rsc_err status\n",
    "        rmtree $client(ROOT)\n",
    "    } on error {result options} {\n",
    "        get_call_stack\n",
    "        eprint $result\n",
    "        eprint [dict get $options -errorstack]\n",
    "    } finally {\n",
    "        if {$rsc_out == \"\"} {\n",
    "            dprint LOW $rsc_err\n",
    "            return $rsc_err\n",
    "        } elseif {$rsc_err == \"\"} {\n",
    "            dprint LOW $rsc_out\n",
    "            return [split $rsc_out \"\\n\" ]\n",
    "        } else {\n",
    "            return 2\n",
    "        }        \n",
    "    }\n",
    "\n",
    "}"
   ]
  },
  {
   "cell_type": "markdown",
   "metadata": {},
   "source": [
    "::P4::da_p4_sync_root"
   ]
  },
  {
   "cell_type": "code",
   "execution_count": 29,
   "metadata": {
    "vscode": {
     "languageId": "shellscript"
    }
   },
   "outputs": [],
   "source": [
    "%%tcl\n",
    "\n",
    "proc ::P4::da_p4_sync_root {{client \"\"}} {\n",
    "    if {$client==\"\"} {global client}\n",
    "    if {[info exists client]} {\n",
    "        set opt(client) \"-c $client(NAME)\"\n",
    "        set opt(root)   \"-f $client(ROOT)\"\n",
    "    } else {\n",
    "        set opt(client) \"\"\n",
    "        set opt(root)   \"\"\n",
    "    }\n",
    "    try {\n",
    "        lassign [run_system_cmd \"p4 $opt(client) sync $opt(root) \"] rsc_out rsc_err status\n",
    "        dprint HIGH $rsc_out\n",
    "        dprint HIGH $rsc_err\n",
    "        return $rsc_out\n",
    "    } on error {result options} {\n",
    "        get_call_stack\n",
    "        eprint $result\n",
    "        eprint [dict get $options -errorstack]\n",
    "    }\n",
    "    return 0\n",
    "}\n"
   ]
  },
  {
   "cell_type": "markdown",
   "metadata": {},
   "source": [
    "::P4::da_p4_submit"
   ]
  },
  {
   "cell_type": "code",
   "execution_count": 30,
   "metadata": {
    "vscode": {
     "languageId": "shellscript"
    }
   },
   "outputs": [],
   "source": [
    "%%tcl\n",
    "\n",
    "proc ::P4::da_p4_submit {description P4file {client \"\"}} {\n",
    "    if {$client==\"\"} {global client}\n",
    "    if {[info exists client]} {\n",
    "        set opt(client) \"-c $client(NAME)\"\n",
    "    } else {\n",
    "        set opt(client) \"\"\n",
    "    }\n",
    "    try {\n",
    "            lassign [run_system_cmd \"p4 $opt(client) submit -d \\\"$description\\\" $P4file \"] rsc_out rsc_err status\n",
    "            dprint HIGH $rsc_out\n",
    "            dprint HIGH $rsc_err\n",
    "            return $rsc_out\n",
    "    } on error {result options} {\n",
    "        get_call_stack\n",
    "        eprint $result\n",
    "        eprint [dict get $options -errorstack]\n",
    "    }\n",
    "    return 0    \n",
    "}\n",
    "\n",
    "\n"
   ]
  },
  {
   "cell_type": "markdown",
   "metadata": {},
   "source": [
    "::P4::da_p4_fstat"
   ]
  },
  {
   "cell_type": "code",
   "execution_count": 31,
   "metadata": {
    "vscode": {
     "languageId": "shellscript"
    }
   },
   "outputs": [],
   "source": [
    "%%tcl\n",
    "\n",
    "proc ::P4::da_p4_fstat {P4file tags {spec_tag \"\"}} {\n",
    "\t# creating variations of tags\n",
    "\tset tags_by_comma [regsub -all {\\,  |\\, |   |  | } $tags \", \" ]\n",
    "\tset tags_list [split $tags_by_comma \",\"]\n",
    "\n",
    "    try {\n",
    "\t\t# check file exists\n",
    "        lassign [run_system_cmd \"p4 fstat $P4file\"] noTag ifnotexist status\n",
    "\t\tif {$noTag} {\n",
    "\t\t\treturn [eprint \"Tag not found: $P4file. Abort.\"]\n",
    "\t\t}\n",
    "\t\t# look for those tags\n",
    "        lassign [run_system_cmd \"p4 fstat -T $tags_by_comma $P4file\"] ifexist ifnotexist status\n",
    "\t\t#check if this work and return if not\n",
    "\t\tif {$ifexist == \"\"} {\n",
    "            dprint LOW $ifnotexist\n",
    "            return $ifnotexist\n",
    "        } elseif {$ifnotexist == \"\"} {\n",
    "            dprint LOW $ifexist\n",
    "\t\t\tset P4filelog $ifexist\n",
    "        } else {\n",
    "            return 2\n",
    "        }\n",
    "\t\tif {$spec_tag != \"\"} {\n",
    "\t\t\tif {[regexp -nocase {$spec_tag (\\S+)} $P4filelog -> tagvalue]} {\n",
    "\t\t\t\treturn $tagvalue\n",
    "\t\t\t}\n",
    "\t\t}\n",
    "\t\treturn [veprint LOW \"No value of $spec_tag in $P4filelog\"]\n",
    "\n",
    "    } on error {result options} {\n",
    "        get_call_stack\n",
    "        eprint $result\n",
    "        eprint [dict get $options -errorstack]\n",
    "    }\n",
    "}"
   ]
  },
  {
   "cell_type": "markdown",
   "metadata": {},
   "source": [
    " \n",
    " # TODO\n",
    "\n",
    " - ~~create_p4_client~~\n",
    " - ~~delete_p4_client~~\n",
    " - ~~p4 sync /root~~\n",
    " - ~~submit~~\n",
    " - ~~fstat~~\n",
    " - annotate\n",
    " - revert\n",
    " - where\n",
    " - have\n",
    " - filelog\n",
    " "
   ]
  },
  {
   "cell_type": "markdown",
   "metadata": {},
   "source": [
    "The ensemble is working!"
   ]
  },
  {
   "cell_type": "code",
   "execution_count": 32,
   "metadata": {
    "vscode": {
     "languageId": "shellscript"
    }
   },
   "outputs": [
    {
     "name": "stdout",
     "output_type": "stream",
     "text": [
      "\u001b[1;31m-E- unknown or ambiguous subcommand \"pipe\": must be blocked, close, configure, copy, create, eof, event, flush, gets, names, pending, postevent, puts, read, seek, tell, or truncate\u001b[0m\n"
     ]
    },
    {
     "name": "stderr",
     "output_type": "stream",
     "text": [
      "TclError: key \"-errorstack\" not known in dictionary"
     ]
    }
   ],
   "source": [
    "%%tcl"
   ]
  },
  {
   "cell_type": "code",
   "execution_count": null,
   "metadata": {
    "vscode": {
     "languageId": "shellscript"
    }
   },
   "outputs": [],
   "source": [
    "\n",
    "%%tcl \n",
    "proc ::P4::da_p4_cmd {cmd} {\n",
    "    if {$client==\"\"} {global client}\n",
    "    set strcmd \"\"\n",
    "    foreach partcmd $cmd {\n",
    "        append strcmd $partcmd\n",
    "    }\n",
    "\n",
    "    try {\n",
    "        lassign [run_system_cmd \"p4 $trcmd\"] rsc_out rsc_err status\n",
    "    } on error {result options} {\n",
    "        get_call_stack\n",
    "        eprint $result\n",
    "        eprint [dict get $options -errorstack]\n",
    "    } finally {\n",
    "        if {$rsc_out == \"\"} {\n",
    "            dprint LOW $rsc_err\n",
    "            return $rsc_err\n",
    "        } elseif {$rsc_err == \"\"} {\n",
    "            dprint LOW $rsc_out\n",
    "            return [split $rsc_out \"\\n\" ]\n",
    "        } else {\n",
    "            return [list $rsc_out $rsc_err]\n",
    "        }        \n",
    "    }\n",
    "\n",
    "}"
   ]
  }
 ],
 "metadata": {
  "kernelspec": {
   "display_name": "Python 3.8.0 64-bit",
   "language": "python",
   "name": "python3"
  },
  "language_info": {
   "codemirror_mode": {
    "name": "ipython",
    "version": 3
   },
   "file_extension": ".py",
   "mimetype": "text/x-python",
   "name": "python",
   "nbconvert_exporter": "python",
   "pygments_lexer": "ipython3",
   "version": "3.8.0"
  },
  "vscode": {
   "interpreter": {
    "hash": "78ee8c2931daa98418262a3099bec66c014c1eca61453cb33883e29a97d9a0d2"
   }
  }
 },
 "nbformat": 4,
 "nbformat_minor": 2
}
