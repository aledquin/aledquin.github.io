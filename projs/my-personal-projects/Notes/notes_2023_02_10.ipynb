{
 "cells": [
  {
   "cell_type": "markdown",
   "metadata": {
    "pycharm": {
     "name": "#%% md\n"
    }
   },
   "source": [
    "## Intro TCL "
   ]
  },
  {
   "cell_type": "code",
   "execution_count": 2,
   "metadata": {
    "pycharm": {
     "name": "#%%\n"
    }
   },
   "outputs": [
    {
     "data": {
      "application/javascript": "\n            requirejs.config({\n                paths: {\n                    codemirror: \"https://cdn.rawgit.com/marijnh/CodeMirror/master\"\n                }\n            });\n            requirejs([\"codemirror/mode/tcl/tcl\"], function(codemirror) {\n                IPython.CodeCell.options_default.highlight_modes['magic_text/x-tcl'] = {'reg':[/^%%tcl/]};\n                IPython.notebook.events.one('kernel_ready.Kernel', function() {\n                    IPython.notebook.get_cells().map(function(cell) {\n                        if (cell.cell_type == 'code') {\n                            cell.auto_highlight();\n                        }\n                    });\n                });\n            });\n        "
     },
     "metadata": {},
     "output_type": "display_data"
    }
   ],
   "source": [
    "%load_ext tclmagic\n",
    "\n",
    "#  If the prev line doesnt work  install it using the next line in your unix terminal\n",
    "#  /depot/Python/Python-3.8.0/bin/pip install -U tcl-magic\n",
    "#  You can configure it to  "
   ]
  },
  {
   "cell_type": "markdown",
   "metadata": {},
   "source": [
    "# Init libraries and packages"
   ]
  },
  {
   "cell_type": "code",
   "execution_count": 44,
   "metadata": {
    "pycharm": {
     "name": "#%%\n"
    },
    "vscode": {
     "languageId": "bat"
    }
   },
   "outputs": [
    {
     "name": "stderr",
     "output_type": "stream",
     "text": [
      "TclError: version conflict for package \"Tcl\": have 8.5.13, need 8.6"
     ]
    }
   ],
   "source": [
    "%%tcl \n",
    "\n",
    "set SHELLTOOL_LOC \"/remote/cad-rep/msip/tools/Shelltools\"\n",
    "lappend auto_path \"$SHELLTOOL_LOC/ddr-utils-lay/dev/lib/tcl\"\n",
    "lappend auto_path \"/depot/tcl8.6.3/lib\"\n",
    "lappend auto_path \"/depot/tcl8.6.6/lib\"\n",
    "set RealBin [file dirname [file normalize [info script]] ]\n",
    "set RealScript [file tail [file normalize [info script]] ]\n",
    "set PROGRAM_NAME $RealScript\n",
    "set LOGFILE \"[pwd]/log-$PROGRAM_NAME.log\"\n",
    "\n",
    "package require Messaging 1.0\n",
    "namespace import ::Messaging::*\n",
    "package require Misc 1.0\n",
    "namespace import ::Misc::*\n",
    "\n",
    "package require cmdline\n",
    "package require try\n",
    "package require yaml\n",
    "package require Tcl 8.6\n"
   ]
  },
  {
   "cell_type": "markdown",
   "metadata": {},
   "source": [
    "# 20230210\n",
    "\n",
    "You can evaluate and test any method here in the jupyter notebook!"
   ]
  },
  {
   "cell_type": "code",
   "execution_count": 36,
   "metadata": {},
   "outputs": [
    {
     "name": "stdout",
     "output_type": "stream",
     "text": [
      "---- yaml-21.0.06eef112da start\n",
      "\n",
      "\n",
      "==== yaml-21.0.06eef112da ticket 06eef112da FAILED\n",
      "==== Contents of test case:\n",
      "\n",
      "    yaml::yaml2dict -file [asset 06eef112da.data]\n",
      "\n",
      "---- Test generated error; Return code was: 1\n",
      "---- Return code should have been one of: 0 2\n",
      "---- errorInfo: invalid command name \"asset\"\n",
      "    while executing\n",
      "\"asset 06eef112da.data\"\n",
      "    (\"uplevel\" body line 2)\n",
      "    invoked from within\n",
      "\"uplevel 1 $script\"\n",
      "---- errorCode: NONE\n",
      "==== yaml-21.0.06eef112da FAILED\n",
      "\n"
     ]
    }
   ],
   "source": [
    "%%tcl\n",
    "package require tcltest\n",
    "\n",
    "tcltest::test yaml-21.0.06eef112da {ticket 06eef112da} -body {\n",
    "    yaml::yaml2dict -file [asset 06eef112da.data]\n",
    "} -result {{} {} {alpha 43 beta {houston {{}} newyork {{{} aaa}}}}}"
   ]
  },
  {
   "cell_type": "markdown",
   "metadata": {},
   "source": [
    " think that is one of the most clear examples of that and that is great to check and evaluate this.\n"
   ]
  },
  {
   "cell_type": "code",
   "execution_count": 8,
   "metadata": {},
   "outputs": [
    {
     "data": {
      "text/plain": [
       "'/slowfs/dcopt103/alvaro/GitLab/my-personal-projects/Notes'"
      ]
     },
     "execution_count": 8,
     "metadata": {},
     "output_type": "execute_result"
    }
   ],
   "source": [
    "pwd"
   ]
  },
  {
   "cell_type": "code",
   "execution_count": 32,
   "metadata": {},
   "outputs": [
    {
     "name": "stdout",
     "output_type": "stream",
     "text": [
      "---- get_min_val_test_01 start\n",
      "++++ get_min_val_test_01 PASSED\n"
     ]
    }
   ],
   "source": [
    "%%tcl\n",
    "::tcltest::verbose bpste\n",
    "tcltest::test get_min_val_test_01 {get_min_val unit test} {\n",
    "    get_min_val 1 2\n",
    "} 1\n"
   ]
  },
  {
   "cell_type": "code",
   "execution_count": 33,
   "metadata": {},
   "outputs": [
    {
     "name": "stdout",
     "output_type": "stream",
     "text": [
      "---- get_min_val_test_02 start\n",
      "\n",
      "\n",
      "==== get_min_val_test_02 get_min_val unit test FAILED\n",
      "==== Contents of test case:\n",
      "\n",
      "    get_min_val 1 2\n",
      "\n",
      "---- Result was:\n",
      "1\n",
      "---- Result should have been (exact matching):\n",
      "2\n",
      "==== get_min_val_test_02 FAILED\n",
      "\n"
     ]
    }
   ],
   "source": [
    "%%tcl\n",
    "tcltest::test get_min_val_test_02 {get_min_val unit test} {\n",
    "    get_min_val 1 2\n",
    "} 2 \n"
   ]
  },
  {
   "cell_type": "code",
   "execution_count": 34,
   "metadata": {},
   "outputs": [
    {
     "name": "stdout",
     "output_type": "stream",
     "text": [
      ":\tTotal\t2\tPassed\t1\tSkipped\t0\tFailed\t1\n"
     ]
    }
   ],
   "source": [
    "%%tcl \n",
    "tcltest::cleanupTests"
   ]
  },
  {
   "cell_type": "markdown",
   "metadata": {},
   "source": [
    "# tcl --> yaml"
   ]
  },
  {
   "cell_type": "code",
   "execution_count": 39,
   "metadata": {},
   "outputs": [
    {
     "data": {
      "text/plain": [
       "'stages {compile_and_lint unit_test coverage} .TOOLS {ddr-ckt-rel ddr-utils ddr-utils-in08 ddr-utils-lay ddr-utils-timing ibis} .run_for_each_tool {parallel {matrix {{TOOL {ddr-ckt-rel ddr-utils ddr-utils-in08 ddr-utils-lay ddr-utils-timing ibis}}}}} .test_script_setup {{export GITROOT=$CI_PROJECT_DIR} {source ./admin/source_before_tests.csh} {export tool=$TOOL} {export DDR_DA_MAIN=$GITROOT/$tool/dev/main}} check_code {stage compile_and_lint extends .run_for_each_tool script {{{export GITROOT=$CI_PROJECT_DIR} {source ./admin/source_before_tests.csh} {export tool=$TOOL} {export DDR_DA_MAIN=$GITROOT/$tool/dev/main}} {cd $TOOL/dev/main} {make --keep-going check_all}}} unit_test {stage unit_test extends .run_for_each_tool script {{{export GITROOT=$CI_PROJECT_DIR} {source ./admin/source_before_tests.csh} {export tool=$TOOL} {export DDR_DA_MAIN=$GITROOT/$tool/dev/main}} {cd $TOOL/dev/main} {make --keep-going unit_tests GITROOT=$CI_PROJECT_DIR}} artifacts {paths {{.coverage.$TOOL}} expire_in {1 week}}} py_coverage {stage coverage script {{./run_tests.py --merge}} artifacts {paths htmlcov_combined expire_in {1 week}}} check_code_sharedlib {stage compile_and_lint script {{{export GITROOT=$CI_PROJECT_DIR} {source ./admin/source_before_tests.csh} {export tool=$TOOL} {export DDR_DA_MAIN=$GITROOT/$tool/dev/main}} {cd sharedlib} {make --keep-going check_all}}} unit_test_sharedlib {stage unit_test allow_failure 1 script {{{export GITROOT=$CI_PROJECT_DIR} {source ./admin/source_before_tests.csh} {export tool=$TOOL} {export DDR_DA_MAIN=$GITROOT/$tool/dev/main}} {cd sharedlib} {make --keep-going unit_tests GITROOT=$CI_PROJECT_DIR}}}'"
      ]
     },
     "execution_count": 39,
     "metadata": {},
     "output_type": "execute_result"
    }
   ],
   "source": [
    "%%tcl\n",
    "\n",
    "yaml::setOptions -file\n",
    "set data [yaml::yaml2dict [file join .gitlab-ci.yml]]\n",
    "yaml::setOptions -stream\n",
    "dict get $data\n"
   ]
  },
  {
   "cell_type": "code",
   "execution_count": 40,
   "metadata": {},
   "outputs": [
    {
     "data": {
      "text/plain": [
       "'true'"
      ]
     },
     "execution_count": 40,
     "metadata": {},
     "output_type": "execute_result"
    }
   ],
   "source": [
    "%%tcl\n",
    "\n",
    "source /u/alvaro/GitLab/ddr-hbm-phy-automation-team/ddr-ckt-rel/dev/main/tests/data/alphaHLDepotRelease/legalRelease/ddr5.d910-ddr5-tsmc5ff-12.rel1.00_cktpcs_1.00a_rel_.design.legalRelease.txt"
   ]
  },
  {
   "cell_type": "code",
   "execution_count": 45,
   "metadata": {},
   "outputs": [
    {
     "data": {
      "text/plain": [
       "'calibre_verifs tcl_interactive tcl_version PROGRAM_NAME repeater_name releasePmMailDist auto_path errorInfo releaseBranch layers env reference_date_time rel argc ferel argv0 layers_override auto_index tcl_pkgPath RealScript layout_tag releaseTCMacro utility_name metal_stack_cover _tkinter_skip_tk_init process releaseMacro{dwc_ddr5phy_utility_blocks} argv releaseMacro{dwc_ddr5phy_repeater_cells} lef_diff_rel releaseDefMacro releasePhyvMacro releaseShimMacro errorCode supply_pins_override supply_pins cdl_prune_cells metal_stack_ip release_gds_cdl timing_libs tcl_patchLevel data SHELLTOOL_LOC vcrel RealBin releaseMacro{dwc_ddr5phy_utility_cells} tcl_platform tcl_library p4_release_root releaseMailDist metal_stack LOGFILE releaseCtlMacro releaseTCMailDist'"
      ]
     },
     "execution_count": 45,
     "metadata": {},
     "output_type": "execute_result"
    }
   ],
   "source": [
    "%%tcl\n",
    "info vars\n"
   ]
  },
  {
   "cell_type": "markdown",
   "metadata": {},
   "source": [
    "## Collecting variables from a script"
   ]
  },
  {
   "cell_type": "code",
   "execution_count": null,
   "metadata": {},
   "outputs": [],
   "source": []
  },
  {
   "cell_type": "code",
   "execution_count": 46,
   "metadata": {},
   "outputs": [
    {
     "data": {
      "text/plain": [
       "'file calibre_verifs releaseMacro{dwc_ddr5phy_utility_blocks} repeater_name releaseMacro{dwc_ddr5phy_repeater_cells} lef_diff_rel releaseDefMacro releasePhyvMacro releaseShimMacro releasePmMailDist supply_pins_override cdl_prune_cells supply_pins layers_override releaseBranch releaseMailDist release_gds_cdl metal_stack metal_stack_ip layers timing_libs layout_tag releaseTCMacro reference_date_time rel utility_name vcrel releaseMacro{dwc_ddr5phy_utility_cells} releaseCtlMacro ferel metal_stack_cover releaseTCMailDist p4_release_root process'"
      ]
     },
     "execution_count": 46,
     "metadata": {},
     "output_type": "execute_result"
    }
   ],
   "source": [
    "%%tcl\n",
    "\n",
    "proc read_variables_from_file {file} {\n",
    "    source $file\n",
    "    info vars\n",
    "}\n",
    "\n",
    "read_variables_from_file /u/alvaro/GitLab/ddr-hbm-phy-automation-team/ddr-ckt-rel/dev/main/tests/data/alphaHLDepotRelease/legalRelease/ddr5.d910-ddr5-tsmc5ff-12.rel1.00_cktpcs_1.00a_rel_.design.legalRelease.txt\n"
   ]
  },
  {
   "cell_type": "code",
   "execution_count": null,
   "metadata": {},
   "outputs": [],
   "source": [
    "%%tcl\n",
    "\n",
    "\n",
    "\n"
   ]
  }
 ],
 "metadata": {
  "kernelspec": {
   "display_name": "Python 3 (ipykernel)",
   "language": "python",
   "name": "python3"
  },
  "language_info": {
   "codemirror_mode": {
    "name": "ipython",
    "version": 3
   },
   "file_extension": ".py",
   "mimetype": "text/x-python",
   "name": "python",
   "nbconvert_exporter": "python",
   "pygments_lexer": "ipython3",
   "version": "3.8.0"
  },
  "vscode": {
   "interpreter": {
    "hash": "758228ae4236649af9509c5c8859545204428c6c7a2c9288794dec8c60a3bcc3"
   }
  }
 },
 "nbformat": 4,
 "nbformat_minor": 2
}
