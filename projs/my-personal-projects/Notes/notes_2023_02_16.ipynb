{
 "cells": [
  {
   "cell_type": "code",
   "execution_count": 1,
   "metadata": {
    "pycharm": {
     "name": "#%%\n"
    }
   },
   "outputs": [
    {
     "data": {
      "application/javascript": "\n            requirejs.config({\n                paths: {\n                    codemirror: \"https://cdn.rawgit.com/marijnh/CodeMirror/master\"\n                }\n            });\n            requirejs([\"codemirror/mode/tcl/tcl\"], function(codemirror) {\n                IPython.CodeCell.options_default.highlight_modes['magic_text/x-tcl'] = {'reg':[/^%%tcl/]};\n                IPython.notebook.events.one('kernel_ready.Kernel', function() {\n                    IPython.notebook.get_cells().map(function(cell) {\n                        if (cell.cell_type == 'code') {\n                            cell.auto_highlight();\n                        }\n                    });\n                });\n            });\n        "
     },
     "metadata": {},
     "output_type": "display_data"
    }
   ],
   "source": [
    "%load_ext tclmagic\n",
    "\n",
    "#  If the prev line doesnt work  install it using the next line in your unix terminal\n",
    "#  /depot/Python/Python-3.8.0/bin/pip install -U tcl-magic\n",
    "#  /depot/Python/Python-3.8.0/bin/pip install -U notebook\n",
    "#  You can configure it to ~/.local/ "
   ]
  },
  {
   "cell_type": "code",
   "execution_count": 2,
   "metadata": {
    "pycharm": {
     "name": "#%%\n"
    },
    "vscode": {
     "languageId": "bat"
    }
   },
   "outputs": [
    {
     "name": "stdout",
     "output_type": "stream",
     "text": [
      "\u001b[1m-I- READY!\u001b[0m\n"
     ]
    }
   ],
   "source": [
    "%%tcl \n",
    "set SHELLTOOL_LOC \"$env(HOME)/GitLab/ddr-hbm-phy-automation-team\"\n",
    "lappend auto_path \"$SHELLTOOL_LOC/sharedlib/tcl/lib\"\n",
    "lappend auto_path \"/depot/tcl8.6.3/lib\"\n",
    "\n",
    "set RealBin [file dirname [file normalize [info script]] ]\n",
    "set RealScript [file tail [file normalize [info script]] ]\n",
    "set PROGRAM_NAME $RealScript\n",
    "set LOGFILE \"[pwd]/log-$PROGRAM_NAME.log\"\n",
    "\n",
    "package require Messaging 1.0\n",
    "namespace import ::Messaging::*\n",
    "package require Misc 1.0\n",
    "namespace import ::Misc::*\n",
    "\n",
    "package require cmdline\n",
    "package require try\n",
    "package require yaml\n",
    "iprint \"READY!\""
   ]
  },
  {
   "cell_type": "markdown",
   "metadata": {},
   "source": [
    "# Notes 02/16"
   ]
  },
  {
   "cell_type": "markdown",
   "metadata": {},
   "source": [
    "### 0930 --> BWidget crashes the script for those scripts that required it"
   ]
  },
  {
   "cell_type": "markdown",
   "metadata": {},
   "source": [
    "### 1145 --> progressing in the boundarylayer tool\n",
    "\n",
    "The next code is working without it"
   ]
  },
  {
   "cell_type": "code",
   "execution_count": 1,
   "metadata": {},
   "outputs": [
    {
     "name": "stderr",
     "output_type": "stream",
     "text": [
      "UsageError: Cell magic `%%tcl` not found.\n"
     ]
    }
   ],
   "source": [
    "%%tcl\n",
    "\n",
    "namespace eval cc_crd_abutment {\n",
    "\n",
    "    variable scriptDir [file dirname [info script]]\n",
    "\n",
    "    proc invoke_floorplan {scriptDir {floorplan_file \"crd_abutment_floorplans.tcl\"}} {\n",
    "        variable $scriptDir\n",
    "        return [file join $scriptDir $floorplan_file]\n",
    "    }\n",
    "\n",
    "    proc check_cells_libs {macros} {\n",
    "        foreach macro $macros {\n",
    "        if {[array names libraries -exact $macro] == \"\"} {\n",
    "            de::sendMessage \"No reference library found for $macro. Exiting.\" -severity error\n",
    "            return -level [info level] 1\n",
    "        }\n",
    "        }\n",
    "    }\n",
    "\n",
    "    proc get_macros_from_testcases {testcases} {\n",
    "        foreach testcase $testcases {\n",
    "            variable floorplans\n",
    "            foreach {macro columns rows d_x d_y x y angle mirror} $floorplans($testcase) {\n",
    "                lappend macros $macro\n",
    "            }\n",
    "        }\n",
    "        return $macros\n",
    "    }\n",
    "\n",
    "    proc check_lib_layoutview {macros reflibs} {\n",
    "        set macros [lsort -unique $macros]\n",
    "        foreach macro $macros {\n",
    "            foreach lib $reflibs {\n",
    "                # First check that cell exists in lib, then check if layout view exists.\n",
    "                if {![db::isEmpty  [dm::getCells $macro -libName $lib]] && ![db::isEmpty [dm::getCellViews layout -cellName $macro -libName $lib]]} {\n",
    "                    variable libraries($macro) $lib\n",
    "                    break\n",
    "                }\n",
    "            }\n",
    "        }\n",
    "    }\n",
    "\n",
    "    proc get_macro_sizes {macros} {\n",
    "        foreach macro $macros {\n",
    "            variable libraries\n",
    "            set context [de::open [dm::getCellViews layout -cellName $macro -libName $libraries($macro)] -readOnly true -headless true]\n",
    "            set design [db::getAttr editDesign -of $context]\n",
    "            set block [oa::getTopBlock $design]\n",
    "            set boundary [oa::PRBoundaryFind $block]\n",
    "            #set widths($macro) [lindex [db::getAttr bBox -of $boundary] 1 0]\n",
    "            variable x_$macro [lindex [db::getAttr bBox -of $boundary] 1 0]\n",
    "            #set heights($macro) [lindex [db::getAttr bBox -of $boundary] 1 1]\n",
    "            variable y_$macro [lindex [db::getAttr bBox -of $boundary] 1 1]\n",
    "            de::close $context\n",
    "        }\n",
    "    }\n",
    "\n",
    "    proc generate_testcases {testcases destlib} {\n",
    "        foreach testcase $testcases {\n",
    "            variable floorplans\n",
    "            set cell [dm::createCell $testcase -libName $destlib]\n",
    "            set cellView [dm::createCellView layout -cell $cell -viewType maskLayout]\n",
    "            set context [de::open [dm::getCellViews layout -cellName $testcase -libName $destlib] -headless true]\n",
    "            set design [db::getAttr editDesign -of $context]\n",
    "\n",
    "            foreach {macro columns rows dx dy x y angle mirror} $floorplans($testcase) {\n",
    "                switch -- \"$angle $mirror\" {\n",
    "                    \"0 0\"   {set orientation R0}\n",
    "                    \"0 1\"   {set orientation MX}\n",
    "                    \"180 1\" {set orientation MY}\n",
    "                    \"180 0\" {set orientation R180}\n",
    "                }\n",
    "                le::createInst -libName $libraries($macro) -cellName $macro -viewName layout -design $design -orient $orientation -origin \"[expr $x] [expr $y]\" -rows $rows -cols $columns -dx [expr $dx] -dy [expr $dy]\n",
    "            }\n",
    "            de::save $context\n",
    "            de::close $context    \n",
    "        namespace eval cc_crd_abutment {\n",
    "\n",
    "    variable scriptDir [file dirname [info script]]\n",
    "\n",
    "    proc invoke_floorplan {scriptDir {floorplan_file \"crd_abutment_floorplans.tcl\"}} {\n",
    "        variable $scriptDir\n",
    "        return [file join $scriptDir $floorplan_file]\n",
    "    }\n",
    "\n",
    "    proc check_cells_libs {macros} {\n",
    "        foreach macro $macros {\n",
    "        if {[array names libraries -exact $macro] == \"\"} {\n",
    "            de::sendMessage \"No reference library found for $macro. Exiting.\" -severity error\n",
    "            return -level [info level] 1\n",
    "        }\n",
    "        }\n",
    "    }\n",
    "\n",
    "    proc get_macros_from_testcases {testcases} {\n",
    "        foreach testcase $testcases {\n",
    "            variable floorplans\n",
    "            foreach {macro columns rows d_x d_y x y angle mirror} $floorplans($testcase) {\n",
    "                lappend macros $macro\n",
    "            }\n",
    "        }\n",
    "        return $macros\n",
    "    }\n",
    "\n",
    "    proc check_lib_layoutview {macros reflibs} {\n",
    "        set macros [lsort -unique $macros]\n",
    "        foreach macro $macros {\n",
    "            foreach lib $reflibs {\n",
    "                # First check that cell exists in lib, then check if layout view exists.\n",
    "                if {![db::isEmpty  [dm::getCells $macro -libName $lib]] && ![db::isEmpty [dm::getCellViews layout -cellName $macro -libName $lib]]} {\n",
    "                    variable libraries($macro) $lib\n",
    "                    break\n",
    "                }\n",
    "            }\n",
    "        }\n",
    "    }\n",
    "\n",
    "    proc get_macro_sizes {macros} {\n",
    "        foreach macro $macros {\n",
    "            variable libraries\n",
    "            set context [de::open [dm::getCellViews layout -cellName $macro -libName $libraries($macro)] -readOnly true -headless true]\n",
    "            set design [db::getAttr editDesign -of $context]\n",
    "            set block [oa::getTopBlock $design]\n",
    "            set boundary [oa::PRBoundaryFind $block]\n",
    "            #set widths($macro) [lindex [db::getAttr bBox -of $boundary] 1 0]\n",
    "            variable x_$macro [lindex [db::getAttr bBox -of $boundary] 1 0]\n",
    "            #set heights($macro) [lindex [db::getAttr bBox -of $boundary] 1 1]\n",
    "            variable y_$macro [lindex [db::getAttr bBox -of $boundary] 1 1]\n",
    "            de::close $context\n",
    "        }\n",
    "    }\n",
    "\n",
    "    proc generate_testcases {testcases destlib} {\n",
    "        foreach testcase $testcases {\n",
    "            variable floorplans\n",
    "            set cell [dm::createCell $testcase -libName $destlib]\n",
    "            set cellView [dm::createCellView layout -cell $cell -viewType maskLayout]\n",
    "            set context [de::open [dm::getCellViews layout -cellName $testcase -libName $destlib] -headless true]\n",
    "            set design [db::getAttr editDesign -of $context]\n",
    "\n",
    "        }\n",
    "    }\n",
    "\n",
    "    proc launchCRDTestcaseCreation {} {\n",
    "        variable scriptDir\n",
    "\n",
    "        source [invoke_floorplan $scriptDir]\n",
    "\n",
    "        # Get list of libraries.\n",
    "        set libs [db::createList [db::getAttr name -of [dm::getLibs]]]\n",
    "\n",
    "        # Generate GUI dialog box.\n",
    "        set crdDialog       [gi::createDialog crdDialog -title \"CRD Testcase Creation\" -showHelp 0 -execProc cc_crd_abutment::CRDTestcaseCreationExecProc]\n",
    "        set destlibInput    [dm::createLibInput destlibInput -parent $crdDialog -label \"Destination Library\"]\n",
    "        set testcasesInput  [gi::createListInput testcasesInput -parent $crdDialog -label \"Testcases to Generate\" -header \"Testcases\" -items [array names floorplans] -showFilter -selectionModel multiple -viewType checkbox]\n",
    "        set reflibsInput    [gi::createListInput reflibsInput -parent $crdDialog -label \"Reference Libraries\" -header \"Available Selected\" -items $libs -selectionModel multiple -viewType dualList]\n",
    "        set haloInputs      [gi::createInlineGroup haloInputs -parent $crdDialog -label \"Boundary Upsize (Halo) (um)\"]\n",
    "        \n",
    "        foreach side {bottom left right top} {\n",
    "        set ${side}HaloInput [gi::createNumberInput ${side}HaloInput -parent $haloInputs -label [string toupper $side 0 0] -valueType float -value 5]\n",
    "        }\n",
    "        \n",
    "        set layersInput [gi::createListInput layersInput -parent $crdDialog -label \"Layers for Pin Propagation\" -header \"Layers\" -items \"M0 M1 M2 M3 M4 M5 M6 M7 M8 M9 M10 M11 M12 M13 M14 M15 M16 M17 M18 MTOP-1 MTOP RDL\" -selectionModel multiple -viewType checkbox]\n",
    "    }\n",
    "\n",
    "    proc add_boundary_layer {macros halo_size} {\n",
    "        lassign $halo_size halo(x1) halo(y1) halo(x2) halo(y2)\n",
    "        foreach macro $macros {\n",
    "            variable libraries($macro)\n",
    "            set context [de::open [dm::getCellViews layout -cellName $macro -libName $libraries($macro)] -readOnly true -headless true]\n",
    "            set design [db::getAttr editDesign -of $context]\n",
    "            \n",
    "            lassign [db::getAttr bBox -of $design] pointOne pointTwo\n",
    "            lassign $pointOne point(x1) point(y1)\n",
    "            lassign $pointOne point(x2) point(y2\n",
    "\n",
    "            set new_points [list [list  [expr {$point(x1) - $halo(x1)}] \\\n",
    "                                        [expr {$point(y1) - $halo(y1)}] ] \\\n",
    "                                [list  [expr {$point(x2) + $halo(x2)}] \\\n",
    "                                        [expr {$point(y2) + $halo(y2)}] ] ]\n",
    "\n",
    "            le:createBoundary $new_points -design $design -type pr\n",
    "            de::close $context \n",
    "        }\n",
    "\n",
    "    }\n",
    "\n",
    "    proc CRDTestcaseCreationExecProc {dialog} {\n",
    "        \n",
    "        variable scriptDir [file dirname [info script]]\n",
    "\n",
    "        # Capture inputs.\n",
    "        set destlib    [gi::findChild destlibInput.value    -in $dialog]\n",
    "        set testcases  [gi::findChild testcasesInput.value  -in $dialog]\n",
    "        set reflibs    [gi::findChild reflibsInput.value    -in $dialog]\n",
    "        set bottomHalo [gi::findChild bottomHaloInput.value -in $dialog]\n",
    "        set leftHalo   [gi::findChild leftHaloInput.value   -in $dialog]\n",
    "        set rightHalo  [gi::findChild rightHaloInput.value  -in $dialog]\n",
    "        set topHalo    [gi::findChild topHaloInput.value    -in $dialog]\n",
    "        set layers     [gi::findChild layersInput.value     -in $dialog]\n",
    "        \n",
    "        source [invoke_floorplan $scriptDir]\n",
    "\n",
    "        set macros [get_macros_from_testcases $testcases]\n",
    "        \n",
    "        check_lib_layoutview $macros $reflibs\n",
    "\n",
    "        get_macros_sizes $macros \n",
    "\n",
    "        add_boundary_layer $macros [list $leftHalo $bottomHalo $rightHalo $topHalo]\n",
    "\n",
    "        generate_testcases $testcases $destlib\n",
    "\n",
    "    }\n",
    "\n",
    "    launchCRDTestcaseCreation\n",
    "\n",
    "}"
   ]
  },
  {
   "cell_type": "markdown",
   "metadata": {},
   "source": [
    "# method boundary layer\n",
    "\n",
    "1. It has to receive a macro and the halo sizes \n",
    "  1.a. `x_$macro` and `y_$macro`\n",
    "  1.b. `oaDesign`, where to find it?\n",
    "2. It has to use the haloInputs and get them as a list to make it easier to manage.\n",
    "3. TBD: We can use a foreach to run each macro and use createboundary\n",
    "4. It will return a new oaDesign "
   ]
  },
  {
   "cell_type": "code",
   "execution_count": null,
   "metadata": {},
   "outputs": [],
   "source": [
    "proc add_boundary_layer{macros halo_size} {\n",
    "    lassign $halo_size halo(x1) halo(y1) halo(x2) halo(y2)\n",
    "    foreach macro $macros {\n",
    "        variable libraries($macro)\n",
    "        set context [de::open [dm::getCellViews layout -cellName $macro -libName $libraries($macro)] -readOnly true -headless true]\n",
    "        set design [db::getAttr editDesign -of $context]\n",
    "        \n",
    "        lassign [db::getAttr bBox -of $design] pointOne pointTwo\n",
    "        lassign $pointOne point(x1) point(y1)\n",
    "        lassign $pointOne point(x2) point(y2\n",
    "\n",
    "        set new_points [list [list  [expr {$point(x1) - $halo(x1)}] \\\n",
    "                                    [expr {$point(y1) - $halo(y1)}] ] \\\n",
    "                             [list  [expr {$point(x2) + $halo(x2)}] \\\n",
    "                                    [expr {$point(y2) + $halo(y2)}] ] ]\n",
    "\n",
    "        le:createBoundary $new_points -design $design -type pr\n",
    "        de::close $context \n",
    "    }\n",
    "\n",
    "}"
   ]
  },
  {
   "cell_type": "markdown",
   "metadata": {},
   "source": [
    "## 1228 --> OA package\n",
    "I need to go to check in oa library and check how to set a new design?\n"
   ]
  },
  {
   "cell_type": "markdown",
   "metadata": {},
   "source": []
  }
 ],
 "metadata": {
  "kernelspec": {
   "display_name": "Python 3 (ipykernel)",
   "language": "python",
   "name": "python3"
  },
  "language_info": {
   "codemirror_mode": {
    "name": "ipython",
    "version": 3
   },
   "file_extension": ".py",
   "mimetype": "text/x-python",
   "name": "python",
   "nbconvert_exporter": "python",
   "pygments_lexer": "ipython3",
   "version": "3.8.0"
  },
  "vscode": {
   "interpreter": {
    "hash": "758228ae4236649af9509c5c8859545204428c6c7a2c9288794dec8c60a3bcc3"
   }
  }
 },
 "nbformat": 4,
 "nbformat_minor": 2
}
