{
 "cells": [
  {
   "cell_type": "code",
   "execution_count": null,
   "metadata": {
    "pycharm": {
     "name": "#%%\n"
    },
    "vscode": {
     "languageId": "tcl"
    }
   },
   "outputs": [],
   "source": [
    "%load_ext tclmagic\n",
    "\n",
    "#  If the prev line doesnt work  install it using the next line in your unix terminal\n",
    "#  /depot/Python/Python-3.8.0/bin/pip install -U tcl-magic\n",
    "#  /depot/Python/Python-3.8.0/bin/pip install -U notebook\n",
    "#  You can configure it to ~/.local/ "
   ]
  },
  {
   "cell_type": "code",
   "execution_count": null,
   "metadata": {
    "pycharm": {
     "name": "#%%\n"
    },
    "vscode": {
     "languageId": "tcl"
    }
   },
   "outputs": [],
   "source": [
    "%%tcl \n",
    "\n",
    "set SHELLTOOL_LOC \"/remote/cad-rep/msip/tools/Shelltools\"\n",
    "lappend auto_path \"$SHELLTOOL_LOC/ddr-utils-lay/dev/lib/tcl\"\n",
    "lappend auto_path \"/depot/tcl8.6.3/lib\"\n",
    "\n",
    "set RealBin [file dirname [file normalize [info script]] ]\n",
    "set RealScript [file tail [file normalize [info script]] ]\n",
    "set PROGRAM_NAME $RealScript\n",
    "set LOGFILE \"[pwd]/log-$PROGRAM_NAME.log\"\n",
    "\n",
    "package require Messaging 1.0\n",
    "namespace import ::Messaging::*\n",
    "package require Misc 1.0\n",
    "namespace import ::Misc::*\n",
    "\n",
    "package require cmdline\n",
    "package require try\n",
    "package require yaml"
   ]
  },
  {
   "cell_type": "markdown",
   "metadata": {},
   "source": [
    "# AI\n",
    "\n",
    "- convert releaseMacro to a dictionary\n",
    "- convert lists in lists...\n"
   ]
  },
  {
   "cell_type": "code",
   "execution_count": null,
   "metadata": {
    "vscode": {
     "languageId": "tcl"
    }
   },
   "outputs": [],
   "source": []
  },
  {
   "cell_type": "code",
   "execution_count": null,
   "metadata": {
    "vscode": {
     "languageId": "tcl"
    }
   },
   "outputs": [],
   "source": [
    "%%tcl\n",
    "set sample_path \"/u/alvaro/GitLab/my-personal-projects/experiments/tclyaml_experiment/inputs/sample.tcl\""
   ]
  },
  {
   "cell_type": "code",
   "execution_count": null,
   "metadata": {
    "vscode": {
     "languageId": "tcl"
    }
   },
   "outputs": [],
   "source": [
    "%%tcl\n",
    "\n",
    "unset ("
   ]
  },
  {
   "cell_type": "code",
   "execution_count": null,
   "metadata": {
    "vscode": {
     "languageId": "tcl"
    }
   },
   "outputs": [],
   "source": [
    "%%tcl\n",
    "\n",
    "proc create_dict_from_file {__file} {\n",
    "\n",
    "    source $__file\n",
    "    unset __file\n",
    "\n",
    "    set varlist [lsort [info vars]]\n",
    "\n",
    "    foreach varname $varlist {\n",
    "        iprint $varname\n",
    "        if {[regexp -all {\\{} $varname match]} {\n",
    "            set newvar $varname\n",
    "            set newvar [regsub -all {\\{} $newvar \"\\(\"]\n",
    "            set newvar [regsub -all {\\}} $newvar \"\\)\"]\n",
    "            set $newvar [set $varname]\n",
    "            unset varname\n",
    "        }\n",
    "    }\n",
    "\n",
    "    unset varlist\n",
    "    set varlist [lsort [info vars]]\n",
    "\n",
    "    foreach varname $varlist {\n",
    "        iprint $varname\n",
    "        if {[array exists $varname]} {\n",
    "            foreach {ark arv} [array get $varname] {\n",
    "                iprint \"$varname $ark --> $arv\"\n",
    "                dict set legal_release $varname \"$ark: \" \"\\{$arv\\}\"\n",
    "            }\n",
    "        } else {\n",
    "            if {[llength [set $varname]]>1} {\n",
    "                if {![regexp {(date|prune|layers)} $varname match]} {\n",
    "                    foreach litvalue [set $varname] {\n",
    "                        lappend varvalue \"- $litvalue\"  \n",
    "                    }\n",
    "                } else {\n",
    "                    set varvalue [set $varname]\n",
    "                }\n",
    "            } else {\n",
    "                set varvalue [set $varname]\n",
    "            }\n",
    "            \n",
    "            dict set legal_release $varname $varvalue\n",
    "            unset varname\n",
    "            unset varvalue\n",
    "        }\n",
    "        \n",
    "        \n",
    "    }\n",
    "    return $legal_release\n",
    "}\n",
    "\n",
    "proc save_cleaned_yml_to_file {sample_path {file_name \"yml-cleaned.yml\"}} {\n",
    "\n",
    "    set legal_release [create_dict_from_file $sample_path]\n",
    "    set yaml_format [yaml::dict2yaml $legal_release 4 100]\n",
    "\n",
    "    # Remove \": } {\" to only colon\n",
    "    set cleaned_format [regsub -all {\\: \\} \\{} $yaml_format \": \"]\n",
    "    set cleaned_format [regsub -all {\\} \\{| \\|-\\n    \\{|>\\n    } $cleaned_format \"\\n    \" ]\n",
    "    \n",
    "    set cleaned_values [regsub -all {\\: \\{} $cleaned_format \": \" ]\n",
    "    iprint $cleaned_values\n",
    "    write_file $file_name [regsub -all {\\}\\n} [regsub -all {\\}\\n} $cleaned_values \"\\n\" ] \"\\n\" ]\n",
    " \n",
    "}\n",
    "\n",
    "proc save_raw_yml_to_file {sample_path {file_name \"yml-raw.yml\"}} {\n",
    "\n",
    "    set legal_release [create_dict_from_file $sample_path]\n",
    "    set yaml_format [yaml::dict2yaml $legal_release 4 100]\n",
    "\n",
    "    write_file $file_name $yaml_format\n",
    " \n",
    "}\n"
   ]
  },
  {
   "cell_type": "code",
   "execution_count": null,
   "metadata": {
    "vscode": {
     "languageId": "tcl"
    }
   },
   "outputs": [],
   "source": [
    "%%tcl\n",
    "save_cleaned_yml_to_file $sample_path\n",
    "save_raw_yml_to_file $sample_path"
   ]
  },
  {
   "cell_type": "code",
   "execution_count": null,
   "metadata": {
    "vscode": {
     "languageId": "tcl"
    }
   },
   "outputs": [],
   "source": []
  }
 ],
 "metadata": {
  "kernelspec": {
   "display_name": "Tcl",
   "language": "Tcl",
   "name": "tcl"
  },
  "language_info": {
   "codemirror_mode": {
    "name": "ipython",
    "version": 3
   },
   "file_extension": ".py",
   "mimetype": "text/x-python",
   "name": "Tcl",
   "nbconvert_exporter": "python",
   "pygments_lexer": "ipython3",
   "version": "3.8.0"
  },
  "vscode": {
   "interpreter": {
    "hash": "758228ae4236649af9509c5c8859545204428c6c7a2c9288794dec8c60a3bcc3"
   }
  }
 },
 "nbformat": 4,
 "nbformat_minor": 2
}
