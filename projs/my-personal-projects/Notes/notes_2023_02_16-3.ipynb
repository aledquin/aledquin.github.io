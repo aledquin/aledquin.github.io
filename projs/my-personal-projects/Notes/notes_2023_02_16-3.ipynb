{
 "cells": [
  {
   "cell_type": "code",
   "execution_count": 6,
   "metadata": {},
   "outputs": [
    {
     "data": {
      "text/plain": [
       "'/slowfs/dcopt103/alvaro/GitLab/my-personal-projects/Notes'"
      ]
     },
     "execution_count": 6,
     "metadata": {},
     "output_type": "execute_result"
    }
   ],
   "source": [
    "\n",
    "__author__ = \"alvaro\"\n",
    "__tool_name__ = \"user\"  # Ex: ddr-da-tpl\n",
    "\n",
    "import argparse\n",
    "import atexit\n",
    "import os\n",
    "import pathlib\n",
    "import sys\n",
    "\n",
    "bindir = str(os.path.abspath(''))\n",
    "# Add path to library that may be symbolically linked.\n",
    "sys.path.append(bindir + \"/../lib/Util\")\n",
    "# Add path to sharedlib's Python Utilities directory.\n",
    "sys.path.append(bindir + \"/../lib/python/Util\")\n",
    "\n",
    "\n",
    "bindirlib/python/Util/Messaging.py"
   ]
  },
  {
   "cell_type": "code",
   "execution_count": 7,
   "metadata": {},
   "outputs": [
    {
     "ename": "ModuleNotFoundError",
     "evalue": "No module named 'CommonHeader'",
     "output_type": "error",
     "traceback": [
      "\u001b[0;31m---------------------------------------------------------------------------\u001b[0m",
      "\u001b[0;31mModuleNotFoundError\u001b[0m                       Traceback (most recent call last)",
      "\u001b[1;32m/u/alvaro/GitLab/my-personal-projects/Notes/notes_2023_02_16-3.ipynb Cell 2'\u001b[0m in \u001b[0;36m<cell line: 2>\u001b[0;34m()\u001b[0m\n\u001b[1;32m      <a href='vscode-notebook-cell:/u/alvaro/GitLab/my-personal-projects/Notes/notes_2023_02_16-3.ipynb#ch0000001?line=0'>1</a>\u001b[0m \u001b[39m# Import common constants\u001b[39;00m\n\u001b[0;32m----> <a href='vscode-notebook-cell:/u/alvaro/GitLab/my-personal-projects/Notes/notes_2023_02_16-3.ipynb#ch0000001?line=1'>2</a>\u001b[0m \u001b[39mfrom\u001b[39;00m \u001b[39mCommonHeader\u001b[39;00m \u001b[39mimport\u001b[39;00m NONE, INSANE, CRAZY, NFS, NULL_VAL, EMPTY_STR\n\u001b[1;32m      <a href='vscode-notebook-cell:/u/alvaro/GitLab/my-personal-projects/Notes/notes_2023_02_16-3.ipynb#ch0000001?line=3'>4</a>\u001b[0m \u001b[39m# Import messaging functions\u001b[39;00m\n\u001b[1;32m      <a href='vscode-notebook-cell:/u/alvaro/GitLab/my-personal-projects/Notes/notes_2023_02_16-3.ipynb#ch0000001?line=4'>5</a>\u001b[0m \u001b[39mfrom\u001b[39;00m \u001b[39mMessaging\u001b[39;00m \u001b[39mimport\u001b[39;00m (\n\u001b[1;32m      <a href='vscode-notebook-cell:/u/alvaro/GitLab/my-personal-projects/Notes/notes_2023_02_16-3.ipynb#ch0000001?line=5'>6</a>\u001b[0m     iprint,\n\u001b[1;32m      <a href='vscode-notebook-cell:/u/alvaro/GitLab/my-personal-projects/Notes/notes_2023_02_16-3.ipynb#ch0000001?line=6'>7</a>\u001b[0m     eprint,\n\u001b[0;32m   (...)\u001b[0m\n\u001b[1;32m     <a href='vscode-notebook-cell:/u/alvaro/GitLab/my-personal-projects/Notes/notes_2023_02_16-3.ipynb#ch0000001?line=14'>15</a>\u001b[0m     dprint,\n\u001b[1;32m     <a href='vscode-notebook-cell:/u/alvaro/GitLab/my-personal-projects/Notes/notes_2023_02_16-3.ipynb#ch0000001?line=15'>16</a>\u001b[0m )\n",
      "\u001b[0;31mModuleNotFoundError\u001b[0m: No module named 'CommonHeader'"
     ]
    }
   ],
   "source": [
    "# Import common constants\n",
    "from CommonHeader import NONE, INSANE, CRAZY, NFS, NULL_VAL, EMPTY_STR\n",
    "\n",
    "# Import messaging functions\n",
    "from Messaging import (\n",
    "    iprint,\n",
    "    eprint,\n",
    "    hprint,\n",
    "    fatal_error,\n",
    "    p4print,\n",
    "    viprint,\n",
    "    vhprint,\n",
    "    vwprint,\n",
    "    veprint,\n",
    "    dprint,\n",
    ")\n",
    "\n",
    "# Import other logging functions\n",
    "import Messaging\n",
    "\n",
    "# Import miscellaneous utilities\n",
    "import Misc\n",
    "import CommonHeader\n",
    "\n",
    "# Disable exiting when fatal_error is invoked\n",
    "CommonHeader.FPRINT_NOEXIT = 1"
   ]
  },
  {
   "cell_type": "code",
   "execution_count": null,
   "metadata": {},
   "outputs": [],
   "source": [
    "tool_name = \"ddr-ckt-rel\"\n",
    "file_list = pathlib.Path(os.path.abspath(f'../../{tool_name}/dev/main/tdata')).glob(\"*legalRelease*\")\n",
    "for file in file_list:\n",
    "    print(file)"
   ]
  },
  {
   "cell_type": "code",
   "execution_count": null,
   "metadata": {},
   "outputs": [],
   "source": [
    "import re\n",
    "\n",
    "def grep(pattern:str, filename:str, wcl=0):\n",
    "    line_results = []\n",
    "    counts = 0\n",
    "    file_content = Misc.read_file(file_path=filename)\n",
    "    for line in file_content:\n",
    "        if re.search(pattern,line):\n",
    "            counts=counts+1\n",
    "            line_results.append(line)\n",
    "    if wcl:\n",
    "        return line_results, counts\n",
    "    else:\n",
    "        return line_results"
   ]
  },
  {
   "cell_type": "code",
   "execution_count": null,
   "metadata": {},
   "outputs": [],
   "source": [
    "tool_name   = \"ddr-ckt-rel\"\n",
    "file_suffix = \".tcl\"\n",
    "method_type = \"proc\"\n",
    "bindir_rel = f'../../{tool_name}/dev/main/bin'\n",
    "\n",
    "\n",
    "\n",
    "def method_seeker (file_suffix=f\"{file_suffix}\", method_type=f\"{method_type}\" , bindir_rel=f\"{bindir_rel}\" ):\n",
    "    path_dir    = pathlib.Path(os.path.abspath(bindir_rel))\n",
    "    file_list   = path_dir.glob(f\"*{file_suffix}\")\n",
    "    results = [f'method name, counts\\n']\n",
    "    for file_name in file_list:\n",
    "        grep_results = grep(f'^{method_type} ',file_name)\n",
    "        for eachresult in grep_results:\n",
    "            method_name = eachresult.split(' ')[1]\n",
    "            _, cc = grep(method_name,file_name,1)\n",
    "            line2save = f'{method_name}, {cc} \\n'\n",
    "            # print(line2save)\n",
    "            results.append(line2save)\n",
    "    return results\n",
    "\n",
    "\n",
    "\n",
    "\n",
    "Misc.write_file(method_seeker(),\"./report.log\")\n",
    "\n"
   ]
  },
  {
   "cell_type": "code",
   "execution_count": null,
   "metadata": {},
   "outputs": [],
   "source": [
    "\n",
    "Misc.write_file(method_seeker(), \"./rs.csv\")"
   ]
  }
 ],
 "metadata": {
  "interpreter": {
   "hash": "78ee8c2931daa98418262a3099bec66c014c1eca61453cb33883e29a97d9a0d2"
  },
  "kernelspec": {
   "display_name": "Python 3.8.0 64-bit",
   "language": "python",
   "name": "python3"
  },
  "language_info": {
   "codemirror_mode": {
    "name": "ipython",
    "version": 3
   },
   "file_extension": ".py",
   "mimetype": "text/x-python",
   "name": "python",
   "nbconvert_exporter": "python",
   "pygments_lexer": "ipython3",
   "version": "3.8.0"
  },
  "orig_nbformat": 4
 },
 "nbformat": 4,
 "nbformat_minor": 2
}
