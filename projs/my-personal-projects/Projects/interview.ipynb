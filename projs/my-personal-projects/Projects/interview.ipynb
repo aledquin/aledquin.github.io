{
 "cells": [
  {
   "cell_type": "code",
   "execution_count": 1,
   "metadata": {
    "collapsed": false,
    "pycharm": {
     "name": "#%%\n"
    }
   },
   "outputs": [
    {
     "data": {
      "application/javascript": "\n            requirejs.config({\n                paths: {\n                    codemirror: \"https://cdn.rawgit.com/marijnh/CodeMirror/master\"\n                }\n            });\n            requirejs([\"codemirror/mode/tcl/tcl\"], function(codemirror) {\n                IPython.CodeCell.options_default.highlight_modes['magic_text/x-tcl'] = {'reg':[/^%%tcl/]};\n                IPython.notebook.events.one('kernel_ready.Kernel', function() {\n                    IPython.notebook.get_cells().map(function(cell) {\n                        if (cell.cell_type == 'code') {\n                            cell.auto_highlight();\n                        }\n                    });\n                });\n            });\n        "
     },
     "metadata": {},
     "output_type": "display_data"
    }
   ],
   "source": [
    "%load_ext tclmagic"
   ]
  },
  {
   "cell_type": "code",
   "execution_count": 2,
   "metadata": {
    "collapsed": false,
    "pycharm": {
     "name": "#%%\n"
    }
   },
   "outputs": [
    {
     "name": "stdout",
     "output_type": "stream",
     "text": [
      "::Main --> ::A --> ::run_system_cmd\n"
     ]
    }
   ],
   "source": [
    "%%tcl\n",
    "\n",
    "proc callstack {} {\n",
    "\n",
    "    set line_of_procs \"\"\n",
    "    for {set i [expr [info level]-1]} {$i > 0} {incr i -1} {\n",
    "\n",
    "        set level [info level -$i]\n",
    "        set frame [info frame -$i]\n",
    "\n",
    "        if {[dict exists $frame proc]} {\n",
    "            set pname [dict get $frame proc]\n",
    "            set pargs [lrange $level 1 end]\n",
    "\n",
    "            if {$line_of_procs == \"\"} {\n",
    "                append line_of_procs \"$pname \"\n",
    "            } else {\n",
    "                append line_of_procs \" --> $pname \"\n",
    "            }\n",
    "\n",
    "            foreach arg $pargs {\n",
    "                append line_of_procs \"   * $arg\"\n",
    "            }\n",
    "\n",
    "\n",
    "        } else {\n",
    "            append line_of_procs \" - **unknown stack item**: $level $frame\"\n",
    "        }\n",
    "    }\n",
    "\n",
    "    return [join $line_of_procs]\n",
    "}\n",
    "\n",
    "proc Main {} {\n",
    "    A\n",
    "}\n",
    "\n",
    "proc A {} {\n",
    "    run_system_cmd\n",
    "}\n",
    "proc run_system_cmd {} {\n",
    "     puts [callstack]\n",
    "\n",
    "}\n",
    "\n",
    "\n",
    "Main"
   ]
  },
  {
   "cell_type": "code",
   "execution_count": 3,
   "metadata": {
    "collapsed": false,
    "pycharm": {
     "name": "#%%\n"
    }
   },
   "outputs": [
    {
     "name": "stdout",
     "output_type": "stream",
     "text": [
      "::A\n",
      "::Main\n",
      "fail-3\n"
     ]
    }
   ],
   "source": [
    "%%tcl\n",
    "\n",
    "proc Main {} {\n",
    "    A\n",
    "}\n",
    "\n",
    "proc A {} {\n",
    "    show_behind\n",
    "}\n",
    "\n",
    "proc show_behind {} {\n",
    "        try {\n",
    "        puts [dict get [info frame -1] proc]\n",
    "    } on error {result options} {\n",
    "        puts fail-1\n",
    "    }\n",
    "        try {\n",
    "        puts [dict get [info frame -2] proc]\n",
    "    } on error {result options} {\n",
    "        puts fail-2\n",
    "    }\n",
    "    try {\n",
    "        puts [dict get [info frame -3] proc]\n",
    "    } on error {result options} {\n",
    "        puts fail-3\n",
    "    }\n",
    "}\n",
    "\n",
    "Main"
   ]
  },
  {
   "cell_type": "code",
   "execution_count": null,
   "metadata": {
    "collapsed": false,
    "pycharm": {
     "name": "#%%\n"
    }
   },
   "outputs": [],
   "source": []
  }
 ],
 "metadata": {
  "kernelspec": {
   "display_name": "Python 3.10.4 64-bit",
   "language": "python",
   "name": "python3"
  },
  "language_info": {
   "codemirror_mode": {
    "name": "ipython",
    "version": 2
   },
   "file_extension": ".py",
   "mimetype": "text/x-python",
   "name": "python",
   "nbconvert_exporter": "python",
   "pygments_lexer": "ipython2",
   "version": "3.10.4"
  },
  "vscode": {
   "interpreter": {
    "hash": "758228ae4236649af9509c5c8859545204428c6c7a2c9288794dec8c60a3bcc3"
   }
  }
 },
 "nbformat": 4,
 "nbformat_minor": 0
}