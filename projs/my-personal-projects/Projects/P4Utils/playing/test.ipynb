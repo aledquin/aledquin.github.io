{
 "cells": [
  {
   "cell_type": "markdown",
   "metadata": {},
   "source": [
    "# TCL tutorial\n",
    "\n",
    "How to use it and more...\n",
    "\n",
    "`code example`\n",
    "\n",
    "Author: Alvaro Quintana"
   ]
  },
  {
   "cell_type": "code",
   "execution_count": 6,
   "metadata": {},
   "outputs": [
    {
     "name": "stdout",
     "output_type": "stream",
     "text": [
      "The tclmagic extension is already loaded. To reload it, use:\n",
      "  %reload_ext tclmagic\n"
     ]
    }
   ],
   "source": [
    "%load_ext tclmagic\n",
    "\n",
    "#  If the prev line doesnt work  install it using the next line in your unix terminal\n",
    "#  /depot/Python/Python-3.8.0/bin/pip install -U tcl-magic\n",
    "#  You can configure it to  "
   ]
  },
  {
   "cell_type": "code",
   "execution_count": 7,
   "metadata": {},
   "outputs": [
    {
     "name": "stdout",
     "output_type": "stream",
     "text": [
      "If the prev line worked, you can see this message\n",
      "depot/Python/Python-3.8.0/bin/pip install -U tcl-magic\n"
     ]
    }
   ],
   "source": [
    "%%tcl\n",
    "\n",
    "puts \"If the prev line worked, you can see this message\"\n",
    "puts  \"depot/Python/Python-3.8.0/bin/pip install -U tcl-magic\""
   ]
  },
  {
   "cell_type": "markdown",
   "metadata": {},
   "source": [
    "If the previous command worked as it should do, you can run to test next commands (using %%tcl at the beggining everytime)"
   ]
  },
  {
   "cell_type": "code",
   "execution_count": 8,
   "metadata": {},
   "outputs": [
    {
     "data": {
      "text/plain": [
       "3.141592653589793"
      ]
     },
     "execution_count": 8,
     "metadata": {},
     "output_type": "execute_result"
    }
   ],
   "source": [
    "%%tcl\n",
    "\n",
    "set tcl_precision 17\n",
    "expr acos(-1)"
   ]
  },
  {
   "cell_type": "markdown",
   "metadata": {},
   "source": [
    "look in the following case when we don't use %%tcl at the beginning"
   ]
  },
  {
   "cell_type": "code",
   "execution_count": 9,
   "metadata": {},
   "outputs": [
    {
     "ename": "SyntaxError",
     "evalue": "invalid syntax (2537048579.py, line 1)",
     "output_type": "error",
     "traceback": [
      "\u001b[1;36m  Input \u001b[1;32mIn [9]\u001b[1;36m\u001b[0m\n\u001b[1;33m    puts hola\u001b[0m\n\u001b[1;37m         ^\u001b[0m\n\u001b[1;31mSyntaxError\u001b[0m\u001b[1;31m:\u001b[0m invalid syntax\n"
     ]
    }
   ],
   "source": [
    "puts hola"
   ]
  },
  {
   "cell_type": "code",
   "execution_count": null,
   "metadata": {},
   "outputs": [
    {
     "name": "stdout",
     "output_type": "stream",
     "text": [
      "hola\n"
     ]
    }
   ],
   "source": [
    "%%tcl\n",
    "\n",
    "puts hola"
   ]
  },
  {
   "cell_type": "markdown",
   "metadata": {},
   "source": []
  },
  {
   "cell_type": "markdown",
   "metadata": {},
   "source": []
  },
  {
   "cell_type": "code",
   "execution_count": 10,
   "metadata": {
    "vscode": {
     "languageId": "shellscript"
    }
   },
   "outputs": [
    {
     "name": "stderr",
     "output_type": "stream",
     "text": [
      "TclError: invalid command name \"winfo\""
     ]
    }
   ],
   "source": [
    "%%tcl\n",
    "\n",
    "set width 350\n",
    "set height 250\n",
    "set x [expr { ( [winfo vrootwidth  .] - $width  ) / 2 }]\n",
    "set y [expr { ( [winfo vrootheight .] - $height ) / 2 }]\n",
    "\n",
    "\n",
    "wm title . \"Center\" \n",
    "wm geometry . ${width}x${height}+${x}+${y}"
   ]
  }
 ],
 "metadata": {
  "kernelspec": {
   "display_name": "Python 3.10.4 64-bit",
   "language": "python",
   "name": "python3"
  },
  "language_info": {
   "codemirror_mode": {
    "name": "ipython",
    "version": 3
   },
   "file_extension": ".py",
   "mimetype": "text/x-python",
   "name": "python",
   "nbconvert_exporter": "python",
   "pygments_lexer": "ipython3",
   "version": "3.10.4"
  },
  "orig_nbformat": 4,
  "vscode": {
   "interpreter": {
    "hash": "758228ae4236649af9509c5c8859545204428c6c7a2c9288794dec8c60a3bcc3"
   }
  }
 },
 "nbformat": 4,
 "nbformat_minor": 2
}
