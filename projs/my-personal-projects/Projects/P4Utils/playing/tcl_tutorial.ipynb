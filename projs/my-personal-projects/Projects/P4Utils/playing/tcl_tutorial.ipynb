{
 "cells": [
  {
   "cell_type": "markdown",
   "metadata": {
    "pycharm": {
     "name": "#%% md\n"
    }
   },
   "source": [
    "# TCL tutorial\n"
   ]
  },
  {
   "cell_type": "code",
   "execution_count": 1,
   "metadata": {
    "pycharm": {
     "name": "#%%\n"
    }
   },
   "outputs": [
    {
     "data": {
      "application/javascript": "\n            requirejs.config({\n                paths: {\n                    codemirror: \"https://cdn.rawgit.com/marijnh/CodeMirror/master\"\n                }\n            });\n            requirejs([\"codemirror/mode/tcl/tcl\"], function(codemirror) {\n                IPython.CodeCell.options_default.highlight_modes['magic_text/x-tcl'] = {'reg':[/^%%tcl/]};\n                IPython.notebook.events.one('kernel_ready.Kernel', function() {\n                    IPython.notebook.get_cells().map(function(cell) {\n                        if (cell.cell_type == 'code') {\n                            cell.auto_highlight();\n                        }\n                    });\n                });\n            });\n        "
     },
     "metadata": {},
     "output_type": "display_data"
    }
   ],
   "source": [
    "%load_ext tclmagic\n",
    "\n",
    "#  If the prev line doesnt work  install it using the next line in your unix terminal\n",
    "#  /depot/Python/Python-3.8.0/bin/pip install -U tcl-magic\n",
    "#  You can configure it to  "
   ]
  },
  {
   "cell_type": "markdown",
   "metadata": {
    "pycharm": {
     "name": "#%% md\n"
    }
   },
   "source": [
    "## Expressions\n",
    "\n",
    "Always use expr command wtih operators\n",
    "\n",
    "```tcl\n",
    "\n",
    "expr 7 + 8\n",
    "\n",
    "puts [expr 7 + 8]\n",
    "set a [expr 7 + 8]\n",
    "```\n"
   ]
  },
  {
   "cell_type": "code",
   "execution_count": 2,
   "metadata": {
    "vscode": {
     "languageId": "bat"
    },
    "pycharm": {
     "name": "#%%\n"
    }
   },
   "outputs": [
    {
     "name": "stdout",
     "output_type": "stream",
     "text": [
      "result is 15\n"
     ]
    }
   ],
   "source": [
    "%%tcl \n",
    "\n",
    "set a [expr 7 + 8]\n",
    "puts \"result is $a\""
   ]
  },
  {
   "cell_type": "code",
   "execution_count": 3,
   "metadata": {
    "vscode": {
     "languageId": "bat"
    },
    "pycharm": {
     "name": "#%%\n"
    }
   },
   "outputs": [
    {
     "name": "stdout",
     "output_type": "stream",
     "text": [
      "12\n"
     ]
    }
   ],
   "source": [
    "%%tcl\n",
    "\n",
    "set x 5\n",
    "set y 7\n",
    "\n",
    "set sum_x_y [expr $x + $y]\n",
    "puts $sum_x_y"
   ]
  },
  {
   "cell_type": "code",
   "execution_count": 4,
   "metadata": {
    "vscode": {
     "languageId": "bat"
    },
    "pycharm": {
     "name": "#%%\n"
    }
   },
   "outputs": [
    {
     "name": "stdout",
     "output_type": "stream",
     "text": [
      "False\n"
     ]
    }
   ],
   "source": [
    "%%tcl\n",
    "puts [expr $x > $y ? True : False]"
   ]
  },
  {
   "cell_type": "code",
   "execution_count": 5,
   "metadata": {
    "vscode": {
     "languageId": "bat"
    },
    "pycharm": {
     "name": "#%%\n"
    }
   },
   "outputs": [
    {
     "name": "stdout",
     "output_type": "stream",
     "text": [
      "False\n"
     ]
    }
   ],
   "source": [
    "%%tcl\n",
    "set ans [expr $x > $y ? True: False]\n",
    "puts $ans"
   ]
  },
  {
   "cell_type": "code",
   "execution_count": 6,
   "outputs": [
    {
     "name": "stderr",
     "output_type": "stream",
     "text": [
      "TclError: can't read \"var1\": no such variable"
     ]
    }
   ],
   "source": [
    "%%tcl\n",
    "\n",
    "# gets stdin var1\n",
    "\n",
    "puts $var1"
   ],
   "metadata": {
    "collapsed": false,
    "pycharm": {
     "name": "#%%\n"
    }
   }
  },
  {
   "cell_type": "code",
   "execution_count": 12,
   "outputs": [],
   "source": [
    "%%tcl\n",
    "\n",
    "proc eprint {message} {\n",
    "    set msg \"-E- $message\"\n",
    "    print_in_color $msg \"red\"\n",
    "}\n",
    "\n",
    "proc print_in_color {message color} {\n",
    "    switch $color {\n",
    "        \"red\"    {set color_code \"1;31m\"}\n",
    "        \"green\"  {set color_code \"1;32m\"}\n",
    "        \"yellow\" {set color_code \"1;33m\"}\n",
    "        \"blue\"   {set color_code \"1;34m\"}\n",
    "        \"cyan\"  {set color_code \"1;36m\"}\n",
    "        \"white_on_red\" {set color_code \"37;41m\"}\n",
    "        default  {set color_code \"1m\"}\n",
    "    }\n",
    "    puts \"\\033\\[$color_code $message \\033\\[0m\"\n",
    "}\n",
    "\n",
    "proc read_file {file_name} {\n",
    "    try {\n",
    "        set fp [open $file_name r]\n",
    "        set file_data [read $fp]\n",
    "        puts $file_data\n",
    "        close $fp\n",
    "    } on error {result options} {\n",
    "        eprint \"It could not read in $file_name\"\n",
    "        eprint $result\n",
    "    }\n",
    "}"
   ],
   "metadata": {
    "collapsed": false,
    "pycharm": {
     "name": "#%%\n"
    }
   }
  },
  {
   "cell_type": "code",
   "execution_count": 13,
   "outputs": [
    {
     "name": "stdout",
     "output_type": "stream",
     "text": [
      "\u001B[1;31m -E- It could not read in txt \u001B[0m\n",
      "\u001B[1;31m -E- couldn't open \"txt\": no such file or directory \u001B[0m\n"
     ]
    }
   ],
   "source": [
    "%%tcl\n",
    "\n",
    "read_file txt"
   ],
   "metadata": {
    "collapsed": false,
    "pycharm": {
     "name": "#%%\n"
    }
   }
  },
  {
   "cell_type": "code",
   "execution_count": null,
   "outputs": [],
   "source": [],
   "metadata": {
    "collapsed": false,
    "pycharm": {
     "name": "#%%\n"
    }
   }
  }
 ],
 "metadata": {
  "kernelspec": {
   "display_name": "Python 3.10.4 64-bit",
   "language": "python",
   "name": "python3"
  },
  "language_info": {
   "codemirror_mode": {
    "name": "ipython",
    "version": 3
   },
   "file_extension": ".py",
   "mimetype": "text/x-python",
   "name": "python",
   "nbconvert_exporter": "python",
   "pygments_lexer": "ipython3",
   "version": "3.10.4"
  },
  "orig_nbformat": 4,
  "vscode": {
   "interpreter": {
    "hash": "758228ae4236649af9509c5c8859545204428c6c7a2c9288794dec8c60a3bcc3"
   }
  }
 },
 "nbformat": 4,
 "nbformat_minor": 2
}