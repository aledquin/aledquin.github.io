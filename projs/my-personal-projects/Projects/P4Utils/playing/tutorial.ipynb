{
 "cells": [
  {
   "cell_type": "code",
   "execution_count": 5,
   "metadata": {},
   "outputs": [
    {
     "ename": "SyntaxError",
     "evalue": "invalid syntax (<ipython-input-5-9fbc02ac1685>, line 3)",
     "output_type": "error",
     "traceback": [
      "\u001b[0;36m  File \u001b[0;32m\"<ipython-input-5-9fbc02ac1685>\"\u001b[0;36m, line \u001b[0;32m3\u001b[0m\n\u001b[0;31m    puts \"Hello, World - In quotes\"; # This is a comment after the command.\u001b[0m\n\u001b[0m         ^\u001b[0m\n\u001b[0;31mSyntaxError\u001b[0m\u001b[0;31m:\u001b[0m invalid syntax\n"
     ]
    }
   ],
   "source": [
    "#!/usr/bin/tclsh \n",
    "\n",
    "puts \"Hello, World - In quotes\"; # This is a comment after the command.\n",
    "# This is a comment at beginning of a line\n",
    "puts {Hello, World - In Braces}\n",
    "puts {Bad comment syntax example}  ; # *Error* - there is no semicolon!\n",
    "\n",
    "puts \"This is line 1\"; puts \"this is line 2\"\n",
    "\n",
    "puts \"Hello, World; - With  a semicolon inside the quotes\"\n",
    "set estog \"ssasasasasasas\"\n",
    "# Words don't need to be quoted unless they contain white space:\n",
    "puts $estog"
   ]
  }
 ],
 "metadata": {
  "kernelspec": {
   "display_name": "Python 3.10.4 64-bit",
   "language": "python",
   "name": "python3"
  },
  "language_info": {
   "codemirror_mode": {
    "name": "ipython",
    "version": 3
   },
   "file_extension": ".py",
   "mimetype": "text/x-python",
   "name": "python",
   "nbconvert_exporter": "python",
   "pygments_lexer": "ipython3",
   "version": "3.10.4"
  },
  "orig_nbformat": 4,
  "vscode": {
   "interpreter": {
    "hash": "758228ae4236649af9509c5c8859545204428c6c7a2c9288794dec8c60a3bcc3"
   }
  }
 },
 "nbformat": 4,
 "nbformat_minor": 2
}
