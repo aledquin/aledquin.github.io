{
 "cells": [
  {
   "cell_type": "markdown",
   "metadata": {
    "pycharm": {
     "name": "#%% md\n"
    }
   },
   "source": [
    "\n",
    "\n",
    "# TCL in CC\n",
    "\n",
    "\n",
    "## TCL in Custom compiler\n",
    "- As a scripting language, Custom Compiler TCL provides enough programmability (variables, control flow, and procedures) which lets you build complex scripts that assemble existing commands into a new flow tailored for your needs\n",
    "- Custom Compiler TCL is built for user convenience. Users knowing TCL and basic Custom Compiler TCL methods can easily write scripts for any application in the Custom Compiler platform\n",
    "- Traditional TCL has its graphical extension (TK). Similarly, Custom Compiler has built-in OPAL framework, which provides standard components for building user interface\n",
    "\n",
    "\n",
    "During this document, we are going to show in small test to run to check how different values, arguemnts, options and others can work in tcl. When we start working on Custom Compiler you are not going to be able to work here and you are going to have to open Custom compiler (it should be called with the alias ude3).\n",
    "\n",
    "What we can do is to share the coding here, and the path to the file with that code. After when you start testing you can source the file using the abosulte path like:\n",
    "```sh\n",
    "source /u/user/project/file.tcl\n",
    "```\n",
    "\n",
    "You can find our articles here:\n",
    "- [What is TCL](#wt-is-tcl)\n",
    "- [Comparisons](tcl_comp.ipynb)\n"
   ]
  },
  {
   "cell_type": "markdown",
   "metadata": {
    "pycharm": {
     "name": "#%% md\n"
    }
   },
   "source": [
    "## WT**** is TCL"
   ]
  },
  {
   "cell_type": "code",
   "execution_count": 1,
   "metadata": {
    "pycharm": {
     "name": "#%%\n"
    }
   },
   "outputs": [
    {
     "data": {
      "application/javascript": "\n            requirejs.config({\n                paths: {\n                    codemirror: \"https://cdn.rawgit.com/marijnh/CodeMirror/master\"\n                }\n            });\n            requirejs([\"codemirror/mode/tcl/tcl\"], function(codemirror) {\n                IPython.CodeCell.options_default.highlight_modes['magic_text/x-tcl'] = {'reg':[/^%%tcl/]};\n                IPython.notebook.events.one('kernel_ready.Kernel', function() {\n                    IPython.notebook.get_cells().map(function(cell) {\n                        if (cell.cell_type == 'code') {\n                            cell.auto_highlight();\n                        }\n                    });\n                });\n            });\n        "
     },
     "metadata": {},
     "output_type": "display_data"
    }
   ],
   "source": [
    "%load_ext tclmagic"
   ]
  },
  {
   "cell_type": "markdown",
   "metadata": {
    "pycharm": {
     "name": "#%% md\n"
    }
   },
   "source": [
    "## Simple text output to console\n",
    "\n",
    "In TCL the first thing that you need to one is how to output a message in the console:\n",
    "```sh\n",
    "puts Hello\n",
    "puts \"Hello world\"\n",
    "puts 1\n",
    "puts \"2\"\n",
    "```\n",
    "Each of them will print a message, use quotes to mark a sentence. Also, everyone of them are strings!"
   ]
  },
  {
   "cell_type": "code",
   "execution_count": 2,
   "metadata": {
    "vscode": {
     "languageId": "bat"
    },
    "pycharm": {
     "name": "#%%\n"
    }
   },
   "outputs": [
    {
     "name": "stdout",
     "output_type": "stream",
     "text": [
      "Hello\n",
      "Hello world\n",
      "1\n",
      "2\n"
     ]
    }
   ],
   "source": [
    "%%tcl\n",
    "puts Hello\n",
    "puts \"Hello world\"\n",
    "puts 1\n",
    "puts \"2\"\n"
   ]
  },
  {
   "cell_type": "markdown",
   "metadata": {
    "pycharm": {
     "name": "#%% md\n"
    }
   },
   "source": [
    "if you try using \n",
    "```sh\n",
    "puts Hello World\n",
    "```\n",
    "It will show the following message:\n",
    "```sh\n",
    "TclError: can not find channel named \"hello\"\n",
    "```"
   ]
  },
  {
   "cell_type": "markdown",
   "metadata": {
    "pycharm": {
     "name": "#%% md\n"
    }
   },
   "source": [
    "## Set variables & others\n",
    "Now we can try setting variables and others:\n",
    "- In the next example will show how to set a variable. \n",
    "  ```sh\n",
    "  set x 11\n",
    "  ```\n",
    "- One thing that is very important is in tcl everything is recognized as a `string`. When you want to use a variable as a number, you have to use the command `expr` before to the equation to resolve or calculus.\n",
    "- We can use `lists` and `arrays`. To make a list you can do it as following:\n",
    "  ```sh\n",
    "  set list_y [list 1 a 5f]\n",
    "  ```\n",
    "  \n",
    "- To make an array what is a dictionary (almost, too) we are going to do the next:\n",
    "  ```sh\n",
    "  array set var [list 1 ho hi 4]\n",
    "  ```\n",
    "\n",
    "Now, we are going to run a simple tests to see what happens."
   ]
  },
  {
   "cell_type": "code",
   "execution_count": 3,
   "metadata": {
    "vscode": {
     "languageId": "bat"
    },
    "pycharm": {
     "name": "#%%\n"
    }
   },
   "outputs": [
    {
     "name": "stdout",
     "output_type": "stream",
     "text": [
      "2\n",
      "3\n",
      "4\n"
     ]
    }
   ],
   "source": [
    "%%tcl\n",
    "set x [list 1 2 3]\n",
    "foreach i $x {\n",
    "    incr i  \n",
    "    puts \"$i\"\n",
    " }"
   ]
  },
  {
   "cell_type": "code",
   "execution_count": 4,
   "metadata": {
    "vscode": {
     "languageId": "bat"
    },
    "pycharm": {
     "name": "#%%\n"
    }
   },
   "outputs": [
    {
     "name": "stdout",
     "output_type": "stream",
     "text": [
      "ho\n",
      "4\n"
     ]
    }
   ],
   "source": [
    "%%tcl\n",
    "array set var [list 1 ho hi 4]\n",
    "puts $var(1)\n",
    "puts $var(hi)"
   ]
  },
  {
   "cell_type": "markdown",
   "metadata": {
    "pycharm": {
     "name": "#%% md\n"
    }
   },
   "source": [
    "In the next one is using puts, but we are using format to replace where are the `%s`\\`s with C and D and next, we replace with the value of \"1\" and \"hi\" from the \"var\" array. This is to confuse you and me :-)"
   ]
  },
  {
   "cell_type": "code",
   "execution_count": 5,
   "metadata": {
    "vscode": {
     "languageId": "bat"
    },
    "pycharm": {
     "name": "#%%\n"
    }
   },
   "outputs": [
    {
     "name": "stdout",
     "output_type": "stream",
     "text": [
      "I am using C printing D conventions!\n",
      "I am using ho printing 4 conventions!\n"
     ]
    }
   ],
   "source": [
    "%%tcl \n",
    "puts [format \"I am using %s printing %s conventions!\" C D]\n",
    "puts [format \"I am using %s printing %s conventions!\" $var(1) $var(hi)]"
   ]
  },
  {
   "cell_type": "markdown",
   "metadata": {
    "pycharm": {
     "name": "#%% md\n"
    }
   },
   "source": [
    "Backslashes\n",
    "In general, the backslash (\\) disables substitution for the single character immediately following the backslash. Any character immediately following the backslash will stand without substitution.\n",
    "\n",
    "However, there are specific \"Backslash Sequence\" strings which are replaced by specific values during the substitution phase. The following backslash strings will be substituted as shown below.\n",
    "\n",
    "|String\t|Output|\tHex value|\n",
    "|---|---|---|\n",
    "|\\a\t|Audible Bell|\t0x07|\n",
    "|\\b\t|Backspace|\t0x08|\n",
    "|\\f\t|Form Feed (clear screen)\t|0x0c|\n",
    "|\\n\t|New Line\t|0x0a|\n",
    "|\\r\t|Carriage Return\t|0x0d|\n",
    "|\\t\t|Tab\t|0x09|\n",
    "|\\v\t|Vertical Tab\t|0x0b|\n",
    "|\\0dd|\tOctal Value\t|d is a digit from 0-7|\n",
    "|\\uHHHH\t|H (one to four digits) is a hex digit 0-9,A-F,a-f.\t||\n",
    "||This represents a 16-bit Unicode character.\t||\n",
    "|\\xHH|\tHexadecimal Value (exactly two digits)\t|H is a hex digit 0-9,A-F,a-f.|\n"
   ]
  },
  {
   "cell_type": "markdown",
   "metadata": {
    "pycharm": {
     "name": "#%% md\n"
    }
   },
   "source": [
    "### Grouping Arguments with [ ]\n",
    "\n",
    "You obtain the results of a command by placing the command in square brackets ([]). This is the functional equivalent of the back single quote (`) in sh programming, or using the return value of a function in C.\n",
    "\n",
    "As the Tcl interpreter reads in a line it replaces all the $variables with their values. If a portion of the string is grouped with square brackets, then the string within the square brackets is evaluated as a command by the interpreter, and the result of the command replaces the square bracketed string.\n",
    "\n",
    "    puts [readsensor [selectsensor]]\n",
    "\n",
    "\n"
   ]
  },
  {
   "cell_type": "code",
   "execution_count": 7,
   "metadata": {
    "vscode": {
     "languageId": "bat"
    },
    "pycharm": {
     "name": "#%%\n"
    }
   },
   "outputs": [
    {
     "name": "stdout",
     "output_type": "stream",
     "text": [
      "1/2 is 0.5\n",
      "1/3 is 0.3333333333333333\n",
      "3*(1/3) is 1.0\n",
      "3*(10/3) is 10.0\n",
      "(10.0/3.0) / (2.0/3.0) is 5.000000000000001\n",
      "1.2 / 0.1 is 11.999999999999998\n"
     ]
    }
   ],
   "source": [
    "%%tcl\n",
    "puts \"1/2 is [expr {1./2}]\"\n",
    "puts \"1/3 is [expr {1./3}]\"\n",
    "\n",
    "set a [expr {1.0/3.0}]\n",
    "puts \"3*(1/3) is [expr {3.0*$a}]\"\n",
    "\n",
    "set b [expr {10.0/3.0}]\n",
    "puts \"3*(10/3) is [expr {3.0*$b}]\"\n",
    "\n",
    "set c [expr {10.0/3.0}]\n",
    "set d [expr {2.0/3.0}]\n",
    "puts \"(10.0/3.0) / (2.0/3.0) is [expr {$c/$d}]\"\n",
    "\n",
    "set e [expr {1.0/10.0}]\n",
    "puts \"1.2 / 0.1 is [expr {1.2/$e}]\""
   ]
  },
  {
   "cell_type": "markdown",
   "metadata": {
    "pycharm": {
     "name": "#%% md\n"
    }
   },
   "source": []
  }
 ],
 "metadata": {
  "kernelspec": {
   "display_name": "Python 3.10.4 64-bit",
   "language": "python",
   "name": "python3"
  },
  "language_info": {
   "codemirror_mode": {
    "name": "ipython",
    "version": 3
   },
   "file_extension": ".py",
   "mimetype": "text/x-python",
   "name": "python",
   "nbconvert_exporter": "python",
   "pygments_lexer": "ipython3",
   "version": "3.10.4"
  },
  "orig_nbformat": 4,
  "vscode": {
   "interpreter": {
    "hash": "758228ae4236649af9509c5c8859545204428c6c7a2c9288794dec8c60a3bcc3"
   }
  }
 },
 "nbformat": 4,
 "nbformat_minor": 2
}