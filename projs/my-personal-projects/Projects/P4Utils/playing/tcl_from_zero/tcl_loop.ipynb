{
 "cells": [
  {
   "cell_type": "code",
   "execution_count": 1,
   "metadata": {},
   "outputs": [
    {
     "data": {
      "application/javascript": "\n            requirejs.config({\n                paths: {\n                    codemirror: \"https://cdn.rawgit.com/marijnh/CodeMirror/master\"\n                }\n            });\n            requirejs([\"codemirror/mode/tcl/tcl\"], function(codemirror) {\n                IPython.CodeCell.options_default.highlight_modes['magic_text/x-tcl'] = {'reg':[/^%%tcl/]};\n                IPython.notebook.events.one('kernel_ready.Kernel', function() {\n                    IPython.notebook.get_cells().map(function(cell) {\n                        if (cell.cell_type == 'code') {\n                            cell.auto_highlight();\n                        }\n                    });\n                });\n            });\n        "
     },
     "metadata": {},
     "output_type": "display_data"
    }
   ],
   "source": [
    "%load_ext tclmagic"
   ]
  },
  {
   "cell_type": "markdown",
   "metadata": {},
   "source": [
    "# Loops in TCL\n",
    "\n",
    "Tcl includes three commands for looping, the while, for and foreach commands. Like the if command, they evaluate their test the same way that the expr command does. Here we discuss the while command, and later, the for command. The last command will be treated together with lists, as it iterates over one or more lists.\n",
    "\n",
    "- [while](#while)\n",
    "- [for](#for)\n",
    "- [foreach](#foreach)\n",
    "\n",
    "## while\n",
    "\n"
   ]
  }
 ],
 "metadata": {
  "kernelspec": {
   "display_name": "Python 3.10.4 64-bit",
   "language": "python",
   "name": "python3"
  },
  "language_info": {
   "codemirror_mode": {
    "name": "ipython",
    "version": 3
   },
   "file_extension": ".py",
   "mimetype": "text/x-python",
   "name": "python",
   "nbconvert_exporter": "python",
   "pygments_lexer": "ipython3",
   "version": "3.10.4"
  },
  "orig_nbformat": 4,
  "vscode": {
   "interpreter": {
    "hash": "758228ae4236649af9509c5c8859545204428c6c7a2c9288794dec8c60a3bcc3"
   }
  }
 },
 "nbformat": 4,
 "nbformat_minor": 2
}
