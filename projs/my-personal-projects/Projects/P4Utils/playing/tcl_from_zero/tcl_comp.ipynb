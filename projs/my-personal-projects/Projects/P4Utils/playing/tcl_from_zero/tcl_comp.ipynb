{
 "cells": [
  {
   "cell_type": "markdown",
   "metadata": {
    "pycharm": {
     "name": "#%% md\n"
    }
   },
   "source": [
    "# Comparison and conditionals in TCL\n",
    "\n",
    "- [If-Else](#if---else)\n",
    "- [Switch](#switch)\n",
    "\n",
    "## If - Else\n",
    "\n",
    "Like most languages, TCL use if, elseif, and else.\n",
    "```\n",
    "    if {expr1} ?then? {\n",
    "        body1\n",
    "    } elseif {expr2} ?then? {\n",
    "        body2\n",
    "    } elseif {\n",
    "        ...\n",
    "    } else {\n",
    "        bodyN\n",
    "    }\n",
    "\n",
    "```\n",
    "You can use for \n",
    "- TRUE: 1, yes, true.\n",
    "- FALSE: 0, no, false."
   ]
  },
  {
   "cell_type": "code",
   "execution_count": 1,
   "metadata": {
    "pycharm": {
     "name": "#%%\n"
    }
   },
   "outputs": [
    {
     "data": {
      "application/javascript": "\n            requirejs.config({\n                paths: {\n                    codemirror: \"https://cdn.rawgit.com/marijnh/CodeMirror/master\"\n                }\n            });\n            requirejs([\"codemirror/mode/tcl/tcl\"], function(codemirror) {\n                IPython.CodeCell.options_default.highlight_modes['magic_text/x-tcl'] = {'reg':[/^%%tcl/]};\n                IPython.notebook.events.one('kernel_ready.Kernel', function() {\n                    IPython.notebook.get_cells().map(function(cell) {\n                        if (cell.cell_type == 'code') {\n                            cell.auto_highlight();\n                        }\n                    });\n                });\n            });\n        "
     },
     "metadata": {},
     "output_type": "display_data"
    }
   ],
   "source": [
    "%load_ext tclmagic"
   ]
  },
  {
   "cell_type": "code",
   "execution_count": 2,
   "metadata": {
    "pycharm": {
     "name": "#%%\n"
    },
    "vscode": {
     "languageId": "bat"
    }
   },
   "outputs": [
    {
     "name": "stdout",
     "output_type": "stream",
     "text": [
      "1 is not 2\n",
      "1 is 1\n"
     ]
    }
   ],
   "source": [
    "\n",
    "%%tcl\n",
    "set x 1\n",
    "\n",
    "if {$x == 2} {puts \"$x is 2\"} else {puts \"$x is not 2\"}\n",
    "\n",
    "if {$x != 1} {\n",
    "    puts \"$x is != 1\"\n",
    "} else {\n",
    "    puts \"$x is 1\"\n",
    "}"
   ]
  },
  {
   "cell_type": "markdown",
   "metadata": {
    "pycharm": {
     "name": "#%% md\n"
    }
   },
   "source": [
    "## Switch\n",
    "\n",
    "The `switch` command allows to hoose one od several options in your code. It is similar to [C].\n",
    "\n",
    "The syntax of the command is:\n",
    "\n",
    "```\n",
    "   switch ?options? string {\n",
    "       pattern1 {\n",
    "           body1\n",
    "       }\n",
    "       ?pattern2 {\n",
    "           body2\n",
    "       }?\n",
    "       ...\n",
    "       ?patternN {\n",
    "           bodyN\n",
    "       }?\n",
    "   }\n",
    "```\n",
    "You can use a minus symol (-) to indicate this option will do the same as the next option.\n",
    "\n"
   ]
  },
  {
   "cell_type": "code",
   "execution_count": 3,
   "metadata": {
    "pycharm": {
     "name": "#%%\n"
    },
    "vscode": {
     "languageId": "bat"
    }
   },
   "outputs": [
    {
     "name": "stdout",
     "output_type": "stream",
     "text": [
      "Using the body for pattern 'b' for both a and b\n"
     ]
    }
   ],
   "source": [
    "%%tcl\n",
    "\n",
    "set string \"a\"\n",
    "switch $string {\n",
    "    \"a\" -\n",
    "    \"b\" {\n",
    "        puts \"Using the body for pattern 'b' for both a and b\"\n",
    "    }\n",
    "}"
   ]
  },
  {
   "cell_type": "code",
   "execution_count": 9,
   "metadata": {
    "pycharm": {
     "name": "#%%\n"
    },
    "vscode": {
     "languageId": "bat"
    }
   },
   "outputs": [
    {
     "name": "stdout",
     "output_type": "stream",
     "text": [
      "This is a pentagon.\n"
     ]
    }
   ],
   "source": [
    "%%tcl\n",
    "\n",
    "# Name polygons, based on the number of edges.\n",
    "\n",
    "set edge_count 5\n",
    "\n",
    "switch $edge_count {\n",
    "    0 -\n",
    "    1 -\n",
    "    2 {\n",
    "        puts \"Not a polygon.\"\n",
    "    }\n",
    "    3 {\n",
    "        puts \"This is a triangle.\"\n",
    "    }\n",
    "    4 {\n",
    "        puts \"This is a quadrilateral.\"\n",
    "    }\n",
    "    5 {\n",
    "        puts \"This is a pentagon.\"\n",
    "    }\n",
    "    default {\n",
    "        puts \"Unknown polygon.\"\n",
    "    }\n",
    "}"
   ]
  },
  {
   "cell_type": "code",
   "execution_count": 6,
   "metadata": {
    "pycharm": {
     "name": "#%%\n"
    },
    "vscode": {
     "languageId": "bat"
    }
   },
   "outputs": [
    {
     "name": "stdout",
     "output_type": "stream",
     "text": [
      "MATCH $z. 1 + ONE is 2\n"
     ]
    }
   ],
   "source": [
    "%%tcl\n",
    "set x ONE\n",
    "set y 1\n",
    "set z ONE\n",
    "\n",
    "switch $x\\\n",
    "    $z {\n",
    "        set y1 [expr {$y+1}]\n",
    "        puts \"MATCH \\$z. $y + $z is $y1\"\n",
    "    }\\\n",
    "    ONE {\n",
    "        set y1 [expr {$y+1}]\n",
    "        puts \"MATCH ONE. $y + one is $y1\"\n",
    "    }\\\n",
    "    TWO {\n",
    "        set y1 [expr {$y+2}]\n",
    "        puts \"MATCH TWO. $y + two is $y1\"\n",
    "    }\\\n",
    "    THREE {\n",
    "        set y1 [expr {$y+3}]\n",
    "        puts \"MATCH THREE. $y + three is $y1\"\n",
    "    }\\\n",
    "    default {\n",
    "        puts \"$x is NOT A MATCH\"\n",
    "    }"
   ]
  }
 ],
 "metadata": {
  "kernelspec": {
   "display_name": "Python 3.10.4 64-bit",
   "language": "python",
   "name": "python3"
  },
  "language_info": {
   "codemirror_mode": {
    "name": "ipython",
    "version": 3
   },
   "file_extension": ".py",
   "mimetype": "text/x-python",
   "name": "python",
   "nbconvert_exporter": "python",
   "pygments_lexer": "ipython3",
   "version": "3.10.4"
  },
  "orig_nbformat": 4,
  "vscode": {
   "interpreter": {
    "hash": "758228ae4236649af9509c5c8859545204428c6c7a2c9288794dec8c60a3bcc3"
   }
  }
 },
 "nbformat": 4,
 "nbformat_minor": 2
}