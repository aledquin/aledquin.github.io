{
 "cells": [
  {
   "cell_type": "markdown",
   "metadata": {
    "pycharm": {
     "name": "#%% md\n"
    }
   },
   "source": [
    "# TCL tutorial\n"
   ]
  },
  {
   "cell_type": "code",
   "execution_count": 1,
   "metadata": {
    "pycharm": {
     "name": "#%%\n"
    }
   },
   "outputs": [
    {
     "data": {
      "application/javascript": [
       "\n",
       "            requirejs.config({\n",
       "                paths: {\n",
       "                    codemirror: \"https://cdn.rawgit.com/marijnh/CodeMirror/master\"\n",
       "                }\n",
       "            });\n",
       "            requirejs([\"codemirror/mode/tcl/tcl\"], function(codemirror) {\n",
       "                IPython.CodeCell.options_default.highlight_modes['magic_text/x-tcl'] = {'reg':[/^%%tcl/]};\n",
       "                IPython.notebook.events.one('kernel_ready.Kernel', function() {\n",
       "                    IPython.notebook.get_cells().map(function(cell) {\n",
       "                        if (cell.cell_type == 'code') {\n",
       "                            cell.auto_highlight();\n",
       "                        }\n",
       "                    });\n",
       "                });\n",
       "            });\n",
       "        "
      ]
     },
     "metadata": {},
     "output_type": "display_data"
    }
   ],
   "source": [
    "%load_ext tclmagic\n",
    "\n",
    "#  If the prev line doesnt work  install it using the next line in your unix terminal\n",
    "#  /depot/Python/Python-3.8.0/bin/pip install -U tcl-magic\n",
    "#  You can configure it to  "
   ]
  },
  {
   "cell_type": "code",
   "execution_count": 2,
   "metadata": {
    "pycharm": {
     "name": "#%%\n"
    },
    "vscode": {
     "languageId": "bat"
    }
   },
   "outputs": [
    {
     "name": "stdout",
     "output_type": "stream",
     "text": [
      "\n"
     ]
    }
   ],
   "source": [
    "%%tcl \n",
    "\n",
    "set script_name [file tail [file rootname [file normalize [info script]]]]\n",
    "puts $script_name"
   ]
  },
  {
   "cell_type": "code",
   "execution_count": 3,
   "metadata": {
    "pycharm": {
     "name": "#%%\n"
    },
    "vscode": {
     "languageId": "bat"
    }
   },
   "outputs": [
    {
     "name": "stdout",
     "output_type": "stream",
     "text": [
      "'Message'\n"
     ]
    },
    {
     "name": "stderr",
     "output_type": "stream",
     "text": [
      "TclError: can not find channel named \"1\""
     ]
    }
   ],
   "source": [
    "%%tcl\n",
    "\n",
    "proc logMsg {fp msg} {\n",
    "    puts $msg\n",
    "    puts $fp $msg\n",
    "}\n",
    "\n",
    "logMsg 1 'Message'\n"
   ]
  },
  {
   "cell_type": "code",
   "execution_count": 4,
   "metadata": {
    "pycharm": {
     "name": "#%%\n"
    },
    "vscode": {
     "languageId": "bat"
    }
   },
   "outputs": [
    {
     "name": "stdout",
     "output_type": "stream",
     "text": [
      "This\n",
      "is\n"
     ]
    }
   ],
   "source": [
    "%%tcl\n",
    "\n",
    "proc exam {args} {\n",
    "    set input \"This is my world\" \n",
    "    regexp {(This) (is) (my) (world)} $input all a b c d \n",
    "    return [dict create hola $a b $b c $c d $d]\n",
    "}\n",
    "\n",
    "set result [exam ...]\n",
    "dict with result {}\n",
    "puts $hola\n",
    "puts $b\n",
    "\n"
   ]
  },
  {
   "cell_type": "code",
   "execution_count": 6,
   "metadata": {
    "pycharm": {
     "name": "#%%\n"
    },
    "vscode": {
     "languageId": "bat"
    }
   },
   "outputs": [],
   "source": [
    "%%tcl\n",
    "\n",
    "proc run_system_cmd {{command \"NaN\"} {verbosity 0}} {\n",
    "    set results \"\"\n",
    "    if {$command == \"NaN\"} { \n",
    "        return [lappend results NULL_VAL NULL_VAL NONE]\n",
    "    }\n",
    "    \n",
    "    try {\n",
    "        set status [exec >@stdout 2>@stderr \"$command\"]\n",
    "        lappend results $stdout $stderr $status\n",
    "    } trap NONE errOut {\n",
    "        puts $options\n",
    "    } trap CHILDKILLED {- opts} {\n",
    "        lassign [dict get $opts -errorcode] -> pid sigName msg\n",
    "        # process $pid was killed by signal $sigName; message is $msg\n",
    "        lappend results [list $pid $sigName $msg]\n",
    "    } trap CHILDSTATUS {- opts} {\n",
    "        lassign [dict get $opts -errorcode] -> pid code\n",
    "        # process $pid exited with non-zero exit code $code\n",
    "        lappend results [list $pid $code]\n",
    "    } trap CHILDSUSP {- opts} {\n",
    "        lassign [dict get $opts -errorcode] -> pid sigName msg\n",
    "        # process $pid was suspended by signal $sigName; message is $msg\n",
    "        lappend results [list $pid $sigName $msg]\n",
    "    } trap POSIX {- opts} {\n",
    "        lassign [dict get $opts -errorcode] -> errName msg\n",
    "        # Some kind of kernel failure; details in $errName and $msg\n",
    "        lappend results [list $pid $sigName $msg]\n",
    "    }\n",
    "   \n",
    "    return $results\n",
    "}"
   ]
  },
  {
   "cell_type": "code",
   "execution_count": 1,
   "metadata": {
    "pycharm": {
     "name": "#%%\n"
    },
    "vscode": {
     "languageId": "bat"
    }
   },
   "outputs": [
    {
     "name": "stderr",
     "output_type": "stream",
     "text": [
      "UsageError: Cell magic `%%tcl` not found.\n"
     ]
    }
   ],
   "source": [
    "%%tcl\n",
    "\n",
    "proc tellme {id a e op} {\n",
    "    puts \"  $id a=$a e=$e op=$op\\\n",
    "        ax=[info exists ::$a] ex=[info exists ::${a}($e)]\"\n",
    "}\n",
    "\n",
    "proc do args {\n",
    "    puts <$args>\n",
    "    uplevel 1 $args\n",
    "}\n",
    "\n",
    "trace add variable a {write unset} {tellme array}\n",
    "trace add variable a(1) {write unset} {tellme element}\n",
    "\n",
    "puts [trace info variable a]\n",
    "puts [trace info variable a(1)]\n",
    "\n",
    "do set a(0) zero\n",
    "do set a(1) one\n",
    "do set a(2) two\n",
    "do unset a(0)\n",
    "do unset a(2)\n",
    "do unset a\n"
   ]
  },
  {
   "cell_type": "code",
   "execution_count": null,
   "metadata": {
    "pycharm": {
     "name": "#%%\n"
    },
    "vscode": {
     "languageId": "bat"
    }
   },
   "outputs": [],
   "source": [
    "%%tcl\n",
    "\n",
    "proc who_called {} {\n",
    "    puts [list {I was called from} [\n",
    "        lindex [info level -1] 0] {but first call was to} [\n",
    "        lindex [info level 1] 0]]\n",
    "}\n",
    "\n",
    "proc a {} who_called\n",
    "proc b {} who_called\n",
    "proc c {} who_called\n",
    "proc d {} a\n",
    "proc e n {$n}"
   ]
  },
  {
   "cell_type": "code",
   "execution_count": 7,
   "metadata": {
    "pycharm": {
     "name": "#%%\n"
    },
    "vscode": {
     "languageId": "bat"
    }
   },
   "outputs": [
    {
     "name": "stdout",
     "output_type": "stream",
     "text": [
      "::Main --> ::A --> ::run_system_cmd\n"
     ]
    }
   ],
   "source": [
    "%%tcl\n",
    "\n",
    "proc callstack {} {\n",
    "\n",
    "    set line_of_procs \"\"\n",
    "    for {set i [expr [info level]-1]} {$i > 0} {incr i -1} {\n",
    "\n",
    "        set level [info level -$i]\n",
    "        set frame [info frame -$i]\n",
    "\n",
    "        if {[dict exists $frame proc]} {\n",
    "            set pname [dict get $frame proc]\n",
    "            set pargs [lrange $level 1 end]\n",
    "\n",
    "            if {$line_of_procs == \"\"} {\n",
    "                append line_of_procs \"$pname \"\n",
    "            } else {\n",
    "                append line_of_procs \" --> $pname \"\n",
    "            }\n",
    "                        \n",
    "            foreach arg $pargs {\n",
    "                append line_of_procs \"   * $arg\"\n",
    "            }\n",
    "\n",
    "\n",
    "        } else {\n",
    "            append line_of_procs \" - **unknown stack item**: $level $frame\"\n",
    "        }\n",
    "    }\n",
    "\n",
    "    return [join $line_of_procs]\n",
    "}\n",
    "\n",
    "proc Main {} {\n",
    "    A\n",
    "}\n",
    "\n",
    "proc A {} {\n",
    "    run_system_cmd\n",
    "}\n",
    "proc run_system_cmd {} {\n",
    "     puts [callstack]\n",
    "  \n",
    "}\n",
    "\n",
    "\n",
    "Main"
   ]
  },
  {
   "cell_type": "code",
   "execution_count": 28,
   "metadata": {
    "pycharm": {
     "name": "#%%\n"
    },
    "vscode": {
     "languageId": "bat"
    }
   },
   "outputs": [
    {
     "name": "stdout",
     "output_type": "stream",
     "text": [
      "::Main --> ::A --> ::run_system_cmd\n",
      "fail\n"
     ]
    }
   ],
   "source": [
    "%%tcl\n",
    "\n",
    "proc Main {} {\n",
    "    A\n",
    "}\n",
    "\n",
    "proc A {} {\n",
    "    run_system_cmd\n",
    "}\n",
    "\n",
    "proc run_system_cmd {} {\n",
    "    puts [callstack]\n",
    "    try {\n",
    "        puts [dict get [info frame -3] proc]\n",
    "    } on error {result options} {\n",
    "        puts fail\n",
    "    }\n",
    "}\n",
    "\n",
    "Main\n"
   ]
  },
  {
   "cell_type": "code",
   "execution_count": 23,
   "metadata": {
    "pycharm": {
     "name": "#%%\n"
    },
    "vscode": {
     "languageId": "bat"
    }
   },
   "outputs": [
    {
     "name": "stdout",
     "output_type": "stream",
     "text": [
      "something broke!\n",
      "-code 1 -level 0 -errorstack {INNER {invokeStk1 open /some/file/name}} -errorcode {POSIX ENOENT {no such file or directory}} -errorinfo {couldn't open \"/some/file/name\": no such file or directory\n",
      "    while executing\n",
      "\"open /some/file/name\"\n",
      "    (\"try\" body line 2)} -errorline 2\n"
     ]
    }
   ],
   "source": [
    "%%tcl\n",
    "\n",
    "try {\n",
    "    set f [open /some/file/name]\n",
    "} on error {result options} {\n",
    "    puts {something broke!}\n",
    "    puts $options\n",
    "}"
   ]
  },
  {
   "cell_type": "code",
   "execution_count": null,
   "metadata": {
    "pycharm": {
     "name": "#%%\n"
    },
    "vscode": {
     "languageId": "bat"
    }
   },
   "outputs": [],
   "source": []
  }
 ],
 "metadata": {
  "kernelspec": {
   "display_name": "Python 3 (ipykernel)",
   "language": "python",
   "name": "python3"
  },
  "language_info": {
   "codemirror_mode": {
    "name": "ipython",
    "version": 3
   },
   "file_extension": ".py",
   "mimetype": "text/x-python",
   "name": "python",
   "nbconvert_exporter": "python",
   "pygments_lexer": "ipython3",
   "version": "3.10.4"
  },
  "vscode": {
   "interpreter": {
    "hash": "758228ae4236649af9509c5c8859545204428c6c7a2c9288794dec8c60a3bcc3"
   }
  }
 },
 "nbformat": 4,
 "nbformat_minor": 2
}
